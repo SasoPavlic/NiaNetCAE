{
 "cells": [
  {
   "cell_type": "markdown",
   "source": [
    "# Research Calculations and Results for NiaNetCAE Paper\n",
    "\n",
    "This Jupyter Notebook contains the calculations and experiments conducted for the research paper titled \"Harnessing Nature-Inspired Algorithms for Automated Neural Architecture Search of Convolutional Autoencoder Architectures in Depth Estimation.\" \n",
    "\n",
    "## Contents\n",
    "\n",
    "- **Introduction**: Overview of the research objectives and methods.\n",
    "- **Data Preprocessing**: Steps for preparing the dataset used in the experiments.\n",
    "- **Model Training**: Detailed code for training the Convolutional Autoencoders (CAEs) using Nature-Inspired Algorithms (NIAs).\n",
    "- **Evaluation**: Methods and metrics for evaluating model performance.\n",
    "- **Results**: Visualization and analysis of the results obtained."
   ],
   "metadata": {
    "collapsed": false
   },
   "id": "8f864c9fa448bcf3"
  },
  {
   "cell_type": "markdown",
   "source": [
    "### Open the database and read the solutions"
   ],
   "metadata": {
    "collapsed": false
   },
   "id": "b17eefd60b78bd5b"
  },
  {
   "cell_type": "code",
   "execution_count": 9,
   "id": "initial_id",
   "metadata": {
    "ExecuteTime": {
     "end_time": "2024-05-02T15:34:05.051119800Z",
     "start_time": "2024-05-02T15:34:04.873844600Z"
    }
   },
   "outputs": [
    {
     "data": {
      "text/plain": "                                     hash_id         timestamp  \\\n0   dc272d6cf58c25a4241afe947bc5c4f7cf2f0b9e  03:21 18-08-2023   \n2   87221babc25a2ce91082bc280f9a05d7abd02d3e  05:45 18-08-2023   \n3   13373e3867c711dc71520c5dcf8d1efb6cb77439  07:36 18-08-2023   \n4   de96809bb25ac7dee7dba4fd256c484fa9b2f19c  08:44 18-08-2023   \n5   8daa454f8b72893ab5aec5271ed4e93fdae8b507  11:15 18-08-2023   \n6   a40961bf93d271ff8c1373e11a680c759400d129  12:25 18-08-2023   \n10  8730c81dcd47385f488412fb6b73254a0e9a20e8  15:07 28-09-2023   \n12  e9decec29f0fedad69cd51aca5fb692a4d57be56  15:41 28-09-2023   \n13  8f4b6e251e7f9cfa6b2d0c37136101052dbae22f  18:46 28-09-2023   \n14  ba14b07c86334c9c74d39f7eaddc44e546754deb  20:26 28-09-2023   \n\n            algorithm_name  iteration  activation optimizer  \\\n0   ParticleSwarmAlgorithm          1        CELU   Adagrad   \n2   ParticleSwarmAlgorithm          1        TANH   Adagrad   \n3   ParticleSwarmAlgorithm          1        GELU      ASGD   \n4   ParticleSwarmAlgorithm          2  Leaky RELU     RAdam   \n5   ParticleSwarmAlgorithm          2  Leaky RELU       SGD   \n6   ParticleSwarmAlgorithm          2        TANH   Adagrad   \n10  ParticleSwarmAlgorithm          1        RELU   Adagrad   \n12  ParticleSwarmAlgorithm          1        SELU      ASGD   \n13  ParticleSwarmAlgorithm          2       RRELU       SGD   \n14  ParticleSwarmAlgorithm          2        SELU     RAdam   \n\n                                      encoding_layers  \\\n0   ModuleList(\\n  (0): Conv2d(3, 295, kernel_size...   \n2   ModuleList(\\n  (0): Conv2d(3, 3, kernel_size=(...   \n3   ModuleList(\\n  (0): Conv2d(3, 279, kernel_size...   \n4   ModuleList(\\n  (0): Conv2d(3, 245, kernel_size...   \n5   ModuleList(\\n  (0): Conv2d(3, 168, kernel_size...   \n6   ModuleList(\\n  (0): Conv2d(3, 51, kernel_size=...   \n10  ModuleList(\\n  (0): Conv2d(3, 202, kernel_size...   \n12  ModuleList(\\n  (0): Conv2d(3, 176, kernel_size...   \n13  ModuleList(\\n  (0): Conv2d(3, 27, kernel_size=...   \n14  ModuleList(\\n  (0): Conv2d(3, 266, kernel_size...   \n\n                                      decoding_layers  num_layers  \\\n0   ModuleList(\\n  (0): ConvTranspose2d(295, 1, ke...           1   \n2   ModuleList(\\n  (0): ConvTranspose2d(27, 24, ke...          47   \n3   ModuleList(\\n  (0): ConvTranspose2d(279, 1, ke...           1   \n4   ModuleList(\\n  (0): ConvTranspose2d(245, 1, ke...           1   \n5   ModuleList(\\n  (0): ConvTranspose2d(336, 168, ...           2   \n6   ModuleList(\\n  (0): ConvTranspose2d(204, 153, ...           4   \n10  ModuleList(\\n  (0): ConvTranspose2d(404, 202, ...           2   \n12  ModuleList(\\n  (0): ConvTranspose2d(352, 176, ...           2   \n13  ModuleList(\\n  (0): ConvTranspose2d(162, 135, ...           6   \n14  ModuleList(\\n  (0): ConvTranspose2d(266, 1, ke...           1   \n\n    bottleneck_size  ...       MSE      RMSE       MAE    ABS_REL  \\\n0               152  ...  8.752117  2.958398  2.451226   5.852947   \n2                 1  ...  6.429847  2.535714  2.031709   8.362244   \n3               152  ...  6.879367  2.622855  2.086601   6.881074   \n4               152  ...  6.914970  2.629633  2.084672  11.390865   \n5                76  ...  6.257961  2.501592  2.006072   6.982789   \n6                19  ...  8.000542  2.828523  2.301531  17.819263   \n10               76  ...  6.925721  2.631676  2.104019  17.812155   \n12               76  ...  7.833205  2.798786  2.280233   8.718953   \n13                5  ...  6.869549  2.620982  2.096408  15.977495   \n14              152  ...  7.661369  2.767918  2.238366   4.058030   \n\n          LOG10    DELTA1    DELTA2    DELTA3        CADL  \\\n0    971.534058  0.256184  0.300030  0.381448  142.962845   \n2   1042.885986  0.322310  0.403383  0.523606  119.542633   \n3   1658.415649  0.310494  0.384610  0.494374  123.457573   \n4   3271.623779  0.303147  0.376913  0.487006  123.012238   \n5    901.591553  0.332549  0.416203  0.537139  117.946358   \n6   1473.887329  0.250654  0.308354  0.408347  135.207336   \n10  1883.463501  0.294779  0.368754  0.484663  123.469414   \n12  1342.730713  0.274139  0.333841  0.432350  133.682541   \n13  1452.832153  0.297267  0.371877  0.488764  123.054214   \n14   881.678040  0.302926  0.378062  0.482469  131.859192   \n\n                                       solution_array  \n0   [0.9710766121566622, 0.49098581411848896, 0.74...  \n2   [0.012717799425234544, 0.4711765125844729, 0.8...  \n3   [0.9197334634424169, 0.3103127151459234, 0.816...  \n4   [0.8070219311175996, 0.859765147120731, 0.2608...  \n5   [0.5538300972133227, 0.4528997002797993, 0.348...  \n6   [0.1707490731613004, 0.7012144473134904, 0.980...  \n10  [0.6672552234652567, 0.35758444797472055, 0.24...  \n12  [0.5797608820563144, 0.024631440111434477, 0.6...  \n13  [0.09068296841560741, 0.5477015650676068, 0.48...  \n14  [0.8754358946578918, 0.45166039755667053, 0.55...  \n\n[10 rows x 23 columns]",
      "text/html": "<div>\n<style scoped>\n    .dataframe tbody tr th:only-of-type {\n        vertical-align: middle;\n    }\n\n    .dataframe tbody tr th {\n        vertical-align: top;\n    }\n\n    .dataframe thead th {\n        text-align: right;\n    }\n</style>\n<table border=\"1\" class=\"dataframe\">\n  <thead>\n    <tr style=\"text-align: right;\">\n      <th></th>\n      <th>hash_id</th>\n      <th>timestamp</th>\n      <th>algorithm_name</th>\n      <th>iteration</th>\n      <th>activation</th>\n      <th>optimizer</th>\n      <th>encoding_layers</th>\n      <th>decoding_layers</th>\n      <th>num_layers</th>\n      <th>bottleneck_size</th>\n      <th>...</th>\n      <th>MSE</th>\n      <th>RMSE</th>\n      <th>MAE</th>\n      <th>ABS_REL</th>\n      <th>LOG10</th>\n      <th>DELTA1</th>\n      <th>DELTA2</th>\n      <th>DELTA3</th>\n      <th>CADL</th>\n      <th>solution_array</th>\n    </tr>\n  </thead>\n  <tbody>\n    <tr>\n      <th>0</th>\n      <td>dc272d6cf58c25a4241afe947bc5c4f7cf2f0b9e</td>\n      <td>03:21 18-08-2023</td>\n      <td>ParticleSwarmAlgorithm</td>\n      <td>1</td>\n      <td>CELU</td>\n      <td>Adagrad</td>\n      <td>ModuleList(\\n  (0): Conv2d(3, 295, kernel_size...</td>\n      <td>ModuleList(\\n  (0): ConvTranspose2d(295, 1, ke...</td>\n      <td>1</td>\n      <td>152</td>\n      <td>...</td>\n      <td>8.752117</td>\n      <td>2.958398</td>\n      <td>2.451226</td>\n      <td>5.852947</td>\n      <td>971.534058</td>\n      <td>0.256184</td>\n      <td>0.300030</td>\n      <td>0.381448</td>\n      <td>142.962845</td>\n      <td>[0.9710766121566622, 0.49098581411848896, 0.74...</td>\n    </tr>\n    <tr>\n      <th>2</th>\n      <td>87221babc25a2ce91082bc280f9a05d7abd02d3e</td>\n      <td>05:45 18-08-2023</td>\n      <td>ParticleSwarmAlgorithm</td>\n      <td>1</td>\n      <td>TANH</td>\n      <td>Adagrad</td>\n      <td>ModuleList(\\n  (0): Conv2d(3, 3, kernel_size=(...</td>\n      <td>ModuleList(\\n  (0): ConvTranspose2d(27, 24, ke...</td>\n      <td>47</td>\n      <td>1</td>\n      <td>...</td>\n      <td>6.429847</td>\n      <td>2.535714</td>\n      <td>2.031709</td>\n      <td>8.362244</td>\n      <td>1042.885986</td>\n      <td>0.322310</td>\n      <td>0.403383</td>\n      <td>0.523606</td>\n      <td>119.542633</td>\n      <td>[0.012717799425234544, 0.4711765125844729, 0.8...</td>\n    </tr>\n    <tr>\n      <th>3</th>\n      <td>13373e3867c711dc71520c5dcf8d1efb6cb77439</td>\n      <td>07:36 18-08-2023</td>\n      <td>ParticleSwarmAlgorithm</td>\n      <td>1</td>\n      <td>GELU</td>\n      <td>ASGD</td>\n      <td>ModuleList(\\n  (0): Conv2d(3, 279, kernel_size...</td>\n      <td>ModuleList(\\n  (0): ConvTranspose2d(279, 1, ke...</td>\n      <td>1</td>\n      <td>152</td>\n      <td>...</td>\n      <td>6.879367</td>\n      <td>2.622855</td>\n      <td>2.086601</td>\n      <td>6.881074</td>\n      <td>1658.415649</td>\n      <td>0.310494</td>\n      <td>0.384610</td>\n      <td>0.494374</td>\n      <td>123.457573</td>\n      <td>[0.9197334634424169, 0.3103127151459234, 0.816...</td>\n    </tr>\n    <tr>\n      <th>4</th>\n      <td>de96809bb25ac7dee7dba4fd256c484fa9b2f19c</td>\n      <td>08:44 18-08-2023</td>\n      <td>ParticleSwarmAlgorithm</td>\n      <td>2</td>\n      <td>Leaky RELU</td>\n      <td>RAdam</td>\n      <td>ModuleList(\\n  (0): Conv2d(3, 245, kernel_size...</td>\n      <td>ModuleList(\\n  (0): ConvTranspose2d(245, 1, ke...</td>\n      <td>1</td>\n      <td>152</td>\n      <td>...</td>\n      <td>6.914970</td>\n      <td>2.629633</td>\n      <td>2.084672</td>\n      <td>11.390865</td>\n      <td>3271.623779</td>\n      <td>0.303147</td>\n      <td>0.376913</td>\n      <td>0.487006</td>\n      <td>123.012238</td>\n      <td>[0.8070219311175996, 0.859765147120731, 0.2608...</td>\n    </tr>\n    <tr>\n      <th>5</th>\n      <td>8daa454f8b72893ab5aec5271ed4e93fdae8b507</td>\n      <td>11:15 18-08-2023</td>\n      <td>ParticleSwarmAlgorithm</td>\n      <td>2</td>\n      <td>Leaky RELU</td>\n      <td>SGD</td>\n      <td>ModuleList(\\n  (0): Conv2d(3, 168, kernel_size...</td>\n      <td>ModuleList(\\n  (0): ConvTranspose2d(336, 168, ...</td>\n      <td>2</td>\n      <td>76</td>\n      <td>...</td>\n      <td>6.257961</td>\n      <td>2.501592</td>\n      <td>2.006072</td>\n      <td>6.982789</td>\n      <td>901.591553</td>\n      <td>0.332549</td>\n      <td>0.416203</td>\n      <td>0.537139</td>\n      <td>117.946358</td>\n      <td>[0.5538300972133227, 0.4528997002797993, 0.348...</td>\n    </tr>\n    <tr>\n      <th>6</th>\n      <td>a40961bf93d271ff8c1373e11a680c759400d129</td>\n      <td>12:25 18-08-2023</td>\n      <td>ParticleSwarmAlgorithm</td>\n      <td>2</td>\n      <td>TANH</td>\n      <td>Adagrad</td>\n      <td>ModuleList(\\n  (0): Conv2d(3, 51, kernel_size=...</td>\n      <td>ModuleList(\\n  (0): ConvTranspose2d(204, 153, ...</td>\n      <td>4</td>\n      <td>19</td>\n      <td>...</td>\n      <td>8.000542</td>\n      <td>2.828523</td>\n      <td>2.301531</td>\n      <td>17.819263</td>\n      <td>1473.887329</td>\n      <td>0.250654</td>\n      <td>0.308354</td>\n      <td>0.408347</td>\n      <td>135.207336</td>\n      <td>[0.1707490731613004, 0.7012144473134904, 0.980...</td>\n    </tr>\n    <tr>\n      <th>10</th>\n      <td>8730c81dcd47385f488412fb6b73254a0e9a20e8</td>\n      <td>15:07 28-09-2023</td>\n      <td>ParticleSwarmAlgorithm</td>\n      <td>1</td>\n      <td>RELU</td>\n      <td>Adagrad</td>\n      <td>ModuleList(\\n  (0): Conv2d(3, 202, kernel_size...</td>\n      <td>ModuleList(\\n  (0): ConvTranspose2d(404, 202, ...</td>\n      <td>2</td>\n      <td>76</td>\n      <td>...</td>\n      <td>6.925721</td>\n      <td>2.631676</td>\n      <td>2.104019</td>\n      <td>17.812155</td>\n      <td>1883.463501</td>\n      <td>0.294779</td>\n      <td>0.368754</td>\n      <td>0.484663</td>\n      <td>123.469414</td>\n      <td>[0.6672552234652567, 0.35758444797472055, 0.24...</td>\n    </tr>\n    <tr>\n      <th>12</th>\n      <td>e9decec29f0fedad69cd51aca5fb692a4d57be56</td>\n      <td>15:41 28-09-2023</td>\n      <td>ParticleSwarmAlgorithm</td>\n      <td>1</td>\n      <td>SELU</td>\n      <td>ASGD</td>\n      <td>ModuleList(\\n  (0): Conv2d(3, 176, kernel_size...</td>\n      <td>ModuleList(\\n  (0): ConvTranspose2d(352, 176, ...</td>\n      <td>2</td>\n      <td>76</td>\n      <td>...</td>\n      <td>7.833205</td>\n      <td>2.798786</td>\n      <td>2.280233</td>\n      <td>8.718953</td>\n      <td>1342.730713</td>\n      <td>0.274139</td>\n      <td>0.333841</td>\n      <td>0.432350</td>\n      <td>133.682541</td>\n      <td>[0.5797608820563144, 0.024631440111434477, 0.6...</td>\n    </tr>\n    <tr>\n      <th>13</th>\n      <td>8f4b6e251e7f9cfa6b2d0c37136101052dbae22f</td>\n      <td>18:46 28-09-2023</td>\n      <td>ParticleSwarmAlgorithm</td>\n      <td>2</td>\n      <td>RRELU</td>\n      <td>SGD</td>\n      <td>ModuleList(\\n  (0): Conv2d(3, 27, kernel_size=...</td>\n      <td>ModuleList(\\n  (0): ConvTranspose2d(162, 135, ...</td>\n      <td>6</td>\n      <td>5</td>\n      <td>...</td>\n      <td>6.869549</td>\n      <td>2.620982</td>\n      <td>2.096408</td>\n      <td>15.977495</td>\n      <td>1452.832153</td>\n      <td>0.297267</td>\n      <td>0.371877</td>\n      <td>0.488764</td>\n      <td>123.054214</td>\n      <td>[0.09068296841560741, 0.5477015650676068, 0.48...</td>\n    </tr>\n    <tr>\n      <th>14</th>\n      <td>ba14b07c86334c9c74d39f7eaddc44e546754deb</td>\n      <td>20:26 28-09-2023</td>\n      <td>ParticleSwarmAlgorithm</td>\n      <td>2</td>\n      <td>SELU</td>\n      <td>RAdam</td>\n      <td>ModuleList(\\n  (0): Conv2d(3, 266, kernel_size...</td>\n      <td>ModuleList(\\n  (0): ConvTranspose2d(266, 1, ke...</td>\n      <td>1</td>\n      <td>152</td>\n      <td>...</td>\n      <td>7.661369</td>\n      <td>2.767918</td>\n      <td>2.238366</td>\n      <td>4.058030</td>\n      <td>881.678040</td>\n      <td>0.302926</td>\n      <td>0.378062</td>\n      <td>0.482469</td>\n      <td>131.859192</td>\n      <td>[0.8754358946578918, 0.45166039755667053, 0.55...</td>\n    </tr>\n  </tbody>\n</table>\n<p>10 rows × 23 columns</p>\n</div>"
     },
     "execution_count": 9,
     "metadata": {},
     "output_type": "execute_result"
    }
   ],
   "source": [
    "import mk\n",
    "import pandas as pd\n",
    "import sqlite3\n",
    "\n",
    "# Create your connection.\n",
    "cnx = sqlite3.connect('logs/solution.db')\n",
    "\n",
    "df_solutions = pd.read_sql_query(\"SELECT * FROM solutions\", cnx)\n",
    "cnx.commit()\n",
    "cnx.close()\n",
    "df_solutions = df_solutions[df_solutions['fitness'] <= 4000]\n",
    "\n",
    "df_solutions.head(10)\n"
   ]
  },
  {
   "cell_type": "markdown",
   "source": [
    "### Display search statistics"
   ],
   "metadata": {
    "collapsed": false
   },
   "id": "ba44e373f22cfa2a"
  },
  {
   "cell_type": "code",
   "execution_count": 10,
   "id": "ee5cff514a4b4f7d",
   "metadata": {
    "collapsed": false,
    "ExecuteTime": {
     "end_time": "2024-05-02T15:34:05.083412200Z",
     "start_time": "2024-05-02T15:34:05.053638100Z"
    }
   },
   "outputs": [
    {
     "name": "stdout",
     "output_type": "stream",
     "text": [
      "Number of models per day:  1.0208643815201193\n",
      "Total number of days the search ran:  1342\n",
      "Total number of GPU days for the entire search:  5368\n"
     ]
    }
   ],
   "source": [
    "# Calculate the number of models run per day on average\n",
    "num_models_per_day = df_solutions.groupby(['timestamp']).size().mean()\n",
    "\n",
    "# Assuming you know the total number of days the search ran:\n",
    "total_days = df_solutions['timestamp'].nunique()\n",
    "\n",
    "# If you're using 4 GPUs every day, then the total GPU days would be:\n",
    "total_gpu_days = total_days * 4  # 4 GPUs running each day\n",
    "\n",
    "print(\"Number of models per day: \", num_models_per_day)\n",
    "print(\"Total number of days the search ran: \", total_days)\n",
    "print(\"Total number of GPU days for the entire search: \", total_gpu_days)\n"
   ]
  },
  {
   "cell_type": "markdown",
   "source": [
    "#### Preprocessing algorithms values with abbreviations"
   ],
   "metadata": {
    "collapsed": false
   },
   "id": "afe16d8f297ad0ec"
  },
  {
   "cell_type": "code",
   "execution_count": 11,
   "outputs": [],
   "source": [
    "algorithm_abbreviations = {\n",
    "    'DifferentialEvolution': 'DE',\n",
    "    'FireflyAlgorithm': 'FA',\n",
    "    'GeneticAlgorithm': 'GA',\n",
    "    'ParticleSwarmAlgorithm': 'PSO',\n",
    "    'SelfAdaptiveDifferentialEvolution': 'SADE'\n",
    "}\n",
    "df_solutions['algorithm_name'] = df_solutions['algorithm_name'].replace(algorithm_abbreviations)"
   ],
   "metadata": {
    "collapsed": false,
    "ExecuteTime": {
     "end_time": "2024-05-02T15:34:05.128088600Z",
     "start_time": "2024-05-02T15:34:05.073220300Z"
    }
   },
   "id": "3b79cbc368c71e22"
  },
  {
   "cell_type": "markdown",
   "source": [
    "### Fitness value distribution by algorithm"
   ],
   "metadata": {
    "collapsed": false
   },
   "id": "7489b7e7c6380634"
  },
  {
   "cell_type": "code",
   "execution_count": 12,
   "id": "1761c673209fcce0",
   "metadata": {
    "collapsed": false,
    "ExecuteTime": {
     "end_time": "2024-05-02T15:34:05.258463900Z",
     "start_time": "2024-05-02T15:34:05.098073500Z"
    }
   },
   "outputs": [
    {
     "data": {
      "text/plain": "                  Mean  Median     SD  Min   Max\nalgorithm_name                                  \nDE              1755.0  1687.0  666.0  324  3974\nFA              1704.0  1621.0  619.0  202  3988\nGA              1821.0  1728.0  700.0  205  3966\nPSO             1727.0  1631.0  698.0  202  3860\nSADE            1728.0  1648.0  657.0  232  3926",
      "text/html": "<div>\n<style scoped>\n    .dataframe tbody tr th:only-of-type {\n        vertical-align: middle;\n    }\n\n    .dataframe tbody tr th {\n        vertical-align: top;\n    }\n\n    .dataframe thead th {\n        text-align: right;\n    }\n</style>\n<table border=\"1\" class=\"dataframe\">\n  <thead>\n    <tr style=\"text-align: right;\">\n      <th></th>\n      <th>Mean</th>\n      <th>Median</th>\n      <th>SD</th>\n      <th>Min</th>\n      <th>Max</th>\n    </tr>\n    <tr>\n      <th>algorithm_name</th>\n      <th></th>\n      <th></th>\n      <th></th>\n      <th></th>\n      <th></th>\n    </tr>\n  </thead>\n  <tbody>\n    <tr>\n      <th>DE</th>\n      <td>1755.0</td>\n      <td>1687.0</td>\n      <td>666.0</td>\n      <td>324</td>\n      <td>3974</td>\n    </tr>\n    <tr>\n      <th>FA</th>\n      <td>1704.0</td>\n      <td>1621.0</td>\n      <td>619.0</td>\n      <td>202</td>\n      <td>3988</td>\n    </tr>\n    <tr>\n      <th>GA</th>\n      <td>1821.0</td>\n      <td>1728.0</td>\n      <td>700.0</td>\n      <td>205</td>\n      <td>3966</td>\n    </tr>\n    <tr>\n      <th>PSO</th>\n      <td>1727.0</td>\n      <td>1631.0</td>\n      <td>698.0</td>\n      <td>202</td>\n      <td>3860</td>\n    </tr>\n    <tr>\n      <th>SADE</th>\n      <td>1728.0</td>\n      <td>1648.0</td>\n      <td>657.0</td>\n      <td>232</td>\n      <td>3926</td>\n    </tr>\n  </tbody>\n</table>\n</div>"
     },
     "execution_count": 12,
     "metadata": {},
     "output_type": "execute_result"
    }
   ],
   "source": [
    "statistics_df = df_solutions.groupby('algorithm_name')['fitness'].agg(\n",
    "    Mean='mean',\n",
    "    Median='median',\n",
    "    SD='std',\n",
    "    Min='min',\n",
    "    Max='max'\n",
    ")\n",
    "statistics_df = statistics_df.round(0)\n",
    "statistics_df"
   ]
  },
  {
   "cell_type": "code",
   "execution_count": 13,
   "outputs": [
    {
     "data": {
      "text/plain": "                                       hash_id         timestamp  \\\n0     dc272d6cf58c25a4241afe947bc5c4f7cf2f0b9e  03:21 18-08-2023   \n2     87221babc25a2ce91082bc280f9a05d7abd02d3e  05:45 18-08-2023   \n3     13373e3867c711dc71520c5dcf8d1efb6cb77439  07:36 18-08-2023   \n4     de96809bb25ac7dee7dba4fd256c484fa9b2f19c  08:44 18-08-2023   \n5     8daa454f8b72893ab5aec5271ed4e93fdae8b507  11:15 18-08-2023   \n...                                        ...               ...   \n1723  8c7297fc96247d1b6664e30a941189baa67e62e3  18:19 05-02-2024   \n1724  9648552d02981d1d24fecaad9f3cf95163947bf6  00:12 06-02-2024   \n1726  e24733f601b17a819790ab8b50ab874ac127037e  04:54 06-02-2024   \n1727  14c2ba684a30f9edab46bf80ed4db4a7cb0b8978  10:19 06-02-2024   \n1728  5b1e5c653939b9550e66a59b0525c93ee3e2a585  16:46 06-02-2024   \n\n     algorithm_name  iteration  activation optimizer  \\\n0               PSO          1        CELU   Adagrad   \n2               PSO          1        TANH   Adagrad   \n3               PSO          1        GELU      ASGD   \n4               PSO          2  Leaky RELU     RAdam   \n5               PSO          2  Leaky RELU       SGD   \n...             ...        ...         ...       ...   \n1723             DE          6        CELU     RPROP   \n1724             DE          7        CELU      Adam   \n1726             DE         10       RRELU   Adagrad   \n1727             DE         11        SELU      Adam   \n1728             DE         12       RRELU       SGD   \n\n                                        encoding_layers  \\\n0     ModuleList(\\n  (0): Conv2d(3, 295, kernel_size...   \n2     ModuleList(\\n  (0): Conv2d(3, 3, kernel_size=(...   \n3     ModuleList(\\n  (0): Conv2d(3, 279, kernel_size...   \n4     ModuleList(\\n  (0): Conv2d(3, 245, kernel_size...   \n5     ModuleList(\\n  (0): Conv2d(3, 168, kernel_size...   \n...                                                 ...   \n1723  ModuleList(\\n  (0): Conv2d(3, 82, kernel_size=...   \n1724  ModuleList(\\n  (0): Conv2d(3, 266, kernel_size...   \n1726  ModuleList(\\n  (0): Conv2d(3, 100, kernel_size...   \n1727  ModuleList(\\n  (0): Conv2d(3, 122, kernel_size...   \n1728  ModuleList(\\n  (0): Conv2d(3, 210, kernel_size...   \n\n                                        decoding_layers  num_layers  \\\n0     ModuleList(\\n  (0): ConvTranspose2d(295, 1, ke...           1   \n2     ModuleList(\\n  (0): ConvTranspose2d(27, 24, ke...          47   \n3     ModuleList(\\n  (0): ConvTranspose2d(279, 1, ke...           1   \n4     ModuleList(\\n  (0): ConvTranspose2d(245, 1, ke...           1   \n5     ModuleList(\\n  (0): ConvTranspose2d(336, 168, ...           2   \n...                                                 ...         ...   \n1723  ModuleList(\\n  (0): ConvTranspose2d(246, 164, ...           3   \n1724  ModuleList(\\n  (0): ConvTranspose2d(266, 1, ke...           1   \n1726  ModuleList(\\n  (0): ConvTranspose2d(100, 1, ke...           1   \n1727  ModuleList(\\n  (0): ConvTranspose2d(244, 122, ...           2   \n1728  ModuleList(\\n  (0): ConvTranspose2d(210, 1, ke...           1   \n\n      bottleneck_size  ...       MSE      RMSE       MAE    ABS_REL  \\\n0                 152  ...  8.752117  2.958398  2.451226   5.852947   \n2                   1  ...  6.429847  2.535714  2.031709   8.362244   \n3                 152  ...  6.879367  2.622855  2.086601   6.881074   \n4                 152  ...  6.914970  2.629633  2.084672  11.390865   \n5                  76  ...  6.257961  2.501592  2.006072   6.982789   \n...               ...  ...       ...       ...       ...        ...   \n1723               38  ...  2.700285  1.643255  1.260109   0.575114   \n1724              152  ...  7.127074  2.669658  2.147215   8.575384   \n1726              152  ...  6.549220  2.559144  2.045758   8.381670   \n1727               76  ...  6.494125  2.548357  2.041430   6.868888   \n1728              152  ...  6.062149  2.462143  1.961064   5.000847   \n\n            LOG10    DELTA1    DELTA2    DELTA3        CADL  \\\n0      971.534058  0.256184  0.300030  0.381448  142.962845   \n2     1042.885986  0.322310  0.403383  0.523606  119.542633   \n3     1658.415649  0.310494  0.384610  0.494374  123.457573   \n4     3271.623779  0.303147  0.376913  0.487006  123.012238   \n5      901.591553  0.332549  0.416203  0.537139  117.946358   \n...           ...       ...       ...       ...         ...   \n1723   559.906921  0.590446  0.651203  0.686440   72.391876   \n1724  1358.997437  0.300135  0.371319  0.476936  126.490776   \n1726  1326.169556  0.321277  0.401100  0.515570  120.921638   \n1727  1141.205933  0.330106  0.408889  0.521957  120.872482   \n1728  1187.788086  0.353915  0.441430  0.555451  116.599319   \n\n                                         solution_array  \n0     [0.9710766121566622, 0.49098581411848896, 0.74...  \n2     [0.012717799425234544, 0.4711765125844729, 0.8...  \n3     [0.9197334634424169, 0.3103127151459234, 0.816...  \n4     [0.8070219311175996, 0.859765147120731, 0.2608...  \n5     [0.5538300972133227, 0.4528997002797993, 0.348...  \n...                                                 ...  \n1723  [0.2702811928390515, 0.9007326137827373, 0.729...  \n1724  [0.87694672336312, 0.6416743283850415, 0.73047...  \n1726  [0.3313593840795479, 0.41119044824905493, 0.42...  \n1727  [0.40450203209051583, 0.6927507140298672, 0.58...  \n1728  [0.6938854080861157, 0.22786182981714032, 0.47...  \n\n[1370 rows x 23 columns]",
      "text/html": "<div>\n<style scoped>\n    .dataframe tbody tr th:only-of-type {\n        vertical-align: middle;\n    }\n\n    .dataframe tbody tr th {\n        vertical-align: top;\n    }\n\n    .dataframe thead th {\n        text-align: right;\n    }\n</style>\n<table border=\"1\" class=\"dataframe\">\n  <thead>\n    <tr style=\"text-align: right;\">\n      <th></th>\n      <th>hash_id</th>\n      <th>timestamp</th>\n      <th>algorithm_name</th>\n      <th>iteration</th>\n      <th>activation</th>\n      <th>optimizer</th>\n      <th>encoding_layers</th>\n      <th>decoding_layers</th>\n      <th>num_layers</th>\n      <th>bottleneck_size</th>\n      <th>...</th>\n      <th>MSE</th>\n      <th>RMSE</th>\n      <th>MAE</th>\n      <th>ABS_REL</th>\n      <th>LOG10</th>\n      <th>DELTA1</th>\n      <th>DELTA2</th>\n      <th>DELTA3</th>\n      <th>CADL</th>\n      <th>solution_array</th>\n    </tr>\n  </thead>\n  <tbody>\n    <tr>\n      <th>0</th>\n      <td>dc272d6cf58c25a4241afe947bc5c4f7cf2f0b9e</td>\n      <td>03:21 18-08-2023</td>\n      <td>PSO</td>\n      <td>1</td>\n      <td>CELU</td>\n      <td>Adagrad</td>\n      <td>ModuleList(\\n  (0): Conv2d(3, 295, kernel_size...</td>\n      <td>ModuleList(\\n  (0): ConvTranspose2d(295, 1, ke...</td>\n      <td>1</td>\n      <td>152</td>\n      <td>...</td>\n      <td>8.752117</td>\n      <td>2.958398</td>\n      <td>2.451226</td>\n      <td>5.852947</td>\n      <td>971.534058</td>\n      <td>0.256184</td>\n      <td>0.300030</td>\n      <td>0.381448</td>\n      <td>142.962845</td>\n      <td>[0.9710766121566622, 0.49098581411848896, 0.74...</td>\n    </tr>\n    <tr>\n      <th>2</th>\n      <td>87221babc25a2ce91082bc280f9a05d7abd02d3e</td>\n      <td>05:45 18-08-2023</td>\n      <td>PSO</td>\n      <td>1</td>\n      <td>TANH</td>\n      <td>Adagrad</td>\n      <td>ModuleList(\\n  (0): Conv2d(3, 3, kernel_size=(...</td>\n      <td>ModuleList(\\n  (0): ConvTranspose2d(27, 24, ke...</td>\n      <td>47</td>\n      <td>1</td>\n      <td>...</td>\n      <td>6.429847</td>\n      <td>2.535714</td>\n      <td>2.031709</td>\n      <td>8.362244</td>\n      <td>1042.885986</td>\n      <td>0.322310</td>\n      <td>0.403383</td>\n      <td>0.523606</td>\n      <td>119.542633</td>\n      <td>[0.012717799425234544, 0.4711765125844729, 0.8...</td>\n    </tr>\n    <tr>\n      <th>3</th>\n      <td>13373e3867c711dc71520c5dcf8d1efb6cb77439</td>\n      <td>07:36 18-08-2023</td>\n      <td>PSO</td>\n      <td>1</td>\n      <td>GELU</td>\n      <td>ASGD</td>\n      <td>ModuleList(\\n  (0): Conv2d(3, 279, kernel_size...</td>\n      <td>ModuleList(\\n  (0): ConvTranspose2d(279, 1, ke...</td>\n      <td>1</td>\n      <td>152</td>\n      <td>...</td>\n      <td>6.879367</td>\n      <td>2.622855</td>\n      <td>2.086601</td>\n      <td>6.881074</td>\n      <td>1658.415649</td>\n      <td>0.310494</td>\n      <td>0.384610</td>\n      <td>0.494374</td>\n      <td>123.457573</td>\n      <td>[0.9197334634424169, 0.3103127151459234, 0.816...</td>\n    </tr>\n    <tr>\n      <th>4</th>\n      <td>de96809bb25ac7dee7dba4fd256c484fa9b2f19c</td>\n      <td>08:44 18-08-2023</td>\n      <td>PSO</td>\n      <td>2</td>\n      <td>Leaky RELU</td>\n      <td>RAdam</td>\n      <td>ModuleList(\\n  (0): Conv2d(3, 245, kernel_size...</td>\n      <td>ModuleList(\\n  (0): ConvTranspose2d(245, 1, ke...</td>\n      <td>1</td>\n      <td>152</td>\n      <td>...</td>\n      <td>6.914970</td>\n      <td>2.629633</td>\n      <td>2.084672</td>\n      <td>11.390865</td>\n      <td>3271.623779</td>\n      <td>0.303147</td>\n      <td>0.376913</td>\n      <td>0.487006</td>\n      <td>123.012238</td>\n      <td>[0.8070219311175996, 0.859765147120731, 0.2608...</td>\n    </tr>\n    <tr>\n      <th>5</th>\n      <td>8daa454f8b72893ab5aec5271ed4e93fdae8b507</td>\n      <td>11:15 18-08-2023</td>\n      <td>PSO</td>\n      <td>2</td>\n      <td>Leaky RELU</td>\n      <td>SGD</td>\n      <td>ModuleList(\\n  (0): Conv2d(3, 168, kernel_size...</td>\n      <td>ModuleList(\\n  (0): ConvTranspose2d(336, 168, ...</td>\n      <td>2</td>\n      <td>76</td>\n      <td>...</td>\n      <td>6.257961</td>\n      <td>2.501592</td>\n      <td>2.006072</td>\n      <td>6.982789</td>\n      <td>901.591553</td>\n      <td>0.332549</td>\n      <td>0.416203</td>\n      <td>0.537139</td>\n      <td>117.946358</td>\n      <td>[0.5538300972133227, 0.4528997002797993, 0.348...</td>\n    </tr>\n    <tr>\n      <th>...</th>\n      <td>...</td>\n      <td>...</td>\n      <td>...</td>\n      <td>...</td>\n      <td>...</td>\n      <td>...</td>\n      <td>...</td>\n      <td>...</td>\n      <td>...</td>\n      <td>...</td>\n      <td>...</td>\n      <td>...</td>\n      <td>...</td>\n      <td>...</td>\n      <td>...</td>\n      <td>...</td>\n      <td>...</td>\n      <td>...</td>\n      <td>...</td>\n      <td>...</td>\n      <td>...</td>\n    </tr>\n    <tr>\n      <th>1723</th>\n      <td>8c7297fc96247d1b6664e30a941189baa67e62e3</td>\n      <td>18:19 05-02-2024</td>\n      <td>DE</td>\n      <td>6</td>\n      <td>CELU</td>\n      <td>RPROP</td>\n      <td>ModuleList(\\n  (0): Conv2d(3, 82, kernel_size=...</td>\n      <td>ModuleList(\\n  (0): ConvTranspose2d(246, 164, ...</td>\n      <td>3</td>\n      <td>38</td>\n      <td>...</td>\n      <td>2.700285</td>\n      <td>1.643255</td>\n      <td>1.260109</td>\n      <td>0.575114</td>\n      <td>559.906921</td>\n      <td>0.590446</td>\n      <td>0.651203</td>\n      <td>0.686440</td>\n      <td>72.391876</td>\n      <td>[0.2702811928390515, 0.9007326137827373, 0.729...</td>\n    </tr>\n    <tr>\n      <th>1724</th>\n      <td>9648552d02981d1d24fecaad9f3cf95163947bf6</td>\n      <td>00:12 06-02-2024</td>\n      <td>DE</td>\n      <td>7</td>\n      <td>CELU</td>\n      <td>Adam</td>\n      <td>ModuleList(\\n  (0): Conv2d(3, 266, kernel_size...</td>\n      <td>ModuleList(\\n  (0): ConvTranspose2d(266, 1, ke...</td>\n      <td>1</td>\n      <td>152</td>\n      <td>...</td>\n      <td>7.127074</td>\n      <td>2.669658</td>\n      <td>2.147215</td>\n      <td>8.575384</td>\n      <td>1358.997437</td>\n      <td>0.300135</td>\n      <td>0.371319</td>\n      <td>0.476936</td>\n      <td>126.490776</td>\n      <td>[0.87694672336312, 0.6416743283850415, 0.73047...</td>\n    </tr>\n    <tr>\n      <th>1726</th>\n      <td>e24733f601b17a819790ab8b50ab874ac127037e</td>\n      <td>04:54 06-02-2024</td>\n      <td>DE</td>\n      <td>10</td>\n      <td>RRELU</td>\n      <td>Adagrad</td>\n      <td>ModuleList(\\n  (0): Conv2d(3, 100, kernel_size...</td>\n      <td>ModuleList(\\n  (0): ConvTranspose2d(100, 1, ke...</td>\n      <td>1</td>\n      <td>152</td>\n      <td>...</td>\n      <td>6.549220</td>\n      <td>2.559144</td>\n      <td>2.045758</td>\n      <td>8.381670</td>\n      <td>1326.169556</td>\n      <td>0.321277</td>\n      <td>0.401100</td>\n      <td>0.515570</td>\n      <td>120.921638</td>\n      <td>[0.3313593840795479, 0.41119044824905493, 0.42...</td>\n    </tr>\n    <tr>\n      <th>1727</th>\n      <td>14c2ba684a30f9edab46bf80ed4db4a7cb0b8978</td>\n      <td>10:19 06-02-2024</td>\n      <td>DE</td>\n      <td>11</td>\n      <td>SELU</td>\n      <td>Adam</td>\n      <td>ModuleList(\\n  (0): Conv2d(3, 122, kernel_size...</td>\n      <td>ModuleList(\\n  (0): ConvTranspose2d(244, 122, ...</td>\n      <td>2</td>\n      <td>76</td>\n      <td>...</td>\n      <td>6.494125</td>\n      <td>2.548357</td>\n      <td>2.041430</td>\n      <td>6.868888</td>\n      <td>1141.205933</td>\n      <td>0.330106</td>\n      <td>0.408889</td>\n      <td>0.521957</td>\n      <td>120.872482</td>\n      <td>[0.40450203209051583, 0.6927507140298672, 0.58...</td>\n    </tr>\n    <tr>\n      <th>1728</th>\n      <td>5b1e5c653939b9550e66a59b0525c93ee3e2a585</td>\n      <td>16:46 06-02-2024</td>\n      <td>DE</td>\n      <td>12</td>\n      <td>RRELU</td>\n      <td>SGD</td>\n      <td>ModuleList(\\n  (0): Conv2d(3, 210, kernel_size...</td>\n      <td>ModuleList(\\n  (0): ConvTranspose2d(210, 1, ke...</td>\n      <td>1</td>\n      <td>152</td>\n      <td>...</td>\n      <td>6.062149</td>\n      <td>2.462143</td>\n      <td>1.961064</td>\n      <td>5.000847</td>\n      <td>1187.788086</td>\n      <td>0.353915</td>\n      <td>0.441430</td>\n      <td>0.555451</td>\n      <td>116.599319</td>\n      <td>[0.6938854080861157, 0.22786182981714032, 0.47...</td>\n    </tr>\n  </tbody>\n</table>\n<p>1370 rows × 23 columns</p>\n</div>"
     },
     "execution_count": 13,
     "metadata": {},
     "output_type": "execute_result"
    }
   ],
   "source": [
    "df_solutions\n"
   ],
   "metadata": {
    "collapsed": false,
    "ExecuteTime": {
     "end_time": "2024-05-02T15:34:05.456267800Z",
     "start_time": "2024-05-02T15:34:05.135256500Z"
    }
   },
   "id": "f3e60674bc3847fc"
  },
  {
   "cell_type": "code",
   "execution_count": 14,
   "outputs": [
    {
     "data": {
      "application/vnd.plotly.v1+json": {
       "data": [
        {
         "name": "PSO",
         "y": [
          1523,
          1360,
          2208,
          3826,
          1233,
          1697,
          2227,
          1679,
          1693,
          1430,
          1709,
          3482,
          1757,
          1100,
          2366,
          2040,
          2825,
          2289,
          1622,
          541,
          2775,
          1586,
          205,
          2200,
          3219,
          2824,
          1786,
          1095,
          2324,
          1472,
          2355,
          2148,
          1096,
          2238,
          1334,
          2457,
          2272,
          2380,
          1321,
          1394,
          3186,
          1380,
          2273,
          1728,
          889,
          2479,
          870,
          2015,
          2073,
          3000,
          884,
          1109,
          1122,
          2701,
          2613,
          1727,
          1325,
          1617,
          3770,
          1324,
          2199,
          1579,
          881,
          3155,
          1814,
          1491,
          1840,
          541,
          1824,
          1191,
          1338,
          1301,
          2009,
          1976,
          1470,
          1406,
          2595,
          1175,
          793,
          823,
          1098,
          2263,
          1548,
          1512,
          1361,
          1830,
          2333,
          2626,
          1708,
          1923,
          3429,
          2186,
          1442,
          2607,
          1401,
          1122,
          1415,
          2531,
          1279,
          879,
          1186,
          1933,
          1615,
          1929,
          1679,
          885,
          1183,
          1334,
          1053,
          1547,
          2397,
          1295,
          3488,
          1784,
          2182,
          2469,
          3361,
          2106,
          1836,
          1095,
          1661,
          1942,
          2804,
          1592,
          1914,
          1226,
          3601,
          3113,
          2711,
          1954,
          1095,
          902,
          1290,
          885,
          1897,
          1553,
          1348,
          1096,
          1093,
          202,
          1865,
          1760,
          1509,
          1829,
          2258,
          2264,
          1269,
          1305,
          1035,
          1739,
          2223,
          1541,
          1869,
          1568,
          2208,
          1363,
          1222,
          1059,
          887,
          1108,
          1096,
          1620,
          2248,
          1675,
          1903,
          1699,
          1500,
          1097,
          1488,
          1887,
          1584,
          2509,
          888,
          1785,
          783,
          1628,
          1565,
          2283,
          541,
          1616,
          2058,
          1543,
          1908,
          2918,
          1092,
          1070,
          2321,
          1206,
          1378,
          1521,
          1092,
          2480,
          885,
          1702,
          1464,
          2410,
          790,
          2155,
          1456,
          1588,
          1843,
          1639,
          1955,
          1101,
          1645,
          890,
          891,
          1067,
          2320,
          765,
          1911,
          2121,
          1093,
          2803,
          878,
          1868,
          2335,
          3860,
          887,
          1608,
          2313,
          2224,
          1682,
          1219,
          1691,
          1929,
          866,
          1530,
          1943,
          1832,
          2038,
          1401,
          1914,
          886,
          1776,
          1645,
          1617,
          903,
          1169,
          1101,
          1098,
          2693,
          1095,
          1634,
          868,
          2751,
          1093,
          1125,
          1452,
          880,
          541,
          1766,
          2638,
          3683,
          866,
          3797,
          883,
          877,
          1416,
          1995,
          2267,
          2500,
          820,
          2408
         ],
         "type": "box"
        },
        {
         "name": "GA",
         "y": [
          1559,
          2756,
          1826,
          1623,
          2169,
          791,
          1572,
          324,
          2501,
          1727,
          2128,
          1305,
          1730,
          1600,
          1734,
          1938,
          2196,
          880,
          2375,
          3061,
          1092,
          3128,
          1879,
          1721,
          2647,
          1486,
          1568,
          1446,
          779,
          1568,
          3640,
          1951,
          1854,
          875,
          1282,
          1344,
          2575,
          1910,
          2146,
          1853,
          2019,
          2612,
          2970,
          894,
          1251,
          1702,
          3051,
          1616,
          1800,
          1716,
          882,
          1471,
          1228,
          1423,
          2972,
          2556,
          1726,
          778,
          1627,
          1093,
          2926,
          1239,
          2097,
          2050,
          1655,
          1474,
          1486,
          1098,
          1235,
          1294,
          1322,
          3430,
          2477,
          2230,
          1628,
          2135,
          925,
          2294,
          2324,
          541,
          1864,
          2991,
          1153,
          2030,
          2349,
          1095,
          2268,
          3036,
          2165,
          1672,
          1999,
          2313,
          1189,
          3189,
          1692,
          2089,
          1935,
          887,
          231,
          2071,
          751,
          1686,
          1818,
          2321,
          1715,
          2035,
          1916,
          1657,
          1699,
          1634,
          1375,
          1289,
          3602,
          2026,
          2536,
          1646,
          1550,
          2695,
          3966,
          1375,
          1095,
          2682,
          541,
          1403,
          2038,
          1910,
          1453,
          1782,
          2212,
          1495,
          3386,
          1817,
          1476,
          3816,
          2099,
          1393,
          1696,
          3453,
          1450,
          2184,
          1003,
          2384,
          1977,
          3492,
          1581,
          1807,
          887,
          2498,
          2210,
          1736,
          1362,
          1520,
          1798,
          2414,
          1112,
          1767,
          2773,
          1084,
          2000,
          1392,
          1550,
          2512,
          3184,
          2118,
          2197,
          1757,
          884,
          1094,
          2618,
          1133,
          1097,
          2584,
          1219,
          205,
          1820,
          1079,
          1336,
          2551,
          1823,
          1374,
          2082,
          2161,
          1398,
          1544,
          3199,
          1805,
          1737,
          1802,
          1096,
          963,
          3225,
          1092,
          1096,
          232,
          2072,
          1248,
          2930,
          1526,
          2588,
          1098,
          2499,
          1355,
          1726,
          2018,
          2108,
          2851,
          2492,
          2777,
          2442,
          2408,
          2645,
          882,
          1489,
          2451,
          1532,
          1760,
          2009,
          1637,
          1668,
          2396,
          1881,
          890,
          1456,
          1495,
          881,
          875,
          882,
          1875,
          1338,
          2456,
          791,
          887,
          1539,
          1416,
          2190,
          1437,
          2633,
          1095,
          1244,
          1821,
          2336,
          1332,
          3371,
          1484,
          1560,
          2392,
          2046,
          1569,
          1322,
          1106,
          1723,
          1896
         ],
         "type": "box"
        },
        {
         "name": "FA",
         "y": [
          1310,
          1892,
          1815,
          3387,
          1108,
          1595,
          2237,
          1399,
          798,
          1505,
          872,
          880,
          996,
          2115,
          1944,
          3290,
          1118,
          1987,
          3527,
          2745,
          1098,
          1581,
          1098,
          1960,
          1663,
          2234,
          1914,
          1479,
          3958,
          2092,
          2152,
          1716,
          1884,
          324,
          1450,
          1232,
          1741,
          1581,
          1560,
          1981,
          1672,
          1127,
          1097,
          1508,
          2829,
          1752,
          1228,
          2331,
          2253,
          1993,
          1596,
          882,
          1308,
          884,
          1168,
          2329,
          2162,
          1116,
          1541,
          1407,
          1576,
          1828,
          1442,
          885,
          1798,
          1678,
          1637,
          1524,
          2410,
          1257,
          1329,
          1134,
          1096,
          2030,
          2791,
          1099,
          1363,
          1367,
          846,
          2353,
          767,
          1861,
          2574,
          1853,
          1656,
          2472,
          2583,
          1094,
          1341,
          1081,
          783,
          1724,
          1474,
          1334,
          1389,
          1429,
          1497,
          2358,
          2567,
          1683,
          2155,
          882,
          1621,
          871,
          1194,
          1620,
          1933,
          873,
          2329,
          1715,
          817,
          2554,
          883,
          1184,
          1575,
          1363,
          1344,
          2150,
          2262,
          2553,
          1341,
          880,
          2485,
          2505,
          1241,
          1797,
          1520,
          2476,
          1463,
          1307,
          1901,
          1365,
          1356,
          1361,
          1818,
          2525,
          1745,
          1717,
          1109,
          1469,
          2327,
          2157,
          2132,
          881,
          2019,
          2024,
          2036,
          1245,
          1488,
          1249,
          1229,
          2715,
          1801,
          1601,
          1659,
          765,
          1100,
          1943,
          1326,
          2798,
          2405,
          877,
          1702,
          2751,
          1811,
          1480,
          1682,
          2760,
          875,
          2179,
          1799,
          1466,
          1538,
          1587,
          202,
          1439,
          1549,
          2127,
          1487,
          1622,
          1357,
          1522,
          2765,
          1419,
          1928,
          2243,
          2245,
          2166,
          875,
          1731,
          1312,
          872,
          2086,
          1958,
          1345,
          881,
          1157,
          1559,
          2071,
          1094,
          2692,
          324,
          2778,
          1732,
          1818,
          1368,
          1264,
          2736,
          2334,
          1526,
          882,
          1517,
          1795,
          1879,
          2022,
          1515,
          1839,
          1098,
          2055,
          1098,
          1920,
          3988,
          2663,
          892,
          1619,
          1094,
          2200,
          2705,
          2450,
          1887,
          1094,
          1924,
          1167,
          1208,
          2688,
          1728,
          1319,
          1107,
          1640,
          2369,
          2855,
          1428,
          1640,
          1284,
          1095,
          1807,
          1879,
          2234,
          1984,
          1096,
          3109,
          2986,
          1261,
          1942,
          1841
         ],
         "type": "box"
        },
        {
         "name": "DE",
         "y": [
          1635,
          1425,
          1549,
          2144,
          2238,
          1765,
          2030,
          1345,
          1494,
          1565,
          1980,
          876,
          1379,
          1761,
          2446,
          3024,
          541,
          885,
          1445,
          1896,
          1581,
          890,
          2080,
          1374,
          1590,
          2551,
          3263,
          1595,
          1682,
          2002,
          1609,
          1815,
          2048,
          1564,
          1241,
          1201,
          1095,
          1627,
          2250,
          2364,
          1517,
          2765,
          1092,
          1687,
          1337,
          1886,
          2527,
          1922,
          2194,
          879,
          1549,
          2717,
          2216,
          1742,
          1645,
          1129,
          1307,
          1900,
          882,
          1577,
          1692,
          2194,
          1723,
          2457,
          1096,
          1352,
          1726,
          2851,
          3009,
          1402,
          1306,
          1713,
          1285,
          2488,
          1788,
          1576,
          1151,
          1593,
          2359,
          1097,
          3586,
          1786,
          2200,
          2000,
          2029,
          1796,
          2195,
          2229,
          2124,
          1969,
          2657,
          2264,
          1561,
          1872,
          1556,
          1764,
          1318,
          884,
          2598,
          1899,
          2036,
          1697,
          2282,
          324,
          1090,
          1257,
          2148,
          1677,
          1377,
          1804,
          1750,
          324,
          1981,
          1329,
          1131,
          1600,
          2744,
          1733,
          1096,
          1830,
          2488,
          1309,
          1313,
          1318,
          1946,
          2497,
          1524,
          1689,
          1152,
          3376,
          1090,
          880,
          1362,
          1706,
          1167,
          867,
          1192,
          1105,
          1097,
          1653,
          1411,
          1767,
          1504,
          2404,
          2239,
          3304,
          1952,
          1920,
          1411,
          2903,
          3974,
          1195,
          1612,
          2612,
          1100,
          1096,
          1558,
          541,
          2429,
          2205,
          1339,
          1110,
          1903,
          2078,
          1171,
          873,
          1586,
          1428,
          1873,
          2543,
          1664,
          1892,
          3181,
          3529,
          1094,
          2362,
          2110,
          3362,
          2848,
          1372,
          1546,
          1430,
          1790,
          2541,
          1193,
          1209,
          2347,
          324,
          1397,
          1622,
          889,
          2799,
          541,
          541,
          1640,
          2131,
          1484,
          886,
          2372,
          1096,
          1363,
          1434,
          2014,
          768,
          2232,
          2342,
          848,
          1791,
          1862,
          2151,
          1984,
          848,
          869,
          2624,
          1570,
          1613,
          1372,
          884,
          891,
          2182,
          1366,
          3419,
          872,
          1320,
          1511,
          2487,
          2051,
          1834,
          1696,
          2991,
          1592,
          1953,
          1491,
          2293,
          1686,
          2249,
          1611,
          792,
          3806,
          324,
          2618,
          2151,
          871,
          1893,
          2162,
          784,
          1703,
          2797,
          1745,
          1097,
          2840,
          1245,
          3025,
          2644,
          777,
          2363,
          1351,
          1683,
          1802,
          2889,
          2486,
          1473,
          2729,
          1783,
          1097,
          1261,
          787,
          1911,
          1877,
          1473,
          1734
         ],
         "type": "box"
        },
        {
         "name": "SADE",
         "y": [
          1586,
          2377,
          3167,
          1661,
          870,
          2048,
          1097,
          1738,
          2165,
          1672,
          1097,
          1030,
          1095,
          1332,
          2428,
          2550,
          2053,
          1321,
          2286,
          796,
          3345,
          1560,
          1109,
          2145,
          2517,
          2610,
          1988,
          2138,
          2203,
          1535,
          1438,
          1096,
          1261,
          1094,
          1530,
          1555,
          1298,
          2438,
          1649,
          2845,
          2187,
          1735,
          2349,
          541,
          3722,
          1520,
          2880,
          1675,
          1057,
          1667,
          854,
          232,
          2455,
          1540,
          847,
          1373,
          1484,
          3620,
          1932,
          1185,
          2627,
          1992,
          1567,
          1777,
          917,
          1097,
          2498,
          1510,
          1595,
          1496,
          1089,
          2389,
          2880,
          1094,
          2230,
          1612,
          1755,
          1854,
          1059,
          2573,
          1737,
          2352,
          1457,
          1658,
          1285,
          1980,
          1497,
          1279,
          1620,
          2503,
          3787,
          2341,
          1617,
          1096,
          888,
          2955,
          2682,
          2185,
          1452,
          1329,
          1405,
          2070,
          2322,
          1424,
          1753,
          3645,
          1358,
          897,
          1510,
          1891,
          806,
          1526,
          1536,
          767,
          1118,
          1765,
          1226,
          1602,
          762,
          1303,
          2876,
          1770,
          1797,
          2020,
          2192,
          1709,
          2223,
          1732,
          3017,
          2573,
          1734,
          2189,
          758,
          1415,
          1127,
          1064,
          834,
          1424,
          757,
          1481,
          881,
          1149,
          1781,
          1933,
          1409,
          1331,
          887,
          1361,
          1997,
          1976,
          1604,
          786,
          2215,
          1130,
          2728,
          1100,
          1832,
          1641,
          1098,
          1767,
          2431,
          1654,
          1663,
          2716,
          3171,
          1775,
          3184,
          3802,
          2094,
          1873,
          1652,
          1985,
          2215,
          1669,
          1586,
          1097,
          1180,
          1801,
          1621,
          1946,
          1799,
          1924,
          864,
          2350,
          2091,
          1690,
          1530,
          1789,
          2111,
          3865,
          1942,
          1382,
          1097,
          324,
          2100,
          879,
          1094,
          2159,
          1097,
          1885,
          2013,
          2690,
          1433,
          879,
          1517,
          2156,
          1291,
          1748,
          1703,
          1527,
          2332,
          1092,
          1414,
          2042,
          1370,
          1671,
          1590,
          2337,
          785,
          1504,
          1910,
          1501,
          1647,
          1891,
          2730,
          1865,
          1799,
          1929,
          1093,
          879,
          1602,
          1199,
          1849,
          994,
          2621,
          1113,
          1600,
          1551,
          880,
          1604,
          841,
          2863,
          1097,
          1167,
          1726,
          1799,
          1393,
          1681,
          1677,
          2097,
          1625,
          1629,
          2174,
          1750,
          1711,
          1553,
          1342,
          1995,
          1182,
          1560,
          1097,
          1820,
          876,
          1132,
          992,
          2333,
          2406,
          1754,
          2232,
          1612,
          3926,
          3044,
          1463,
          879,
          3353,
          2348,
          1754,
          2086,
          2357,
          1555,
          1649,
          2269,
          881,
          2077,
          2156,
          3551,
          1675,
          2206,
          1692,
          1376,
          1849,
          1875,
          1364,
          1484,
          1353,
          2137,
          1423,
          2247,
          1517,
          1577,
          1721,
          1938,
          1076,
          1607,
          1179,
          1614,
          1559,
          2725,
          1202,
          2068,
          1642,
          1469,
          1098,
          541,
          892,
          324,
          1818,
          3572,
          773,
          1559,
          2549,
          1216,
          1631,
          1455,
          1088,
          884,
          1243,
          1945
         ],
         "type": "box"
        }
       ],
       "layout": {
        "template": {
         "data": {
          "histogram2dcontour": [
           {
            "type": "histogram2dcontour",
            "colorbar": {
             "outlinewidth": 0,
             "ticks": ""
            },
            "colorscale": [
             [
              0.0,
              "#0d0887"
             ],
             [
              0.1111111111111111,
              "#46039f"
             ],
             [
              0.2222222222222222,
              "#7201a8"
             ],
             [
              0.3333333333333333,
              "#9c179e"
             ],
             [
              0.4444444444444444,
              "#bd3786"
             ],
             [
              0.5555555555555556,
              "#d8576b"
             ],
             [
              0.6666666666666666,
              "#ed7953"
             ],
             [
              0.7777777777777778,
              "#fb9f3a"
             ],
             [
              0.8888888888888888,
              "#fdca26"
             ],
             [
              1.0,
              "#f0f921"
             ]
            ]
           }
          ],
          "choropleth": [
           {
            "type": "choropleth",
            "colorbar": {
             "outlinewidth": 0,
             "ticks": ""
            }
           }
          ],
          "histogram2d": [
           {
            "type": "histogram2d",
            "colorbar": {
             "outlinewidth": 0,
             "ticks": ""
            },
            "colorscale": [
             [
              0.0,
              "#0d0887"
             ],
             [
              0.1111111111111111,
              "#46039f"
             ],
             [
              0.2222222222222222,
              "#7201a8"
             ],
             [
              0.3333333333333333,
              "#9c179e"
             ],
             [
              0.4444444444444444,
              "#bd3786"
             ],
             [
              0.5555555555555556,
              "#d8576b"
             ],
             [
              0.6666666666666666,
              "#ed7953"
             ],
             [
              0.7777777777777778,
              "#fb9f3a"
             ],
             [
              0.8888888888888888,
              "#fdca26"
             ],
             [
              1.0,
              "#f0f921"
             ]
            ]
           }
          ],
          "heatmap": [
           {
            "type": "heatmap",
            "colorbar": {
             "outlinewidth": 0,
             "ticks": ""
            },
            "colorscale": [
             [
              0.0,
              "#0d0887"
             ],
             [
              0.1111111111111111,
              "#46039f"
             ],
             [
              0.2222222222222222,
              "#7201a8"
             ],
             [
              0.3333333333333333,
              "#9c179e"
             ],
             [
              0.4444444444444444,
              "#bd3786"
             ],
             [
              0.5555555555555556,
              "#d8576b"
             ],
             [
              0.6666666666666666,
              "#ed7953"
             ],
             [
              0.7777777777777778,
              "#fb9f3a"
             ],
             [
              0.8888888888888888,
              "#fdca26"
             ],
             [
              1.0,
              "#f0f921"
             ]
            ]
           }
          ],
          "heatmapgl": [
           {
            "type": "heatmapgl",
            "colorbar": {
             "outlinewidth": 0,
             "ticks": ""
            },
            "colorscale": [
             [
              0.0,
              "#0d0887"
             ],
             [
              0.1111111111111111,
              "#46039f"
             ],
             [
              0.2222222222222222,
              "#7201a8"
             ],
             [
              0.3333333333333333,
              "#9c179e"
             ],
             [
              0.4444444444444444,
              "#bd3786"
             ],
             [
              0.5555555555555556,
              "#d8576b"
             ],
             [
              0.6666666666666666,
              "#ed7953"
             ],
             [
              0.7777777777777778,
              "#fb9f3a"
             ],
             [
              0.8888888888888888,
              "#fdca26"
             ],
             [
              1.0,
              "#f0f921"
             ]
            ]
           }
          ],
          "contourcarpet": [
           {
            "type": "contourcarpet",
            "colorbar": {
             "outlinewidth": 0,
             "ticks": ""
            }
           }
          ],
          "contour": [
           {
            "type": "contour",
            "colorbar": {
             "outlinewidth": 0,
             "ticks": ""
            },
            "colorscale": [
             [
              0.0,
              "#0d0887"
             ],
             [
              0.1111111111111111,
              "#46039f"
             ],
             [
              0.2222222222222222,
              "#7201a8"
             ],
             [
              0.3333333333333333,
              "#9c179e"
             ],
             [
              0.4444444444444444,
              "#bd3786"
             ],
             [
              0.5555555555555556,
              "#d8576b"
             ],
             [
              0.6666666666666666,
              "#ed7953"
             ],
             [
              0.7777777777777778,
              "#fb9f3a"
             ],
             [
              0.8888888888888888,
              "#fdca26"
             ],
             [
              1.0,
              "#f0f921"
             ]
            ]
           }
          ],
          "surface": [
           {
            "type": "surface",
            "colorbar": {
             "outlinewidth": 0,
             "ticks": ""
            },
            "colorscale": [
             [
              0.0,
              "#0d0887"
             ],
             [
              0.1111111111111111,
              "#46039f"
             ],
             [
              0.2222222222222222,
              "#7201a8"
             ],
             [
              0.3333333333333333,
              "#9c179e"
             ],
             [
              0.4444444444444444,
              "#bd3786"
             ],
             [
              0.5555555555555556,
              "#d8576b"
             ],
             [
              0.6666666666666666,
              "#ed7953"
             ],
             [
              0.7777777777777778,
              "#fb9f3a"
             ],
             [
              0.8888888888888888,
              "#fdca26"
             ],
             [
              1.0,
              "#f0f921"
             ]
            ]
           }
          ],
          "mesh3d": [
           {
            "type": "mesh3d",
            "colorbar": {
             "outlinewidth": 0,
             "ticks": ""
            }
           }
          ],
          "scatter": [
           {
            "fillpattern": {
             "fillmode": "overlay",
             "size": 10,
             "solidity": 0.2
            },
            "type": "scatter"
           }
          ],
          "parcoords": [
           {
            "type": "parcoords",
            "line": {
             "colorbar": {
              "outlinewidth": 0,
              "ticks": ""
             }
            }
           }
          ],
          "scatterpolargl": [
           {
            "type": "scatterpolargl",
            "marker": {
             "colorbar": {
              "outlinewidth": 0,
              "ticks": ""
             }
            }
           }
          ],
          "bar": [
           {
            "error_x": {
             "color": "#2a3f5f"
            },
            "error_y": {
             "color": "#2a3f5f"
            },
            "marker": {
             "line": {
              "color": "#E5ECF6",
              "width": 0.5
             },
             "pattern": {
              "fillmode": "overlay",
              "size": 10,
              "solidity": 0.2
             }
            },
            "type": "bar"
           }
          ],
          "scattergeo": [
           {
            "type": "scattergeo",
            "marker": {
             "colorbar": {
              "outlinewidth": 0,
              "ticks": ""
             }
            }
           }
          ],
          "scatterpolar": [
           {
            "type": "scatterpolar",
            "marker": {
             "colorbar": {
              "outlinewidth": 0,
              "ticks": ""
             }
            }
           }
          ],
          "histogram": [
           {
            "marker": {
             "pattern": {
              "fillmode": "overlay",
              "size": 10,
              "solidity": 0.2
             }
            },
            "type": "histogram"
           }
          ],
          "scattergl": [
           {
            "type": "scattergl",
            "marker": {
             "colorbar": {
              "outlinewidth": 0,
              "ticks": ""
             }
            }
           }
          ],
          "scatter3d": [
           {
            "type": "scatter3d",
            "line": {
             "colorbar": {
              "outlinewidth": 0,
              "ticks": ""
             }
            },
            "marker": {
             "colorbar": {
              "outlinewidth": 0,
              "ticks": ""
             }
            }
           }
          ],
          "scattermapbox": [
           {
            "type": "scattermapbox",
            "marker": {
             "colorbar": {
              "outlinewidth": 0,
              "ticks": ""
             }
            }
           }
          ],
          "scatterternary": [
           {
            "type": "scatterternary",
            "marker": {
             "colorbar": {
              "outlinewidth": 0,
              "ticks": ""
             }
            }
           }
          ],
          "scattercarpet": [
           {
            "type": "scattercarpet",
            "marker": {
             "colorbar": {
              "outlinewidth": 0,
              "ticks": ""
             }
            }
           }
          ],
          "carpet": [
           {
            "aaxis": {
             "endlinecolor": "#2a3f5f",
             "gridcolor": "white",
             "linecolor": "white",
             "minorgridcolor": "white",
             "startlinecolor": "#2a3f5f"
            },
            "baxis": {
             "endlinecolor": "#2a3f5f",
             "gridcolor": "white",
             "linecolor": "white",
             "minorgridcolor": "white",
             "startlinecolor": "#2a3f5f"
            },
            "type": "carpet"
           }
          ],
          "table": [
           {
            "cells": {
             "fill": {
              "color": "#EBF0F8"
             },
             "line": {
              "color": "white"
             }
            },
            "header": {
             "fill": {
              "color": "#C8D4E3"
             },
             "line": {
              "color": "white"
             }
            },
            "type": "table"
           }
          ],
          "barpolar": [
           {
            "marker": {
             "line": {
              "color": "#E5ECF6",
              "width": 0.5
             },
             "pattern": {
              "fillmode": "overlay",
              "size": 10,
              "solidity": 0.2
             }
            },
            "type": "barpolar"
           }
          ],
          "pie": [
           {
            "automargin": true,
            "type": "pie"
           }
          ]
         },
         "layout": {
          "autotypenumbers": "strict",
          "colorway": [
           "#636efa",
           "#EF553B",
           "#00cc96",
           "#ab63fa",
           "#FFA15A",
           "#19d3f3",
           "#FF6692",
           "#B6E880",
           "#FF97FF",
           "#FECB52"
          ],
          "font": {
           "color": "#2a3f5f"
          },
          "hovermode": "closest",
          "hoverlabel": {
           "align": "left"
          },
          "paper_bgcolor": "white",
          "plot_bgcolor": "#E5ECF6",
          "polar": {
           "bgcolor": "#E5ECF6",
           "angularaxis": {
            "gridcolor": "white",
            "linecolor": "white",
            "ticks": ""
           },
           "radialaxis": {
            "gridcolor": "white",
            "linecolor": "white",
            "ticks": ""
           }
          },
          "ternary": {
           "bgcolor": "#E5ECF6",
           "aaxis": {
            "gridcolor": "white",
            "linecolor": "white",
            "ticks": ""
           },
           "baxis": {
            "gridcolor": "white",
            "linecolor": "white",
            "ticks": ""
           },
           "caxis": {
            "gridcolor": "white",
            "linecolor": "white",
            "ticks": ""
           }
          },
          "coloraxis": {
           "colorbar": {
            "outlinewidth": 0,
            "ticks": ""
           }
          },
          "colorscale": {
           "sequential": [
            [
             0.0,
             "#0d0887"
            ],
            [
             0.1111111111111111,
             "#46039f"
            ],
            [
             0.2222222222222222,
             "#7201a8"
            ],
            [
             0.3333333333333333,
             "#9c179e"
            ],
            [
             0.4444444444444444,
             "#bd3786"
            ],
            [
             0.5555555555555556,
             "#d8576b"
            ],
            [
             0.6666666666666666,
             "#ed7953"
            ],
            [
             0.7777777777777778,
             "#fb9f3a"
            ],
            [
             0.8888888888888888,
             "#fdca26"
            ],
            [
             1.0,
             "#f0f921"
            ]
           ],
           "sequentialminus": [
            [
             0.0,
             "#0d0887"
            ],
            [
             0.1111111111111111,
             "#46039f"
            ],
            [
             0.2222222222222222,
             "#7201a8"
            ],
            [
             0.3333333333333333,
             "#9c179e"
            ],
            [
             0.4444444444444444,
             "#bd3786"
            ],
            [
             0.5555555555555556,
             "#d8576b"
            ],
            [
             0.6666666666666666,
             "#ed7953"
            ],
            [
             0.7777777777777778,
             "#fb9f3a"
            ],
            [
             0.8888888888888888,
             "#fdca26"
            ],
            [
             1.0,
             "#f0f921"
            ]
           ],
           "diverging": [
            [
             0,
             "#8e0152"
            ],
            [
             0.1,
             "#c51b7d"
            ],
            [
             0.2,
             "#de77ae"
            ],
            [
             0.3,
             "#f1b6da"
            ],
            [
             0.4,
             "#fde0ef"
            ],
            [
             0.5,
             "#f7f7f7"
            ],
            [
             0.6,
             "#e6f5d0"
            ],
            [
             0.7,
             "#b8e186"
            ],
            [
             0.8,
             "#7fbc41"
            ],
            [
             0.9,
             "#4d9221"
            ],
            [
             1,
             "#276419"
            ]
           ]
          },
          "xaxis": {
           "gridcolor": "white",
           "linecolor": "white",
           "ticks": "",
           "title": {
            "standoff": 15
           },
           "zerolinecolor": "white",
           "automargin": true,
           "zerolinewidth": 2
          },
          "yaxis": {
           "gridcolor": "white",
           "linecolor": "white",
           "ticks": "",
           "title": {
            "standoff": 15
           },
           "zerolinecolor": "white",
           "automargin": true,
           "zerolinewidth": 2
          },
          "scene": {
           "xaxis": {
            "backgroundcolor": "#E5ECF6",
            "gridcolor": "white",
            "linecolor": "white",
            "showbackground": true,
            "ticks": "",
            "zerolinecolor": "white",
            "gridwidth": 2
           },
           "yaxis": {
            "backgroundcolor": "#E5ECF6",
            "gridcolor": "white",
            "linecolor": "white",
            "showbackground": true,
            "ticks": "",
            "zerolinecolor": "white",
            "gridwidth": 2
           },
           "zaxis": {
            "backgroundcolor": "#E5ECF6",
            "gridcolor": "white",
            "linecolor": "white",
            "showbackground": true,
            "ticks": "",
            "zerolinecolor": "white",
            "gridwidth": 2
           }
          },
          "shapedefaults": {
           "line": {
            "color": "#2a3f5f"
           }
          },
          "annotationdefaults": {
           "arrowcolor": "#2a3f5f",
           "arrowhead": 0,
           "arrowwidth": 1
          },
          "geo": {
           "bgcolor": "white",
           "landcolor": "#E5ECF6",
           "subunitcolor": "white",
           "showland": true,
           "showlakes": true,
           "lakecolor": "white"
          },
          "title": {
           "x": 0.05
          },
          "mapbox": {
           "style": "light"
          }
         }
        },
        "legend": {
         "orientation": "h",
         "yanchor": "bottom",
         "y": 1.02,
         "xanchor": "center",
         "x": 0.5
        },
        "xaxis": {
         "title": {
          "text": "Algorithm"
         }
        },
        "yaxis": {
         "title": {
          "text": "Fitness"
         }
        },
        "showlegend": true,
        "width": 1600,
        "height": 450
       },
       "config": {
        "plotlyServerURL": "https://plot.ly"
       }
      },
      "text/html": "<div>                            <div id=\"eda30e73-2b68-4765-b0f3-e2e00c1397ad\" class=\"plotly-graph-div\" style=\"height:450px; width:1600px;\"></div>            <script type=\"text/javascript\">                require([\"plotly\"], function(Plotly) {                    window.PLOTLYENV=window.PLOTLYENV || {};                                    if (document.getElementById(\"eda30e73-2b68-4765-b0f3-e2e00c1397ad\")) {                    Plotly.newPlot(                        \"eda30e73-2b68-4765-b0f3-e2e00c1397ad\",                        [{\"name\":\"PSO\",\"y\":[1523,1360,2208,3826,1233,1697,2227,1679,1693,1430,1709,3482,1757,1100,2366,2040,2825,2289,1622,541,2775,1586,205,2200,3219,2824,1786,1095,2324,1472,2355,2148,1096,2238,1334,2457,2272,2380,1321,1394,3186,1380,2273,1728,889,2479,870,2015,2073,3000,884,1109,1122,2701,2613,1727,1325,1617,3770,1324,2199,1579,881,3155,1814,1491,1840,541,1824,1191,1338,1301,2009,1976,1470,1406,2595,1175,793,823,1098,2263,1548,1512,1361,1830,2333,2626,1708,1923,3429,2186,1442,2607,1401,1122,1415,2531,1279,879,1186,1933,1615,1929,1679,885,1183,1334,1053,1547,2397,1295,3488,1784,2182,2469,3361,2106,1836,1095,1661,1942,2804,1592,1914,1226,3601,3113,2711,1954,1095,902,1290,885,1897,1553,1348,1096,1093,202,1865,1760,1509,1829,2258,2264,1269,1305,1035,1739,2223,1541,1869,1568,2208,1363,1222,1059,887,1108,1096,1620,2248,1675,1903,1699,1500,1097,1488,1887,1584,2509,888,1785,783,1628,1565,2283,541,1616,2058,1543,1908,2918,1092,1070,2321,1206,1378,1521,1092,2480,885,1702,1464,2410,790,2155,1456,1588,1843,1639,1955,1101,1645,890,891,1067,2320,765,1911,2121,1093,2803,878,1868,2335,3860,887,1608,2313,2224,1682,1219,1691,1929,866,1530,1943,1832,2038,1401,1914,886,1776,1645,1617,903,1169,1101,1098,2693,1095,1634,868,2751,1093,1125,1452,880,541,1766,2638,3683,866,3797,883,877,1416,1995,2267,2500,820,2408],\"type\":\"box\"},{\"name\":\"GA\",\"y\":[1559,2756,1826,1623,2169,791,1572,324,2501,1727,2128,1305,1730,1600,1734,1938,2196,880,2375,3061,1092,3128,1879,1721,2647,1486,1568,1446,779,1568,3640,1951,1854,875,1282,1344,2575,1910,2146,1853,2019,2612,2970,894,1251,1702,3051,1616,1800,1716,882,1471,1228,1423,2972,2556,1726,778,1627,1093,2926,1239,2097,2050,1655,1474,1486,1098,1235,1294,1322,3430,2477,2230,1628,2135,925,2294,2324,541,1864,2991,1153,2030,2349,1095,2268,3036,2165,1672,1999,2313,1189,3189,1692,2089,1935,887,231,2071,751,1686,1818,2321,1715,2035,1916,1657,1699,1634,1375,1289,3602,2026,2536,1646,1550,2695,3966,1375,1095,2682,541,1403,2038,1910,1453,1782,2212,1495,3386,1817,1476,3816,2099,1393,1696,3453,1450,2184,1003,2384,1977,3492,1581,1807,887,2498,2210,1736,1362,1520,1798,2414,1112,1767,2773,1084,2000,1392,1550,2512,3184,2118,2197,1757,884,1094,2618,1133,1097,2584,1219,205,1820,1079,1336,2551,1823,1374,2082,2161,1398,1544,3199,1805,1737,1802,1096,963,3225,1092,1096,232,2072,1248,2930,1526,2588,1098,2499,1355,1726,2018,2108,2851,2492,2777,2442,2408,2645,882,1489,2451,1532,1760,2009,1637,1668,2396,1881,890,1456,1495,881,875,882,1875,1338,2456,791,887,1539,1416,2190,1437,2633,1095,1244,1821,2336,1332,3371,1484,1560,2392,2046,1569,1322,1106,1723,1896],\"type\":\"box\"},{\"name\":\"FA\",\"y\":[1310,1892,1815,3387,1108,1595,2237,1399,798,1505,872,880,996,2115,1944,3290,1118,1987,3527,2745,1098,1581,1098,1960,1663,2234,1914,1479,3958,2092,2152,1716,1884,324,1450,1232,1741,1581,1560,1981,1672,1127,1097,1508,2829,1752,1228,2331,2253,1993,1596,882,1308,884,1168,2329,2162,1116,1541,1407,1576,1828,1442,885,1798,1678,1637,1524,2410,1257,1329,1134,1096,2030,2791,1099,1363,1367,846,2353,767,1861,2574,1853,1656,2472,2583,1094,1341,1081,783,1724,1474,1334,1389,1429,1497,2358,2567,1683,2155,882,1621,871,1194,1620,1933,873,2329,1715,817,2554,883,1184,1575,1363,1344,2150,2262,2553,1341,880,2485,2505,1241,1797,1520,2476,1463,1307,1901,1365,1356,1361,1818,2525,1745,1717,1109,1469,2327,2157,2132,881,2019,2024,2036,1245,1488,1249,1229,2715,1801,1601,1659,765,1100,1943,1326,2798,2405,877,1702,2751,1811,1480,1682,2760,875,2179,1799,1466,1538,1587,202,1439,1549,2127,1487,1622,1357,1522,2765,1419,1928,2243,2245,2166,875,1731,1312,872,2086,1958,1345,881,1157,1559,2071,1094,2692,324,2778,1732,1818,1368,1264,2736,2334,1526,882,1517,1795,1879,2022,1515,1839,1098,2055,1098,1920,3988,2663,892,1619,1094,2200,2705,2450,1887,1094,1924,1167,1208,2688,1728,1319,1107,1640,2369,2855,1428,1640,1284,1095,1807,1879,2234,1984,1096,3109,2986,1261,1942,1841],\"type\":\"box\"},{\"name\":\"DE\",\"y\":[1635,1425,1549,2144,2238,1765,2030,1345,1494,1565,1980,876,1379,1761,2446,3024,541,885,1445,1896,1581,890,2080,1374,1590,2551,3263,1595,1682,2002,1609,1815,2048,1564,1241,1201,1095,1627,2250,2364,1517,2765,1092,1687,1337,1886,2527,1922,2194,879,1549,2717,2216,1742,1645,1129,1307,1900,882,1577,1692,2194,1723,2457,1096,1352,1726,2851,3009,1402,1306,1713,1285,2488,1788,1576,1151,1593,2359,1097,3586,1786,2200,2000,2029,1796,2195,2229,2124,1969,2657,2264,1561,1872,1556,1764,1318,884,2598,1899,2036,1697,2282,324,1090,1257,2148,1677,1377,1804,1750,324,1981,1329,1131,1600,2744,1733,1096,1830,2488,1309,1313,1318,1946,2497,1524,1689,1152,3376,1090,880,1362,1706,1167,867,1192,1105,1097,1653,1411,1767,1504,2404,2239,3304,1952,1920,1411,2903,3974,1195,1612,2612,1100,1096,1558,541,2429,2205,1339,1110,1903,2078,1171,873,1586,1428,1873,2543,1664,1892,3181,3529,1094,2362,2110,3362,2848,1372,1546,1430,1790,2541,1193,1209,2347,324,1397,1622,889,2799,541,541,1640,2131,1484,886,2372,1096,1363,1434,2014,768,2232,2342,848,1791,1862,2151,1984,848,869,2624,1570,1613,1372,884,891,2182,1366,3419,872,1320,1511,2487,2051,1834,1696,2991,1592,1953,1491,2293,1686,2249,1611,792,3806,324,2618,2151,871,1893,2162,784,1703,2797,1745,1097,2840,1245,3025,2644,777,2363,1351,1683,1802,2889,2486,1473,2729,1783,1097,1261,787,1911,1877,1473,1734],\"type\":\"box\"},{\"name\":\"SADE\",\"y\":[1586,2377,3167,1661,870,2048,1097,1738,2165,1672,1097,1030,1095,1332,2428,2550,2053,1321,2286,796,3345,1560,1109,2145,2517,2610,1988,2138,2203,1535,1438,1096,1261,1094,1530,1555,1298,2438,1649,2845,2187,1735,2349,541,3722,1520,2880,1675,1057,1667,854,232,2455,1540,847,1373,1484,3620,1932,1185,2627,1992,1567,1777,917,1097,2498,1510,1595,1496,1089,2389,2880,1094,2230,1612,1755,1854,1059,2573,1737,2352,1457,1658,1285,1980,1497,1279,1620,2503,3787,2341,1617,1096,888,2955,2682,2185,1452,1329,1405,2070,2322,1424,1753,3645,1358,897,1510,1891,806,1526,1536,767,1118,1765,1226,1602,762,1303,2876,1770,1797,2020,2192,1709,2223,1732,3017,2573,1734,2189,758,1415,1127,1064,834,1424,757,1481,881,1149,1781,1933,1409,1331,887,1361,1997,1976,1604,786,2215,1130,2728,1100,1832,1641,1098,1767,2431,1654,1663,2716,3171,1775,3184,3802,2094,1873,1652,1985,2215,1669,1586,1097,1180,1801,1621,1946,1799,1924,864,2350,2091,1690,1530,1789,2111,3865,1942,1382,1097,324,2100,879,1094,2159,1097,1885,2013,2690,1433,879,1517,2156,1291,1748,1703,1527,2332,1092,1414,2042,1370,1671,1590,2337,785,1504,1910,1501,1647,1891,2730,1865,1799,1929,1093,879,1602,1199,1849,994,2621,1113,1600,1551,880,1604,841,2863,1097,1167,1726,1799,1393,1681,1677,2097,1625,1629,2174,1750,1711,1553,1342,1995,1182,1560,1097,1820,876,1132,992,2333,2406,1754,2232,1612,3926,3044,1463,879,3353,2348,1754,2086,2357,1555,1649,2269,881,2077,2156,3551,1675,2206,1692,1376,1849,1875,1364,1484,1353,2137,1423,2247,1517,1577,1721,1938,1076,1607,1179,1614,1559,2725,1202,2068,1642,1469,1098,541,892,324,1818,3572,773,1559,2549,1216,1631,1455,1088,884,1243,1945],\"type\":\"box\"}],                        {\"template\":{\"data\":{\"histogram2dcontour\":[{\"type\":\"histogram2dcontour\",\"colorbar\":{\"outlinewidth\":0,\"ticks\":\"\"},\"colorscale\":[[0.0,\"#0d0887\"],[0.1111111111111111,\"#46039f\"],[0.2222222222222222,\"#7201a8\"],[0.3333333333333333,\"#9c179e\"],[0.4444444444444444,\"#bd3786\"],[0.5555555555555556,\"#d8576b\"],[0.6666666666666666,\"#ed7953\"],[0.7777777777777778,\"#fb9f3a\"],[0.8888888888888888,\"#fdca26\"],[1.0,\"#f0f921\"]]}],\"choropleth\":[{\"type\":\"choropleth\",\"colorbar\":{\"outlinewidth\":0,\"ticks\":\"\"}}],\"histogram2d\":[{\"type\":\"histogram2d\",\"colorbar\":{\"outlinewidth\":0,\"ticks\":\"\"},\"colorscale\":[[0.0,\"#0d0887\"],[0.1111111111111111,\"#46039f\"],[0.2222222222222222,\"#7201a8\"],[0.3333333333333333,\"#9c179e\"],[0.4444444444444444,\"#bd3786\"],[0.5555555555555556,\"#d8576b\"],[0.6666666666666666,\"#ed7953\"],[0.7777777777777778,\"#fb9f3a\"],[0.8888888888888888,\"#fdca26\"],[1.0,\"#f0f921\"]]}],\"heatmap\":[{\"type\":\"heatmap\",\"colorbar\":{\"outlinewidth\":0,\"ticks\":\"\"},\"colorscale\":[[0.0,\"#0d0887\"],[0.1111111111111111,\"#46039f\"],[0.2222222222222222,\"#7201a8\"],[0.3333333333333333,\"#9c179e\"],[0.4444444444444444,\"#bd3786\"],[0.5555555555555556,\"#d8576b\"],[0.6666666666666666,\"#ed7953\"],[0.7777777777777778,\"#fb9f3a\"],[0.8888888888888888,\"#fdca26\"],[1.0,\"#f0f921\"]]}],\"heatmapgl\":[{\"type\":\"heatmapgl\",\"colorbar\":{\"outlinewidth\":0,\"ticks\":\"\"},\"colorscale\":[[0.0,\"#0d0887\"],[0.1111111111111111,\"#46039f\"],[0.2222222222222222,\"#7201a8\"],[0.3333333333333333,\"#9c179e\"],[0.4444444444444444,\"#bd3786\"],[0.5555555555555556,\"#d8576b\"],[0.6666666666666666,\"#ed7953\"],[0.7777777777777778,\"#fb9f3a\"],[0.8888888888888888,\"#fdca26\"],[1.0,\"#f0f921\"]]}],\"contourcarpet\":[{\"type\":\"contourcarpet\",\"colorbar\":{\"outlinewidth\":0,\"ticks\":\"\"}}],\"contour\":[{\"type\":\"contour\",\"colorbar\":{\"outlinewidth\":0,\"ticks\":\"\"},\"colorscale\":[[0.0,\"#0d0887\"],[0.1111111111111111,\"#46039f\"],[0.2222222222222222,\"#7201a8\"],[0.3333333333333333,\"#9c179e\"],[0.4444444444444444,\"#bd3786\"],[0.5555555555555556,\"#d8576b\"],[0.6666666666666666,\"#ed7953\"],[0.7777777777777778,\"#fb9f3a\"],[0.8888888888888888,\"#fdca26\"],[1.0,\"#f0f921\"]]}],\"surface\":[{\"type\":\"surface\",\"colorbar\":{\"outlinewidth\":0,\"ticks\":\"\"},\"colorscale\":[[0.0,\"#0d0887\"],[0.1111111111111111,\"#46039f\"],[0.2222222222222222,\"#7201a8\"],[0.3333333333333333,\"#9c179e\"],[0.4444444444444444,\"#bd3786\"],[0.5555555555555556,\"#d8576b\"],[0.6666666666666666,\"#ed7953\"],[0.7777777777777778,\"#fb9f3a\"],[0.8888888888888888,\"#fdca26\"],[1.0,\"#f0f921\"]]}],\"mesh3d\":[{\"type\":\"mesh3d\",\"colorbar\":{\"outlinewidth\":0,\"ticks\":\"\"}}],\"scatter\":[{\"fillpattern\":{\"fillmode\":\"overlay\",\"size\":10,\"solidity\":0.2},\"type\":\"scatter\"}],\"parcoords\":[{\"type\":\"parcoords\",\"line\":{\"colorbar\":{\"outlinewidth\":0,\"ticks\":\"\"}}}],\"scatterpolargl\":[{\"type\":\"scatterpolargl\",\"marker\":{\"colorbar\":{\"outlinewidth\":0,\"ticks\":\"\"}}}],\"bar\":[{\"error_x\":{\"color\":\"#2a3f5f\"},\"error_y\":{\"color\":\"#2a3f5f\"},\"marker\":{\"line\":{\"color\":\"#E5ECF6\",\"width\":0.5},\"pattern\":{\"fillmode\":\"overlay\",\"size\":10,\"solidity\":0.2}},\"type\":\"bar\"}],\"scattergeo\":[{\"type\":\"scattergeo\",\"marker\":{\"colorbar\":{\"outlinewidth\":0,\"ticks\":\"\"}}}],\"scatterpolar\":[{\"type\":\"scatterpolar\",\"marker\":{\"colorbar\":{\"outlinewidth\":0,\"ticks\":\"\"}}}],\"histogram\":[{\"marker\":{\"pattern\":{\"fillmode\":\"overlay\",\"size\":10,\"solidity\":0.2}},\"type\":\"histogram\"}],\"scattergl\":[{\"type\":\"scattergl\",\"marker\":{\"colorbar\":{\"outlinewidth\":0,\"ticks\":\"\"}}}],\"scatter3d\":[{\"type\":\"scatter3d\",\"line\":{\"colorbar\":{\"outlinewidth\":0,\"ticks\":\"\"}},\"marker\":{\"colorbar\":{\"outlinewidth\":0,\"ticks\":\"\"}}}],\"scattermapbox\":[{\"type\":\"scattermapbox\",\"marker\":{\"colorbar\":{\"outlinewidth\":0,\"ticks\":\"\"}}}],\"scatterternary\":[{\"type\":\"scatterternary\",\"marker\":{\"colorbar\":{\"outlinewidth\":0,\"ticks\":\"\"}}}],\"scattercarpet\":[{\"type\":\"scattercarpet\",\"marker\":{\"colorbar\":{\"outlinewidth\":0,\"ticks\":\"\"}}}],\"carpet\":[{\"aaxis\":{\"endlinecolor\":\"#2a3f5f\",\"gridcolor\":\"white\",\"linecolor\":\"white\",\"minorgridcolor\":\"white\",\"startlinecolor\":\"#2a3f5f\"},\"baxis\":{\"endlinecolor\":\"#2a3f5f\",\"gridcolor\":\"white\",\"linecolor\":\"white\",\"minorgridcolor\":\"white\",\"startlinecolor\":\"#2a3f5f\"},\"type\":\"carpet\"}],\"table\":[{\"cells\":{\"fill\":{\"color\":\"#EBF0F8\"},\"line\":{\"color\":\"white\"}},\"header\":{\"fill\":{\"color\":\"#C8D4E3\"},\"line\":{\"color\":\"white\"}},\"type\":\"table\"}],\"barpolar\":[{\"marker\":{\"line\":{\"color\":\"#E5ECF6\",\"width\":0.5},\"pattern\":{\"fillmode\":\"overlay\",\"size\":10,\"solidity\":0.2}},\"type\":\"barpolar\"}],\"pie\":[{\"automargin\":true,\"type\":\"pie\"}]},\"layout\":{\"autotypenumbers\":\"strict\",\"colorway\":[\"#636efa\",\"#EF553B\",\"#00cc96\",\"#ab63fa\",\"#FFA15A\",\"#19d3f3\",\"#FF6692\",\"#B6E880\",\"#FF97FF\",\"#FECB52\"],\"font\":{\"color\":\"#2a3f5f\"},\"hovermode\":\"closest\",\"hoverlabel\":{\"align\":\"left\"},\"paper_bgcolor\":\"white\",\"plot_bgcolor\":\"#E5ECF6\",\"polar\":{\"bgcolor\":\"#E5ECF6\",\"angularaxis\":{\"gridcolor\":\"white\",\"linecolor\":\"white\",\"ticks\":\"\"},\"radialaxis\":{\"gridcolor\":\"white\",\"linecolor\":\"white\",\"ticks\":\"\"}},\"ternary\":{\"bgcolor\":\"#E5ECF6\",\"aaxis\":{\"gridcolor\":\"white\",\"linecolor\":\"white\",\"ticks\":\"\"},\"baxis\":{\"gridcolor\":\"white\",\"linecolor\":\"white\",\"ticks\":\"\"},\"caxis\":{\"gridcolor\":\"white\",\"linecolor\":\"white\",\"ticks\":\"\"}},\"coloraxis\":{\"colorbar\":{\"outlinewidth\":0,\"ticks\":\"\"}},\"colorscale\":{\"sequential\":[[0.0,\"#0d0887\"],[0.1111111111111111,\"#46039f\"],[0.2222222222222222,\"#7201a8\"],[0.3333333333333333,\"#9c179e\"],[0.4444444444444444,\"#bd3786\"],[0.5555555555555556,\"#d8576b\"],[0.6666666666666666,\"#ed7953\"],[0.7777777777777778,\"#fb9f3a\"],[0.8888888888888888,\"#fdca26\"],[1.0,\"#f0f921\"]],\"sequentialminus\":[[0.0,\"#0d0887\"],[0.1111111111111111,\"#46039f\"],[0.2222222222222222,\"#7201a8\"],[0.3333333333333333,\"#9c179e\"],[0.4444444444444444,\"#bd3786\"],[0.5555555555555556,\"#d8576b\"],[0.6666666666666666,\"#ed7953\"],[0.7777777777777778,\"#fb9f3a\"],[0.8888888888888888,\"#fdca26\"],[1.0,\"#f0f921\"]],\"diverging\":[[0,\"#8e0152\"],[0.1,\"#c51b7d\"],[0.2,\"#de77ae\"],[0.3,\"#f1b6da\"],[0.4,\"#fde0ef\"],[0.5,\"#f7f7f7\"],[0.6,\"#e6f5d0\"],[0.7,\"#b8e186\"],[0.8,\"#7fbc41\"],[0.9,\"#4d9221\"],[1,\"#276419\"]]},\"xaxis\":{\"gridcolor\":\"white\",\"linecolor\":\"white\",\"ticks\":\"\",\"title\":{\"standoff\":15},\"zerolinecolor\":\"white\",\"automargin\":true,\"zerolinewidth\":2},\"yaxis\":{\"gridcolor\":\"white\",\"linecolor\":\"white\",\"ticks\":\"\",\"title\":{\"standoff\":15},\"zerolinecolor\":\"white\",\"automargin\":true,\"zerolinewidth\":2},\"scene\":{\"xaxis\":{\"backgroundcolor\":\"#E5ECF6\",\"gridcolor\":\"white\",\"linecolor\":\"white\",\"showbackground\":true,\"ticks\":\"\",\"zerolinecolor\":\"white\",\"gridwidth\":2},\"yaxis\":{\"backgroundcolor\":\"#E5ECF6\",\"gridcolor\":\"white\",\"linecolor\":\"white\",\"showbackground\":true,\"ticks\":\"\",\"zerolinecolor\":\"white\",\"gridwidth\":2},\"zaxis\":{\"backgroundcolor\":\"#E5ECF6\",\"gridcolor\":\"white\",\"linecolor\":\"white\",\"showbackground\":true,\"ticks\":\"\",\"zerolinecolor\":\"white\",\"gridwidth\":2}},\"shapedefaults\":{\"line\":{\"color\":\"#2a3f5f\"}},\"annotationdefaults\":{\"arrowcolor\":\"#2a3f5f\",\"arrowhead\":0,\"arrowwidth\":1},\"geo\":{\"bgcolor\":\"white\",\"landcolor\":\"#E5ECF6\",\"subunitcolor\":\"white\",\"showland\":true,\"showlakes\":true,\"lakecolor\":\"white\"},\"title\":{\"x\":0.05},\"mapbox\":{\"style\":\"light\"}}},\"legend\":{\"orientation\":\"h\",\"yanchor\":\"bottom\",\"y\":1.02,\"xanchor\":\"center\",\"x\":0.5},\"xaxis\":{\"title\":{\"text\":\"Algorithm\"}},\"yaxis\":{\"title\":{\"text\":\"Fitness\"}},\"showlegend\":true,\"width\":1600,\"height\":450},                        {\"responsive\": true}                    ).then(function(){\n                            \nvar gd = document.getElementById('eda30e73-2b68-4765-b0f3-e2e00c1397ad');\nvar x = new MutationObserver(function (mutations, observer) {{\n        var display = window.getComputedStyle(gd).display;\n        if (!display || display === 'none') {{\n            console.log([gd, 'removed!']);\n            Plotly.purge(gd);\n            observer.disconnect();\n        }}\n}});\n\n// Listen for the removal of the full notebook cells\nvar notebookContainer = gd.closest('#notebook-container');\nif (notebookContainer) {{\n    x.observe(notebookContainer, {childList: true});\n}}\n\n// Listen for the clearing of the current output cell\nvar outputEl = gd.closest('.output');\nif (outputEl) {{\n    x.observe(outputEl, {childList: true});\n}}\n\n                        })                };                });            </script>        </div>"
     },
     "metadata": {},
     "output_type": "display_data"
    }
   ],
   "source": [
    "import plotly.graph_objects as go\n",
    "fig = go.Figure()\n",
    "\n",
    "# Adding box plots for each unique algorithm in the DataFrame\n",
    "for algorithm in df_solutions['algorithm_name'].unique():\n",
    "    fig.add_trace(go.Box(\n",
    "        y=df_solutions[df_solutions['algorithm_name'] == algorithm]['fitness'],\n",
    "        name=algorithm\n",
    "    ))\n",
    "\n",
    "# Adding plot layout information\n",
    "fig.update_layout(\n",
    "    xaxis_title=\"Algorithm\",\n",
    "    yaxis_title=\"Fitness\",\n",
    "    showlegend=True,\n",
    "    legend=dict(\n",
    "        orientation=\"h\",\n",
    "        yanchor=\"bottom\",\n",
    "        y=1.02,\n",
    "        xanchor=\"center\",\n",
    "        x=0.5\n",
    "        ),\n",
    "    width=1600,\n",
    "    height=450,\n",
    ")\n",
    "\n",
    "fig.show()\n",
    "fig.write_image(\"plot_boxplot.svg\")"
   ],
   "metadata": {
    "collapsed": false,
    "ExecuteTime": {
     "end_time": "2024-05-02T15:34:05.584980500Z",
     "start_time": "2024-05-02T15:34:05.270773200Z"
    }
   },
   "id": "69bb1fbc8973ff55"
  },
  {
   "cell_type": "code",
   "execution_count": 15,
   "outputs": [
    {
     "data": {
      "text/plain": "  Algorithm  min       q1  median       q3   max  upper_fence\n0        DE  324  1318.00  1687.0  2156.50  3974     3414.250\n1        FA  202  1262.50  1621.0  2063.00  3988     3263.750\n2        GA  205  1352.25  1728.5  2210.50  3966     3497.875\n3       PSO  202  1185.25  1631.0  2189.25  3860     3695.250\n4      SADE  232  1289.50  1648.0  2087.25  3926     3283.875",
      "text/html": "<div>\n<style scoped>\n    .dataframe tbody tr th:only-of-type {\n        vertical-align: middle;\n    }\n\n    .dataframe tbody tr th {\n        vertical-align: top;\n    }\n\n    .dataframe thead th {\n        text-align: right;\n    }\n</style>\n<table border=\"1\" class=\"dataframe\">\n  <thead>\n    <tr style=\"text-align: right;\">\n      <th></th>\n      <th>Algorithm</th>\n      <th>min</th>\n      <th>q1</th>\n      <th>median</th>\n      <th>q3</th>\n      <th>max</th>\n      <th>upper_fence</th>\n    </tr>\n  </thead>\n  <tbody>\n    <tr>\n      <th>0</th>\n      <td>DE</td>\n      <td>324</td>\n      <td>1318.00</td>\n      <td>1687.0</td>\n      <td>2156.50</td>\n      <td>3974</td>\n      <td>3414.250</td>\n    </tr>\n    <tr>\n      <th>1</th>\n      <td>FA</td>\n      <td>202</td>\n      <td>1262.50</td>\n      <td>1621.0</td>\n      <td>2063.00</td>\n      <td>3988</td>\n      <td>3263.750</td>\n    </tr>\n    <tr>\n      <th>2</th>\n      <td>GA</td>\n      <td>205</td>\n      <td>1352.25</td>\n      <td>1728.5</td>\n      <td>2210.50</td>\n      <td>3966</td>\n      <td>3497.875</td>\n    </tr>\n    <tr>\n      <th>3</th>\n      <td>PSO</td>\n      <td>202</td>\n      <td>1185.25</td>\n      <td>1631.0</td>\n      <td>2189.25</td>\n      <td>3860</td>\n      <td>3695.250</td>\n    </tr>\n    <tr>\n      <th>4</th>\n      <td>SADE</td>\n      <td>232</td>\n      <td>1289.50</td>\n      <td>1648.0</td>\n      <td>2087.25</td>\n      <td>3926</td>\n      <td>3283.875</td>\n    </tr>\n  </tbody>\n</table>\n</div>"
     },
     "execution_count": 15,
     "metadata": {},
     "output_type": "execute_result"
    }
   ],
   "source": [
    "import numpy as np\n",
    "def boxplot_stats(group):\n",
    "    q1 = np.percentile(group, 25)\n",
    "    q3 = np.percentile(group, 75)\n",
    "    median = np.median(group)\n",
    "    iqr = q3 - q1\n",
    "    upper_fence = q3 + 1.5 * iqr\n",
    "    min_val = np.min(group)\n",
    "    max_val = np.max(group)\n",
    "    \n",
    "    return {\n",
    "        \"min\": min_val,\n",
    "        \"q1\": q1,\n",
    "        \"median\": median,\n",
    "        \"q3\": q3,\n",
    "        \"max\": max_val,\n",
    "        \"upper_fence\": upper_fence\n",
    "    }\n",
    "\n",
    "# Group data by 'algorithm_name' and calculate stats\n",
    "algorithm_stats = {algorithm: boxplot_stats(group['fitness'].values) \n",
    "                   for algorithm, group in df_solutions.groupby('algorithm_name')}\n",
    "\n",
    "# Print the statistics for each algorithm\n",
    "# Creating a DataFrame from the dictionary\n",
    "stats_df = pd.DataFrame.from_dict(algorithm_stats, orient='index')\n",
    "\n",
    "# Optionally, you can reset the index to have the algorithm names as a separate column\n",
    "stats_df.reset_index(inplace=True)\n",
    "stats_df.rename(columns={'index': 'Algorithm'}, inplace=True)\n",
    "stats_df"
   ],
   "metadata": {
    "collapsed": false,
    "ExecuteTime": {
     "end_time": "2024-05-02T15:34:05.700893700Z",
     "start_time": "2024-05-02T15:34:05.515094100Z"
    }
   },
   "id": "1ab69f6605e031f2"
  },
  {
   "cell_type": "markdown",
   "source": [
    "### Fitness value by algorithm over iterations"
   ],
   "metadata": {
    "collapsed": false
   },
   "id": "b127705ea0996954"
  },
  {
   "cell_type": "code",
   "execution_count": 16,
   "id": "ba17685a3295e7c9",
   "metadata": {
    "collapsed": false,
    "ExecuteTime": {
     "end_time": "2024-05-02T15:34:05.844732200Z",
     "start_time": "2024-05-02T15:34:05.683229300Z"
    }
   },
   "outputs": [],
   "source": [
    "# Assuming 'df_algo' is the DataFrame for one algorithm\n",
    "window_size = 24  # Number of iterations to consider for the rolling mean\n",
    "min_periods = 12  # Increase this number to require more points before calculating the mean\n",
    "\n",
    "def calculate_rolling_statistics(df, constant):\n",
    "    \"\"\"\n",
    "    Calculate rolling statistics for the given constant over different algorithms.\n",
    "    \n",
    "    :param df: DataFrame containing the solutions' data.\n",
    "    :param constant: The column name for which to calculate the statistics.\n",
    "    :return: A tuple of lists containing x_values, y_values, algorithms, means, and deviations.\n",
    "    \"\"\"\n",
    "    algorithms = df['algorithm_name'].unique()\n",
    "    x_values, y_values, means, deviations = [], [], [], []\n",
    "\n",
    "    for algorithm in algorithms:\n",
    "        df_algo = df[df['algorithm_name'] == algorithm].copy()\n",
    "        df_algo['timestamp'] = pd.to_datetime(df_algo['timestamp'], format='%H:%M %d-%m-%Y')\n",
    "\n",
    "        df_algo.sort_values(by='timestamp', ascending=True, inplace=True)\n",
    "        df_algo['iteration'] = range(df_algo.shape[0])\n",
    "        \n",
    "        df_algo[f'{constant}_mean'] = df_algo[constant].rolling(window=window_size, min_periods=min_periods).mean()\n",
    "        df_algo[f'{constant}_std'] = df_algo[constant].rolling(window=window_size, min_periods=min_periods).std()\n",
    "\n",
    "        \n",
    "        x_values.append(df_algo['iteration'].to_numpy())\n",
    "        y_values.append(df_algo[constant].to_numpy())\n",
    "        means.append(df_algo[f'{constant}_mean'].to_numpy())\n",
    "        deviations.append(df_algo[f'{constant}_std'].to_numpy())\n",
    "\n",
    "    # Select oonly rows which has iteration lower than 250\n",
    "    x_values = [x[:250] for x in x_values]\n",
    "    y_values = [y[:250] for y in y_values]\n",
    "    return x_values, y_values, algorithms, means, deviations\n"
   ]
  },
  {
   "cell_type": "code",
   "execution_count": 17,
   "id": "a4ae834146d0ceaa",
   "metadata": {
    "collapsed": false,
    "ExecuteTime": {
     "end_time": "2024-05-02T15:34:10.631150500Z",
     "start_time": "2024-05-02T15:34:05.812976Z"
    }
   },
   "outputs": [
    {
     "data": {
      "application/vnd.plotly.v1+json": {
       "data": [
        {
         "mode": "lines",
         "name": "PSO:(Trend: Decreasing)",
         "x": [
          0,
          1,
          2,
          3,
          4,
          5,
          6,
          7,
          8,
          9,
          10,
          11,
          12,
          13,
          14,
          15,
          16,
          17,
          18,
          19,
          20,
          21,
          22,
          23,
          24,
          25,
          26,
          27,
          28,
          29,
          30,
          31,
          32,
          33,
          34,
          35,
          36,
          37,
          38,
          39,
          40,
          41,
          42,
          43,
          44,
          45,
          46,
          47,
          48,
          49,
          50,
          51,
          52,
          53,
          54,
          55,
          56,
          57,
          58,
          59,
          60,
          61,
          62,
          63,
          64,
          65,
          66,
          67,
          68,
          69,
          70,
          71,
          72,
          73,
          74,
          75,
          76,
          77,
          78,
          79,
          80,
          81,
          82,
          83,
          84,
          85,
          86,
          87,
          88,
          89,
          90,
          91,
          92,
          93,
          94,
          95,
          96,
          97,
          98,
          99,
          100,
          101,
          102,
          103,
          104,
          105,
          106,
          107,
          108,
          109,
          110,
          111,
          112,
          113,
          114,
          115,
          116,
          117,
          118,
          119,
          120,
          121,
          122,
          123,
          124,
          125,
          126,
          127,
          128,
          129,
          130,
          131,
          132,
          133,
          134,
          135,
          136,
          137,
          138,
          139,
          140,
          141,
          142,
          143,
          144,
          145,
          146,
          147,
          148,
          149,
          150,
          151,
          152,
          153,
          154,
          155,
          156,
          157,
          158,
          159,
          160,
          161,
          162,
          163,
          164,
          165,
          166,
          167,
          168,
          169,
          170,
          171,
          172,
          173,
          174,
          175,
          176,
          177,
          178,
          179,
          180,
          181,
          182,
          183,
          184,
          185,
          186,
          187,
          188,
          189,
          190,
          191,
          192,
          193,
          194,
          195,
          196,
          197,
          198,
          199,
          200,
          201,
          202,
          203,
          204,
          205,
          206,
          207,
          208,
          209,
          210,
          211,
          212,
          213,
          214,
          215,
          216,
          217,
          218,
          219,
          220,
          221,
          222,
          223,
          224,
          225,
          226,
          227,
          228,
          229,
          230,
          231,
          232,
          233,
          234,
          235,
          236,
          237,
          238,
          239,
          240,
          241,
          242,
          243,
          244,
          245,
          246,
          247,
          248,
          249
         ],
         "y": [
          null,
          null,
          null,
          null,
          null,
          null,
          null,
          null,
          null,
          null,
          null,
          2005.5833333333333,
          1986.4615384615386,
          1923.142857142857,
          1952.6666666666667,
          1958.125,
          2009.1176470588234,
          2024.6666666666667,
          2003.4736842105262,
          1930.35,
          1970.5714285714287,
          1953.090909090909,
          1877.0869565217392,
          1890.5416666666667,
          1961.2083333333333,
          2022.2083333333333,
          2004.625,
          1890.8333333333333,
          1936.2916666666667,
          1926.9166666666667,
          1932.25,
          1951.7916666666667,
          1926.9166666666667,
          1960.5833333333333,
          1944.9583333333333,
          1902.25,
          1923.7083333333333,
          1977.0416666666667,
          1933.5,
          1906.5833333333333,
          1921.625,
          1883.75,
          1910.875,
          1960.3333333333333,
          1881.75,
          1918.9583333333333,
          1946.6666666666667,
          1938.9583333333333,
          1891.2083333333333,
          1898.5416666666667,
          1860.9583333333333,
          1861.5416666666667,
          1811.4583333333333,
          1862.6666666666667,
          1873.4166666666667,
          1855.875,
          1865.4166666666667,
          1839.5416666666667,
          1941.0416666666667,
          1893.8333333333333,
          1890.7916666666667,
          1857.4166666666667,
          1839.0833333333333,
          1912.4583333333333,
          1855.2916666666667,
          1859.9166666666667,
          1841.875,
          1792.4166666666667,
          1831.375,
          1777.7083333333333,
          1797.2083333333333,
          1767.4583333333333,
          1764.7916666666667,
          1722.125,
          1746.5416666666667,
          1758.9166666666667,
          1820.2916666666667,
          1756.7083333333333,
          1680.875,
          1643.2083333333333,
          1682.2916666666667,
          1660.6666666666667,
          1568.0833333333333,
          1575.9166666666667,
          1541.0,
          1551.4583333333333,
          1611.9583333333333,
          1589.9166666666667,
          1585.5,
          1603.5,
          1669.7083333333333,
          1738.25,
          1722.3333333333333,
          1781.3333333333333,
          1783.9583333333333,
          1776.5,
          1751.75,
          1774.875,
          1766.9166666666667,
          1744.9583333333333,
          1686.25,
          1717.8333333333333,
          1752.0833333333333,
          1798.1666666666667,
          1773.8333333333333,
          1764.9583333333333,
          1749.75,
          1742.3333333333333,
          1729.5,
          1717.7083333333333,
          1720.375,
          1664.9166666666667,
          1739.0833333333333,
          1733.2916666666667,
          1681.3333333333333,
          1693.125,
          1773.0833333333333,
          1752.2083333333333,
          1770.3333333333333,
          1769.2083333333333,
          1779.4583333333333,
          1754.9166666666667,
          1818.4583333333333,
          1848.1666666666667,
          1878.5,
          1849.0416666666667,
          1931.7916666666667,
          1981.125,
          2024.125,
          2068.6666666666665,
          2065.0,
          2047.0,
          2056.875,
          2029.2916666666667,
          2008.4583333333333,
          2019.2083333333333,
          1930.0416666666667,
          1901.375,
          1856.0,
          1761.5416666666667,
          1699.2083333333333,
          1684.7916666666667,
          1671.1666666666667,
          1701.75,
          1726.625,
          1740.0416666666667,
          1676.0833333333333,
          1664.125,
          1627.5,
          1648.875,
          1591.4583333333333,
          1525.9583333333333,
          1490.875,
          1474.7916666666667,
          1521.1666666666667,
          1540.375,
          1537.5416666666667,
          1544.7916666666667,
          1502.7083333333333,
          1484.1666666666667,
          1473.6666666666667,
          1495.5,
          1543.625,
          1605.0,
          1606.5833333333333,
          1604.0416666666667,
          1603.6666666666667,
          1573.1666666666667,
          1541.0833333333333,
          1525.375,
          1538.5,
          1588.6666666666667,
          1582.5416666666667,
          1584.4583333333333,
          1524.4583333333333,
          1528.0833333333333,
          1515.4166666666667,
          1545.2083333333333,
          1475.75,
          1486.2916666666667,
          1521.125,
          1541.2916666666667,
          1583.8333333333333,
          1659.25,
          1659.0833333333333,
          1636.1666666666667,
          1639.2083333333333,
          1619.6666666666667,
          1597.7916666666667,
          1590.375,
          1573.375,
          1631.0,
          1605.875,
          1598.1666666666667,
          1593.1666666666667,
          1589.0416666666667,
          1584.9583333333333,
          1600.375,
          1628.4166666666667,
          1626.75,
          1638.3333333333333,
          1611.5,
          1670.4166666666667,
          1648.9583333333333,
          1631.75,
          1604.5416666666667,
          1562.1666666666667,
          1485.0416666666667,
          1536.2083333333333,
          1523.5,
          1506.4166666666667,
          1544.5416666666667,
          1532.6666666666667,
          1586.0833333333333,
          1577.1666666666667,
          1551.6666666666667,
          1612.0833333333333,
          1702.0,
          1677.9583333333333,
          1644.5416666666667,
          1708.0,
          1710.875,
          1720.2916666666667,
          1704.9166666666667,
          1698.5833333333333,
          1710.6666666666667,
          1665.2916666666667,
          1683.1666666666667,
          1695.5833333333333,
          1734.8333333333333,
          1782.625,
          1796.5416666666667,
          1779.625,
          1784.6666666666667,
          1779.0416666666667,
          1759.2083333333333,
          1781.0416666666667,
          1701.875,
          1714.0,
          1682.0416666666667,
          1630.5,
          1581.875,
          1590.5416666666667,
          1591.625,
          1531.4166666666667,
          1553.375,
          1528.8333333333333,
          1524.9166666666667,
          1514.9583333333333,
          1471.25,
          1457.7083333333333,
          1467.5416666666667,
          1496.5,
          1573.625,
          1524.7916666666667,
          1624.625,
          1581.6666666666667,
          1581.2916666666667,
          1566.2916666666667,
          1580.875,
          1607.9583333333333,
          1674.5,
          1659.9583333333333,
          1714.4166666666667
         ],
         "type": "scatter"
        },
        {
         "mode": "lines",
         "name": "GA:(Trend: No change)",
         "x": [
          0,
          1,
          2,
          3,
          4,
          5,
          6,
          7,
          8,
          9,
          10,
          11,
          12,
          13,
          14,
          15,
          16,
          17,
          18,
          19,
          20,
          21,
          22,
          23,
          24,
          25,
          26,
          27,
          28,
          29,
          30,
          31,
          32,
          33,
          34,
          35,
          36,
          37,
          38,
          39,
          40,
          41,
          42,
          43,
          44,
          45,
          46,
          47,
          48,
          49,
          50,
          51,
          52,
          53,
          54,
          55,
          56,
          57,
          58,
          59,
          60,
          61,
          62,
          63,
          64,
          65,
          66,
          67,
          68,
          69,
          70,
          71,
          72,
          73,
          74,
          75,
          76,
          77,
          78,
          79,
          80,
          81,
          82,
          83,
          84,
          85,
          86,
          87,
          88,
          89,
          90,
          91,
          92,
          93,
          94,
          95,
          96,
          97,
          98,
          99,
          100,
          101,
          102,
          103,
          104,
          105,
          106,
          107,
          108,
          109,
          110,
          111,
          112,
          113,
          114,
          115,
          116,
          117,
          118,
          119,
          120,
          121,
          122,
          123,
          124,
          125,
          126,
          127,
          128,
          129,
          130,
          131,
          132,
          133,
          134,
          135,
          136,
          137,
          138,
          139,
          140,
          141,
          142,
          143,
          144,
          145,
          146,
          147,
          148,
          149,
          150,
          151,
          152,
          153,
          154,
          155,
          156,
          157,
          158,
          159,
          160,
          161,
          162,
          163,
          164,
          165,
          166,
          167,
          168,
          169,
          170,
          171,
          172,
          173,
          174,
          175,
          176,
          177,
          178,
          179,
          180,
          181,
          182,
          183,
          184,
          185,
          186,
          187,
          188,
          189,
          190,
          191,
          192,
          193,
          194,
          195,
          196,
          197,
          198,
          199,
          200,
          201,
          202,
          203,
          204,
          205,
          206,
          207,
          208,
          209,
          210,
          211,
          212,
          213,
          214,
          215,
          216,
          217,
          218,
          219,
          220,
          221,
          222,
          223,
          224,
          225,
          226,
          227,
          228,
          229,
          230,
          231,
          232,
          233,
          234,
          235,
          236,
          237,
          238,
          239,
          240,
          241,
          242,
          243,
          244,
          245,
          246,
          247,
          248,
          249
         ],
         "y": [
          null,
          null,
          null,
          null,
          null,
          null,
          null,
          null,
          null,
          null,
          null,
          1690.0833333333333,
          1693.1538461538462,
          1686.5,
          1689.6666666666667,
          1705.1875,
          1734.0588235294117,
          1686.611111111111,
          1722.842105263158,
          1789.75,
          1756.5238095238096,
          1818.8636363636363,
          1821.4782608695652,
          1817.2916666666667,
          1862.625,
          1809.7083333333333,
          1798.9583333333333,
          1791.5833333333333,
          1733.6666666666667,
          1766.0416666666667,
          1852.2083333333333,
          1920.0,
          1893.0416666666667,
          1857.5416666666667,
          1822.2916666666667,
          1823.9166666666667,
          1859.125,
          1872.0416666666667,
          1889.2083333333333,
          1885.6666666666667,
          1878.2916666666667,
          1950.4583333333333,
          1975.25,
          1884.9583333333333,
          1891.5833333333333,
          1832.1666666666667,
          1881.0,
          1876.625,
          1841.3333333333333,
          1850.9166666666667,
          1822.3333333333333,
          1823.375,
          1842.0833333333333,
          1836.0416666666667,
          1808.2083333333333,
          1833.4166666666667,
          1828.0833333333333,
          1824.0416666666667,
          1838.4166666666667,
          1827.9583333333333,
          1842.5833333333333,
          1814.625,
          1812.5833333333333,
          1820.7916666666667,
          1805.625,
          1758.2083333333333,
          1696.375,
          1704.875,
          1704.2083333333333,
          1687.2083333333333,
          1615.1666666666667,
          1690.75,
          1718.9583333333333,
          1740.375,
          1771.4583333333333,
          1799.125,
          1786.5,
          1822.7916666666667,
          1795.7916666666667,
          1711.8333333333333,
          1717.5833333333333,
          1809.7916666666667,
          1790.0416666666667,
          1829.0833333333333,
          1805.0416666666667,
          1799.0416666666667,
          1806.1666666666667,
          1847.25,
          1868.5,
          1876.75,
          1898.125,
          1948.75,
          1946.8333333333333,
          2025.7916666666667,
          2041.2083333333333,
          1985.3333333333333,
          1962.75,
          1906.7916666666667,
          1848.5833333333333,
          1845.9166666666667,
          1838.6666666666667,
          1813.3333333333333,
          1792.25,
          1866.4166666666667,
          1860.2083333333333,
          1820.375,
          1852.1666666666667,
          1836.625,
          1809.5416666666667,
          1832.0,
          1794.7916666666667,
          1722.0,
          1781.875,
          1796.625,
          1819.0,
          1791.2083333333333,
          1806.25,
          1785.6666666666667,
          1880.4166666666667,
          1850.6666666666667,
          1815.6666666666667,
          1890.4583333333333,
          1903.375,
          1875.5416666666667,
          1929.1666666666667,
          1938.5,
          1923.2916666666667,
          1900.8333333333333,
          1921.5416666666667,
          1899.0416666666667,
          1960.2916666666667,
          1966.9583333333333,
          1957.6666666666667,
          2048.5833333333335,
          2078.75,
          2083.0833333333335,
          2003.6666666666667,
          2063.125,
          2017.875,
          2040.2916666666667,
          2017.5,
          2004.5416666666667,
          1921.6666666666667,
          2009.875,
          2030.125,
          1993.6666666666667,
          2008.0833333333333,
          2053.7083333333335,
          2060.875,
          2053.625,
          2049.8333333333335,
          2038.9166666666667,
          2021.6666666666667,
          2059.9583333333335,
          1965.2083333333333,
          1963.125,
          2017.1666666666667,
          1903.3333333333333,
          1899.2083333333333,
          1899.1666666666667,
          1893.0833333333333,
          1853.875,
          1926.125,
          1923.375,
          1973.125,
          1947.0,
          1901.4583333333333,
          1801.5416666666667,
          1844.75,
          1816.6666666666667,
          1825.4166666666667,
          1829.0,
          1787.7083333333333,
          1723.9166666666667,
          1743.0,
          1724.625,
          1705.375,
          1711.0833333333333,
          1740.7083333333333,
          1724.3333333333333,
          1695.5416666666667,
          1740.4166666666667,
          1715.3333333333333,
          1721.6666666666667,
          1790.375,
          1760.9166666666667,
          1700.625,
          1687.4583333333333,
          1641.5833333333333,
          1608.5,
          1706.0416666666667,
          1705.9583333333333,
          1642.5416666666667,
          1605.0,
          1645.625,
          1589.9583333333333,
          1661.25,
          1716.2916666666667,
          1748.2916666666667,
          1749.0833333333333,
          1797.5416666666667,
          1747.7083333333333,
          1743.6666666666667,
          1770.5,
          1771.5833333333333,
          1800.3333333333333,
          1845.9166666666667,
          1897.2916666666667,
          1865.75,
          1890.875,
          1928.7083333333333,
          1890.375,
          1906.75,
          1968.75,
          1898.2083333333333,
          1926.0416666666667,
          1964.0833333333333,
          2022.625,
          2005.7916666666667,
          2053.625,
          2009.9166666666667,
          1983.4166666666667,
          1936.25,
          1952.7916666666667,
          1885.375,
          1865.375,
          1830.2083333333333,
          1824.25,
          1792.1666666666667,
          1775.7083333333333,
          1704.8333333333333,
          1626.0833333333333,
          1588.4583333333333,
          1547.125,
          1528.1666666666667,
          1551.2916666666667,
          1598.9583333333333,
          1542.4583333333333,
          1530.4583333333333,
          1533.0,
          1546.625,
          1533.9166666666667,
          1604.875,
          1566.875,
          1553.5,
          1616.0833333333333,
          1640.6666666666667,
          1643.75,
          1662.125,
          1671.75,
          1706.7916666666667,
          1707.6666666666667
         ],
         "type": "scatter"
        },
        {
         "mode": "lines",
         "name": "FA:(Trend: Increasing)",
         "x": [
          0,
          1,
          2,
          3,
          4,
          5,
          6,
          7,
          8,
          9,
          10,
          11,
          12,
          13,
          14,
          15,
          16,
          17,
          18,
          19,
          20,
          21,
          22,
          23,
          24,
          25,
          26,
          27,
          28,
          29,
          30,
          31,
          32,
          33,
          34,
          35,
          36,
          37,
          38,
          39,
          40,
          41,
          42,
          43,
          44,
          45,
          46,
          47,
          48,
          49,
          50,
          51,
          52,
          53,
          54,
          55,
          56,
          57,
          58,
          59,
          60,
          61,
          62,
          63,
          64,
          65,
          66,
          67,
          68,
          69,
          70,
          71,
          72,
          73,
          74,
          75,
          76,
          77,
          78,
          79,
          80,
          81,
          82,
          83,
          84,
          85,
          86,
          87,
          88,
          89,
          90,
          91,
          92,
          93,
          94,
          95,
          96,
          97,
          98,
          99,
          100,
          101,
          102,
          103,
          104,
          105,
          106,
          107,
          108,
          109,
          110,
          111,
          112,
          113,
          114,
          115,
          116,
          117,
          118,
          119,
          120,
          121,
          122,
          123,
          124,
          125,
          126,
          127,
          128,
          129,
          130,
          131,
          132,
          133,
          134,
          135,
          136,
          137,
          138,
          139,
          140,
          141,
          142,
          143,
          144,
          145,
          146,
          147,
          148,
          149,
          150,
          151,
          152,
          153,
          154,
          155,
          156,
          157,
          158,
          159,
          160,
          161,
          162,
          163,
          164,
          165,
          166,
          167,
          168,
          169,
          170,
          171,
          172,
          173,
          174,
          175,
          176,
          177,
          178,
          179,
          180,
          181,
          182,
          183,
          184,
          185,
          186,
          187,
          188,
          189,
          190,
          191,
          192,
          193,
          194,
          195,
          196,
          197,
          198,
          199,
          200,
          201,
          202,
          203,
          204,
          205,
          206,
          207,
          208,
          209,
          210,
          211,
          212,
          213,
          214,
          215,
          216,
          217,
          218,
          219,
          220,
          221,
          222,
          223,
          224,
          225,
          226,
          227,
          228,
          229,
          230,
          231,
          232,
          233,
          234,
          235,
          236,
          237,
          238,
          239,
          240,
          241,
          242,
          243,
          244,
          245,
          246,
          247,
          248,
          249
         ],
         "y": [
          null,
          null,
          null,
          null,
          null,
          null,
          null,
          null,
          null,
          null,
          null,
          1566.5,
          1522.6153846153845,
          1564.9285714285713,
          1590.2,
          1696.4375,
          1662.4117647058824,
          1680.4444444444443,
          1777.6315789473683,
          1826.0,
          1791.3333333333333,
          1781.7727272727273,
          1752.0434782608695,
          1760.7083333333333,
          1775.4166666666667,
          1789.6666666666667,
          1793.7916666666667,
          1714.2916666666667,
          1833.0416666666667,
          1853.75,
          1850.2083333333333,
          1863.4166666666667,
          1908.6666666666667,
          1859.4583333333333,
          1883.5416666666667,
          1898.2083333333333,
          1929.25,
          1907.0,
          1891.0,
          1836.4583333333333,
          1859.5416666666667,
          1823.7083333333333,
          1722.4583333333333,
          1670.9166666666667,
          1743.0416666666667,
          1750.1666666666667,
          1755.5833333333333,
          1771.0416666666667,
          1795.625,
          1785.5833333333333,
          1772.3333333333333,
          1747.4583333333333,
          1637.0416666666667,
          1586.7083333333333,
          1545.7083333333333,
          1571.25,
          1582.8333333333333,
          1615.8333333333333,
          1619.625,
          1626.9166666666667,
          1620.0416666666667,
          1630.3333333333333,
          1625.4166666666667,
          1579.75,
          1585.0,
          1607.9583333333333,
          1630.4583333333333,
          1631.125,
          1613.6666666666667,
          1593.0416666666667,
          1597.25,
          1547.375,
          1499.1666666666667,
          1500.7083333333333,
          1550.5,
          1559.5416666666667,
          1561.8333333333333,
          1581.9583333333333,
          1568.5416666666667,
          1569.5416666666667,
          1511.4166666666667,
          1542.4583333333333,
          1585.5,
          1604.0833333333333,
          1607.4166666666667,
          1634.25,
          1681.7916666666667,
          1690.5,
          1671.4583333333333,
          1646.5833333333333,
          1611.0,
          1619.3333333333333,
          1580.3333333333333,
          1583.5416666666667,
          1586.0416666666667,
          1598.3333333333333,
          1615.0416666666667,
          1628.7083333333333,
          1619.375,
          1643.7083333333333,
          1676.7083333333333,
          1656.5,
          1688.7916666666667,
          1627.0416666666667,
          1644.8333333333333,
          1634.7916666666667,
          1608.0833333333333,
          1567.25,
          1595.2916666666667,
          1563.75,
          1490.1666666666667,
          1551.0,
          1531.9166666666667,
          1536.2083333333333,
          1569.2083333333333,
          1554.1666666666667,
          1548.75,
          1582.75,
          1619.125,
          1665.9583333333333,
          1659.4583333333333,
          1597.875,
          1594.4583333333333,
          1628.7083333333333,
          1590.625,
          1628.75,
          1624.5416666666667,
          1691.4166666666667,
          1702.625,
          1689.5833333333333,
          1688.25,
          1708.75,
          1668.2083333333333,
          1653.4583333333333,
          1695.1666666666667,
          1693.9583333333333,
          1729.875,
          1752.0833333333333,
          1732.6666666666667,
          1737.0833333333333,
          1778.0416666666667,
          1778.3333333333333,
          1772.9166666666667,
          1703.25,
          1731.5,
          1779.1666666666667,
          1760.4583333333333,
          1707.9583333333333,
          1718.25,
          1695.4166666666667,
          1683.2916666666667,
          1693.25,
          1707.3333333333333,
          1719.5833333333333,
          1709.5,
          1684.5,
          1673.8333333333333,
          1698.0833333333333,
          1677.5833333333333,
          1688.9583333333333,
          1716.4583333333333,
          1681.4583333333333,
          1706.1666666666667,
          1759.5833333333333,
          1738.0833333333333,
          1709.875,
          1691.125,
          1769.4166666666667,
          1721.75,
          1728.2083333333333,
          1718.3333333333333,
          1727.5416666666667,
          1729.625,
          1743.7083333333333,
          1700.9166666666667,
          1647.75,
          1637.25,
          1659.1666666666667,
          1652.0,
          1687.7083333333333,
          1698.4166666666667,
          1680.875,
          1740.8333333333333,
          1683.375,
          1663.5,
          1720.4166666666667,
          1743.0416666666667,
          1718.6666666666667,
          1679.6666666666667,
          1690.125,
          1674.7083333333333,
          1596.0416666666667,
          1646.5,
          1637.2916666666667,
          1618.375,
          1594.0,
          1578.125,
          1576.9583333333333,
          1654.8333333333333,
          1640.4583333333333,
          1688.0833333333333,
          1612.9583333333333,
          1666.75,
          1671.3333333333333,
          1690.5416666666667,
          1684.125,
          1621.5833333333333,
          1676.4583333333333,
          1693.375,
          1663.5,
          1606.7083333333333,
          1579.6666666666667,
          1618.0,
          1624.1666666666667,
          1653.75,
          1680.5416666666667,
          1670.25,
          1634.4166666666667,
          1664.0,
          1673.0416666666667,
          1704.8333333333333,
          1806.0416666666667,
          1830.7083333333333,
          1822.2916666666667,
          1777.5833333333333,
          1809.6666666666667,
          1785.5833333333333,
          1826.125,
          1852.4583333333333,
          1874.0833333333333,
          1867.0,
          1833.1666666666667,
          1784.5416666666667,
          1771.2916666666667,
          1846.5416666666667,
          1855.3333333333333,
          1835.5,
          1803.3333333333333,
          1787.4166666666667,
          1823.0,
          1865.3333333333333,
          1879.0833333333333,
          1861.7916666666667,
          1869.5416666666667,
          1835.1666666666667,
          1744.2916666666667,
          1711.625,
          1767.5416666666667,
          1782.75,
          1782.8333333333333,
          1820.7083333333333,
          1832.4166666666667,
          1782.875,
          1785.1666666666667,
          1816.2916666666667
         ],
         "type": "scatter"
        },
        {
         "mode": "lines",
         "name": "DE:(Trend: Increasing)",
         "x": [
          0,
          1,
          2,
          3,
          4,
          5,
          6,
          7,
          8,
          9,
          10,
          11,
          12,
          13,
          14,
          15,
          16,
          17,
          18,
          19,
          20,
          21,
          22,
          23,
          24,
          25,
          26,
          27,
          28,
          29,
          30,
          31,
          32,
          33,
          34,
          35,
          36,
          37,
          38,
          39,
          40,
          41,
          42,
          43,
          44,
          45,
          46,
          47,
          48,
          49,
          50,
          51,
          52,
          53,
          54,
          55,
          56,
          57,
          58,
          59,
          60,
          61,
          62,
          63,
          64,
          65,
          66,
          67,
          68,
          69,
          70,
          71,
          72,
          73,
          74,
          75,
          76,
          77,
          78,
          79,
          80,
          81,
          82,
          83,
          84,
          85,
          86,
          87,
          88,
          89,
          90,
          91,
          92,
          93,
          94,
          95,
          96,
          97,
          98,
          99,
          100,
          101,
          102,
          103,
          104,
          105,
          106,
          107,
          108,
          109,
          110,
          111,
          112,
          113,
          114,
          115,
          116,
          117,
          118,
          119,
          120,
          121,
          122,
          123,
          124,
          125,
          126,
          127,
          128,
          129,
          130,
          131,
          132,
          133,
          134,
          135,
          136,
          137,
          138,
          139,
          140,
          141,
          142,
          143,
          144,
          145,
          146,
          147,
          148,
          149,
          150,
          151,
          152,
          153,
          154,
          155,
          156,
          157,
          158,
          159,
          160,
          161,
          162,
          163,
          164,
          165,
          166,
          167,
          168,
          169,
          170,
          171,
          172,
          173,
          174,
          175,
          176,
          177,
          178,
          179,
          180,
          181,
          182,
          183,
          184,
          185,
          186,
          187,
          188,
          189,
          190,
          191,
          192,
          193,
          194,
          195,
          196,
          197,
          198,
          199,
          200,
          201,
          202,
          203,
          204,
          205,
          206,
          207,
          208,
          209,
          210,
          211,
          212,
          213,
          214,
          215,
          216,
          217,
          218,
          219,
          220,
          221,
          222,
          223,
          224,
          225,
          226,
          227,
          228,
          229,
          230,
          231,
          232,
          233,
          234,
          235,
          236,
          237,
          238,
          239,
          240,
          241,
          242,
          243,
          244,
          245,
          246,
          247,
          248,
          249
         ],
         "y": [
          null,
          null,
          null,
          null,
          null,
          null,
          null,
          null,
          null,
          null,
          null,
          1670.5,
          1648.076923076923,
          1656.142857142857,
          1708.8,
          1791.0,
          1717.4705882352941,
          1671.2222222222222,
          1659.3157894736842,
          1671.15,
          1666.857142857143,
          1631.5454545454545,
          1651.0434782608695,
          1639.5,
          1637.625,
          1684.5416666666667,
          1755.9583333333333,
          1733.0833333333333,
          1709.9166666666667,
          1719.7916666666667,
          1702.25,
          1721.8333333333333,
          1744.9166666666667,
          1744.875,
          1714.0833333333333,
          1727.625,
          1715.7916666666667,
          1710.2083333333333,
          1702.0416666666667,
          1674.5416666666667,
          1715.2083333333333,
          1793.5416666666667,
          1778.8333333333333,
          1770.125,
          1759.9583333333333,
          1801.4583333333333,
          1820.0833333333333,
          1842.9166666666667,
          1868.0833333333333,
          1798.4166666666667,
          1727.0,
          1773.75,
          1796.0,
          1785.1666666666667,
          1786.6666666666667,
          1758.0833333333333,
          1727.2083333333333,
          1741.2083333333333,
          1726.25,
          1741.9166666666667,
          1766.7916666666667,
          1790.4166666666667,
          1768.4583333333333,
          1772.3333333333333,
          1754.7916666666667,
          1695.9166666666667,
          1722.3333333333333,
          1770.8333333333333,
          1840.5,
          1820.3333333333333,
          1769.4583333333333,
          1760.75,
          1722.875,
          1789.9166666666667,
          1799.875,
          1752.3333333333333,
          1707.9583333333333,
          1701.75,
          1731.5,
          1730.1666666666667,
          1825.125,
          1820.375,
          1875.2916666666667,
          1892.9166666666667,
          1906.9583333333333,
          1890.375,
          1910.0416666666667,
          1900.5416666666667,
          1943.375,
          1969.0833333333333,
          2007.875,
          1983.4166666666667,
          1923.0833333333333,
          1942.6666666666667,
          1953.0833333333333,
          1955.2083333333333,
          1956.5833333333333,
          1889.75,
          1923.5,
          1936.9583333333333,
          1973.8333333333333,
          1978.1666666666667,
          1974.9583333333333,
          1942.75,
          1838.75,
          1816.7083333333333,
          1814.5416666666667,
          1801.0833333333333,
          1773.9166666666667,
          1774.25,
          1755.7083333333333,
          1676.3333333333333,
          1670.375,
          1643.7083333333333,
          1580.125,
          1552.4583333333333,
          1601.75,
          1595.9583333333333,
          1576.7916666666667,
          1579.5416666666667,
          1628.2916666666667,
          1646.0,
          1592.4583333333333,
          1568.25,
          1564.5,
          1597.8333333333333,
          1566.25,
          1623.125,
          1625.7083333333333,
          1714.0,
          1669.9166666666667,
          1636.7083333333333,
          1636.0833333333333,
          1632.0,
          1607.7083333333333,
          1630.3333333333333,
          1597.4583333333333,
          1588.125,
          1586.7083333333333,
          1588.9166666666667,
          1533.375,
          1534.7916666666667,
          1551.7916666666667,
          1575.7083333333333,
          1565.3333333333333,
          1648.4583333333333,
          1675.0833333333333,
          1700.1666666666667,
          1677.875,
          1694.7916666666667,
          1796.875,
          1776.2916666666667,
          1795.4583333333333,
          1763.625,
          1764.0416666666667,
          1773.0416666666667,
          1781.2083333333333,
          1732.6666666666667,
          1785.25,
          1841.0,
          1847.125,
          1847.3333333333333,
          1880.9166666666667,
          1898.625,
          1888.625,
          1851.375,
          1854.7916666666667,
          1814.125,
          1826.7916666666667,
          1767.1666666666667,
          1755.1666666666667,
          1754.0,
          1827.75,
          1853.8333333333333,
          1733.8333333333333,
          1782.4583333333333,
          1803.2083333333333,
          1834.4583333333333,
          1907.2916666666667,
          1918.7916666666667,
          1918.2916666666667,
          1955.3333333333333,
          1928.7083333333333,
          1942.7083333333333,
          1936.625,
          1940.75,
          1959.25,
          1886.1666666666667,
          1895.5833333333333,
          1926.7916666666667,
          1897.75,
          1954.875,
          1871.4583333333333,
          1815.9583333333333,
          1814.9583333333333,
          1824.9166666666667,
          1754.2083333333333,
          1644.0833333333333,
          1697.3333333333333,
          1644.5833333333333,
          1613.4583333333333,
          1533.125,
          1498.375,
          1473.2083333333333,
          1501.7916666666667,
          1539.7916666666667,
          1500.5416666666667,
          1469.2916666666667,
          1497.1666666666667,
          1536.4166666666667,
          1521.2916666666667,
          1543.125,
          1521.125,
          1562.875,
          1591.25,
          1541.8333333333333,
          1576.4583333333333,
          1590.75,
          1559.5416666666667,
          1561.6666666666667,
          1556.75,
          1662.2916666666667,
          1599.7916666666667,
          1609.125,
          1615.2916666666667,
          1659.1666666666667,
          1660.7083333333333,
          1705.125,
          1682.7916666666667,
          1709.8333333333333,
          1740.8333333333333,
          1747.5833333333333,
          1732.125,
          1738.0416666666667,
          1725.625,
          1784.0,
          1814.9166666666667,
          1738.5833333333333,
          1831.75,
          1778.0416666666667,
          1829.9583333333333,
          1882.75,
          1881.9166666666667,
          1869.875,
          1903.0416666666667,
          1793.25,
          1827.875,
          1889.4166666666667,
          1899.1666666666667,
          1841.25,
          1874.125,
          1849.5833333333333,
          1904.9583333333333,
          1890.5,
          1856.5416666666667,
          1873.625,
          1867.7916666666667,
          1842.375,
          1847.2083333333333,
          1873.875,
          1910.3333333333333,
          1938.7083333333333,
          1893.8333333333333,
          1954.625,
          1891.25,
          1854.1666666666667,
          1850.6666666666667,
          1851.4166666666667,
          1839.5416666666667,
          1868.25,
          1869.5416666666667
         ],
         "type": "scatter"
        },
        {
         "mode": "lines",
         "name": "SADE:(Trend: Decreasing)",
         "x": [
          0,
          1,
          2,
          3,
          4,
          5,
          6,
          7,
          8,
          9,
          10,
          11,
          12,
          13,
          14,
          15,
          16,
          17,
          18,
          19,
          20,
          21,
          22,
          23,
          24,
          25,
          26,
          27,
          28,
          29,
          30,
          31,
          32,
          33,
          34,
          35,
          36,
          37,
          38,
          39,
          40,
          41,
          42,
          43,
          44,
          45,
          46,
          47,
          48,
          49,
          50,
          51,
          52,
          53,
          54,
          55,
          56,
          57,
          58,
          59,
          60,
          61,
          62,
          63,
          64,
          65,
          66,
          67,
          68,
          69,
          70,
          71,
          72,
          73,
          74,
          75,
          76,
          77,
          78,
          79,
          80,
          81,
          82,
          83,
          84,
          85,
          86,
          87,
          88,
          89,
          90,
          91,
          92,
          93,
          94,
          95,
          96,
          97,
          98,
          99,
          100,
          101,
          102,
          103,
          104,
          105,
          106,
          107,
          108,
          109,
          110,
          111,
          112,
          113,
          114,
          115,
          116,
          117,
          118,
          119,
          120,
          121,
          122,
          123,
          124,
          125,
          126,
          127,
          128,
          129,
          130,
          131,
          132,
          133,
          134,
          135,
          136,
          137,
          138,
          139,
          140,
          141,
          142,
          143,
          144,
          145,
          146,
          147,
          148,
          149,
          150,
          151,
          152,
          153,
          154,
          155,
          156,
          157,
          158,
          159,
          160,
          161,
          162,
          163,
          164,
          165,
          166,
          167,
          168,
          169,
          170,
          171,
          172,
          173,
          174,
          175,
          176,
          177,
          178,
          179,
          180,
          181,
          182,
          183,
          184,
          185,
          186,
          187,
          188,
          189,
          190,
          191,
          192,
          193,
          194,
          195,
          196,
          197,
          198,
          199,
          200,
          201,
          202,
          203,
          204,
          205,
          206,
          207,
          208,
          209,
          210,
          211,
          212,
          213,
          214,
          215,
          216,
          217,
          218,
          219,
          220,
          221,
          222,
          223,
          224,
          225,
          226,
          227,
          228,
          229,
          230,
          231,
          232,
          233,
          234,
          235,
          236,
          237,
          238,
          239,
          240,
          241,
          242,
          243,
          244,
          245,
          246,
          247,
          248,
          249
         ],
         "y": [
          null,
          null,
          null,
          null,
          null,
          null,
          null,
          null,
          null,
          null,
          null,
          1709.0,
          1661.7692307692307,
          1638.2142857142858,
          1690.8666666666666,
          1744.5625,
          1762.7058823529412,
          1738.1666666666667,
          1767.0,
          1718.45,
          1795.904761904762,
          1785.1818181818182,
          1755.7826086956522,
          1772.0,
          1810.7916666666667,
          1820.5,
          1771.375,
          1791.25,
          1846.7916666666667,
          1825.4166666666667,
          1839.625,
          1812.875,
          1775.2083333333333,
          1751.125,
          1769.1666666666667,
          1791.0416666666667,
          1799.5,
          1845.5833333333333,
          1813.125,
          1825.4166666666667,
          1831.0,
          1848.25,
          1850.875,
          1840.25,
          1855.9583333333333,
          1854.2916666666667,
          1928.0833333333333,
          1908.5,
          1847.6666666666667,
          1808.375,
          1761.125,
          1681.7083333333333,
          1692.2083333333333,
          1692.4166666666667,
          1667.7916666666667,
          1679.3333333333333,
          1688.625,
          1793.875,
          1810.625,
          1795.2083333333333,
          1850.5833333333333,
          1832.0,
          1828.5833333333333,
          1784.0833333333333,
          1731.1666666666667,
          1704.5833333333333,
          1710.7916666666667,
          1751.1666666666667,
          1662.5416666666667,
          1661.5416666666667,
          1586.9166666666667,
          1616.6666666666667,
          1692.625,
          1668.75,
          1726.0833333333333,
          1783.5833333333333,
          1754.4166666666667,
          1767.5,
          1776.3333333333333,
          1826.3333333333333,
          1836.875,
          1784.0416666666667,
          1764.25,
          1783.9583333333333,
          1728.0416666666667,
          1727.5416666666667,
          1724.625,
          1703.875,
          1733.1666666666667,
          1791.75,
          1845.4583333333333,
          1880.0833333333333,
          1881.0,
          1864.3333333333333,
          1855.9583333333333,
          1879.5416666666667,
          1871.2916666666667,
          1916.75,
          1884.3333333333333,
          1872.5416666666667,
          1857.9583333333333,
          1866.9583333333333,
          1919.5833333333333,
          1871.7083333333333,
          1872.375,
          1926.25,
          1922.125,
          1890.4166666666667,
          1899.7916666666667,
          1896.0833333333333,
          1867.2916666666667,
          1877.5833333333333,
          1874.0833333333333,
          1801.75,
          1690.5416666666667,
          1666.5416666666667,
          1650.25,
          1671.3333333333333,
          1666.0833333333333,
          1597.25,
          1605.3333333333333,
          1588.0416666666667,
          1602.4166666666667,
          1631.2083333333333,
          1664.0,
          1648.9583333333333,
          1644.8333333333333,
          1657.6666666666667,
          1710.3333333333333,
          1665.6666666666667,
          1681.3333333333333,
          1735.1666666666667,
          1703.8333333333333,
          1684.0,
          1697.375,
          1678.125,
          1648.875,
          1676.25,
          1661.2083333333333,
          1649.375,
          1635.0,
          1616.125,
          1658.5833333333333,
          1684.8333333333333,
          1623.7083333333333,
          1605.4166666666667,
          1567.5,
          1540.0416666666667,
          1531.9166666666667,
          1543.0416666666667,
          1517.25,
          1477.8333333333333,
          1444.4166666666667,
          1384.2916666666667,
          1425.7083333333333,
          1380.3333333333333,
          1425.0833333333333,
          1434.5,
          1433.2916666666667,
          1462.5833333333333,
          1529.125,
          1538.7083333333333,
          1576.4583333333333,
          1627.9166666666667,
          1723.3333333333333,
          1749.4166666666667,
          1807.875,
          1885.75,
          1914.2916666666667,
          1936.875,
          1968.75,
          1994.75,
          2003.8333333333333,
          1991.0416666666667,
          1990.2916666666667,
          2003.25,
          1960.125,
          1988.0833333333333,
          1941.9583333333333,
          1977.2083333333333,
          1975.8333333333333,
          1987.625,
          1977.875,
          2002.1666666666667,
          1988.0,
          1989.5,
          1983.9583333333333,
          1945.3333333333333,
          1901.1666666666667,
          1988.25,
          1936.5,
          1835.6666666666667,
          1794.125,
          1729.5833333333333,
          1748.25,
          1702.1666666666667,
          1655.4583333333333,
          1675.875,
          1655.5,
          1688.3333333333333,
          1723.0416666666667,
          1760.0833333333333,
          1752.25,
          1707.7916666666667,
          1696.0416666666667,
          1705.7083333333333,
          1723.5,
          1698.4166666666667,
          1682.25,
          1675.4583333333333,
          1708.875,
          1679.8333333333333,
          1650.7916666666667,
          1574.8333333333333,
          1551.0,
          1563.0416666666667,
          1583.5833333333333,
          1667.4583333333333,
          1612.6666666666667,
          1638.7083333333333,
          1672.7083333333333,
          1645.2916666666667,
          1668.2083333333333,
          1703.4166666666667,
          1698.3333333333333,
          1663.9583333333333,
          1679.2083333333333,
          1722.9583333333333,
          1705.2916666666667,
          1652.0833333333333,
          1665.0416666666667,
          1642.1666666666667,
          1648.25,
          1626.0416666666667,
          1638.0833333333333,
          1638.9583333333333,
          1646.7083333333333,
          1626.25,
          1605.8333333333333,
          1603.0416666666667,
          1571.8333333333333,
          1593.75,
          1606.75,
          1592.7083333333333,
          1585.0416666666667,
          1597.4583333333333,
          1586.875,
          1543.1666666666667,
          1534.25,
          1543.9166666666667,
          1536.6666666666667,
          1524.1666666666667,
          1569.2083333333333,
          1605.5,
          1610.0416666666667,
          1624.7916666666667,
          1603.6666666666667,
          1645.375,
          1585.4166666666667,
          1604.0416666666667,
          1583.0833333333333,
          1594.2916666666667,
          1594.125,
          1574.4583333333333,
          1580.75,
          1558.6666666666667,
          1613.2083333333333,
          1637.6666666666667,
          1658.75,
          1650.9583333333333,
          1756.5,
          1813.2916666666667,
          1804.375,
          1753.625,
          1825.625,
          1855.5833333333333,
          1838.0833333333333,
          1852.0833333333333,
          1879.0,
          1879.0833333333333,
          1891.875,
          1903.2916666666667,
          1890.75,
          1912.2916666666667,
          1956.4166666666667,
          2028.5416666666667,
          2061.8333333333335,
          2106.5833333333335,
          2135.75,
          2095.875,
          2072.6666666666665,
          2077.7083333333335,
          2041.5416666666667,
          2036.2083333333333,
          1929.0,
          1891.2083333333333,
          1889.5416666666667,
          1946.5416666666667,
          1870.0416666666667,
          1837.9166666666667,
          1836.5416666666667,
          1830.375,
          1777.0,
          1779.1666666666667,
          1759.5833333333333,
          1732.2916666666667,
          1760.5416666666667,
          1787.5416666666667,
          1747.7916666666667,
          1686.0,
          1684.625,
          1653.9166666666667,
          1629.1666666666667,
          1594.375,
          1554.5,
          1489.875,
          1508.7916666666667,
          1595.7916666666667,
          1571.625,
          1547.5416666666667,
          1594.4583333333333,
          1551.5,
          1556.25,
          1551.1666666666667,
          1524.7916666666667,
          1480.875,
          1487.8333333333333,
          1501.9166666666667
         ],
         "type": "scatter"
        }
       ],
       "layout": {
        "template": {
         "data": {
          "histogram2dcontour": [
           {
            "type": "histogram2dcontour",
            "colorbar": {
             "outlinewidth": 0,
             "ticks": ""
            },
            "colorscale": [
             [
              0.0,
              "#0d0887"
             ],
             [
              0.1111111111111111,
              "#46039f"
             ],
             [
              0.2222222222222222,
              "#7201a8"
             ],
             [
              0.3333333333333333,
              "#9c179e"
             ],
             [
              0.4444444444444444,
              "#bd3786"
             ],
             [
              0.5555555555555556,
              "#d8576b"
             ],
             [
              0.6666666666666666,
              "#ed7953"
             ],
             [
              0.7777777777777778,
              "#fb9f3a"
             ],
             [
              0.8888888888888888,
              "#fdca26"
             ],
             [
              1.0,
              "#f0f921"
             ]
            ]
           }
          ],
          "choropleth": [
           {
            "type": "choropleth",
            "colorbar": {
             "outlinewidth": 0,
             "ticks": ""
            }
           }
          ],
          "histogram2d": [
           {
            "type": "histogram2d",
            "colorbar": {
             "outlinewidth": 0,
             "ticks": ""
            },
            "colorscale": [
             [
              0.0,
              "#0d0887"
             ],
             [
              0.1111111111111111,
              "#46039f"
             ],
             [
              0.2222222222222222,
              "#7201a8"
             ],
             [
              0.3333333333333333,
              "#9c179e"
             ],
             [
              0.4444444444444444,
              "#bd3786"
             ],
             [
              0.5555555555555556,
              "#d8576b"
             ],
             [
              0.6666666666666666,
              "#ed7953"
             ],
             [
              0.7777777777777778,
              "#fb9f3a"
             ],
             [
              0.8888888888888888,
              "#fdca26"
             ],
             [
              1.0,
              "#f0f921"
             ]
            ]
           }
          ],
          "heatmap": [
           {
            "type": "heatmap",
            "colorbar": {
             "outlinewidth": 0,
             "ticks": ""
            },
            "colorscale": [
             [
              0.0,
              "#0d0887"
             ],
             [
              0.1111111111111111,
              "#46039f"
             ],
             [
              0.2222222222222222,
              "#7201a8"
             ],
             [
              0.3333333333333333,
              "#9c179e"
             ],
             [
              0.4444444444444444,
              "#bd3786"
             ],
             [
              0.5555555555555556,
              "#d8576b"
             ],
             [
              0.6666666666666666,
              "#ed7953"
             ],
             [
              0.7777777777777778,
              "#fb9f3a"
             ],
             [
              0.8888888888888888,
              "#fdca26"
             ],
             [
              1.0,
              "#f0f921"
             ]
            ]
           }
          ],
          "heatmapgl": [
           {
            "type": "heatmapgl",
            "colorbar": {
             "outlinewidth": 0,
             "ticks": ""
            },
            "colorscale": [
             [
              0.0,
              "#0d0887"
             ],
             [
              0.1111111111111111,
              "#46039f"
             ],
             [
              0.2222222222222222,
              "#7201a8"
             ],
             [
              0.3333333333333333,
              "#9c179e"
             ],
             [
              0.4444444444444444,
              "#bd3786"
             ],
             [
              0.5555555555555556,
              "#d8576b"
             ],
             [
              0.6666666666666666,
              "#ed7953"
             ],
             [
              0.7777777777777778,
              "#fb9f3a"
             ],
             [
              0.8888888888888888,
              "#fdca26"
             ],
             [
              1.0,
              "#f0f921"
             ]
            ]
           }
          ],
          "contourcarpet": [
           {
            "type": "contourcarpet",
            "colorbar": {
             "outlinewidth": 0,
             "ticks": ""
            }
           }
          ],
          "contour": [
           {
            "type": "contour",
            "colorbar": {
             "outlinewidth": 0,
             "ticks": ""
            },
            "colorscale": [
             [
              0.0,
              "#0d0887"
             ],
             [
              0.1111111111111111,
              "#46039f"
             ],
             [
              0.2222222222222222,
              "#7201a8"
             ],
             [
              0.3333333333333333,
              "#9c179e"
             ],
             [
              0.4444444444444444,
              "#bd3786"
             ],
             [
              0.5555555555555556,
              "#d8576b"
             ],
             [
              0.6666666666666666,
              "#ed7953"
             ],
             [
              0.7777777777777778,
              "#fb9f3a"
             ],
             [
              0.8888888888888888,
              "#fdca26"
             ],
             [
              1.0,
              "#f0f921"
             ]
            ]
           }
          ],
          "surface": [
           {
            "type": "surface",
            "colorbar": {
             "outlinewidth": 0,
             "ticks": ""
            },
            "colorscale": [
             [
              0.0,
              "#0d0887"
             ],
             [
              0.1111111111111111,
              "#46039f"
             ],
             [
              0.2222222222222222,
              "#7201a8"
             ],
             [
              0.3333333333333333,
              "#9c179e"
             ],
             [
              0.4444444444444444,
              "#bd3786"
             ],
             [
              0.5555555555555556,
              "#d8576b"
             ],
             [
              0.6666666666666666,
              "#ed7953"
             ],
             [
              0.7777777777777778,
              "#fb9f3a"
             ],
             [
              0.8888888888888888,
              "#fdca26"
             ],
             [
              1.0,
              "#f0f921"
             ]
            ]
           }
          ],
          "mesh3d": [
           {
            "type": "mesh3d",
            "colorbar": {
             "outlinewidth": 0,
             "ticks": ""
            }
           }
          ],
          "scatter": [
           {
            "fillpattern": {
             "fillmode": "overlay",
             "size": 10,
             "solidity": 0.2
            },
            "type": "scatter"
           }
          ],
          "parcoords": [
           {
            "type": "parcoords",
            "line": {
             "colorbar": {
              "outlinewidth": 0,
              "ticks": ""
             }
            }
           }
          ],
          "scatterpolargl": [
           {
            "type": "scatterpolargl",
            "marker": {
             "colorbar": {
              "outlinewidth": 0,
              "ticks": ""
             }
            }
           }
          ],
          "bar": [
           {
            "error_x": {
             "color": "#2a3f5f"
            },
            "error_y": {
             "color": "#2a3f5f"
            },
            "marker": {
             "line": {
              "color": "#E5ECF6",
              "width": 0.5
             },
             "pattern": {
              "fillmode": "overlay",
              "size": 10,
              "solidity": 0.2
             }
            },
            "type": "bar"
           }
          ],
          "scattergeo": [
           {
            "type": "scattergeo",
            "marker": {
             "colorbar": {
              "outlinewidth": 0,
              "ticks": ""
             }
            }
           }
          ],
          "scatterpolar": [
           {
            "type": "scatterpolar",
            "marker": {
             "colorbar": {
              "outlinewidth": 0,
              "ticks": ""
             }
            }
           }
          ],
          "histogram": [
           {
            "marker": {
             "pattern": {
              "fillmode": "overlay",
              "size": 10,
              "solidity": 0.2
             }
            },
            "type": "histogram"
           }
          ],
          "scattergl": [
           {
            "type": "scattergl",
            "marker": {
             "colorbar": {
              "outlinewidth": 0,
              "ticks": ""
             }
            }
           }
          ],
          "scatter3d": [
           {
            "type": "scatter3d",
            "line": {
             "colorbar": {
              "outlinewidth": 0,
              "ticks": ""
             }
            },
            "marker": {
             "colorbar": {
              "outlinewidth": 0,
              "ticks": ""
             }
            }
           }
          ],
          "scattermapbox": [
           {
            "type": "scattermapbox",
            "marker": {
             "colorbar": {
              "outlinewidth": 0,
              "ticks": ""
             }
            }
           }
          ],
          "scatterternary": [
           {
            "type": "scatterternary",
            "marker": {
             "colorbar": {
              "outlinewidth": 0,
              "ticks": ""
             }
            }
           }
          ],
          "scattercarpet": [
           {
            "type": "scattercarpet",
            "marker": {
             "colorbar": {
              "outlinewidth": 0,
              "ticks": ""
             }
            }
           }
          ],
          "carpet": [
           {
            "aaxis": {
             "endlinecolor": "#2a3f5f",
             "gridcolor": "white",
             "linecolor": "white",
             "minorgridcolor": "white",
             "startlinecolor": "#2a3f5f"
            },
            "baxis": {
             "endlinecolor": "#2a3f5f",
             "gridcolor": "white",
             "linecolor": "white",
             "minorgridcolor": "white",
             "startlinecolor": "#2a3f5f"
            },
            "type": "carpet"
           }
          ],
          "table": [
           {
            "cells": {
             "fill": {
              "color": "#EBF0F8"
             },
             "line": {
              "color": "white"
             }
            },
            "header": {
             "fill": {
              "color": "#C8D4E3"
             },
             "line": {
              "color": "white"
             }
            },
            "type": "table"
           }
          ],
          "barpolar": [
           {
            "marker": {
             "line": {
              "color": "#E5ECF6",
              "width": 0.5
             },
             "pattern": {
              "fillmode": "overlay",
              "size": 10,
              "solidity": 0.2
             }
            },
            "type": "barpolar"
           }
          ],
          "pie": [
           {
            "automargin": true,
            "type": "pie"
           }
          ]
         },
         "layout": {
          "autotypenumbers": "strict",
          "colorway": [
           "#636efa",
           "#EF553B",
           "#00cc96",
           "#ab63fa",
           "#FFA15A",
           "#19d3f3",
           "#FF6692",
           "#B6E880",
           "#FF97FF",
           "#FECB52"
          ],
          "font": {
           "color": "#2a3f5f"
          },
          "hovermode": "closest",
          "hoverlabel": {
           "align": "left"
          },
          "paper_bgcolor": "white",
          "plot_bgcolor": "#E5ECF6",
          "polar": {
           "bgcolor": "#E5ECF6",
           "angularaxis": {
            "gridcolor": "white",
            "linecolor": "white",
            "ticks": ""
           },
           "radialaxis": {
            "gridcolor": "white",
            "linecolor": "white",
            "ticks": ""
           }
          },
          "ternary": {
           "bgcolor": "#E5ECF6",
           "aaxis": {
            "gridcolor": "white",
            "linecolor": "white",
            "ticks": ""
           },
           "baxis": {
            "gridcolor": "white",
            "linecolor": "white",
            "ticks": ""
           },
           "caxis": {
            "gridcolor": "white",
            "linecolor": "white",
            "ticks": ""
           }
          },
          "coloraxis": {
           "colorbar": {
            "outlinewidth": 0,
            "ticks": ""
           }
          },
          "colorscale": {
           "sequential": [
            [
             0.0,
             "#0d0887"
            ],
            [
             0.1111111111111111,
             "#46039f"
            ],
            [
             0.2222222222222222,
             "#7201a8"
            ],
            [
             0.3333333333333333,
             "#9c179e"
            ],
            [
             0.4444444444444444,
             "#bd3786"
            ],
            [
             0.5555555555555556,
             "#d8576b"
            ],
            [
             0.6666666666666666,
             "#ed7953"
            ],
            [
             0.7777777777777778,
             "#fb9f3a"
            ],
            [
             0.8888888888888888,
             "#fdca26"
            ],
            [
             1.0,
             "#f0f921"
            ]
           ],
           "sequentialminus": [
            [
             0.0,
             "#0d0887"
            ],
            [
             0.1111111111111111,
             "#46039f"
            ],
            [
             0.2222222222222222,
             "#7201a8"
            ],
            [
             0.3333333333333333,
             "#9c179e"
            ],
            [
             0.4444444444444444,
             "#bd3786"
            ],
            [
             0.5555555555555556,
             "#d8576b"
            ],
            [
             0.6666666666666666,
             "#ed7953"
            ],
            [
             0.7777777777777778,
             "#fb9f3a"
            ],
            [
             0.8888888888888888,
             "#fdca26"
            ],
            [
             1.0,
             "#f0f921"
            ]
           ],
           "diverging": [
            [
             0,
             "#8e0152"
            ],
            [
             0.1,
             "#c51b7d"
            ],
            [
             0.2,
             "#de77ae"
            ],
            [
             0.3,
             "#f1b6da"
            ],
            [
             0.4,
             "#fde0ef"
            ],
            [
             0.5,
             "#f7f7f7"
            ],
            [
             0.6,
             "#e6f5d0"
            ],
            [
             0.7,
             "#b8e186"
            ],
            [
             0.8,
             "#7fbc41"
            ],
            [
             0.9,
             "#4d9221"
            ],
            [
             1,
             "#276419"
            ]
           ]
          },
          "xaxis": {
           "gridcolor": "white",
           "linecolor": "white",
           "ticks": "",
           "title": {
            "standoff": 15
           },
           "zerolinecolor": "white",
           "automargin": true,
           "zerolinewidth": 2
          },
          "yaxis": {
           "gridcolor": "white",
           "linecolor": "white",
           "ticks": "",
           "title": {
            "standoff": 15
           },
           "zerolinecolor": "white",
           "automargin": true,
           "zerolinewidth": 2
          },
          "scene": {
           "xaxis": {
            "backgroundcolor": "#E5ECF6",
            "gridcolor": "white",
            "linecolor": "white",
            "showbackground": true,
            "ticks": "",
            "zerolinecolor": "white",
            "gridwidth": 2
           },
           "yaxis": {
            "backgroundcolor": "#E5ECF6",
            "gridcolor": "white",
            "linecolor": "white",
            "showbackground": true,
            "ticks": "",
            "zerolinecolor": "white",
            "gridwidth": 2
           },
           "zaxis": {
            "backgroundcolor": "#E5ECF6",
            "gridcolor": "white",
            "linecolor": "white",
            "showbackground": true,
            "ticks": "",
            "zerolinecolor": "white",
            "gridwidth": 2
           }
          },
          "shapedefaults": {
           "line": {
            "color": "#2a3f5f"
           }
          },
          "annotationdefaults": {
           "arrowcolor": "#2a3f5f",
           "arrowhead": 0,
           "arrowwidth": 1
          },
          "geo": {
           "bgcolor": "white",
           "landcolor": "#E5ECF6",
           "subunitcolor": "white",
           "showland": true,
           "showlakes": true,
           "lakecolor": "white"
          },
          "title": {
           "x": 0.05
          },
          "mapbox": {
           "style": "light"
          }
         }
        },
        "xaxis": {
         "range": [
          0,
          250
         ]
        },
        "yaxis": {
         "range": [
          1000,
          2500
         ]
        },
        "legend": {
         "orientation": "h",
         "yanchor": "bottom",
         "y": 1.02,
         "xanchor": "center",
         "x": 0.5
        },
        "autosize": false,
        "width": 1600,
        "height": 450
       },
       "config": {
        "plotlyServerURL": "https://plot.ly"
       }
      },
      "text/html": "<div>                            <div id=\"29e83ef7-1d96-4a9c-9ef0-8eaa2ec55f33\" class=\"plotly-graph-div\" style=\"height:450px; width:1600px;\"></div>            <script type=\"text/javascript\">                require([\"plotly\"], function(Plotly) {                    window.PLOTLYENV=window.PLOTLYENV || {};                                    if (document.getElementById(\"29e83ef7-1d96-4a9c-9ef0-8eaa2ec55f33\")) {                    Plotly.newPlot(                        \"29e83ef7-1d96-4a9c-9ef0-8eaa2ec55f33\",                        [{\"mode\":\"lines\",\"name\":\"PSO:(Trend: Decreasing)\",\"x\":[0,1,2,3,4,5,6,7,8,9,10,11,12,13,14,15,16,17,18,19,20,21,22,23,24,25,26,27,28,29,30,31,32,33,34,35,36,37,38,39,40,41,42,43,44,45,46,47,48,49,50,51,52,53,54,55,56,57,58,59,60,61,62,63,64,65,66,67,68,69,70,71,72,73,74,75,76,77,78,79,80,81,82,83,84,85,86,87,88,89,90,91,92,93,94,95,96,97,98,99,100,101,102,103,104,105,106,107,108,109,110,111,112,113,114,115,116,117,118,119,120,121,122,123,124,125,126,127,128,129,130,131,132,133,134,135,136,137,138,139,140,141,142,143,144,145,146,147,148,149,150,151,152,153,154,155,156,157,158,159,160,161,162,163,164,165,166,167,168,169,170,171,172,173,174,175,176,177,178,179,180,181,182,183,184,185,186,187,188,189,190,191,192,193,194,195,196,197,198,199,200,201,202,203,204,205,206,207,208,209,210,211,212,213,214,215,216,217,218,219,220,221,222,223,224,225,226,227,228,229,230,231,232,233,234,235,236,237,238,239,240,241,242,243,244,245,246,247,248,249],\"y\":[null,null,null,null,null,null,null,null,null,null,null,2005.5833333333333,1986.4615384615386,1923.142857142857,1952.6666666666667,1958.125,2009.1176470588234,2024.6666666666667,2003.4736842105262,1930.35,1970.5714285714287,1953.090909090909,1877.0869565217392,1890.5416666666667,1961.2083333333333,2022.2083333333333,2004.625,1890.8333333333333,1936.2916666666667,1926.9166666666667,1932.25,1951.7916666666667,1926.9166666666667,1960.5833333333333,1944.9583333333333,1902.25,1923.7083333333333,1977.0416666666667,1933.5,1906.5833333333333,1921.625,1883.75,1910.875,1960.3333333333333,1881.75,1918.9583333333333,1946.6666666666667,1938.9583333333333,1891.2083333333333,1898.5416666666667,1860.9583333333333,1861.5416666666667,1811.4583333333333,1862.6666666666667,1873.4166666666667,1855.875,1865.4166666666667,1839.5416666666667,1941.0416666666667,1893.8333333333333,1890.7916666666667,1857.4166666666667,1839.0833333333333,1912.4583333333333,1855.2916666666667,1859.9166666666667,1841.875,1792.4166666666667,1831.375,1777.7083333333333,1797.2083333333333,1767.4583333333333,1764.7916666666667,1722.125,1746.5416666666667,1758.9166666666667,1820.2916666666667,1756.7083333333333,1680.875,1643.2083333333333,1682.2916666666667,1660.6666666666667,1568.0833333333333,1575.9166666666667,1541.0,1551.4583333333333,1611.9583333333333,1589.9166666666667,1585.5,1603.5,1669.7083333333333,1738.25,1722.3333333333333,1781.3333333333333,1783.9583333333333,1776.5,1751.75,1774.875,1766.9166666666667,1744.9583333333333,1686.25,1717.8333333333333,1752.0833333333333,1798.1666666666667,1773.8333333333333,1764.9583333333333,1749.75,1742.3333333333333,1729.5,1717.7083333333333,1720.375,1664.9166666666667,1739.0833333333333,1733.2916666666667,1681.3333333333333,1693.125,1773.0833333333333,1752.2083333333333,1770.3333333333333,1769.2083333333333,1779.4583333333333,1754.9166666666667,1818.4583333333333,1848.1666666666667,1878.5,1849.0416666666667,1931.7916666666667,1981.125,2024.125,2068.6666666666665,2065.0,2047.0,2056.875,2029.2916666666667,2008.4583333333333,2019.2083333333333,1930.0416666666667,1901.375,1856.0,1761.5416666666667,1699.2083333333333,1684.7916666666667,1671.1666666666667,1701.75,1726.625,1740.0416666666667,1676.0833333333333,1664.125,1627.5,1648.875,1591.4583333333333,1525.9583333333333,1490.875,1474.7916666666667,1521.1666666666667,1540.375,1537.5416666666667,1544.7916666666667,1502.7083333333333,1484.1666666666667,1473.6666666666667,1495.5,1543.625,1605.0,1606.5833333333333,1604.0416666666667,1603.6666666666667,1573.1666666666667,1541.0833333333333,1525.375,1538.5,1588.6666666666667,1582.5416666666667,1584.4583333333333,1524.4583333333333,1528.0833333333333,1515.4166666666667,1545.2083333333333,1475.75,1486.2916666666667,1521.125,1541.2916666666667,1583.8333333333333,1659.25,1659.0833333333333,1636.1666666666667,1639.2083333333333,1619.6666666666667,1597.7916666666667,1590.375,1573.375,1631.0,1605.875,1598.1666666666667,1593.1666666666667,1589.0416666666667,1584.9583333333333,1600.375,1628.4166666666667,1626.75,1638.3333333333333,1611.5,1670.4166666666667,1648.9583333333333,1631.75,1604.5416666666667,1562.1666666666667,1485.0416666666667,1536.2083333333333,1523.5,1506.4166666666667,1544.5416666666667,1532.6666666666667,1586.0833333333333,1577.1666666666667,1551.6666666666667,1612.0833333333333,1702.0,1677.9583333333333,1644.5416666666667,1708.0,1710.875,1720.2916666666667,1704.9166666666667,1698.5833333333333,1710.6666666666667,1665.2916666666667,1683.1666666666667,1695.5833333333333,1734.8333333333333,1782.625,1796.5416666666667,1779.625,1784.6666666666667,1779.0416666666667,1759.2083333333333,1781.0416666666667,1701.875,1714.0,1682.0416666666667,1630.5,1581.875,1590.5416666666667,1591.625,1531.4166666666667,1553.375,1528.8333333333333,1524.9166666666667,1514.9583333333333,1471.25,1457.7083333333333,1467.5416666666667,1496.5,1573.625,1524.7916666666667,1624.625,1581.6666666666667,1581.2916666666667,1566.2916666666667,1580.875,1607.9583333333333,1674.5,1659.9583333333333,1714.4166666666667],\"type\":\"scatter\"},{\"mode\":\"lines\",\"name\":\"GA:(Trend: No change)\",\"x\":[0,1,2,3,4,5,6,7,8,9,10,11,12,13,14,15,16,17,18,19,20,21,22,23,24,25,26,27,28,29,30,31,32,33,34,35,36,37,38,39,40,41,42,43,44,45,46,47,48,49,50,51,52,53,54,55,56,57,58,59,60,61,62,63,64,65,66,67,68,69,70,71,72,73,74,75,76,77,78,79,80,81,82,83,84,85,86,87,88,89,90,91,92,93,94,95,96,97,98,99,100,101,102,103,104,105,106,107,108,109,110,111,112,113,114,115,116,117,118,119,120,121,122,123,124,125,126,127,128,129,130,131,132,133,134,135,136,137,138,139,140,141,142,143,144,145,146,147,148,149,150,151,152,153,154,155,156,157,158,159,160,161,162,163,164,165,166,167,168,169,170,171,172,173,174,175,176,177,178,179,180,181,182,183,184,185,186,187,188,189,190,191,192,193,194,195,196,197,198,199,200,201,202,203,204,205,206,207,208,209,210,211,212,213,214,215,216,217,218,219,220,221,222,223,224,225,226,227,228,229,230,231,232,233,234,235,236,237,238,239,240,241,242,243,244,245,246,247,248,249],\"y\":[null,null,null,null,null,null,null,null,null,null,null,1690.0833333333333,1693.1538461538462,1686.5,1689.6666666666667,1705.1875,1734.0588235294117,1686.611111111111,1722.842105263158,1789.75,1756.5238095238096,1818.8636363636363,1821.4782608695652,1817.2916666666667,1862.625,1809.7083333333333,1798.9583333333333,1791.5833333333333,1733.6666666666667,1766.0416666666667,1852.2083333333333,1920.0,1893.0416666666667,1857.5416666666667,1822.2916666666667,1823.9166666666667,1859.125,1872.0416666666667,1889.2083333333333,1885.6666666666667,1878.2916666666667,1950.4583333333333,1975.25,1884.9583333333333,1891.5833333333333,1832.1666666666667,1881.0,1876.625,1841.3333333333333,1850.9166666666667,1822.3333333333333,1823.375,1842.0833333333333,1836.0416666666667,1808.2083333333333,1833.4166666666667,1828.0833333333333,1824.0416666666667,1838.4166666666667,1827.9583333333333,1842.5833333333333,1814.625,1812.5833333333333,1820.7916666666667,1805.625,1758.2083333333333,1696.375,1704.875,1704.2083333333333,1687.2083333333333,1615.1666666666667,1690.75,1718.9583333333333,1740.375,1771.4583333333333,1799.125,1786.5,1822.7916666666667,1795.7916666666667,1711.8333333333333,1717.5833333333333,1809.7916666666667,1790.0416666666667,1829.0833333333333,1805.0416666666667,1799.0416666666667,1806.1666666666667,1847.25,1868.5,1876.75,1898.125,1948.75,1946.8333333333333,2025.7916666666667,2041.2083333333333,1985.3333333333333,1962.75,1906.7916666666667,1848.5833333333333,1845.9166666666667,1838.6666666666667,1813.3333333333333,1792.25,1866.4166666666667,1860.2083333333333,1820.375,1852.1666666666667,1836.625,1809.5416666666667,1832.0,1794.7916666666667,1722.0,1781.875,1796.625,1819.0,1791.2083333333333,1806.25,1785.6666666666667,1880.4166666666667,1850.6666666666667,1815.6666666666667,1890.4583333333333,1903.375,1875.5416666666667,1929.1666666666667,1938.5,1923.2916666666667,1900.8333333333333,1921.5416666666667,1899.0416666666667,1960.2916666666667,1966.9583333333333,1957.6666666666667,2048.5833333333335,2078.75,2083.0833333333335,2003.6666666666667,2063.125,2017.875,2040.2916666666667,2017.5,2004.5416666666667,1921.6666666666667,2009.875,2030.125,1993.6666666666667,2008.0833333333333,2053.7083333333335,2060.875,2053.625,2049.8333333333335,2038.9166666666667,2021.6666666666667,2059.9583333333335,1965.2083333333333,1963.125,2017.1666666666667,1903.3333333333333,1899.2083333333333,1899.1666666666667,1893.0833333333333,1853.875,1926.125,1923.375,1973.125,1947.0,1901.4583333333333,1801.5416666666667,1844.75,1816.6666666666667,1825.4166666666667,1829.0,1787.7083333333333,1723.9166666666667,1743.0,1724.625,1705.375,1711.0833333333333,1740.7083333333333,1724.3333333333333,1695.5416666666667,1740.4166666666667,1715.3333333333333,1721.6666666666667,1790.375,1760.9166666666667,1700.625,1687.4583333333333,1641.5833333333333,1608.5,1706.0416666666667,1705.9583333333333,1642.5416666666667,1605.0,1645.625,1589.9583333333333,1661.25,1716.2916666666667,1748.2916666666667,1749.0833333333333,1797.5416666666667,1747.7083333333333,1743.6666666666667,1770.5,1771.5833333333333,1800.3333333333333,1845.9166666666667,1897.2916666666667,1865.75,1890.875,1928.7083333333333,1890.375,1906.75,1968.75,1898.2083333333333,1926.0416666666667,1964.0833333333333,2022.625,2005.7916666666667,2053.625,2009.9166666666667,1983.4166666666667,1936.25,1952.7916666666667,1885.375,1865.375,1830.2083333333333,1824.25,1792.1666666666667,1775.7083333333333,1704.8333333333333,1626.0833333333333,1588.4583333333333,1547.125,1528.1666666666667,1551.2916666666667,1598.9583333333333,1542.4583333333333,1530.4583333333333,1533.0,1546.625,1533.9166666666667,1604.875,1566.875,1553.5,1616.0833333333333,1640.6666666666667,1643.75,1662.125,1671.75,1706.7916666666667,1707.6666666666667],\"type\":\"scatter\"},{\"mode\":\"lines\",\"name\":\"FA:(Trend: Increasing)\",\"x\":[0,1,2,3,4,5,6,7,8,9,10,11,12,13,14,15,16,17,18,19,20,21,22,23,24,25,26,27,28,29,30,31,32,33,34,35,36,37,38,39,40,41,42,43,44,45,46,47,48,49,50,51,52,53,54,55,56,57,58,59,60,61,62,63,64,65,66,67,68,69,70,71,72,73,74,75,76,77,78,79,80,81,82,83,84,85,86,87,88,89,90,91,92,93,94,95,96,97,98,99,100,101,102,103,104,105,106,107,108,109,110,111,112,113,114,115,116,117,118,119,120,121,122,123,124,125,126,127,128,129,130,131,132,133,134,135,136,137,138,139,140,141,142,143,144,145,146,147,148,149,150,151,152,153,154,155,156,157,158,159,160,161,162,163,164,165,166,167,168,169,170,171,172,173,174,175,176,177,178,179,180,181,182,183,184,185,186,187,188,189,190,191,192,193,194,195,196,197,198,199,200,201,202,203,204,205,206,207,208,209,210,211,212,213,214,215,216,217,218,219,220,221,222,223,224,225,226,227,228,229,230,231,232,233,234,235,236,237,238,239,240,241,242,243,244,245,246,247,248,249],\"y\":[null,null,null,null,null,null,null,null,null,null,null,1566.5,1522.6153846153845,1564.9285714285713,1590.2,1696.4375,1662.4117647058824,1680.4444444444443,1777.6315789473683,1826.0,1791.3333333333333,1781.7727272727273,1752.0434782608695,1760.7083333333333,1775.4166666666667,1789.6666666666667,1793.7916666666667,1714.2916666666667,1833.0416666666667,1853.75,1850.2083333333333,1863.4166666666667,1908.6666666666667,1859.4583333333333,1883.5416666666667,1898.2083333333333,1929.25,1907.0,1891.0,1836.4583333333333,1859.5416666666667,1823.7083333333333,1722.4583333333333,1670.9166666666667,1743.0416666666667,1750.1666666666667,1755.5833333333333,1771.0416666666667,1795.625,1785.5833333333333,1772.3333333333333,1747.4583333333333,1637.0416666666667,1586.7083333333333,1545.7083333333333,1571.25,1582.8333333333333,1615.8333333333333,1619.625,1626.9166666666667,1620.0416666666667,1630.3333333333333,1625.4166666666667,1579.75,1585.0,1607.9583333333333,1630.4583333333333,1631.125,1613.6666666666667,1593.0416666666667,1597.25,1547.375,1499.1666666666667,1500.7083333333333,1550.5,1559.5416666666667,1561.8333333333333,1581.9583333333333,1568.5416666666667,1569.5416666666667,1511.4166666666667,1542.4583333333333,1585.5,1604.0833333333333,1607.4166666666667,1634.25,1681.7916666666667,1690.5,1671.4583333333333,1646.5833333333333,1611.0,1619.3333333333333,1580.3333333333333,1583.5416666666667,1586.0416666666667,1598.3333333333333,1615.0416666666667,1628.7083333333333,1619.375,1643.7083333333333,1676.7083333333333,1656.5,1688.7916666666667,1627.0416666666667,1644.8333333333333,1634.7916666666667,1608.0833333333333,1567.25,1595.2916666666667,1563.75,1490.1666666666667,1551.0,1531.9166666666667,1536.2083333333333,1569.2083333333333,1554.1666666666667,1548.75,1582.75,1619.125,1665.9583333333333,1659.4583333333333,1597.875,1594.4583333333333,1628.7083333333333,1590.625,1628.75,1624.5416666666667,1691.4166666666667,1702.625,1689.5833333333333,1688.25,1708.75,1668.2083333333333,1653.4583333333333,1695.1666666666667,1693.9583333333333,1729.875,1752.0833333333333,1732.6666666666667,1737.0833333333333,1778.0416666666667,1778.3333333333333,1772.9166666666667,1703.25,1731.5,1779.1666666666667,1760.4583333333333,1707.9583333333333,1718.25,1695.4166666666667,1683.2916666666667,1693.25,1707.3333333333333,1719.5833333333333,1709.5,1684.5,1673.8333333333333,1698.0833333333333,1677.5833333333333,1688.9583333333333,1716.4583333333333,1681.4583333333333,1706.1666666666667,1759.5833333333333,1738.0833333333333,1709.875,1691.125,1769.4166666666667,1721.75,1728.2083333333333,1718.3333333333333,1727.5416666666667,1729.625,1743.7083333333333,1700.9166666666667,1647.75,1637.25,1659.1666666666667,1652.0,1687.7083333333333,1698.4166666666667,1680.875,1740.8333333333333,1683.375,1663.5,1720.4166666666667,1743.0416666666667,1718.6666666666667,1679.6666666666667,1690.125,1674.7083333333333,1596.0416666666667,1646.5,1637.2916666666667,1618.375,1594.0,1578.125,1576.9583333333333,1654.8333333333333,1640.4583333333333,1688.0833333333333,1612.9583333333333,1666.75,1671.3333333333333,1690.5416666666667,1684.125,1621.5833333333333,1676.4583333333333,1693.375,1663.5,1606.7083333333333,1579.6666666666667,1618.0,1624.1666666666667,1653.75,1680.5416666666667,1670.25,1634.4166666666667,1664.0,1673.0416666666667,1704.8333333333333,1806.0416666666667,1830.7083333333333,1822.2916666666667,1777.5833333333333,1809.6666666666667,1785.5833333333333,1826.125,1852.4583333333333,1874.0833333333333,1867.0,1833.1666666666667,1784.5416666666667,1771.2916666666667,1846.5416666666667,1855.3333333333333,1835.5,1803.3333333333333,1787.4166666666667,1823.0,1865.3333333333333,1879.0833333333333,1861.7916666666667,1869.5416666666667,1835.1666666666667,1744.2916666666667,1711.625,1767.5416666666667,1782.75,1782.8333333333333,1820.7083333333333,1832.4166666666667,1782.875,1785.1666666666667,1816.2916666666667],\"type\":\"scatter\"},{\"mode\":\"lines\",\"name\":\"DE:(Trend: Increasing)\",\"x\":[0,1,2,3,4,5,6,7,8,9,10,11,12,13,14,15,16,17,18,19,20,21,22,23,24,25,26,27,28,29,30,31,32,33,34,35,36,37,38,39,40,41,42,43,44,45,46,47,48,49,50,51,52,53,54,55,56,57,58,59,60,61,62,63,64,65,66,67,68,69,70,71,72,73,74,75,76,77,78,79,80,81,82,83,84,85,86,87,88,89,90,91,92,93,94,95,96,97,98,99,100,101,102,103,104,105,106,107,108,109,110,111,112,113,114,115,116,117,118,119,120,121,122,123,124,125,126,127,128,129,130,131,132,133,134,135,136,137,138,139,140,141,142,143,144,145,146,147,148,149,150,151,152,153,154,155,156,157,158,159,160,161,162,163,164,165,166,167,168,169,170,171,172,173,174,175,176,177,178,179,180,181,182,183,184,185,186,187,188,189,190,191,192,193,194,195,196,197,198,199,200,201,202,203,204,205,206,207,208,209,210,211,212,213,214,215,216,217,218,219,220,221,222,223,224,225,226,227,228,229,230,231,232,233,234,235,236,237,238,239,240,241,242,243,244,245,246,247,248,249],\"y\":[null,null,null,null,null,null,null,null,null,null,null,1670.5,1648.076923076923,1656.142857142857,1708.8,1791.0,1717.4705882352941,1671.2222222222222,1659.3157894736842,1671.15,1666.857142857143,1631.5454545454545,1651.0434782608695,1639.5,1637.625,1684.5416666666667,1755.9583333333333,1733.0833333333333,1709.9166666666667,1719.7916666666667,1702.25,1721.8333333333333,1744.9166666666667,1744.875,1714.0833333333333,1727.625,1715.7916666666667,1710.2083333333333,1702.0416666666667,1674.5416666666667,1715.2083333333333,1793.5416666666667,1778.8333333333333,1770.125,1759.9583333333333,1801.4583333333333,1820.0833333333333,1842.9166666666667,1868.0833333333333,1798.4166666666667,1727.0,1773.75,1796.0,1785.1666666666667,1786.6666666666667,1758.0833333333333,1727.2083333333333,1741.2083333333333,1726.25,1741.9166666666667,1766.7916666666667,1790.4166666666667,1768.4583333333333,1772.3333333333333,1754.7916666666667,1695.9166666666667,1722.3333333333333,1770.8333333333333,1840.5,1820.3333333333333,1769.4583333333333,1760.75,1722.875,1789.9166666666667,1799.875,1752.3333333333333,1707.9583333333333,1701.75,1731.5,1730.1666666666667,1825.125,1820.375,1875.2916666666667,1892.9166666666667,1906.9583333333333,1890.375,1910.0416666666667,1900.5416666666667,1943.375,1969.0833333333333,2007.875,1983.4166666666667,1923.0833333333333,1942.6666666666667,1953.0833333333333,1955.2083333333333,1956.5833333333333,1889.75,1923.5,1936.9583333333333,1973.8333333333333,1978.1666666666667,1974.9583333333333,1942.75,1838.75,1816.7083333333333,1814.5416666666667,1801.0833333333333,1773.9166666666667,1774.25,1755.7083333333333,1676.3333333333333,1670.375,1643.7083333333333,1580.125,1552.4583333333333,1601.75,1595.9583333333333,1576.7916666666667,1579.5416666666667,1628.2916666666667,1646.0,1592.4583333333333,1568.25,1564.5,1597.8333333333333,1566.25,1623.125,1625.7083333333333,1714.0,1669.9166666666667,1636.7083333333333,1636.0833333333333,1632.0,1607.7083333333333,1630.3333333333333,1597.4583333333333,1588.125,1586.7083333333333,1588.9166666666667,1533.375,1534.7916666666667,1551.7916666666667,1575.7083333333333,1565.3333333333333,1648.4583333333333,1675.0833333333333,1700.1666666666667,1677.875,1694.7916666666667,1796.875,1776.2916666666667,1795.4583333333333,1763.625,1764.0416666666667,1773.0416666666667,1781.2083333333333,1732.6666666666667,1785.25,1841.0,1847.125,1847.3333333333333,1880.9166666666667,1898.625,1888.625,1851.375,1854.7916666666667,1814.125,1826.7916666666667,1767.1666666666667,1755.1666666666667,1754.0,1827.75,1853.8333333333333,1733.8333333333333,1782.4583333333333,1803.2083333333333,1834.4583333333333,1907.2916666666667,1918.7916666666667,1918.2916666666667,1955.3333333333333,1928.7083333333333,1942.7083333333333,1936.625,1940.75,1959.25,1886.1666666666667,1895.5833333333333,1926.7916666666667,1897.75,1954.875,1871.4583333333333,1815.9583333333333,1814.9583333333333,1824.9166666666667,1754.2083333333333,1644.0833333333333,1697.3333333333333,1644.5833333333333,1613.4583333333333,1533.125,1498.375,1473.2083333333333,1501.7916666666667,1539.7916666666667,1500.5416666666667,1469.2916666666667,1497.1666666666667,1536.4166666666667,1521.2916666666667,1543.125,1521.125,1562.875,1591.25,1541.8333333333333,1576.4583333333333,1590.75,1559.5416666666667,1561.6666666666667,1556.75,1662.2916666666667,1599.7916666666667,1609.125,1615.2916666666667,1659.1666666666667,1660.7083333333333,1705.125,1682.7916666666667,1709.8333333333333,1740.8333333333333,1747.5833333333333,1732.125,1738.0416666666667,1725.625,1784.0,1814.9166666666667,1738.5833333333333,1831.75,1778.0416666666667,1829.9583333333333,1882.75,1881.9166666666667,1869.875,1903.0416666666667,1793.25,1827.875,1889.4166666666667,1899.1666666666667,1841.25,1874.125,1849.5833333333333,1904.9583333333333,1890.5,1856.5416666666667,1873.625,1867.7916666666667,1842.375,1847.2083333333333,1873.875,1910.3333333333333,1938.7083333333333,1893.8333333333333,1954.625,1891.25,1854.1666666666667,1850.6666666666667,1851.4166666666667,1839.5416666666667,1868.25,1869.5416666666667],\"type\":\"scatter\"},{\"mode\":\"lines\",\"name\":\"SADE:(Trend: Decreasing)\",\"x\":[0,1,2,3,4,5,6,7,8,9,10,11,12,13,14,15,16,17,18,19,20,21,22,23,24,25,26,27,28,29,30,31,32,33,34,35,36,37,38,39,40,41,42,43,44,45,46,47,48,49,50,51,52,53,54,55,56,57,58,59,60,61,62,63,64,65,66,67,68,69,70,71,72,73,74,75,76,77,78,79,80,81,82,83,84,85,86,87,88,89,90,91,92,93,94,95,96,97,98,99,100,101,102,103,104,105,106,107,108,109,110,111,112,113,114,115,116,117,118,119,120,121,122,123,124,125,126,127,128,129,130,131,132,133,134,135,136,137,138,139,140,141,142,143,144,145,146,147,148,149,150,151,152,153,154,155,156,157,158,159,160,161,162,163,164,165,166,167,168,169,170,171,172,173,174,175,176,177,178,179,180,181,182,183,184,185,186,187,188,189,190,191,192,193,194,195,196,197,198,199,200,201,202,203,204,205,206,207,208,209,210,211,212,213,214,215,216,217,218,219,220,221,222,223,224,225,226,227,228,229,230,231,232,233,234,235,236,237,238,239,240,241,242,243,244,245,246,247,248,249],\"y\":[null,null,null,null,null,null,null,null,null,null,null,1709.0,1661.7692307692307,1638.2142857142858,1690.8666666666666,1744.5625,1762.7058823529412,1738.1666666666667,1767.0,1718.45,1795.904761904762,1785.1818181818182,1755.7826086956522,1772.0,1810.7916666666667,1820.5,1771.375,1791.25,1846.7916666666667,1825.4166666666667,1839.625,1812.875,1775.2083333333333,1751.125,1769.1666666666667,1791.0416666666667,1799.5,1845.5833333333333,1813.125,1825.4166666666667,1831.0,1848.25,1850.875,1840.25,1855.9583333333333,1854.2916666666667,1928.0833333333333,1908.5,1847.6666666666667,1808.375,1761.125,1681.7083333333333,1692.2083333333333,1692.4166666666667,1667.7916666666667,1679.3333333333333,1688.625,1793.875,1810.625,1795.2083333333333,1850.5833333333333,1832.0,1828.5833333333333,1784.0833333333333,1731.1666666666667,1704.5833333333333,1710.7916666666667,1751.1666666666667,1662.5416666666667,1661.5416666666667,1586.9166666666667,1616.6666666666667,1692.625,1668.75,1726.0833333333333,1783.5833333333333,1754.4166666666667,1767.5,1776.3333333333333,1826.3333333333333,1836.875,1784.0416666666667,1764.25,1783.9583333333333,1728.0416666666667,1727.5416666666667,1724.625,1703.875,1733.1666666666667,1791.75,1845.4583333333333,1880.0833333333333,1881.0,1864.3333333333333,1855.9583333333333,1879.5416666666667,1871.2916666666667,1916.75,1884.3333333333333,1872.5416666666667,1857.9583333333333,1866.9583333333333,1919.5833333333333,1871.7083333333333,1872.375,1926.25,1922.125,1890.4166666666667,1899.7916666666667,1896.0833333333333,1867.2916666666667,1877.5833333333333,1874.0833333333333,1801.75,1690.5416666666667,1666.5416666666667,1650.25,1671.3333333333333,1666.0833333333333,1597.25,1605.3333333333333,1588.0416666666667,1602.4166666666667,1631.2083333333333,1664.0,1648.9583333333333,1644.8333333333333,1657.6666666666667,1710.3333333333333,1665.6666666666667,1681.3333333333333,1735.1666666666667,1703.8333333333333,1684.0,1697.375,1678.125,1648.875,1676.25,1661.2083333333333,1649.375,1635.0,1616.125,1658.5833333333333,1684.8333333333333,1623.7083333333333,1605.4166666666667,1567.5,1540.0416666666667,1531.9166666666667,1543.0416666666667,1517.25,1477.8333333333333,1444.4166666666667,1384.2916666666667,1425.7083333333333,1380.3333333333333,1425.0833333333333,1434.5,1433.2916666666667,1462.5833333333333,1529.125,1538.7083333333333,1576.4583333333333,1627.9166666666667,1723.3333333333333,1749.4166666666667,1807.875,1885.75,1914.2916666666667,1936.875,1968.75,1994.75,2003.8333333333333,1991.0416666666667,1990.2916666666667,2003.25,1960.125,1988.0833333333333,1941.9583333333333,1977.2083333333333,1975.8333333333333,1987.625,1977.875,2002.1666666666667,1988.0,1989.5,1983.9583333333333,1945.3333333333333,1901.1666666666667,1988.25,1936.5,1835.6666666666667,1794.125,1729.5833333333333,1748.25,1702.1666666666667,1655.4583333333333,1675.875,1655.5,1688.3333333333333,1723.0416666666667,1760.0833333333333,1752.25,1707.7916666666667,1696.0416666666667,1705.7083333333333,1723.5,1698.4166666666667,1682.25,1675.4583333333333,1708.875,1679.8333333333333,1650.7916666666667,1574.8333333333333,1551.0,1563.0416666666667,1583.5833333333333,1667.4583333333333,1612.6666666666667,1638.7083333333333,1672.7083333333333,1645.2916666666667,1668.2083333333333,1703.4166666666667,1698.3333333333333,1663.9583333333333,1679.2083333333333,1722.9583333333333,1705.2916666666667,1652.0833333333333,1665.0416666666667,1642.1666666666667,1648.25,1626.0416666666667,1638.0833333333333,1638.9583333333333,1646.7083333333333,1626.25,1605.8333333333333,1603.0416666666667,1571.8333333333333,1593.75,1606.75,1592.7083333333333,1585.0416666666667,1597.4583333333333,1586.875,1543.1666666666667,1534.25,1543.9166666666667,1536.6666666666667,1524.1666666666667,1569.2083333333333,1605.5,1610.0416666666667,1624.7916666666667,1603.6666666666667,1645.375,1585.4166666666667,1604.0416666666667,1583.0833333333333,1594.2916666666667,1594.125,1574.4583333333333,1580.75,1558.6666666666667,1613.2083333333333,1637.6666666666667,1658.75,1650.9583333333333,1756.5,1813.2916666666667,1804.375,1753.625,1825.625,1855.5833333333333,1838.0833333333333,1852.0833333333333,1879.0,1879.0833333333333,1891.875,1903.2916666666667,1890.75,1912.2916666666667,1956.4166666666667,2028.5416666666667,2061.8333333333335,2106.5833333333335,2135.75,2095.875,2072.6666666666665,2077.7083333333335,2041.5416666666667,2036.2083333333333,1929.0,1891.2083333333333,1889.5416666666667,1946.5416666666667,1870.0416666666667,1837.9166666666667,1836.5416666666667,1830.375,1777.0,1779.1666666666667,1759.5833333333333,1732.2916666666667,1760.5416666666667,1787.5416666666667,1747.7916666666667,1686.0,1684.625,1653.9166666666667,1629.1666666666667,1594.375,1554.5,1489.875,1508.7916666666667,1595.7916666666667,1571.625,1547.5416666666667,1594.4583333333333,1551.5,1556.25,1551.1666666666667,1524.7916666666667,1480.875,1487.8333333333333,1501.9166666666667],\"type\":\"scatter\"}],                        {\"template\":{\"data\":{\"histogram2dcontour\":[{\"type\":\"histogram2dcontour\",\"colorbar\":{\"outlinewidth\":0,\"ticks\":\"\"},\"colorscale\":[[0.0,\"#0d0887\"],[0.1111111111111111,\"#46039f\"],[0.2222222222222222,\"#7201a8\"],[0.3333333333333333,\"#9c179e\"],[0.4444444444444444,\"#bd3786\"],[0.5555555555555556,\"#d8576b\"],[0.6666666666666666,\"#ed7953\"],[0.7777777777777778,\"#fb9f3a\"],[0.8888888888888888,\"#fdca26\"],[1.0,\"#f0f921\"]]}],\"choropleth\":[{\"type\":\"choropleth\",\"colorbar\":{\"outlinewidth\":0,\"ticks\":\"\"}}],\"histogram2d\":[{\"type\":\"histogram2d\",\"colorbar\":{\"outlinewidth\":0,\"ticks\":\"\"},\"colorscale\":[[0.0,\"#0d0887\"],[0.1111111111111111,\"#46039f\"],[0.2222222222222222,\"#7201a8\"],[0.3333333333333333,\"#9c179e\"],[0.4444444444444444,\"#bd3786\"],[0.5555555555555556,\"#d8576b\"],[0.6666666666666666,\"#ed7953\"],[0.7777777777777778,\"#fb9f3a\"],[0.8888888888888888,\"#fdca26\"],[1.0,\"#f0f921\"]]}],\"heatmap\":[{\"type\":\"heatmap\",\"colorbar\":{\"outlinewidth\":0,\"ticks\":\"\"},\"colorscale\":[[0.0,\"#0d0887\"],[0.1111111111111111,\"#46039f\"],[0.2222222222222222,\"#7201a8\"],[0.3333333333333333,\"#9c179e\"],[0.4444444444444444,\"#bd3786\"],[0.5555555555555556,\"#d8576b\"],[0.6666666666666666,\"#ed7953\"],[0.7777777777777778,\"#fb9f3a\"],[0.8888888888888888,\"#fdca26\"],[1.0,\"#f0f921\"]]}],\"heatmapgl\":[{\"type\":\"heatmapgl\",\"colorbar\":{\"outlinewidth\":0,\"ticks\":\"\"},\"colorscale\":[[0.0,\"#0d0887\"],[0.1111111111111111,\"#46039f\"],[0.2222222222222222,\"#7201a8\"],[0.3333333333333333,\"#9c179e\"],[0.4444444444444444,\"#bd3786\"],[0.5555555555555556,\"#d8576b\"],[0.6666666666666666,\"#ed7953\"],[0.7777777777777778,\"#fb9f3a\"],[0.8888888888888888,\"#fdca26\"],[1.0,\"#f0f921\"]]}],\"contourcarpet\":[{\"type\":\"contourcarpet\",\"colorbar\":{\"outlinewidth\":0,\"ticks\":\"\"}}],\"contour\":[{\"type\":\"contour\",\"colorbar\":{\"outlinewidth\":0,\"ticks\":\"\"},\"colorscale\":[[0.0,\"#0d0887\"],[0.1111111111111111,\"#46039f\"],[0.2222222222222222,\"#7201a8\"],[0.3333333333333333,\"#9c179e\"],[0.4444444444444444,\"#bd3786\"],[0.5555555555555556,\"#d8576b\"],[0.6666666666666666,\"#ed7953\"],[0.7777777777777778,\"#fb9f3a\"],[0.8888888888888888,\"#fdca26\"],[1.0,\"#f0f921\"]]}],\"surface\":[{\"type\":\"surface\",\"colorbar\":{\"outlinewidth\":0,\"ticks\":\"\"},\"colorscale\":[[0.0,\"#0d0887\"],[0.1111111111111111,\"#46039f\"],[0.2222222222222222,\"#7201a8\"],[0.3333333333333333,\"#9c179e\"],[0.4444444444444444,\"#bd3786\"],[0.5555555555555556,\"#d8576b\"],[0.6666666666666666,\"#ed7953\"],[0.7777777777777778,\"#fb9f3a\"],[0.8888888888888888,\"#fdca26\"],[1.0,\"#f0f921\"]]}],\"mesh3d\":[{\"type\":\"mesh3d\",\"colorbar\":{\"outlinewidth\":0,\"ticks\":\"\"}}],\"scatter\":[{\"fillpattern\":{\"fillmode\":\"overlay\",\"size\":10,\"solidity\":0.2},\"type\":\"scatter\"}],\"parcoords\":[{\"type\":\"parcoords\",\"line\":{\"colorbar\":{\"outlinewidth\":0,\"ticks\":\"\"}}}],\"scatterpolargl\":[{\"type\":\"scatterpolargl\",\"marker\":{\"colorbar\":{\"outlinewidth\":0,\"ticks\":\"\"}}}],\"bar\":[{\"error_x\":{\"color\":\"#2a3f5f\"},\"error_y\":{\"color\":\"#2a3f5f\"},\"marker\":{\"line\":{\"color\":\"#E5ECF6\",\"width\":0.5},\"pattern\":{\"fillmode\":\"overlay\",\"size\":10,\"solidity\":0.2}},\"type\":\"bar\"}],\"scattergeo\":[{\"type\":\"scattergeo\",\"marker\":{\"colorbar\":{\"outlinewidth\":0,\"ticks\":\"\"}}}],\"scatterpolar\":[{\"type\":\"scatterpolar\",\"marker\":{\"colorbar\":{\"outlinewidth\":0,\"ticks\":\"\"}}}],\"histogram\":[{\"marker\":{\"pattern\":{\"fillmode\":\"overlay\",\"size\":10,\"solidity\":0.2}},\"type\":\"histogram\"}],\"scattergl\":[{\"type\":\"scattergl\",\"marker\":{\"colorbar\":{\"outlinewidth\":0,\"ticks\":\"\"}}}],\"scatter3d\":[{\"type\":\"scatter3d\",\"line\":{\"colorbar\":{\"outlinewidth\":0,\"ticks\":\"\"}},\"marker\":{\"colorbar\":{\"outlinewidth\":0,\"ticks\":\"\"}}}],\"scattermapbox\":[{\"type\":\"scattermapbox\",\"marker\":{\"colorbar\":{\"outlinewidth\":0,\"ticks\":\"\"}}}],\"scatterternary\":[{\"type\":\"scatterternary\",\"marker\":{\"colorbar\":{\"outlinewidth\":0,\"ticks\":\"\"}}}],\"scattercarpet\":[{\"type\":\"scattercarpet\",\"marker\":{\"colorbar\":{\"outlinewidth\":0,\"ticks\":\"\"}}}],\"carpet\":[{\"aaxis\":{\"endlinecolor\":\"#2a3f5f\",\"gridcolor\":\"white\",\"linecolor\":\"white\",\"minorgridcolor\":\"white\",\"startlinecolor\":\"#2a3f5f\"},\"baxis\":{\"endlinecolor\":\"#2a3f5f\",\"gridcolor\":\"white\",\"linecolor\":\"white\",\"minorgridcolor\":\"white\",\"startlinecolor\":\"#2a3f5f\"},\"type\":\"carpet\"}],\"table\":[{\"cells\":{\"fill\":{\"color\":\"#EBF0F8\"},\"line\":{\"color\":\"white\"}},\"header\":{\"fill\":{\"color\":\"#C8D4E3\"},\"line\":{\"color\":\"white\"}},\"type\":\"table\"}],\"barpolar\":[{\"marker\":{\"line\":{\"color\":\"#E5ECF6\",\"width\":0.5},\"pattern\":{\"fillmode\":\"overlay\",\"size\":10,\"solidity\":0.2}},\"type\":\"barpolar\"}],\"pie\":[{\"automargin\":true,\"type\":\"pie\"}]},\"layout\":{\"autotypenumbers\":\"strict\",\"colorway\":[\"#636efa\",\"#EF553B\",\"#00cc96\",\"#ab63fa\",\"#FFA15A\",\"#19d3f3\",\"#FF6692\",\"#B6E880\",\"#FF97FF\",\"#FECB52\"],\"font\":{\"color\":\"#2a3f5f\"},\"hovermode\":\"closest\",\"hoverlabel\":{\"align\":\"left\"},\"paper_bgcolor\":\"white\",\"plot_bgcolor\":\"#E5ECF6\",\"polar\":{\"bgcolor\":\"#E5ECF6\",\"angularaxis\":{\"gridcolor\":\"white\",\"linecolor\":\"white\",\"ticks\":\"\"},\"radialaxis\":{\"gridcolor\":\"white\",\"linecolor\":\"white\",\"ticks\":\"\"}},\"ternary\":{\"bgcolor\":\"#E5ECF6\",\"aaxis\":{\"gridcolor\":\"white\",\"linecolor\":\"white\",\"ticks\":\"\"},\"baxis\":{\"gridcolor\":\"white\",\"linecolor\":\"white\",\"ticks\":\"\"},\"caxis\":{\"gridcolor\":\"white\",\"linecolor\":\"white\",\"ticks\":\"\"}},\"coloraxis\":{\"colorbar\":{\"outlinewidth\":0,\"ticks\":\"\"}},\"colorscale\":{\"sequential\":[[0.0,\"#0d0887\"],[0.1111111111111111,\"#46039f\"],[0.2222222222222222,\"#7201a8\"],[0.3333333333333333,\"#9c179e\"],[0.4444444444444444,\"#bd3786\"],[0.5555555555555556,\"#d8576b\"],[0.6666666666666666,\"#ed7953\"],[0.7777777777777778,\"#fb9f3a\"],[0.8888888888888888,\"#fdca26\"],[1.0,\"#f0f921\"]],\"sequentialminus\":[[0.0,\"#0d0887\"],[0.1111111111111111,\"#46039f\"],[0.2222222222222222,\"#7201a8\"],[0.3333333333333333,\"#9c179e\"],[0.4444444444444444,\"#bd3786\"],[0.5555555555555556,\"#d8576b\"],[0.6666666666666666,\"#ed7953\"],[0.7777777777777778,\"#fb9f3a\"],[0.8888888888888888,\"#fdca26\"],[1.0,\"#f0f921\"]],\"diverging\":[[0,\"#8e0152\"],[0.1,\"#c51b7d\"],[0.2,\"#de77ae\"],[0.3,\"#f1b6da\"],[0.4,\"#fde0ef\"],[0.5,\"#f7f7f7\"],[0.6,\"#e6f5d0\"],[0.7,\"#b8e186\"],[0.8,\"#7fbc41\"],[0.9,\"#4d9221\"],[1,\"#276419\"]]},\"xaxis\":{\"gridcolor\":\"white\",\"linecolor\":\"white\",\"ticks\":\"\",\"title\":{\"standoff\":15},\"zerolinecolor\":\"white\",\"automargin\":true,\"zerolinewidth\":2},\"yaxis\":{\"gridcolor\":\"white\",\"linecolor\":\"white\",\"ticks\":\"\",\"title\":{\"standoff\":15},\"zerolinecolor\":\"white\",\"automargin\":true,\"zerolinewidth\":2},\"scene\":{\"xaxis\":{\"backgroundcolor\":\"#E5ECF6\",\"gridcolor\":\"white\",\"linecolor\":\"white\",\"showbackground\":true,\"ticks\":\"\",\"zerolinecolor\":\"white\",\"gridwidth\":2},\"yaxis\":{\"backgroundcolor\":\"#E5ECF6\",\"gridcolor\":\"white\",\"linecolor\":\"white\",\"showbackground\":true,\"ticks\":\"\",\"zerolinecolor\":\"white\",\"gridwidth\":2},\"zaxis\":{\"backgroundcolor\":\"#E5ECF6\",\"gridcolor\":\"white\",\"linecolor\":\"white\",\"showbackground\":true,\"ticks\":\"\",\"zerolinecolor\":\"white\",\"gridwidth\":2}},\"shapedefaults\":{\"line\":{\"color\":\"#2a3f5f\"}},\"annotationdefaults\":{\"arrowcolor\":\"#2a3f5f\",\"arrowhead\":0,\"arrowwidth\":1},\"geo\":{\"bgcolor\":\"white\",\"landcolor\":\"#E5ECF6\",\"subunitcolor\":\"white\",\"showland\":true,\"showlakes\":true,\"lakecolor\":\"white\"},\"title\":{\"x\":0.05},\"mapbox\":{\"style\":\"light\"}}},\"xaxis\":{\"range\":[0,250]},\"yaxis\":{\"range\":[1000,2500]},\"legend\":{\"orientation\":\"h\",\"yanchor\":\"bottom\",\"y\":1.02,\"xanchor\":\"center\",\"x\":0.5},\"autosize\":false,\"width\":1600,\"height\":450},                        {\"responsive\": true}                    ).then(function(){\n                            \nvar gd = document.getElementById('29e83ef7-1d96-4a9c-9ef0-8eaa2ec55f33');\nvar x = new MutationObserver(function (mutations, observer) {{\n        var display = window.getComputedStyle(gd).display;\n        if (!display || display === 'none') {{\n            console.log([gd, 'removed!']);\n            Plotly.purge(gd);\n            observer.disconnect();\n        }}\n}});\n\n// Listen for the removal of the full notebook cells\nvar notebookContainer = gd.closest('#notebook-container');\nif (notebookContainer) {{\n    x.observe(notebookContainer, {childList: true});\n}}\n\n// Listen for the clearing of the current output cell\nvar outputEl = gd.closest('.output');\nif (outputEl) {{\n    x.observe(outputEl, {childList: true});\n}}\n\n                        })                };                });            </script>        </div>"
     },
     "metadata": {},
     "output_type": "display_data"
    }
   ],
   "source": [
    "import pymannkendall as mk\n",
    "def plot_rolling_statistics(x_values, y_values, algorithms, means, df, constant):\n",
    "    \"\"\"\n",
    "    Plot rolling statistics using Plotly Express.\n",
    "    \n",
    "    :param x_values: List of x_values for each algorithm.\n",
    "    :param y_values: List of y_values for each algorithm.\n",
    "    :param algorithms: List of algorithm names.\n",
    "    :param means: List of mean values for each algorithm.\n",
    "    :param df: Original DataFrame for additional plot elements.\n",
    "    :param constant: The constant column name used in the statistics.\n",
    "    \"\"\"\n",
    "    # Prepare DataFrame for Plotly\n",
    "    plot_df = pd.DataFrame({\n",
    "        'iteration': sum([list(x) for x in x_values], []),\n",
    "        constant: sum([list(y) for y in y_values], []),\n",
    "        'algorithm': sum([[algo] * len(x) for algo, x in zip(algorithms, x_values)], [])\n",
    "    })   \n",
    "\n",
    "\n",
    "    # Create the scatter plot\n",
    "    fig = go.Figure()\n",
    "    fig.update_layout(\n",
    "        autosize=False,\n",
    "        width=1600,\n",
    "        height=450,\n",
    "        xaxis=dict(range=[0, 250]),\n",
    "        yaxis=dict(range=[1000, 2500]),\n",
    "         legend=dict(\n",
    "            orientation=\"h\",\n",
    "            yanchor=\"bottom\",\n",
    "            y=1.02,\n",
    "            xanchor=\"center\",\n",
    "            x=0.5\n",
    "        )\n",
    "    )\n",
    "    \n",
    "    # Add trend lines\n",
    "    for mean, algorithm in zip(means, algorithms):\n",
    "        trend = mk.original_test(mean).trend\n",
    "        if trend == \"no trend\":\n",
    "            trend = \"(Trend: No change)\"\n",
    "        elif trend == \"increasing\":\n",
    "            trend = \"(Trend: Increasing)\"\n",
    "        elif trend == \"decreasing\":\n",
    "            trend = \"(Trend: Decreasing)\"\n",
    "        else:\n",
    "            trend = \"No Trend Detected\"\n",
    "        fig.add_scatter(x=plot_df[plot_df['algorithm'] == algorithm]['iteration'], y=mean, mode='lines', name=f'{algorithm}:{trend}')\n",
    "    \n",
    "\n",
    "\n",
    "    fig.show()\n",
    "    fig.write_image(\"plot_rolling_statistics.svg\")\n",
    "\n",
    "# Function calls (comment out before running and use your own DataFrame and CONSTANT)\n",
    "CONSTANT = 'fitness'\n",
    "\n",
    "\n",
    "x_values, y_values, algorithms, means, deviations = calculate_rolling_statistics(df_solutions, CONSTANT)\n",
    "plot_rolling_statistics(x_values, y_values, algorithms, means, df_solutions, CONSTANT)\n"
   ]
  },
  {
   "cell_type": "markdown",
   "source": [
    "### Statistical Significance Testing and Nova Analysis"
   ],
   "metadata": {
    "collapsed": false
   },
   "id": "7900b03c3190934d"
  },
  {
   "cell_type": "code",
   "execution_count": 18,
   "id": "755cfc959cc1c630",
   "metadata": {
    "collapsed": false,
    "ExecuteTime": {
     "end_time": "2024-05-02T15:34:10.677227400Z",
     "start_time": "2024-05-02T15:34:10.634160300Z"
    }
   },
   "outputs": [],
   "source": [
    "df_bootstrapped = pd.DataFrame({\n",
    "    'iteration': sum([list(x) for x in x_values], []),\n",
    "    'fitness': sum([list(y) for y in y_values], []),\n",
    "    'algorithm': sum([[algo] * len(x) for algo, x in zip(algorithms, x_values)], [])\n",
    "})"
   ]
  },
  {
   "cell_type": "code",
   "execution_count": 19,
   "id": "8edcc216d6c3618e",
   "metadata": {
    "collapsed": false,
    "ExecuteTime": {
     "end_time": "2024-05-02T15:35:09.174126800Z",
     "start_time": "2024-05-02T15:34:10.663206800Z"
    }
   },
   "outputs": [
    {
     "data": {
      "application/vnd.plotly.v1+json": {
       "data": [
        {
         "line": {
          "width": 2
         },
         "mode": "lines",
         "name": "PSO Mean Fitness",
         "x": [
          0,
          1,
          2,
          3,
          4,
          5,
          6,
          7,
          8,
          9,
          10,
          11,
          12,
          13,
          14,
          15,
          16,
          17,
          18,
          19,
          20,
          21,
          22,
          23,
          24,
          25,
          26,
          27,
          28,
          29,
          30,
          31,
          32,
          33,
          34,
          35,
          36,
          37,
          38,
          39,
          40,
          41,
          42,
          43,
          44,
          45,
          46,
          47,
          48,
          49,
          50,
          51,
          52,
          53,
          54,
          55,
          56,
          57,
          58,
          59,
          60,
          61,
          62,
          63,
          64,
          65,
          66,
          67,
          68,
          69,
          70,
          71,
          72,
          73,
          74,
          75,
          76,
          77,
          78,
          79,
          80,
          81,
          82,
          83,
          84,
          85,
          86,
          87,
          88,
          89,
          90,
          91,
          92,
          93,
          94,
          95,
          96,
          97,
          98,
          99,
          100,
          101,
          102,
          103,
          104,
          105,
          106,
          107,
          108,
          109,
          110,
          111,
          112,
          113,
          114,
          115,
          116,
          117,
          118,
          119,
          120,
          121,
          122,
          123,
          124,
          125,
          126,
          127,
          128,
          129,
          130,
          131,
          132,
          133,
          134,
          135,
          136,
          137,
          138,
          139,
          140,
          141,
          142,
          143,
          144,
          145,
          146,
          147,
          148,
          149,
          150,
          151,
          152,
          153,
          154,
          155,
          156,
          157,
          158,
          159,
          160,
          161,
          162,
          163,
          164,
          165,
          166,
          167,
          168,
          169,
          170,
          171,
          172,
          173,
          174,
          175,
          176,
          177,
          178,
          179,
          180,
          181,
          182,
          183,
          184,
          185,
          186,
          187,
          188,
          189,
          190,
          191,
          192,
          193,
          194,
          195,
          196,
          197,
          198,
          199,
          200,
          201,
          202,
          203,
          204,
          205,
          206,
          207,
          208,
          209,
          210,
          211,
          212,
          213,
          214,
          215,
          216,
          217,
          218,
          219,
          220,
          221,
          222,
          223,
          224,
          225,
          226,
          227,
          228,
          229,
          230,
          231,
          232,
          233,
          234,
          235,
          236,
          237,
          238,
          239,
          240,
          241,
          242,
          243,
          244,
          245,
          246,
          247,
          248,
          249
         ],
         "y": [
          1523.0,
          1360.0,
          2208.0,
          3826.0,
          1233.0,
          1697.0,
          2227.0,
          1679.0,
          1693.0,
          1430.0,
          1709.0,
          3482.0,
          1757.0,
          1100.0,
          2366.0,
          2040.0,
          2825.0,
          2289.0,
          1622.0,
          541.0,
          2775.0,
          1586.0,
          205.0,
          2200.0,
          3219.0,
          2824.0,
          1786.0,
          1095.0,
          2324.0,
          1472.0,
          2355.0,
          2148.0,
          1096.0,
          2238.0,
          1334.0,
          2457.0,
          2272.0,
          2380.0,
          1321.0,
          1394.0,
          3186.0,
          1380.0,
          2273.0,
          1728.0,
          889.0,
          2479.0,
          870.0,
          2015.0,
          2073.0,
          3000.0,
          884.0,
          1109.0,
          1122.0,
          2701.0,
          2613.0,
          1727.0,
          1325.0,
          1617.0,
          3770.0,
          1324.0,
          2199.0,
          1579.0,
          881.0,
          3155.0,
          1814.0,
          1491.0,
          1840.0,
          541.0,
          1824.0,
          1191.0,
          1338.0,
          1301.0,
          2009.0,
          1976.0,
          1470.0,
          1406.0,
          2595.0,
          1175.0,
          793.0,
          823.0,
          2263.0,
          1098.0,
          1548.0,
          1512.0,
          1361.0,
          1830.0,
          2333.0,
          2626.0,
          1708.0,
          1923.0,
          3429.0,
          2186.0,
          1442.0,
          2607.0,
          1401.0,
          1122.0,
          1415.0,
          2531.0,
          1279.0,
          879.0,
          1186.0,
          1933.0,
          1615.0,
          1929.0,
          1679.0,
          885.0,
          1183.0,
          1334.0,
          1053.0,
          1547.0,
          2397.0,
          1295.0,
          3488.0,
          1784.0,
          2182.0,
          2469.0,
          3361.0,
          2106.0,
          1836.0,
          1095.0,
          1661.0,
          1942.0,
          2804.0,
          1592.0,
          1914.0,
          1226.0,
          3601.0,
          3113.0,
          2711.0,
          1954.0,
          1095.0,
          902.0,
          1290.0,
          885.0,
          1897.0,
          1553.0,
          1348.0,
          1096.0,
          1093.0,
          202.0,
          1865.0,
          1760.0,
          1509.0,
          1829.0,
          2258.0,
          2264.0,
          1269.0,
          1305.0,
          1035.0,
          1739.0,
          2223.0,
          1541.0,
          1869.0,
          1568.0,
          2208.0,
          1363.0,
          1222.0,
          1059.0,
          887.0,
          1108.0,
          1096.0,
          1620.0,
          2248.0,
          1675.0,
          1903.0,
          1699.0,
          1500.0,
          1097.0,
          1488.0,
          1887.0,
          1584.0,
          2509.0,
          888.0,
          1785.0,
          783.0,
          1628.0,
          1565.0,
          2283.0,
          541.0,
          1616.0,
          2058.0,
          1543.0,
          1908.0,
          2918.0,
          1092.0,
          1070.0,
          2321.0,
          1206.0,
          1378.0,
          1521.0,
          1092.0,
          2480.0,
          885.0,
          1702.0,
          1464.0,
          2410.0,
          790.0,
          2155.0,
          1456.0,
          1588.0,
          1843.0,
          1639.0,
          1955.0,
          1101.0,
          1645.0,
          890.0,
          891.0,
          1067.0,
          2320.0,
          765.0,
          1911.0,
          2121.0,
          1093.0,
          2803.0,
          878.0,
          1868.0,
          2335.0,
          3860.0,
          887.0,
          1608.0,
          2313.0,
          2224.0,
          1682.0,
          1219.0,
          1691.0,
          1929.0,
          866.0,
          1530.0,
          1943.0,
          1832.0,
          2038.0,
          1401.0,
          1914.0,
          886.0,
          1776.0,
          1645.0,
          1617.0,
          903.0,
          1169.0,
          1101.0,
          1098.0,
          2693.0,
          1095.0,
          1634.0,
          868.0,
          2751.0,
          1093.0,
          1125.0,
          1452.0,
          880.0
         ],
         "type": "scatter"
        },
        {
         "line": {
          "width": 0
         },
         "mode": "lines",
         "name": "PSO Lower Bound",
         "showlegend": false,
         "x": [
          0,
          1,
          2,
          3,
          4,
          5,
          6,
          7,
          8,
          9,
          10,
          11,
          12,
          13,
          14,
          15,
          16,
          17,
          18,
          19,
          20,
          21,
          22,
          23,
          24,
          25,
          26,
          27,
          28,
          29,
          30,
          31,
          32,
          33,
          34,
          35,
          36,
          37,
          38,
          39,
          40,
          41,
          42,
          43,
          44,
          45,
          46,
          47,
          48,
          49,
          50,
          51,
          52,
          53,
          54,
          55,
          56,
          57,
          58,
          59,
          60,
          61,
          62,
          63,
          64,
          65,
          66,
          67,
          68,
          69,
          70,
          71,
          72,
          73,
          74,
          75,
          76,
          77,
          78,
          79,
          80,
          81,
          82,
          83,
          84,
          85,
          86,
          87,
          88,
          89,
          90,
          91,
          92,
          93,
          94,
          95,
          96,
          97,
          98,
          99,
          100,
          101,
          102,
          103,
          104,
          105,
          106,
          107,
          108,
          109,
          110,
          111,
          112,
          113,
          114,
          115,
          116,
          117,
          118,
          119,
          120,
          121,
          122,
          123,
          124,
          125,
          126,
          127,
          128,
          129,
          130,
          131,
          132,
          133,
          134,
          135,
          136,
          137,
          138,
          139,
          140,
          141,
          142,
          143,
          144,
          145,
          146,
          147,
          148,
          149,
          150,
          151,
          152,
          153,
          154,
          155,
          156,
          157,
          158,
          159,
          160,
          161,
          162,
          163,
          164,
          165,
          166,
          167,
          168,
          169,
          170,
          171,
          172,
          173,
          174,
          175,
          176,
          177,
          178,
          179,
          180,
          181,
          182,
          183,
          184,
          185,
          186,
          187,
          188,
          189,
          190,
          191,
          192,
          193,
          194,
          195,
          196,
          197,
          198,
          199,
          200,
          201,
          202,
          203,
          204,
          205,
          206,
          207,
          208,
          209,
          210,
          211,
          212,
          213,
          214,
          215,
          216,
          217,
          218,
          219,
          220,
          221,
          222,
          223,
          224,
          225,
          226,
          227,
          228,
          229,
          230,
          231,
          232,
          233,
          234,
          235,
          236,
          237,
          238,
          239,
          240,
          241,
          242,
          243,
          244,
          245,
          246,
          247,
          248,
          249
         ],
         "y": [
          1523.0,
          1360.0,
          2208.0,
          3826.0,
          1233.0,
          1697.0,
          2227.0,
          1679.0,
          1693.0,
          1430.0,
          1709.0,
          3482.0,
          1757.0,
          1100.0,
          2366.0,
          2040.0,
          2825.0,
          2289.0,
          1622.0,
          541.0,
          2775.0,
          1586.0,
          205.0,
          2200.0,
          3219.0,
          2824.0,
          1786.0,
          1095.0,
          2324.0,
          1472.0,
          2355.0,
          2148.0,
          1096.0,
          2238.0,
          1334.0,
          2457.0,
          2272.0,
          2380.0,
          1321.0,
          1394.0,
          3186.0,
          1380.0,
          2273.0,
          1728.0,
          889.0,
          2479.0,
          870.0,
          2015.0,
          2073.0,
          3000.0,
          884.0,
          1109.0,
          1122.0,
          2701.0,
          2613.0,
          1727.0,
          1325.0,
          1617.0,
          3770.0,
          1324.0,
          2199.0,
          1579.0,
          881.0,
          3155.0,
          1814.0,
          1491.0,
          1840.0,
          541.0,
          1824.0,
          1191.0,
          1338.0,
          1301.0,
          2009.0,
          1976.0,
          1470.0,
          1406.0,
          2595.0,
          1175.0,
          793.0,
          823.0,
          2263.0,
          1098.0,
          1548.0,
          1512.0,
          1361.0,
          1830.0,
          2333.0,
          2626.0,
          1708.0,
          1923.0,
          3429.0,
          2186.0,
          1442.0,
          2607.0,
          1401.0,
          1122.0,
          1415.0,
          2531.0,
          1279.0,
          879.0,
          1186.0,
          1933.0,
          1615.0,
          1929.0,
          1679.0,
          885.0,
          1183.0,
          1334.0,
          1053.0,
          1547.0,
          2397.0,
          1295.0,
          3488.0,
          1784.0,
          2182.0,
          2469.0,
          3361.0,
          2106.0,
          1836.0,
          1095.0,
          1661.0,
          1942.0,
          2804.0,
          1592.0,
          1914.0,
          1226.0,
          3601.0,
          3113.0,
          2711.0,
          1954.0,
          1095.0,
          902.0,
          1290.0,
          885.0,
          1897.0,
          1553.0,
          1348.0,
          1096.0,
          1093.0,
          202.0,
          1865.0,
          1760.0,
          1509.0,
          1829.0,
          2258.0,
          2264.0,
          1269.0,
          1305.0,
          1035.0,
          1739.0,
          2223.0,
          1541.0,
          1869.0,
          1568.0,
          2208.0,
          1363.0,
          1222.0,
          1059.0,
          887.0,
          1108.0,
          1096.0,
          1620.0,
          2248.0,
          1675.0,
          1903.0,
          1699.0,
          1500.0,
          1097.0,
          1488.0,
          1887.0,
          1584.0,
          2509.0,
          888.0,
          1785.0,
          783.0,
          1628.0,
          1565.0,
          2283.0,
          541.0,
          1616.0,
          2058.0,
          1543.0,
          1908.0,
          2918.0,
          1092.0,
          1070.0,
          2321.0,
          1206.0,
          1378.0,
          1521.0,
          1092.0,
          2480.0,
          885.0,
          1702.0,
          1464.0,
          2410.0,
          790.0,
          2155.0,
          1456.0,
          1588.0,
          1843.0,
          1639.0,
          1955.0,
          1101.0,
          1645.0,
          890.0,
          891.0,
          1067.0,
          2320.0,
          765.0,
          1911.0,
          2121.0,
          1093.0,
          2803.0,
          878.0,
          1868.0,
          2335.0,
          3860.0,
          887.0,
          1608.0,
          2313.0,
          2224.0,
          1682.0,
          1219.0,
          1691.0,
          1929.0,
          866.0,
          1530.0,
          1943.0,
          1832.0,
          2038.0,
          1401.0,
          1914.0,
          886.0,
          1776.0,
          1645.0,
          1617.0,
          903.0,
          1169.0,
          1101.0,
          1098.0,
          2693.0,
          1095.0,
          1634.0,
          868.0,
          2751.0,
          1093.0,
          1125.0,
          1452.0,
          880.0
         ],
         "type": "scatter"
        },
        {
         "fill": "tonexty",
         "fillcolor": "rgba(68, 68, 68, 0.3)",
         "line": {
          "width": 0
         },
         "mode": "lines",
         "name": "PSO Upper Bound",
         "showlegend": false,
         "x": [
          0,
          1,
          2,
          3,
          4,
          5,
          6,
          7,
          8,
          9,
          10,
          11,
          12,
          13,
          14,
          15,
          16,
          17,
          18,
          19,
          20,
          21,
          22,
          23,
          24,
          25,
          26,
          27,
          28,
          29,
          30,
          31,
          32,
          33,
          34,
          35,
          36,
          37,
          38,
          39,
          40,
          41,
          42,
          43,
          44,
          45,
          46,
          47,
          48,
          49,
          50,
          51,
          52,
          53,
          54,
          55,
          56,
          57,
          58,
          59,
          60,
          61,
          62,
          63,
          64,
          65,
          66,
          67,
          68,
          69,
          70,
          71,
          72,
          73,
          74,
          75,
          76,
          77,
          78,
          79,
          80,
          81,
          82,
          83,
          84,
          85,
          86,
          87,
          88,
          89,
          90,
          91,
          92,
          93,
          94,
          95,
          96,
          97,
          98,
          99,
          100,
          101,
          102,
          103,
          104,
          105,
          106,
          107,
          108,
          109,
          110,
          111,
          112,
          113,
          114,
          115,
          116,
          117,
          118,
          119,
          120,
          121,
          122,
          123,
          124,
          125,
          126,
          127,
          128,
          129,
          130,
          131,
          132,
          133,
          134,
          135,
          136,
          137,
          138,
          139,
          140,
          141,
          142,
          143,
          144,
          145,
          146,
          147,
          148,
          149,
          150,
          151,
          152,
          153,
          154,
          155,
          156,
          157,
          158,
          159,
          160,
          161,
          162,
          163,
          164,
          165,
          166,
          167,
          168,
          169,
          170,
          171,
          172,
          173,
          174,
          175,
          176,
          177,
          178,
          179,
          180,
          181,
          182,
          183,
          184,
          185,
          186,
          187,
          188,
          189,
          190,
          191,
          192,
          193,
          194,
          195,
          196,
          197,
          198,
          199,
          200,
          201,
          202,
          203,
          204,
          205,
          206,
          207,
          208,
          209,
          210,
          211,
          212,
          213,
          214,
          215,
          216,
          217,
          218,
          219,
          220,
          221,
          222,
          223,
          224,
          225,
          226,
          227,
          228,
          229,
          230,
          231,
          232,
          233,
          234,
          235,
          236,
          237,
          238,
          239,
          240,
          241,
          242,
          243,
          244,
          245,
          246,
          247,
          248,
          249
         ],
         "y": [
          1523.0,
          1360.0,
          2208.0,
          3826.0,
          1233.0,
          1697.0,
          2227.0,
          1679.0,
          1693.0,
          1430.0,
          1709.0,
          3482.0,
          1757.0,
          1100.0,
          2366.0,
          2040.0,
          2825.0,
          2289.0,
          1622.0,
          541.0,
          2775.0,
          1586.0,
          205.0,
          2200.0,
          3219.0,
          2824.0,
          1786.0,
          1095.0,
          2324.0,
          1472.0,
          2355.0,
          2148.0,
          1096.0,
          2238.0,
          1334.0,
          2457.0,
          2272.0,
          2380.0,
          1321.0,
          1394.0,
          3186.0,
          1380.0,
          2273.0,
          1728.0,
          889.0,
          2479.0,
          870.0,
          2015.0,
          2073.0,
          3000.0,
          884.0,
          1109.0,
          1122.0,
          2701.0,
          2613.0,
          1727.0,
          1325.0,
          1617.0,
          3770.0,
          1324.0,
          2199.0,
          1579.0,
          881.0,
          3155.0,
          1814.0,
          1491.0,
          1840.0,
          541.0,
          1824.0,
          1191.0,
          1338.0,
          1301.0,
          2009.0,
          1976.0,
          1470.0,
          1406.0,
          2595.0,
          1175.0,
          793.0,
          823.0,
          2263.0,
          1098.0,
          1548.0,
          1512.0,
          1361.0,
          1830.0,
          2333.0,
          2626.0,
          1708.0,
          1923.0,
          3429.0,
          2186.0,
          1442.0,
          2607.0,
          1401.0,
          1122.0,
          1415.0,
          2531.0,
          1279.0,
          879.0,
          1186.0,
          1933.0,
          1615.0,
          1929.0,
          1679.0,
          885.0,
          1183.0,
          1334.0,
          1053.0,
          1547.0,
          2397.0,
          1295.0,
          3488.0,
          1784.0,
          2182.0,
          2469.0,
          3361.0,
          2106.0,
          1836.0,
          1095.0,
          1661.0,
          1942.0,
          2804.0,
          1592.0,
          1914.0,
          1226.0,
          3601.0,
          3113.0,
          2711.0,
          1954.0,
          1095.0,
          902.0,
          1290.0,
          885.0,
          1897.0,
          1553.0,
          1348.0,
          1096.0,
          1093.0,
          202.0,
          1865.0,
          1760.0,
          1509.0,
          1829.0,
          2258.0,
          2264.0,
          1269.0,
          1305.0,
          1035.0,
          1739.0,
          2223.0,
          1541.0,
          1869.0,
          1568.0,
          2208.0,
          1363.0,
          1222.0,
          1059.0,
          887.0,
          1108.0,
          1096.0,
          1620.0,
          2248.0,
          1675.0,
          1903.0,
          1699.0,
          1500.0,
          1097.0,
          1488.0,
          1887.0,
          1584.0,
          2509.0,
          888.0,
          1785.0,
          783.0,
          1628.0,
          1565.0,
          2283.0,
          541.0,
          1616.0,
          2058.0,
          1543.0,
          1908.0,
          2918.0,
          1092.0,
          1070.0,
          2321.0,
          1206.0,
          1378.0,
          1521.0,
          1092.0,
          2480.0,
          885.0,
          1702.0,
          1464.0,
          2410.0,
          790.0,
          2155.0,
          1456.0,
          1588.0,
          1843.0,
          1639.0,
          1955.0,
          1101.0,
          1645.0,
          890.0,
          891.0,
          1067.0,
          2320.0,
          765.0,
          1911.0,
          2121.0,
          1093.0,
          2803.0,
          878.0,
          1868.0,
          2335.0,
          3860.0,
          887.0,
          1608.0,
          2313.0,
          2224.0,
          1682.0,
          1219.0,
          1691.0,
          1929.0,
          866.0,
          1530.0,
          1943.0,
          1832.0,
          2038.0,
          1401.0,
          1914.0,
          886.0,
          1776.0,
          1645.0,
          1617.0,
          903.0,
          1169.0,
          1101.0,
          1098.0,
          2693.0,
          1095.0,
          1634.0,
          868.0,
          2751.0,
          1093.0,
          1125.0,
          1452.0,
          880.0
         ],
         "type": "scatter"
        },
        {
         "line": {
          "width": 2
         },
         "mode": "lines",
         "name": "GA Mean Fitness",
         "x": [
          0,
          1,
          2,
          3,
          4,
          5,
          6,
          7,
          8,
          9,
          10,
          11,
          12,
          13,
          14,
          15,
          16,
          17,
          18,
          19,
          20,
          21,
          22,
          23,
          24,
          25,
          26,
          27,
          28,
          29,
          30,
          31,
          32,
          33,
          34,
          35,
          36,
          37,
          38,
          39,
          40,
          41,
          42,
          43,
          44,
          45,
          46,
          47,
          48,
          49,
          50,
          51,
          52,
          53,
          54,
          55,
          56,
          57,
          58,
          59,
          60,
          61,
          62,
          63,
          64,
          65,
          66,
          67,
          68,
          69,
          70,
          71,
          72,
          73,
          74,
          75,
          76,
          77,
          78,
          79,
          80,
          81,
          82,
          83,
          84,
          85,
          86,
          87,
          88,
          89,
          90,
          91,
          92,
          93,
          94,
          95,
          96,
          97,
          98,
          99,
          100,
          101,
          102,
          103,
          104,
          105,
          106,
          107,
          108,
          109,
          110,
          111,
          112,
          113,
          114,
          115,
          116,
          117,
          118,
          119,
          120,
          121,
          122,
          123,
          124,
          125,
          126,
          127,
          128,
          129,
          130,
          131,
          132,
          133,
          134,
          135,
          136,
          137,
          138,
          139,
          140,
          141,
          142,
          143,
          144,
          145,
          146,
          147,
          148,
          149,
          150,
          151,
          152,
          153,
          154,
          155,
          156,
          157,
          158,
          159,
          160,
          161,
          162,
          163,
          164,
          165,
          166,
          167,
          168,
          169,
          170,
          171,
          172,
          173,
          174,
          175,
          176,
          177,
          178,
          179,
          180,
          181,
          182,
          183,
          184,
          185,
          186,
          187,
          188,
          189,
          190,
          191,
          192,
          193,
          194,
          195,
          196,
          197,
          198,
          199,
          200,
          201,
          202,
          203,
          204,
          205,
          206,
          207,
          208,
          209,
          210,
          211,
          212,
          213,
          214,
          215,
          216,
          217,
          218,
          219,
          220,
          221,
          222,
          223,
          224,
          225,
          226,
          227,
          228,
          229,
          230,
          231,
          232,
          233,
          234,
          235,
          236,
          237,
          238,
          239,
          240,
          241,
          242,
          243,
          244,
          245,
          246,
          247,
          248,
          249
         ],
         "y": [
          1559.0,
          2756.0,
          1826.0,
          1623.0,
          2169.0,
          791.0,
          1572.0,
          324.0,
          2501.0,
          1727.0,
          2128.0,
          1305.0,
          1730.0,
          1600.0,
          1734.0,
          1938.0,
          2196.0,
          880.0,
          2375.0,
          3061.0,
          1092.0,
          3128.0,
          1879.0,
          1721.0,
          2647.0,
          1486.0,
          1568.0,
          1446.0,
          779.0,
          1568.0,
          3640.0,
          1951.0,
          1854.0,
          875.0,
          1282.0,
          1344.0,
          2575.0,
          1910.0,
          2146.0,
          1853.0,
          2019.0,
          2612.0,
          2970.0,
          894.0,
          1251.0,
          1702.0,
          3051.0,
          1616.0,
          1800.0,
          1716.0,
          882.0,
          1471.0,
          1228.0,
          1423.0,
          2972.0,
          2556.0,
          1726.0,
          778.0,
          1627.0,
          1093.0,
          2926.0,
          1239.0,
          2097.0,
          2050.0,
          1655.0,
          1474.0,
          1486.0,
          1098.0,
          1235.0,
          1294.0,
          1322.0,
          3430.0,
          2477.0,
          2230.0,
          1628.0,
          2135.0,
          925.0,
          2294.0,
          2324.0,
          541.0,
          1864.0,
          2991.0,
          1153.0,
          2030.0,
          2349.0,
          1095.0,
          2268.0,
          3036.0,
          2165.0,
          1672.0,
          1999.0,
          2313.0,
          1189.0,
          3189.0,
          1692.0,
          2089.0,
          1935.0,
          887.0,
          231.0,
          2071.0,
          751.0,
          1686.0,
          1818.0,
          2321.0,
          1715.0,
          2035.0,
          1916.0,
          1657.0,
          1699.0,
          1634.0,
          1375.0,
          1289.0,
          3602.0,
          2026.0,
          2536.0,
          1646.0,
          1550.0,
          2695.0,
          3966.0,
          1375.0,
          1095.0,
          2682.0,
          541.0,
          1403.0,
          2038.0,
          1910.0,
          1453.0,
          1782.0,
          2212.0,
          1495.0,
          3386.0,
          1817.0,
          1476.0,
          3816.0,
          2099.0,
          1393.0,
          1696.0,
          3453.0,
          1450.0,
          2184.0,
          1003.0,
          2384.0,
          1977.0,
          3492.0,
          1581.0,
          1807.0,
          887.0,
          2498.0,
          2210.0,
          1736.0,
          1362.0,
          1520.0,
          1798.0,
          2414.0,
          1112.0,
          1767.0,
          2773.0,
          1084.0,
          2000.0,
          1392.0,
          1550.0,
          2512.0,
          3184.0,
          2118.0,
          2197.0,
          1757.0,
          884.0,
          1094.0,
          2618.0,
          1133.0,
          1097.0,
          2584.0,
          1219.0,
          205.0,
          1820.0,
          1079.0,
          1336.0,
          2551.0,
          1823.0,
          1374.0,
          2082.0,
          2161.0,
          1398.0,
          1544.0,
          3199.0,
          1805.0,
          1737.0,
          1802.0,
          1096.0,
          963.0,
          3225.0,
          1092.0,
          1096.0,
          232.0,
          2072.0,
          1248.0,
          2930.0,
          1526.0,
          2588.0,
          1098.0,
          2499.0,
          1355.0,
          1726.0,
          2018.0,
          2108.0,
          2851.0,
          2492.0,
          2777.0,
          2442.0,
          2408.0,
          2645.0,
          882.0,
          1489.0,
          2451.0,
          1532.0,
          1760.0,
          2009.0,
          1637.0,
          1668.0,
          2396.0,
          1881.0,
          890.0,
          1456.0,
          1495.0,
          881.0,
          875.0,
          882.0,
          1875.0,
          1338.0,
          2456.0,
          791.0,
          887.0,
          1539.0,
          1416.0,
          2190.0,
          1437.0,
          2633.0,
          1095.0,
          1244.0,
          1821.0,
          2336.0,
          1332.0,
          3371.0,
          1484.0,
          1560.0,
          2392.0,
          2046.0,
          1569.0,
          1322.0,
          1106.0
         ],
         "type": "scatter"
        },
        {
         "line": {
          "width": 0
         },
         "mode": "lines",
         "name": "GA Lower Bound",
         "showlegend": false,
         "x": [
          0,
          1,
          2,
          3,
          4,
          5,
          6,
          7,
          8,
          9,
          10,
          11,
          12,
          13,
          14,
          15,
          16,
          17,
          18,
          19,
          20,
          21,
          22,
          23,
          24,
          25,
          26,
          27,
          28,
          29,
          30,
          31,
          32,
          33,
          34,
          35,
          36,
          37,
          38,
          39,
          40,
          41,
          42,
          43,
          44,
          45,
          46,
          47,
          48,
          49,
          50,
          51,
          52,
          53,
          54,
          55,
          56,
          57,
          58,
          59,
          60,
          61,
          62,
          63,
          64,
          65,
          66,
          67,
          68,
          69,
          70,
          71,
          72,
          73,
          74,
          75,
          76,
          77,
          78,
          79,
          80,
          81,
          82,
          83,
          84,
          85,
          86,
          87,
          88,
          89,
          90,
          91,
          92,
          93,
          94,
          95,
          96,
          97,
          98,
          99,
          100,
          101,
          102,
          103,
          104,
          105,
          106,
          107,
          108,
          109,
          110,
          111,
          112,
          113,
          114,
          115,
          116,
          117,
          118,
          119,
          120,
          121,
          122,
          123,
          124,
          125,
          126,
          127,
          128,
          129,
          130,
          131,
          132,
          133,
          134,
          135,
          136,
          137,
          138,
          139,
          140,
          141,
          142,
          143,
          144,
          145,
          146,
          147,
          148,
          149,
          150,
          151,
          152,
          153,
          154,
          155,
          156,
          157,
          158,
          159,
          160,
          161,
          162,
          163,
          164,
          165,
          166,
          167,
          168,
          169,
          170,
          171,
          172,
          173,
          174,
          175,
          176,
          177,
          178,
          179,
          180,
          181,
          182,
          183,
          184,
          185,
          186,
          187,
          188,
          189,
          190,
          191,
          192,
          193,
          194,
          195,
          196,
          197,
          198,
          199,
          200,
          201,
          202,
          203,
          204,
          205,
          206,
          207,
          208,
          209,
          210,
          211,
          212,
          213,
          214,
          215,
          216,
          217,
          218,
          219,
          220,
          221,
          222,
          223,
          224,
          225,
          226,
          227,
          228,
          229,
          230,
          231,
          232,
          233,
          234,
          235,
          236,
          237,
          238,
          239,
          240,
          241,
          242,
          243,
          244,
          245,
          246,
          247,
          248,
          249
         ],
         "y": [
          1559.0,
          2756.0,
          1826.0,
          1623.0,
          2169.0,
          791.0,
          1572.0,
          324.0,
          2501.0,
          1727.0,
          2128.0,
          1305.0,
          1730.0,
          1600.0,
          1734.0,
          1938.0,
          2196.0,
          880.0,
          2375.0,
          3061.0,
          1092.0,
          3128.0,
          1879.0,
          1721.0,
          2647.0,
          1486.0,
          1568.0,
          1446.0,
          779.0,
          1568.0,
          3640.0,
          1951.0,
          1854.0,
          875.0,
          1282.0,
          1344.0,
          2575.0,
          1910.0,
          2146.0,
          1853.0,
          2019.0,
          2612.0,
          2970.0,
          894.0,
          1251.0,
          1702.0,
          3051.0,
          1616.0,
          1800.0,
          1716.0,
          882.0,
          1471.0,
          1228.0,
          1423.0,
          2972.0,
          2556.0,
          1726.0,
          778.0,
          1627.0,
          1093.0,
          2926.0,
          1239.0,
          2097.0,
          2050.0,
          1655.0,
          1474.0,
          1486.0,
          1098.0,
          1235.0,
          1294.0,
          1322.0,
          3430.0,
          2477.0,
          2230.0,
          1628.0,
          2135.0,
          925.0,
          2294.0,
          2324.0,
          541.0,
          1864.0,
          2991.0,
          1153.0,
          2030.0,
          2349.0,
          1095.0,
          2268.0,
          3036.0,
          2165.0,
          1672.0,
          1999.0,
          2313.0,
          1189.0,
          3189.0,
          1692.0,
          2089.0,
          1935.0,
          887.0,
          231.0,
          2071.0,
          751.0,
          1686.0,
          1818.0,
          2321.0,
          1715.0,
          2035.0,
          1916.0,
          1657.0,
          1699.0,
          1634.0,
          1375.0,
          1289.0,
          3602.0,
          2026.0,
          2536.0,
          1646.0,
          1550.0,
          2695.0,
          3966.0,
          1375.0,
          1095.0,
          2682.0,
          541.0,
          1403.0,
          2038.0,
          1910.0,
          1453.0,
          1782.0,
          2212.0,
          1495.0,
          3386.0,
          1817.0,
          1476.0,
          3816.0,
          2099.0,
          1393.0,
          1696.0,
          3453.0,
          1450.0,
          2184.0,
          1003.0,
          2384.0,
          1977.0,
          3492.0,
          1581.0,
          1807.0,
          887.0,
          2498.0,
          2210.0,
          1736.0,
          1362.0,
          1520.0,
          1798.0,
          2414.0,
          1112.0,
          1767.0,
          2773.0,
          1084.0,
          2000.0,
          1392.0,
          1550.0,
          2512.0,
          3184.0,
          2118.0,
          2197.0,
          1757.0,
          884.0,
          1094.0,
          2618.0,
          1133.0,
          1097.0,
          2584.0,
          1219.0,
          205.0,
          1820.0,
          1079.0,
          1336.0,
          2551.0,
          1823.0,
          1374.0,
          2082.0,
          2161.0,
          1398.0,
          1544.0,
          3199.0,
          1805.0,
          1737.0,
          1802.0,
          1096.0,
          963.0,
          3225.0,
          1092.0,
          1096.0,
          232.0,
          2072.0,
          1248.0,
          2930.0,
          1526.0,
          2588.0,
          1098.0,
          2499.0,
          1355.0,
          1726.0,
          2018.0,
          2108.0,
          2851.0,
          2492.0,
          2777.0,
          2442.0,
          2408.0,
          2645.0,
          882.0,
          1489.0,
          2451.0,
          1532.0,
          1760.0,
          2009.0,
          1637.0,
          1668.0,
          2396.0,
          1881.0,
          890.0,
          1456.0,
          1495.0,
          881.0,
          875.0,
          882.0,
          1875.0,
          1338.0,
          2456.0,
          791.0,
          887.0,
          1539.0,
          1416.0,
          2190.0,
          1437.0,
          2633.0,
          1095.0,
          1244.0,
          1821.0,
          2336.0,
          1332.0,
          3371.0,
          1484.0,
          1560.0,
          2392.0,
          2046.0,
          1569.0,
          1322.0,
          1106.0
         ],
         "type": "scatter"
        },
        {
         "fill": "tonexty",
         "fillcolor": "rgba(68, 68, 68, 0.3)",
         "line": {
          "width": 0
         },
         "mode": "lines",
         "name": "GA Upper Bound",
         "showlegend": false,
         "x": [
          0,
          1,
          2,
          3,
          4,
          5,
          6,
          7,
          8,
          9,
          10,
          11,
          12,
          13,
          14,
          15,
          16,
          17,
          18,
          19,
          20,
          21,
          22,
          23,
          24,
          25,
          26,
          27,
          28,
          29,
          30,
          31,
          32,
          33,
          34,
          35,
          36,
          37,
          38,
          39,
          40,
          41,
          42,
          43,
          44,
          45,
          46,
          47,
          48,
          49,
          50,
          51,
          52,
          53,
          54,
          55,
          56,
          57,
          58,
          59,
          60,
          61,
          62,
          63,
          64,
          65,
          66,
          67,
          68,
          69,
          70,
          71,
          72,
          73,
          74,
          75,
          76,
          77,
          78,
          79,
          80,
          81,
          82,
          83,
          84,
          85,
          86,
          87,
          88,
          89,
          90,
          91,
          92,
          93,
          94,
          95,
          96,
          97,
          98,
          99,
          100,
          101,
          102,
          103,
          104,
          105,
          106,
          107,
          108,
          109,
          110,
          111,
          112,
          113,
          114,
          115,
          116,
          117,
          118,
          119,
          120,
          121,
          122,
          123,
          124,
          125,
          126,
          127,
          128,
          129,
          130,
          131,
          132,
          133,
          134,
          135,
          136,
          137,
          138,
          139,
          140,
          141,
          142,
          143,
          144,
          145,
          146,
          147,
          148,
          149,
          150,
          151,
          152,
          153,
          154,
          155,
          156,
          157,
          158,
          159,
          160,
          161,
          162,
          163,
          164,
          165,
          166,
          167,
          168,
          169,
          170,
          171,
          172,
          173,
          174,
          175,
          176,
          177,
          178,
          179,
          180,
          181,
          182,
          183,
          184,
          185,
          186,
          187,
          188,
          189,
          190,
          191,
          192,
          193,
          194,
          195,
          196,
          197,
          198,
          199,
          200,
          201,
          202,
          203,
          204,
          205,
          206,
          207,
          208,
          209,
          210,
          211,
          212,
          213,
          214,
          215,
          216,
          217,
          218,
          219,
          220,
          221,
          222,
          223,
          224,
          225,
          226,
          227,
          228,
          229,
          230,
          231,
          232,
          233,
          234,
          235,
          236,
          237,
          238,
          239,
          240,
          241,
          242,
          243,
          244,
          245,
          246,
          247,
          248,
          249
         ],
         "y": [
          1559.0,
          2756.0,
          1826.0,
          1623.0,
          2169.0,
          791.0,
          1572.0,
          324.0,
          2501.0,
          1727.0,
          2128.0,
          1305.0,
          1730.0,
          1600.0,
          1734.0,
          1938.0,
          2196.0,
          880.0,
          2375.0,
          3061.0,
          1092.0,
          3128.0,
          1879.0,
          1721.0,
          2647.0,
          1486.0,
          1568.0,
          1446.0,
          779.0,
          1568.0,
          3640.0,
          1951.0,
          1854.0,
          875.0,
          1282.0,
          1344.0,
          2575.0,
          1910.0,
          2146.0,
          1853.0,
          2019.0,
          2612.0,
          2970.0,
          894.0,
          1251.0,
          1702.0,
          3051.0,
          1616.0,
          1800.0,
          1716.0,
          882.0,
          1471.0,
          1228.0,
          1423.0,
          2972.0,
          2556.0,
          1726.0,
          778.0,
          1627.0,
          1093.0,
          2926.0,
          1239.0,
          2097.0,
          2050.0,
          1655.0,
          1474.0,
          1486.0,
          1098.0,
          1235.0,
          1294.0,
          1322.0,
          3430.0,
          2477.0,
          2230.0,
          1628.0,
          2135.0,
          925.0,
          2294.0,
          2324.0,
          541.0,
          1864.0,
          2991.0,
          1153.0,
          2030.0,
          2349.0,
          1095.0,
          2268.0,
          3036.0,
          2165.0,
          1672.0,
          1999.0,
          2313.0,
          1189.0,
          3189.0,
          1692.0,
          2089.0,
          1935.0,
          887.0,
          231.0,
          2071.0,
          751.0,
          1686.0,
          1818.0,
          2321.0,
          1715.0,
          2035.0,
          1916.0,
          1657.0,
          1699.0,
          1634.0,
          1375.0,
          1289.0,
          3602.0,
          2026.0,
          2536.0,
          1646.0,
          1550.0,
          2695.0,
          3966.0,
          1375.0,
          1095.0,
          2682.0,
          541.0,
          1403.0,
          2038.0,
          1910.0,
          1453.0,
          1782.0,
          2212.0,
          1495.0,
          3386.0,
          1817.0,
          1476.0,
          3816.0,
          2099.0,
          1393.0,
          1696.0,
          3453.0,
          1450.0,
          2184.0,
          1003.0,
          2384.0,
          1977.0,
          3492.0,
          1581.0,
          1807.0,
          887.0,
          2498.0,
          2210.0,
          1736.0,
          1362.0,
          1520.0,
          1798.0,
          2414.0,
          1112.0,
          1767.0,
          2773.0,
          1084.0,
          2000.0,
          1392.0,
          1550.0,
          2512.0,
          3184.0,
          2118.0,
          2197.0,
          1757.0,
          884.0,
          1094.0,
          2618.0,
          1133.0,
          1097.0,
          2584.0,
          1219.0,
          205.0,
          1820.0,
          1079.0,
          1336.0,
          2551.0,
          1823.0,
          1374.0,
          2082.0,
          2161.0,
          1398.0,
          1544.0,
          3199.0,
          1805.0,
          1737.0,
          1802.0,
          1096.0,
          963.0,
          3225.0,
          1092.0,
          1096.0,
          232.0,
          2072.0,
          1248.0,
          2930.0,
          1526.0,
          2588.0,
          1098.0,
          2499.0,
          1355.0,
          1726.0,
          2018.0,
          2108.0,
          2851.0,
          2492.0,
          2777.0,
          2442.0,
          2408.0,
          2645.0,
          882.0,
          1489.0,
          2451.0,
          1532.0,
          1760.0,
          2009.0,
          1637.0,
          1668.0,
          2396.0,
          1881.0,
          890.0,
          1456.0,
          1495.0,
          881.0,
          875.0,
          882.0,
          1875.0,
          1338.0,
          2456.0,
          791.0,
          887.0,
          1539.0,
          1416.0,
          2190.0,
          1437.0,
          2633.0,
          1095.0,
          1244.0,
          1821.0,
          2336.0,
          1332.0,
          3371.0,
          1484.0,
          1560.0,
          2392.0,
          2046.0,
          1569.0,
          1322.0,
          1106.0
         ],
         "type": "scatter"
        },
        {
         "line": {
          "width": 2
         },
         "mode": "lines",
         "name": "FA Mean Fitness",
         "x": [
          0,
          1,
          2,
          3,
          4,
          5,
          6,
          7,
          8,
          9,
          10,
          11,
          12,
          13,
          14,
          15,
          16,
          17,
          18,
          19,
          20,
          21,
          22,
          23,
          24,
          25,
          26,
          27,
          28,
          29,
          30,
          31,
          32,
          33,
          34,
          35,
          36,
          37,
          38,
          39,
          40,
          41,
          42,
          43,
          44,
          45,
          46,
          47,
          48,
          49,
          50,
          51,
          52,
          53,
          54,
          55,
          56,
          57,
          58,
          59,
          60,
          61,
          62,
          63,
          64,
          65,
          66,
          67,
          68,
          69,
          70,
          71,
          72,
          73,
          74,
          75,
          76,
          77,
          78,
          79,
          80,
          81,
          82,
          83,
          84,
          85,
          86,
          87,
          88,
          89,
          90,
          91,
          92,
          93,
          94,
          95,
          96,
          97,
          98,
          99,
          100,
          101,
          102,
          103,
          104,
          105,
          106,
          107,
          108,
          109,
          110,
          111,
          112,
          113,
          114,
          115,
          116,
          117,
          118,
          119,
          120,
          121,
          122,
          123,
          124,
          125,
          126,
          127,
          128,
          129,
          130,
          131,
          132,
          133,
          134,
          135,
          136,
          137,
          138,
          139,
          140,
          141,
          142,
          143,
          144,
          145,
          146,
          147,
          148,
          149,
          150,
          151,
          152,
          153,
          154,
          155,
          156,
          157,
          158,
          159,
          160,
          161,
          162,
          163,
          164,
          165,
          166,
          167,
          168,
          169,
          170,
          171,
          172,
          173,
          174,
          175,
          176,
          177,
          178,
          179,
          180,
          181,
          182,
          183,
          184,
          185,
          186,
          187,
          188,
          189,
          190,
          191,
          192,
          193,
          194,
          195,
          196,
          197,
          198,
          199,
          200,
          201,
          202,
          203,
          204,
          205,
          206,
          207,
          208,
          209,
          210,
          211,
          212,
          213,
          214,
          215,
          216,
          217,
          218,
          219,
          220,
          221,
          222,
          223,
          224,
          225,
          226,
          227,
          228,
          229,
          230,
          231,
          232,
          233,
          234,
          235,
          236,
          237,
          238,
          239,
          240,
          241,
          242,
          243,
          244,
          245,
          246,
          247,
          248,
          249
         ],
         "y": [
          1310.0,
          1892.0,
          1815.0,
          3387.0,
          1108.0,
          1595.0,
          2237.0,
          1399.0,
          798.0,
          1505.0,
          872.0,
          880.0,
          996.0,
          2115.0,
          1944.0,
          3290.0,
          1118.0,
          1987.0,
          3527.0,
          2745.0,
          1098.0,
          1581.0,
          1098.0,
          1960.0,
          1663.0,
          2234.0,
          1914.0,
          1479.0,
          3958.0,
          2092.0,
          2152.0,
          1716.0,
          1884.0,
          324.0,
          1450.0,
          1232.0,
          1741.0,
          1581.0,
          1560.0,
          1981.0,
          1672.0,
          1127.0,
          1097.0,
          1508.0,
          2829.0,
          1752.0,
          1228.0,
          2331.0,
          2253.0,
          1993.0,
          1596.0,
          882.0,
          1308.0,
          884.0,
          1168.0,
          2329.0,
          2162.0,
          1116.0,
          1541.0,
          1407.0,
          1576.0,
          1828.0,
          1442.0,
          885.0,
          1798.0,
          1678.0,
          1637.0,
          1524.0,
          2410.0,
          1257.0,
          1329.0,
          1134.0,
          1096.0,
          2030.0,
          2791.0,
          1099.0,
          1363.0,
          1367.0,
          846.0,
          2353.0,
          767.0,
          1861.0,
          2574.0,
          1853.0,
          1656.0,
          2472.0,
          2583.0,
          1094.0,
          1341.0,
          1081.0,
          783.0,
          1724.0,
          1474.0,
          1334.0,
          1389.0,
          1429.0,
          1497.0,
          2358.0,
          2567.0,
          1683.0,
          2155.0,
          882.0,
          1621.0,
          871.0,
          1194.0,
          1620.0,
          1933.0,
          873.0,
          2329.0,
          1715.0,
          817.0,
          2554.0,
          883.0,
          1184.0,
          1575.0,
          1363.0,
          1344.0,
          2150.0,
          2262.0,
          2553.0,
          1341.0,
          880.0,
          2485.0,
          2505.0,
          1241.0,
          1797.0,
          1520.0,
          2476.0,
          1463.0,
          1307.0,
          1901.0,
          1365.0,
          1356.0,
          1361.0,
          1818.0,
          2525.0,
          1745.0,
          1717.0,
          1109.0,
          1469.0,
          2327.0,
          2157.0,
          2132.0,
          881.0,
          2019.0,
          2024.0,
          2036.0,
          1245.0,
          1488.0,
          1249.0,
          1229.0,
          2715.0,
          1801.0,
          1601.0,
          1659.0,
          765.0,
          1100.0,
          1943.0,
          1326.0,
          2798.0,
          2405.0,
          877.0,
          1702.0,
          2751.0,
          1811.0,
          1480.0,
          1682.0,
          2760.0,
          875.0,
          2179.0,
          1799.0,
          1466.0,
          1538.0,
          1587.0,
          202.0,
          1439.0,
          1549.0,
          2127.0,
          1487.0,
          1622.0,
          1357.0,
          1522.0,
          2765.0,
          1419.0,
          1928.0,
          2243.0,
          2245.0,
          2166.0,
          875.0,
          1731.0,
          1312.0,
          872.0,
          2086.0,
          1958.0,
          1345.0,
          881.0,
          1157.0,
          1559.0,
          2071.0,
          1094.0,
          2692.0,
          324.0,
          2778.0,
          1732.0,
          1818.0,
          1368.0,
          1264.0,
          2736.0,
          2334.0,
          1526.0,
          882.0,
          1517.0,
          1795.0,
          1879.0,
          2022.0,
          1515.0,
          1839.0,
          1098.0,
          2055.0,
          1098.0,
          1920.0,
          3988.0,
          2663.0,
          892.0,
          1619.0,
          1094.0,
          2200.0,
          2705.0,
          2450.0,
          1887.0,
          1094.0,
          1924.0,
          1167.0,
          1208.0,
          2688.0,
          1728.0,
          1319.0,
          1107.0,
          1640.0,
          2369.0,
          2855.0,
          1428.0,
          1640.0,
          1284.0,
          1095.0,
          1807.0,
          1879.0,
          2234.0,
          1984.0,
          1096.0
         ],
         "type": "scatter"
        },
        {
         "line": {
          "width": 0
         },
         "mode": "lines",
         "name": "FA Lower Bound",
         "showlegend": false,
         "x": [
          0,
          1,
          2,
          3,
          4,
          5,
          6,
          7,
          8,
          9,
          10,
          11,
          12,
          13,
          14,
          15,
          16,
          17,
          18,
          19,
          20,
          21,
          22,
          23,
          24,
          25,
          26,
          27,
          28,
          29,
          30,
          31,
          32,
          33,
          34,
          35,
          36,
          37,
          38,
          39,
          40,
          41,
          42,
          43,
          44,
          45,
          46,
          47,
          48,
          49,
          50,
          51,
          52,
          53,
          54,
          55,
          56,
          57,
          58,
          59,
          60,
          61,
          62,
          63,
          64,
          65,
          66,
          67,
          68,
          69,
          70,
          71,
          72,
          73,
          74,
          75,
          76,
          77,
          78,
          79,
          80,
          81,
          82,
          83,
          84,
          85,
          86,
          87,
          88,
          89,
          90,
          91,
          92,
          93,
          94,
          95,
          96,
          97,
          98,
          99,
          100,
          101,
          102,
          103,
          104,
          105,
          106,
          107,
          108,
          109,
          110,
          111,
          112,
          113,
          114,
          115,
          116,
          117,
          118,
          119,
          120,
          121,
          122,
          123,
          124,
          125,
          126,
          127,
          128,
          129,
          130,
          131,
          132,
          133,
          134,
          135,
          136,
          137,
          138,
          139,
          140,
          141,
          142,
          143,
          144,
          145,
          146,
          147,
          148,
          149,
          150,
          151,
          152,
          153,
          154,
          155,
          156,
          157,
          158,
          159,
          160,
          161,
          162,
          163,
          164,
          165,
          166,
          167,
          168,
          169,
          170,
          171,
          172,
          173,
          174,
          175,
          176,
          177,
          178,
          179,
          180,
          181,
          182,
          183,
          184,
          185,
          186,
          187,
          188,
          189,
          190,
          191,
          192,
          193,
          194,
          195,
          196,
          197,
          198,
          199,
          200,
          201,
          202,
          203,
          204,
          205,
          206,
          207,
          208,
          209,
          210,
          211,
          212,
          213,
          214,
          215,
          216,
          217,
          218,
          219,
          220,
          221,
          222,
          223,
          224,
          225,
          226,
          227,
          228,
          229,
          230,
          231,
          232,
          233,
          234,
          235,
          236,
          237,
          238,
          239,
          240,
          241,
          242,
          243,
          244,
          245,
          246,
          247,
          248,
          249
         ],
         "y": [
          1310.0,
          1892.0,
          1815.0,
          3387.0,
          1108.0,
          1595.0,
          2237.0,
          1399.0,
          798.0,
          1505.0,
          872.0,
          880.0,
          996.0,
          2115.0,
          1944.0,
          3290.0,
          1118.0,
          1987.0,
          3527.0,
          2745.0,
          1098.0,
          1581.0,
          1098.0,
          1960.0,
          1663.0,
          2234.0,
          1914.0,
          1479.0,
          3958.0,
          2092.0,
          2152.0,
          1716.0,
          1884.0,
          324.0,
          1450.0,
          1232.0,
          1741.0,
          1581.0,
          1560.0,
          1981.0,
          1672.0,
          1127.0,
          1097.0,
          1508.0,
          2829.0,
          1752.0,
          1228.0,
          2331.0,
          2253.0,
          1993.0,
          1596.0,
          882.0,
          1308.0,
          884.0,
          1168.0,
          2329.0,
          2162.0,
          1116.0,
          1541.0,
          1407.0,
          1576.0,
          1828.0,
          1442.0,
          885.0,
          1798.0,
          1678.0,
          1637.0,
          1524.0,
          2410.0,
          1257.0,
          1329.0,
          1134.0,
          1096.0,
          2030.0,
          2791.0,
          1099.0,
          1363.0,
          1367.0,
          846.0,
          2353.0,
          767.0,
          1861.0,
          2574.0,
          1853.0,
          1656.0,
          2472.0,
          2583.0,
          1094.0,
          1341.0,
          1081.0,
          783.0,
          1724.0,
          1474.0,
          1334.0,
          1389.0,
          1429.0,
          1497.0,
          2358.0,
          2567.0,
          1683.0,
          2155.0,
          882.0,
          1621.0,
          871.0,
          1194.0,
          1620.0,
          1933.0,
          873.0,
          2329.0,
          1715.0,
          817.0,
          2554.0,
          883.0,
          1184.0,
          1575.0,
          1363.0,
          1344.0,
          2150.0,
          2262.0,
          2553.0,
          1341.0,
          880.0,
          2485.0,
          2505.0,
          1241.0,
          1797.0,
          1520.0,
          2476.0,
          1463.0,
          1307.0,
          1901.0,
          1365.0,
          1356.0,
          1361.0,
          1818.0,
          2525.0,
          1745.0,
          1717.0,
          1109.0,
          1469.0,
          2327.0,
          2157.0,
          2132.0,
          881.0,
          2019.0,
          2024.0,
          2036.0,
          1245.0,
          1488.0,
          1249.0,
          1229.0,
          2715.0,
          1801.0,
          1601.0,
          1659.0,
          765.0,
          1100.0,
          1943.0,
          1326.0,
          2798.0,
          2405.0,
          877.0,
          1702.0,
          2751.0,
          1811.0,
          1480.0,
          1682.0,
          2760.0,
          875.0,
          2179.0,
          1799.0,
          1466.0,
          1538.0,
          1587.0,
          202.0,
          1439.0,
          1549.0,
          2127.0,
          1487.0,
          1622.0,
          1357.0,
          1522.0,
          2765.0,
          1419.0,
          1928.0,
          2243.0,
          2245.0,
          2166.0,
          875.0,
          1731.0,
          1312.0,
          872.0,
          2086.0,
          1958.0,
          1345.0,
          881.0,
          1157.0,
          1559.0,
          2071.0,
          1094.0,
          2692.0,
          324.0,
          2778.0,
          1732.0,
          1818.0,
          1368.0,
          1264.0,
          2736.0,
          2334.0,
          1526.0,
          882.0,
          1517.0,
          1795.0,
          1879.0,
          2022.0,
          1515.0,
          1839.0,
          1098.0,
          2055.0,
          1098.0,
          1920.0,
          3988.0,
          2663.0,
          892.0,
          1619.0,
          1094.0,
          2200.0,
          2705.0,
          2450.0,
          1887.0,
          1094.0,
          1924.0,
          1167.0,
          1208.0,
          2688.0,
          1728.0,
          1319.0,
          1107.0,
          1640.0,
          2369.0,
          2855.0,
          1428.0,
          1640.0,
          1284.0,
          1095.0,
          1807.0,
          1879.0,
          2234.0,
          1984.0,
          1096.0
         ],
         "type": "scatter"
        },
        {
         "fill": "tonexty",
         "fillcolor": "rgba(68, 68, 68, 0.3)",
         "line": {
          "width": 0
         },
         "mode": "lines",
         "name": "FA Upper Bound",
         "showlegend": false,
         "x": [
          0,
          1,
          2,
          3,
          4,
          5,
          6,
          7,
          8,
          9,
          10,
          11,
          12,
          13,
          14,
          15,
          16,
          17,
          18,
          19,
          20,
          21,
          22,
          23,
          24,
          25,
          26,
          27,
          28,
          29,
          30,
          31,
          32,
          33,
          34,
          35,
          36,
          37,
          38,
          39,
          40,
          41,
          42,
          43,
          44,
          45,
          46,
          47,
          48,
          49,
          50,
          51,
          52,
          53,
          54,
          55,
          56,
          57,
          58,
          59,
          60,
          61,
          62,
          63,
          64,
          65,
          66,
          67,
          68,
          69,
          70,
          71,
          72,
          73,
          74,
          75,
          76,
          77,
          78,
          79,
          80,
          81,
          82,
          83,
          84,
          85,
          86,
          87,
          88,
          89,
          90,
          91,
          92,
          93,
          94,
          95,
          96,
          97,
          98,
          99,
          100,
          101,
          102,
          103,
          104,
          105,
          106,
          107,
          108,
          109,
          110,
          111,
          112,
          113,
          114,
          115,
          116,
          117,
          118,
          119,
          120,
          121,
          122,
          123,
          124,
          125,
          126,
          127,
          128,
          129,
          130,
          131,
          132,
          133,
          134,
          135,
          136,
          137,
          138,
          139,
          140,
          141,
          142,
          143,
          144,
          145,
          146,
          147,
          148,
          149,
          150,
          151,
          152,
          153,
          154,
          155,
          156,
          157,
          158,
          159,
          160,
          161,
          162,
          163,
          164,
          165,
          166,
          167,
          168,
          169,
          170,
          171,
          172,
          173,
          174,
          175,
          176,
          177,
          178,
          179,
          180,
          181,
          182,
          183,
          184,
          185,
          186,
          187,
          188,
          189,
          190,
          191,
          192,
          193,
          194,
          195,
          196,
          197,
          198,
          199,
          200,
          201,
          202,
          203,
          204,
          205,
          206,
          207,
          208,
          209,
          210,
          211,
          212,
          213,
          214,
          215,
          216,
          217,
          218,
          219,
          220,
          221,
          222,
          223,
          224,
          225,
          226,
          227,
          228,
          229,
          230,
          231,
          232,
          233,
          234,
          235,
          236,
          237,
          238,
          239,
          240,
          241,
          242,
          243,
          244,
          245,
          246,
          247,
          248,
          249
         ],
         "y": [
          1310.0,
          1892.0,
          1815.0,
          3387.0,
          1108.0,
          1595.0,
          2237.0,
          1399.0,
          798.0,
          1505.0,
          872.0,
          880.0,
          996.0,
          2115.0,
          1944.0,
          3290.0,
          1118.0,
          1987.0,
          3527.0,
          2745.0,
          1098.0,
          1581.0,
          1098.0,
          1960.0,
          1663.0,
          2234.0,
          1914.0,
          1479.0,
          3958.0,
          2092.0,
          2152.0,
          1716.0,
          1884.0,
          324.0,
          1450.0,
          1232.0,
          1741.0,
          1581.0,
          1560.0,
          1981.0,
          1672.0,
          1127.0,
          1097.0,
          1508.0,
          2829.0,
          1752.0,
          1228.0,
          2331.0,
          2253.0,
          1993.0,
          1596.0,
          882.0,
          1308.0,
          884.0,
          1168.0,
          2329.0,
          2162.0,
          1116.0,
          1541.0,
          1407.0,
          1576.0,
          1828.0,
          1442.0,
          885.0,
          1798.0,
          1678.0,
          1637.0,
          1524.0,
          2410.0,
          1257.0,
          1329.0,
          1134.0,
          1096.0,
          2030.0,
          2791.0,
          1099.0,
          1363.0,
          1367.0,
          846.0,
          2353.0,
          767.0,
          1861.0,
          2574.0,
          1853.0,
          1656.0,
          2472.0,
          2583.0,
          1094.0,
          1341.0,
          1081.0,
          783.0,
          1724.0,
          1474.0,
          1334.0,
          1389.0,
          1429.0,
          1497.0,
          2358.0,
          2567.0,
          1683.0,
          2155.0,
          882.0,
          1621.0,
          871.0,
          1194.0,
          1620.0,
          1933.0,
          873.0,
          2329.0,
          1715.0,
          817.0,
          2554.0,
          883.0,
          1184.0,
          1575.0,
          1363.0,
          1344.0,
          2150.0,
          2262.0,
          2553.0,
          1341.0,
          880.0,
          2485.0,
          2505.0,
          1241.0,
          1797.0,
          1520.0,
          2476.0,
          1463.0,
          1307.0,
          1901.0,
          1365.0,
          1356.0,
          1361.0,
          1818.0,
          2525.0,
          1745.0,
          1717.0,
          1109.0,
          1469.0,
          2327.0,
          2157.0,
          2132.0,
          881.0,
          2019.0,
          2024.0,
          2036.0,
          1245.0,
          1488.0,
          1249.0,
          1229.0,
          2715.0,
          1801.0,
          1601.0,
          1659.0,
          765.0,
          1100.0,
          1943.0,
          1326.0,
          2798.0,
          2405.0,
          877.0,
          1702.0,
          2751.0,
          1811.0,
          1480.0,
          1682.0,
          2760.0,
          875.0,
          2179.0,
          1799.0,
          1466.0,
          1538.0,
          1587.0,
          202.0,
          1439.0,
          1549.0,
          2127.0,
          1487.0,
          1622.0,
          1357.0,
          1522.0,
          2765.0,
          1419.0,
          1928.0,
          2243.0,
          2245.0,
          2166.0,
          875.0,
          1731.0,
          1312.0,
          872.0,
          2086.0,
          1958.0,
          1345.0,
          881.0,
          1157.0,
          1559.0,
          2071.0,
          1094.0,
          2692.0,
          324.0,
          2778.0,
          1732.0,
          1818.0,
          1368.0,
          1264.0,
          2736.0,
          2334.0,
          1526.0,
          882.0,
          1517.0,
          1795.0,
          1879.0,
          2022.0,
          1515.0,
          1839.0,
          1098.0,
          2055.0,
          1098.0,
          1920.0,
          3988.0,
          2663.0,
          892.0,
          1619.0,
          1094.0,
          2200.0,
          2705.0,
          2450.0,
          1887.0,
          1094.0,
          1924.0,
          1167.0,
          1208.0,
          2688.0,
          1728.0,
          1319.0,
          1107.0,
          1640.0,
          2369.0,
          2855.0,
          1428.0,
          1640.0,
          1284.0,
          1095.0,
          1807.0,
          1879.0,
          2234.0,
          1984.0,
          1096.0
         ],
         "type": "scatter"
        },
        {
         "line": {
          "width": 2
         },
         "mode": "lines",
         "name": "DE Mean Fitness",
         "x": [
          0,
          1,
          2,
          3,
          4,
          5,
          6,
          7,
          8,
          9,
          10,
          11,
          12,
          13,
          14,
          15,
          16,
          17,
          18,
          19,
          20,
          21,
          22,
          23,
          24,
          25,
          26,
          27,
          28,
          29,
          30,
          31,
          32,
          33,
          34,
          35,
          36,
          37,
          38,
          39,
          40,
          41,
          42,
          43,
          44,
          45,
          46,
          47,
          48,
          49,
          50,
          51,
          52,
          53,
          54,
          55,
          56,
          57,
          58,
          59,
          60,
          61,
          62,
          63,
          64,
          65,
          66,
          67,
          68,
          69,
          70,
          71,
          72,
          73,
          74,
          75,
          76,
          77,
          78,
          79,
          80,
          81,
          82,
          83,
          84,
          85,
          86,
          87,
          88,
          89,
          90,
          91,
          92,
          93,
          94,
          95,
          96,
          97,
          98,
          99,
          100,
          101,
          102,
          103,
          104,
          105,
          106,
          107,
          108,
          109,
          110,
          111,
          112,
          113,
          114,
          115,
          116,
          117,
          118,
          119,
          120,
          121,
          122,
          123,
          124,
          125,
          126,
          127,
          128,
          129,
          130,
          131,
          132,
          133,
          134,
          135,
          136,
          137,
          138,
          139,
          140,
          141,
          142,
          143,
          144,
          145,
          146,
          147,
          148,
          149,
          150,
          151,
          152,
          153,
          154,
          155,
          156,
          157,
          158,
          159,
          160,
          161,
          162,
          163,
          164,
          165,
          166,
          167,
          168,
          169,
          170,
          171,
          172,
          173,
          174,
          175,
          176,
          177,
          178,
          179,
          180,
          181,
          182,
          183,
          184,
          185,
          186,
          187,
          188,
          189,
          190,
          191,
          192,
          193,
          194,
          195,
          196,
          197,
          198,
          199,
          200,
          201,
          202,
          203,
          204,
          205,
          206,
          207,
          208,
          209,
          210,
          211,
          212,
          213,
          214,
          215,
          216,
          217,
          218,
          219,
          220,
          221,
          222,
          223,
          224,
          225,
          226,
          227,
          228,
          229,
          230,
          231,
          232,
          233,
          234,
          235,
          236,
          237,
          238,
          239,
          240,
          241,
          242,
          243,
          244,
          245,
          246,
          247,
          248,
          249
         ],
         "y": [
          1635.0,
          1425.0,
          1549.0,
          2144.0,
          2238.0,
          1765.0,
          2030.0,
          1345.0,
          1494.0,
          1565.0,
          1980.0,
          876.0,
          1379.0,
          1761.0,
          2446.0,
          3024.0,
          541.0,
          885.0,
          1445.0,
          1896.0,
          1581.0,
          890.0,
          2080.0,
          1374.0,
          1590.0,
          2551.0,
          3263.0,
          1595.0,
          1682.0,
          2002.0,
          1609.0,
          1815.0,
          2048.0,
          1564.0,
          1241.0,
          1201.0,
          1095.0,
          1627.0,
          2250.0,
          2364.0,
          1517.0,
          2765.0,
          1092.0,
          1687.0,
          1337.0,
          1886.0,
          2527.0,
          1922.0,
          2194.0,
          879.0,
          1549.0,
          2717.0,
          2216.0,
          1742.0,
          1645.0,
          1129.0,
          1307.0,
          1900.0,
          882.0,
          1577.0,
          1692.0,
          2194.0,
          1723.0,
          2457.0,
          1096.0,
          1352.0,
          1726.0,
          2851.0,
          3009.0,
          1402.0,
          1306.0,
          1713.0,
          1285.0,
          2488.0,
          1788.0,
          1576.0,
          1151.0,
          1593.0,
          2359.0,
          1097.0,
          3586.0,
          1786.0,
          2200.0,
          2000.0,
          2029.0,
          1796.0,
          2195.0,
          2229.0,
          2124.0,
          1969.0,
          2657.0,
          2264.0,
          1561.0,
          1872.0,
          1556.0,
          1764.0,
          1318.0,
          884.0,
          2598.0,
          1899.0,
          2036.0,
          1697.0,
          2282.0,
          324.0,
          1090.0,
          1257.0,
          2148.0,
          1677.0,
          1377.0,
          1804.0,
          1750.0,
          324.0,
          1981.0,
          1329.0,
          1131.0,
          1600.0,
          2744.0,
          1733.0,
          1096.0,
          1830.0,
          2488.0,
          1309.0,
          1313.0,
          1318.0,
          1946.0,
          2497.0,
          1524.0,
          1689.0,
          1152.0,
          3376.0,
          1090.0,
          880.0,
          1362.0,
          1706.0,
          1167.0,
          867.0,
          1192.0,
          1105.0,
          1097.0,
          1653.0,
          1411.0,
          1767.0,
          1504.0,
          2404.0,
          2239.0,
          3304.0,
          1952.0,
          1920.0,
          1411.0,
          2903.0,
          3974.0,
          1195.0,
          1612.0,
          2612.0,
          1100.0,
          1096.0,
          1558.0,
          541.0,
          2429.0,
          2205.0,
          1339.0,
          1110.0,
          1903.0,
          2078.0,
          1171.0,
          873.0,
          1586.0,
          1428.0,
          2543.0,
          1873.0,
          1664.0,
          1892.0,
          3181.0,
          3529.0,
          1094.0,
          2362.0,
          2110.0,
          3362.0,
          2848.0,
          1372.0,
          1546.0,
          1430.0,
          1790.0,
          2541.0,
          1193.0,
          1209.0,
          2347.0,
          324.0,
          1397.0,
          1622.0,
          889.0,
          2799.0,
          541.0,
          541.0,
          1640.0,
          2131.0,
          1484.0,
          886.0,
          2372.0,
          1096.0,
          1363.0,
          1434.0,
          2014.0,
          768.0,
          2232.0,
          2342.0,
          848.0,
          1791.0,
          1862.0,
          2151.0,
          1984.0,
          848.0,
          869.0,
          2624.0,
          1570.0,
          1613.0,
          1372.0,
          884.0,
          891.0,
          2182.0,
          1366.0,
          3419.0,
          872.0,
          1320.0,
          1511.0,
          2487.0,
          2051.0,
          1834.0,
          1696.0,
          2991.0,
          1592.0,
          1953.0,
          1491.0,
          2293.0,
          1686.0,
          2249.0,
          1611.0,
          792.0,
          3806.0,
          324.0,
          2618.0,
          2151.0,
          871.0,
          1893.0,
          2162.0,
          784.0,
          1703.0,
          2797.0,
          1745.0,
          1097.0
         ],
         "type": "scatter"
        },
        {
         "line": {
          "width": 0
         },
         "mode": "lines",
         "name": "DE Lower Bound",
         "showlegend": false,
         "x": [
          0,
          1,
          2,
          3,
          4,
          5,
          6,
          7,
          8,
          9,
          10,
          11,
          12,
          13,
          14,
          15,
          16,
          17,
          18,
          19,
          20,
          21,
          22,
          23,
          24,
          25,
          26,
          27,
          28,
          29,
          30,
          31,
          32,
          33,
          34,
          35,
          36,
          37,
          38,
          39,
          40,
          41,
          42,
          43,
          44,
          45,
          46,
          47,
          48,
          49,
          50,
          51,
          52,
          53,
          54,
          55,
          56,
          57,
          58,
          59,
          60,
          61,
          62,
          63,
          64,
          65,
          66,
          67,
          68,
          69,
          70,
          71,
          72,
          73,
          74,
          75,
          76,
          77,
          78,
          79,
          80,
          81,
          82,
          83,
          84,
          85,
          86,
          87,
          88,
          89,
          90,
          91,
          92,
          93,
          94,
          95,
          96,
          97,
          98,
          99,
          100,
          101,
          102,
          103,
          104,
          105,
          106,
          107,
          108,
          109,
          110,
          111,
          112,
          113,
          114,
          115,
          116,
          117,
          118,
          119,
          120,
          121,
          122,
          123,
          124,
          125,
          126,
          127,
          128,
          129,
          130,
          131,
          132,
          133,
          134,
          135,
          136,
          137,
          138,
          139,
          140,
          141,
          142,
          143,
          144,
          145,
          146,
          147,
          148,
          149,
          150,
          151,
          152,
          153,
          154,
          155,
          156,
          157,
          158,
          159,
          160,
          161,
          162,
          163,
          164,
          165,
          166,
          167,
          168,
          169,
          170,
          171,
          172,
          173,
          174,
          175,
          176,
          177,
          178,
          179,
          180,
          181,
          182,
          183,
          184,
          185,
          186,
          187,
          188,
          189,
          190,
          191,
          192,
          193,
          194,
          195,
          196,
          197,
          198,
          199,
          200,
          201,
          202,
          203,
          204,
          205,
          206,
          207,
          208,
          209,
          210,
          211,
          212,
          213,
          214,
          215,
          216,
          217,
          218,
          219,
          220,
          221,
          222,
          223,
          224,
          225,
          226,
          227,
          228,
          229,
          230,
          231,
          232,
          233,
          234,
          235,
          236,
          237,
          238,
          239,
          240,
          241,
          242,
          243,
          244,
          245,
          246,
          247,
          248,
          249
         ],
         "y": [
          1635.0,
          1425.0,
          1549.0,
          2144.0,
          2238.0,
          1765.0,
          2030.0,
          1345.0,
          1494.0,
          1565.0,
          1980.0,
          876.0,
          1379.0,
          1761.0,
          2446.0,
          3024.0,
          541.0,
          885.0,
          1445.0,
          1896.0,
          1581.0,
          890.0,
          2080.0,
          1374.0,
          1590.0,
          2551.0,
          3263.0,
          1595.0,
          1682.0,
          2002.0,
          1609.0,
          1815.0,
          2048.0,
          1564.0,
          1241.0,
          1201.0,
          1095.0,
          1627.0,
          2250.0,
          2364.0,
          1517.0,
          2765.0,
          1092.0,
          1687.0,
          1337.0,
          1886.0,
          2527.0,
          1922.0,
          2194.0,
          879.0,
          1549.0,
          2717.0,
          2216.0,
          1742.0,
          1645.0,
          1129.0,
          1307.0,
          1900.0,
          882.0,
          1577.0,
          1692.0,
          2194.0,
          1723.0,
          2457.0,
          1096.0,
          1352.0,
          1726.0,
          2851.0,
          3009.0,
          1402.0,
          1306.0,
          1713.0,
          1285.0,
          2488.0,
          1788.0,
          1576.0,
          1151.0,
          1593.0,
          2359.0,
          1097.0,
          3586.0,
          1786.0,
          2200.0,
          2000.0,
          2029.0,
          1796.0,
          2195.0,
          2229.0,
          2124.0,
          1969.0,
          2657.0,
          2264.0,
          1561.0,
          1872.0,
          1556.0,
          1764.0,
          1318.0,
          884.0,
          2598.0,
          1899.0,
          2036.0,
          1697.0,
          2282.0,
          324.0,
          1090.0,
          1257.0,
          2148.0,
          1677.0,
          1377.0,
          1804.0,
          1750.0,
          324.0,
          1981.0,
          1329.0,
          1131.0,
          1600.0,
          2744.0,
          1733.0,
          1096.0,
          1830.0,
          2488.0,
          1309.0,
          1313.0,
          1318.0,
          1946.0,
          2497.0,
          1524.0,
          1689.0,
          1152.0,
          3376.0,
          1090.0,
          880.0,
          1362.0,
          1706.0,
          1167.0,
          867.0,
          1192.0,
          1105.0,
          1097.0,
          1653.0,
          1411.0,
          1767.0,
          1504.0,
          2404.0,
          2239.0,
          3304.0,
          1952.0,
          1920.0,
          1411.0,
          2903.0,
          3974.0,
          1195.0,
          1612.0,
          2612.0,
          1100.0,
          1096.0,
          1558.0,
          541.0,
          2429.0,
          2205.0,
          1339.0,
          1110.0,
          1903.0,
          2078.0,
          1171.0,
          873.0,
          1586.0,
          1428.0,
          2543.0,
          1873.0,
          1664.0,
          1892.0,
          3181.0,
          3529.0,
          1094.0,
          2362.0,
          2110.0,
          3362.0,
          2848.0,
          1372.0,
          1546.0,
          1430.0,
          1790.0,
          2541.0,
          1193.0,
          1209.0,
          2347.0,
          324.0,
          1397.0,
          1622.0,
          889.0,
          2799.0,
          541.0,
          541.0,
          1640.0,
          2131.0,
          1484.0,
          886.0,
          2372.0,
          1096.0,
          1363.0,
          1434.0,
          2014.0,
          768.0,
          2232.0,
          2342.0,
          848.0,
          1791.0,
          1862.0,
          2151.0,
          1984.0,
          848.0,
          869.0,
          2624.0,
          1570.0,
          1613.0,
          1372.0,
          884.0,
          891.0,
          2182.0,
          1366.0,
          3419.0,
          872.0,
          1320.0,
          1511.0,
          2487.0,
          2051.0,
          1834.0,
          1696.0,
          2991.0,
          1592.0,
          1953.0,
          1491.0,
          2293.0,
          1686.0,
          2249.0,
          1611.0,
          792.0,
          3806.0,
          324.0,
          2618.0,
          2151.0,
          871.0,
          1893.0,
          2162.0,
          784.0,
          1703.0,
          2797.0,
          1745.0,
          1097.0
         ],
         "type": "scatter"
        },
        {
         "fill": "tonexty",
         "fillcolor": "rgba(68, 68, 68, 0.3)",
         "line": {
          "width": 0
         },
         "mode": "lines",
         "name": "DE Upper Bound",
         "showlegend": false,
         "x": [
          0,
          1,
          2,
          3,
          4,
          5,
          6,
          7,
          8,
          9,
          10,
          11,
          12,
          13,
          14,
          15,
          16,
          17,
          18,
          19,
          20,
          21,
          22,
          23,
          24,
          25,
          26,
          27,
          28,
          29,
          30,
          31,
          32,
          33,
          34,
          35,
          36,
          37,
          38,
          39,
          40,
          41,
          42,
          43,
          44,
          45,
          46,
          47,
          48,
          49,
          50,
          51,
          52,
          53,
          54,
          55,
          56,
          57,
          58,
          59,
          60,
          61,
          62,
          63,
          64,
          65,
          66,
          67,
          68,
          69,
          70,
          71,
          72,
          73,
          74,
          75,
          76,
          77,
          78,
          79,
          80,
          81,
          82,
          83,
          84,
          85,
          86,
          87,
          88,
          89,
          90,
          91,
          92,
          93,
          94,
          95,
          96,
          97,
          98,
          99,
          100,
          101,
          102,
          103,
          104,
          105,
          106,
          107,
          108,
          109,
          110,
          111,
          112,
          113,
          114,
          115,
          116,
          117,
          118,
          119,
          120,
          121,
          122,
          123,
          124,
          125,
          126,
          127,
          128,
          129,
          130,
          131,
          132,
          133,
          134,
          135,
          136,
          137,
          138,
          139,
          140,
          141,
          142,
          143,
          144,
          145,
          146,
          147,
          148,
          149,
          150,
          151,
          152,
          153,
          154,
          155,
          156,
          157,
          158,
          159,
          160,
          161,
          162,
          163,
          164,
          165,
          166,
          167,
          168,
          169,
          170,
          171,
          172,
          173,
          174,
          175,
          176,
          177,
          178,
          179,
          180,
          181,
          182,
          183,
          184,
          185,
          186,
          187,
          188,
          189,
          190,
          191,
          192,
          193,
          194,
          195,
          196,
          197,
          198,
          199,
          200,
          201,
          202,
          203,
          204,
          205,
          206,
          207,
          208,
          209,
          210,
          211,
          212,
          213,
          214,
          215,
          216,
          217,
          218,
          219,
          220,
          221,
          222,
          223,
          224,
          225,
          226,
          227,
          228,
          229,
          230,
          231,
          232,
          233,
          234,
          235,
          236,
          237,
          238,
          239,
          240,
          241,
          242,
          243,
          244,
          245,
          246,
          247,
          248,
          249
         ],
         "y": [
          1635.0,
          1425.0,
          1549.0,
          2144.0,
          2238.0,
          1765.0,
          2030.0,
          1345.0,
          1494.0,
          1565.0,
          1980.0,
          876.0,
          1379.0,
          1761.0,
          2446.0,
          3024.0,
          541.0,
          885.0,
          1445.0,
          1896.0,
          1581.0,
          890.0,
          2080.0,
          1374.0,
          1590.0,
          2551.0,
          3263.0,
          1595.0,
          1682.0,
          2002.0,
          1609.0,
          1815.0,
          2048.0,
          1564.0,
          1241.0,
          1201.0,
          1095.0,
          1627.0,
          2250.0,
          2364.0,
          1517.0,
          2765.0,
          1092.0,
          1687.0,
          1337.0,
          1886.0,
          2527.0,
          1922.0,
          2194.0,
          879.0,
          1549.0,
          2717.0,
          2216.0,
          1742.0,
          1645.0,
          1129.0,
          1307.0,
          1900.0,
          882.0,
          1577.0,
          1692.0,
          2194.0,
          1723.0,
          2457.0,
          1096.0,
          1352.0,
          1726.0,
          2851.0,
          3009.0,
          1402.0,
          1306.0,
          1713.0,
          1285.0,
          2488.0,
          1788.0,
          1576.0,
          1151.0,
          1593.0,
          2359.0,
          1097.0,
          3586.0,
          1786.0,
          2200.0,
          2000.0,
          2029.0,
          1796.0,
          2195.0,
          2229.0,
          2124.0,
          1969.0,
          2657.0,
          2264.0,
          1561.0,
          1872.0,
          1556.0,
          1764.0,
          1318.0,
          884.0,
          2598.0,
          1899.0,
          2036.0,
          1697.0,
          2282.0,
          324.0,
          1090.0,
          1257.0,
          2148.0,
          1677.0,
          1377.0,
          1804.0,
          1750.0,
          324.0,
          1981.0,
          1329.0,
          1131.0,
          1600.0,
          2744.0,
          1733.0,
          1096.0,
          1830.0,
          2488.0,
          1309.0,
          1313.0,
          1318.0,
          1946.0,
          2497.0,
          1524.0,
          1689.0,
          1152.0,
          3376.0,
          1090.0,
          880.0,
          1362.0,
          1706.0,
          1167.0,
          867.0,
          1192.0,
          1105.0,
          1097.0,
          1653.0,
          1411.0,
          1767.0,
          1504.0,
          2404.0,
          2239.0,
          3304.0,
          1952.0,
          1920.0,
          1411.0,
          2903.0,
          3974.0,
          1195.0,
          1612.0,
          2612.0,
          1100.0,
          1096.0,
          1558.0,
          541.0,
          2429.0,
          2205.0,
          1339.0,
          1110.0,
          1903.0,
          2078.0,
          1171.0,
          873.0,
          1586.0,
          1428.0,
          2543.0,
          1873.0,
          1664.0,
          1892.0,
          3181.0,
          3529.0,
          1094.0,
          2362.0,
          2110.0,
          3362.0,
          2848.0,
          1372.0,
          1546.0,
          1430.0,
          1790.0,
          2541.0,
          1193.0,
          1209.0,
          2347.0,
          324.0,
          1397.0,
          1622.0,
          889.0,
          2799.0,
          541.0,
          541.0,
          1640.0,
          2131.0,
          1484.0,
          886.0,
          2372.0,
          1096.0,
          1363.0,
          1434.0,
          2014.0,
          768.0,
          2232.0,
          2342.0,
          848.0,
          1791.0,
          1862.0,
          2151.0,
          1984.0,
          848.0,
          869.0,
          2624.0,
          1570.0,
          1613.0,
          1372.0,
          884.0,
          891.0,
          2182.0,
          1366.0,
          3419.0,
          872.0,
          1320.0,
          1511.0,
          2487.0,
          2051.0,
          1834.0,
          1696.0,
          2991.0,
          1592.0,
          1953.0,
          1491.0,
          2293.0,
          1686.0,
          2249.0,
          1611.0,
          792.0,
          3806.0,
          324.0,
          2618.0,
          2151.0,
          871.0,
          1893.0,
          2162.0,
          784.0,
          1703.0,
          2797.0,
          1745.0,
          1097.0
         ],
         "type": "scatter"
        },
        {
         "line": {
          "width": 2
         },
         "mode": "lines",
         "name": "SADE Mean Fitness",
         "x": [
          0,
          1,
          2,
          3,
          4,
          5,
          6,
          7,
          8,
          9,
          10,
          11,
          12,
          13,
          14,
          15,
          16,
          17,
          18,
          19,
          20,
          21,
          22,
          23,
          24,
          25,
          26,
          27,
          28,
          29,
          30,
          31,
          32,
          33,
          34,
          35,
          36,
          37,
          38,
          39,
          40,
          41,
          42,
          43,
          44,
          45,
          46,
          47,
          48,
          49,
          50,
          51,
          52,
          53,
          54,
          55,
          56,
          57,
          58,
          59,
          60,
          61,
          62,
          63,
          64,
          65,
          66,
          67,
          68,
          69,
          70,
          71,
          72,
          73,
          74,
          75,
          76,
          77,
          78,
          79,
          80,
          81,
          82,
          83,
          84,
          85,
          86,
          87,
          88,
          89,
          90,
          91,
          92,
          93,
          94,
          95,
          96,
          97,
          98,
          99,
          100,
          101,
          102,
          103,
          104,
          105,
          106,
          107,
          108,
          109,
          110,
          111,
          112,
          113,
          114,
          115,
          116,
          117,
          118,
          119,
          120,
          121,
          122,
          123,
          124,
          125,
          126,
          127,
          128,
          129,
          130,
          131,
          132,
          133,
          134,
          135,
          136,
          137,
          138,
          139,
          140,
          141,
          142,
          143,
          144,
          145,
          146,
          147,
          148,
          149,
          150,
          151,
          152,
          153,
          154,
          155,
          156,
          157,
          158,
          159,
          160,
          161,
          162,
          163,
          164,
          165,
          166,
          167,
          168,
          169,
          170,
          171,
          172,
          173,
          174,
          175,
          176,
          177,
          178,
          179,
          180,
          181,
          182,
          183,
          184,
          185,
          186,
          187,
          188,
          189,
          190,
          191,
          192,
          193,
          194,
          195,
          196,
          197,
          198,
          199,
          200,
          201,
          202,
          203,
          204,
          205,
          206,
          207,
          208,
          209,
          210,
          211,
          212,
          213,
          214,
          215,
          216,
          217,
          218,
          219,
          220,
          221,
          222,
          223,
          224,
          225,
          226,
          227,
          228,
          229,
          230,
          231,
          232,
          233,
          234,
          235,
          236,
          237,
          238,
          239,
          240,
          241,
          242,
          243,
          244,
          245,
          246,
          247,
          248,
          249
         ],
         "y": [
          1586.0,
          2377.0,
          3167.0,
          1661.0,
          870.0,
          2048.0,
          1097.0,
          1738.0,
          2165.0,
          1672.0,
          1097.0,
          1030.0,
          1095.0,
          1332.0,
          2428.0,
          2550.0,
          2053.0,
          1321.0,
          2286.0,
          796.0,
          3345.0,
          1560.0,
          1109.0,
          2145.0,
          2517.0,
          2610.0,
          1988.0,
          2138.0,
          2203.0,
          1535.0,
          1438.0,
          1096.0,
          1261.0,
          1094.0,
          1530.0,
          1555.0,
          1298.0,
          2438.0,
          1649.0,
          2845.0,
          2187.0,
          1735.0,
          2349.0,
          541.0,
          3722.0,
          1520.0,
          2880.0,
          1675.0,
          1057.0,
          1667.0,
          854.0,
          232.0,
          2455.0,
          1540.0,
          847.0,
          1373.0,
          1484.0,
          3620.0,
          1932.0,
          1185.0,
          2627.0,
          1992.0,
          1567.0,
          1777.0,
          917.0,
          1097.0,
          2498.0,
          1510.0,
          1595.0,
          1496.0,
          1089.0,
          2389.0,
          2880.0,
          1094.0,
          2230.0,
          1612.0,
          1755.0,
          1854.0,
          1059.0,
          2573.0,
          1737.0,
          2352.0,
          1457.0,
          1658.0,
          1285.0,
          1980.0,
          1497.0,
          1279.0,
          1620.0,
          2503.0,
          3787.0,
          2341.0,
          1617.0,
          1096.0,
          888.0,
          2955.0,
          2682.0,
          2185.0,
          1452.0,
          1329.0,
          1405.0,
          2070.0,
          2322.0,
          1424.0,
          1753.0,
          3645.0,
          1358.0,
          897.0,
          1510.0,
          1891.0,
          806.0,
          1526.0,
          1536.0,
          767.0,
          1118.0,
          1765.0,
          1226.0,
          1602.0,
          762.0,
          1303.0,
          2876.0,
          1770.0,
          1797.0,
          2020.0,
          2192.0,
          1709.0,
          2223.0,
          1732.0,
          3017.0,
          2573.0,
          1734.0,
          2189.0,
          758.0,
          1415.0,
          1127.0,
          1064.0,
          834.0,
          1424.0,
          757.0,
          1481.0,
          881.0,
          1149.0,
          1781.0,
          1933.0,
          1409.0,
          1331.0,
          887.0,
          1361.0,
          1997.0,
          1976.0,
          1604.0,
          786.0,
          2215.0,
          1130.0,
          2728.0,
          1100.0,
          1832.0,
          1641.0,
          1098.0,
          1767.0,
          2431.0,
          1654.0,
          1663.0,
          2716.0,
          3171.0,
          1775.0,
          3184.0,
          3802.0,
          2094.0,
          1873.0,
          1652.0,
          1985.0,
          2215.0,
          1669.0,
          1586.0,
          1097.0,
          1180.0,
          1801.0,
          1621.0,
          1946.0,
          1799.0,
          1924.0,
          864.0,
          2350.0,
          2091.0,
          1690.0,
          1530.0,
          1789.0,
          2111.0,
          3865.0,
          1942.0,
          1382.0,
          1097.0,
          324.0,
          2100.0,
          879.0,
          1094.0,
          2159.0,
          1097.0,
          1885.0,
          2013.0,
          2690.0,
          1433.0,
          879.0,
          1517.0,
          2156.0,
          1291.0,
          1748.0,
          1703.0,
          1527.0,
          2332.0,
          1092.0,
          1414.0,
          2042.0,
          1370.0,
          1671.0,
          1590.0,
          2337.0,
          785.0,
          1504.0,
          1910.0,
          1501.0,
          1647.0,
          2730.0,
          1891.0,
          1865.0,
          1799.0,
          1929.0,
          1093.0,
          879.0,
          1602.0,
          1199.0,
          1849.0,
          994.0,
          2621.0,
          1113.0,
          1600.0,
          1551.0,
          880.0,
          1604.0,
          841.0,
          2863.0,
          1097.0,
          1167.0,
          1726.0,
          1799.0,
          1393.0,
          1681.0,
          1677.0,
          2097.0
         ],
         "type": "scatter"
        },
        {
         "line": {
          "width": 0
         },
         "mode": "lines",
         "name": "SADE Lower Bound",
         "showlegend": false,
         "x": [
          0,
          1,
          2,
          3,
          4,
          5,
          6,
          7,
          8,
          9,
          10,
          11,
          12,
          13,
          14,
          15,
          16,
          17,
          18,
          19,
          20,
          21,
          22,
          23,
          24,
          25,
          26,
          27,
          28,
          29,
          30,
          31,
          32,
          33,
          34,
          35,
          36,
          37,
          38,
          39,
          40,
          41,
          42,
          43,
          44,
          45,
          46,
          47,
          48,
          49,
          50,
          51,
          52,
          53,
          54,
          55,
          56,
          57,
          58,
          59,
          60,
          61,
          62,
          63,
          64,
          65,
          66,
          67,
          68,
          69,
          70,
          71,
          72,
          73,
          74,
          75,
          76,
          77,
          78,
          79,
          80,
          81,
          82,
          83,
          84,
          85,
          86,
          87,
          88,
          89,
          90,
          91,
          92,
          93,
          94,
          95,
          96,
          97,
          98,
          99,
          100,
          101,
          102,
          103,
          104,
          105,
          106,
          107,
          108,
          109,
          110,
          111,
          112,
          113,
          114,
          115,
          116,
          117,
          118,
          119,
          120,
          121,
          122,
          123,
          124,
          125,
          126,
          127,
          128,
          129,
          130,
          131,
          132,
          133,
          134,
          135,
          136,
          137,
          138,
          139,
          140,
          141,
          142,
          143,
          144,
          145,
          146,
          147,
          148,
          149,
          150,
          151,
          152,
          153,
          154,
          155,
          156,
          157,
          158,
          159,
          160,
          161,
          162,
          163,
          164,
          165,
          166,
          167,
          168,
          169,
          170,
          171,
          172,
          173,
          174,
          175,
          176,
          177,
          178,
          179,
          180,
          181,
          182,
          183,
          184,
          185,
          186,
          187,
          188,
          189,
          190,
          191,
          192,
          193,
          194,
          195,
          196,
          197,
          198,
          199,
          200,
          201,
          202,
          203,
          204,
          205,
          206,
          207,
          208,
          209,
          210,
          211,
          212,
          213,
          214,
          215,
          216,
          217,
          218,
          219,
          220,
          221,
          222,
          223,
          224,
          225,
          226,
          227,
          228,
          229,
          230,
          231,
          232,
          233,
          234,
          235,
          236,
          237,
          238,
          239,
          240,
          241,
          242,
          243,
          244,
          245,
          246,
          247,
          248,
          249
         ],
         "y": [
          1586.0,
          2377.0,
          3167.0,
          1661.0,
          870.0,
          2048.0,
          1097.0,
          1738.0,
          2165.0,
          1672.0,
          1097.0,
          1030.0,
          1095.0,
          1332.0,
          2428.0,
          2550.0,
          2053.0,
          1321.0,
          2286.0,
          796.0,
          3345.0,
          1560.0,
          1109.0,
          2145.0,
          2517.0,
          2610.0,
          1988.0,
          2138.0,
          2203.0,
          1535.0,
          1438.0,
          1096.0,
          1261.0,
          1094.0,
          1530.0,
          1555.0,
          1298.0,
          2438.0,
          1649.0,
          2845.0,
          2187.0,
          1735.0,
          2349.0,
          541.0,
          3722.0,
          1520.0,
          2880.0,
          1675.0,
          1057.0,
          1667.0,
          854.0,
          232.0,
          2455.0,
          1540.0,
          847.0,
          1373.0,
          1484.0,
          3620.0,
          1932.0,
          1185.0,
          2627.0,
          1992.0,
          1567.0,
          1777.0,
          917.0,
          1097.0,
          2498.0,
          1510.0,
          1595.0,
          1496.0,
          1089.0,
          2389.0,
          2880.0,
          1094.0,
          2230.0,
          1612.0,
          1755.0,
          1854.0,
          1059.0,
          2573.0,
          1737.0,
          2352.0,
          1457.0,
          1658.0,
          1285.0,
          1980.0,
          1497.0,
          1279.0,
          1620.0,
          2503.0,
          3787.0,
          2341.0,
          1617.0,
          1096.0,
          888.0,
          2955.0,
          2682.0,
          2185.0,
          1452.0,
          1329.0,
          1405.0,
          2070.0,
          2322.0,
          1424.0,
          1753.0,
          3645.0,
          1358.0,
          897.0,
          1510.0,
          1891.0,
          806.0,
          1526.0,
          1536.0,
          767.0,
          1118.0,
          1765.0,
          1226.0,
          1602.0,
          762.0,
          1303.0,
          2876.0,
          1770.0,
          1797.0,
          2020.0,
          2192.0,
          1709.0,
          2223.0,
          1732.0,
          3017.0,
          2573.0,
          1734.0,
          2189.0,
          758.0,
          1415.0,
          1127.0,
          1064.0,
          834.0,
          1424.0,
          757.0,
          1481.0,
          881.0,
          1149.0,
          1781.0,
          1933.0,
          1409.0,
          1331.0,
          887.0,
          1361.0,
          1997.0,
          1976.0,
          1604.0,
          786.0,
          2215.0,
          1130.0,
          2728.0,
          1100.0,
          1832.0,
          1641.0,
          1098.0,
          1767.0,
          2431.0,
          1654.0,
          1663.0,
          2716.0,
          3171.0,
          1775.0,
          3184.0,
          3802.0,
          2094.0,
          1873.0,
          1652.0,
          1985.0,
          2215.0,
          1669.0,
          1586.0,
          1097.0,
          1180.0,
          1801.0,
          1621.0,
          1946.0,
          1799.0,
          1924.0,
          864.0,
          2350.0,
          2091.0,
          1690.0,
          1530.0,
          1789.0,
          2111.0,
          3865.0,
          1942.0,
          1382.0,
          1097.0,
          324.0,
          2100.0,
          879.0,
          1094.0,
          2159.0,
          1097.0,
          1885.0,
          2013.0,
          2690.0,
          1433.0,
          879.0,
          1517.0,
          2156.0,
          1291.0,
          1748.0,
          1703.0,
          1527.0,
          2332.0,
          1092.0,
          1414.0,
          2042.0,
          1370.0,
          1671.0,
          1590.0,
          2337.0,
          785.0,
          1504.0,
          1910.0,
          1501.0,
          1647.0,
          2730.0,
          1891.0,
          1865.0,
          1799.0,
          1929.0,
          1093.0,
          879.0,
          1602.0,
          1199.0,
          1849.0,
          994.0,
          2621.0,
          1113.0,
          1600.0,
          1551.0,
          880.0,
          1604.0,
          841.0,
          2863.0,
          1097.0,
          1167.0,
          1726.0,
          1799.0,
          1393.0,
          1681.0,
          1677.0,
          2097.0
         ],
         "type": "scatter"
        },
        {
         "fill": "tonexty",
         "fillcolor": "rgba(68, 68, 68, 0.3)",
         "line": {
          "width": 0
         },
         "mode": "lines",
         "name": "SADE Upper Bound",
         "showlegend": false,
         "x": [
          0,
          1,
          2,
          3,
          4,
          5,
          6,
          7,
          8,
          9,
          10,
          11,
          12,
          13,
          14,
          15,
          16,
          17,
          18,
          19,
          20,
          21,
          22,
          23,
          24,
          25,
          26,
          27,
          28,
          29,
          30,
          31,
          32,
          33,
          34,
          35,
          36,
          37,
          38,
          39,
          40,
          41,
          42,
          43,
          44,
          45,
          46,
          47,
          48,
          49,
          50,
          51,
          52,
          53,
          54,
          55,
          56,
          57,
          58,
          59,
          60,
          61,
          62,
          63,
          64,
          65,
          66,
          67,
          68,
          69,
          70,
          71,
          72,
          73,
          74,
          75,
          76,
          77,
          78,
          79,
          80,
          81,
          82,
          83,
          84,
          85,
          86,
          87,
          88,
          89,
          90,
          91,
          92,
          93,
          94,
          95,
          96,
          97,
          98,
          99,
          100,
          101,
          102,
          103,
          104,
          105,
          106,
          107,
          108,
          109,
          110,
          111,
          112,
          113,
          114,
          115,
          116,
          117,
          118,
          119,
          120,
          121,
          122,
          123,
          124,
          125,
          126,
          127,
          128,
          129,
          130,
          131,
          132,
          133,
          134,
          135,
          136,
          137,
          138,
          139,
          140,
          141,
          142,
          143,
          144,
          145,
          146,
          147,
          148,
          149,
          150,
          151,
          152,
          153,
          154,
          155,
          156,
          157,
          158,
          159,
          160,
          161,
          162,
          163,
          164,
          165,
          166,
          167,
          168,
          169,
          170,
          171,
          172,
          173,
          174,
          175,
          176,
          177,
          178,
          179,
          180,
          181,
          182,
          183,
          184,
          185,
          186,
          187,
          188,
          189,
          190,
          191,
          192,
          193,
          194,
          195,
          196,
          197,
          198,
          199,
          200,
          201,
          202,
          203,
          204,
          205,
          206,
          207,
          208,
          209,
          210,
          211,
          212,
          213,
          214,
          215,
          216,
          217,
          218,
          219,
          220,
          221,
          222,
          223,
          224,
          225,
          226,
          227,
          228,
          229,
          230,
          231,
          232,
          233,
          234,
          235,
          236,
          237,
          238,
          239,
          240,
          241,
          242,
          243,
          244,
          245,
          246,
          247,
          248,
          249
         ],
         "y": [
          1586.0,
          2377.0,
          3167.0,
          1661.0,
          870.0,
          2048.0,
          1097.0,
          1738.0,
          2165.0,
          1672.0,
          1097.0,
          1030.0,
          1095.0,
          1332.0,
          2428.0,
          2550.0,
          2053.0,
          1321.0,
          2286.0,
          796.0,
          3345.0,
          1560.0,
          1109.0,
          2145.0,
          2517.0,
          2610.0,
          1988.0,
          2138.0,
          2203.0,
          1535.0,
          1438.0,
          1096.0,
          1261.0,
          1094.0,
          1530.0,
          1555.0,
          1298.0,
          2438.0,
          1649.0,
          2845.0,
          2187.0,
          1735.0,
          2349.0,
          541.0,
          3722.0,
          1520.0,
          2880.0,
          1675.0,
          1057.0,
          1667.0,
          854.0,
          232.0,
          2455.0,
          1540.0,
          847.0,
          1373.0,
          1484.0,
          3620.0,
          1932.0,
          1185.0,
          2627.0,
          1992.0,
          1567.0,
          1777.0,
          917.0,
          1097.0,
          2498.0,
          1510.0,
          1595.0,
          1496.0,
          1089.0,
          2389.0,
          2880.0,
          1094.0,
          2230.0,
          1612.0,
          1755.0,
          1854.0,
          1059.0,
          2573.0,
          1737.0,
          2352.0,
          1457.0,
          1658.0,
          1285.0,
          1980.0,
          1497.0,
          1279.0,
          1620.0,
          2503.0,
          3787.0,
          2341.0,
          1617.0,
          1096.0,
          888.0,
          2955.0,
          2682.0,
          2185.0,
          1452.0,
          1329.0,
          1405.0,
          2070.0,
          2322.0,
          1424.0,
          1753.0,
          3645.0,
          1358.0,
          897.0,
          1510.0,
          1891.0,
          806.0,
          1526.0,
          1536.0,
          767.0,
          1118.0,
          1765.0,
          1226.0,
          1602.0,
          762.0,
          1303.0,
          2876.0,
          1770.0,
          1797.0,
          2020.0,
          2192.0,
          1709.0,
          2223.0,
          1732.0,
          3017.0,
          2573.0,
          1734.0,
          2189.0,
          758.0,
          1415.0,
          1127.0,
          1064.0,
          834.0,
          1424.0,
          757.0,
          1481.0,
          881.0,
          1149.0,
          1781.0,
          1933.0,
          1409.0,
          1331.0,
          887.0,
          1361.0,
          1997.0,
          1976.0,
          1604.0,
          786.0,
          2215.0,
          1130.0,
          2728.0,
          1100.0,
          1832.0,
          1641.0,
          1098.0,
          1767.0,
          2431.0,
          1654.0,
          1663.0,
          2716.0,
          3171.0,
          1775.0,
          3184.0,
          3802.0,
          2094.0,
          1873.0,
          1652.0,
          1985.0,
          2215.0,
          1669.0,
          1586.0,
          1097.0,
          1180.0,
          1801.0,
          1621.0,
          1946.0,
          1799.0,
          1924.0,
          864.0,
          2350.0,
          2091.0,
          1690.0,
          1530.0,
          1789.0,
          2111.0,
          3865.0,
          1942.0,
          1382.0,
          1097.0,
          324.0,
          2100.0,
          879.0,
          1094.0,
          2159.0,
          1097.0,
          1885.0,
          2013.0,
          2690.0,
          1433.0,
          879.0,
          1517.0,
          2156.0,
          1291.0,
          1748.0,
          1703.0,
          1527.0,
          2332.0,
          1092.0,
          1414.0,
          2042.0,
          1370.0,
          1671.0,
          1590.0,
          2337.0,
          785.0,
          1504.0,
          1910.0,
          1501.0,
          1647.0,
          2730.0,
          1891.0,
          1865.0,
          1799.0,
          1929.0,
          1093.0,
          879.0,
          1602.0,
          1199.0,
          1849.0,
          994.0,
          2621.0,
          1113.0,
          1600.0,
          1551.0,
          880.0,
          1604.0,
          841.0,
          2863.0,
          1097.0,
          1167.0,
          1726.0,
          1799.0,
          1393.0,
          1681.0,
          1677.0,
          2097.0
         ],
         "type": "scatter"
        }
       ],
       "layout": {
        "template": {
         "data": {
          "histogram2dcontour": [
           {
            "type": "histogram2dcontour",
            "colorbar": {
             "outlinewidth": 0,
             "ticks": ""
            },
            "colorscale": [
             [
              0.0,
              "#0d0887"
             ],
             [
              0.1111111111111111,
              "#46039f"
             ],
             [
              0.2222222222222222,
              "#7201a8"
             ],
             [
              0.3333333333333333,
              "#9c179e"
             ],
             [
              0.4444444444444444,
              "#bd3786"
             ],
             [
              0.5555555555555556,
              "#d8576b"
             ],
             [
              0.6666666666666666,
              "#ed7953"
             ],
             [
              0.7777777777777778,
              "#fb9f3a"
             ],
             [
              0.8888888888888888,
              "#fdca26"
             ],
             [
              1.0,
              "#f0f921"
             ]
            ]
           }
          ],
          "choropleth": [
           {
            "type": "choropleth",
            "colorbar": {
             "outlinewidth": 0,
             "ticks": ""
            }
           }
          ],
          "histogram2d": [
           {
            "type": "histogram2d",
            "colorbar": {
             "outlinewidth": 0,
             "ticks": ""
            },
            "colorscale": [
             [
              0.0,
              "#0d0887"
             ],
             [
              0.1111111111111111,
              "#46039f"
             ],
             [
              0.2222222222222222,
              "#7201a8"
             ],
             [
              0.3333333333333333,
              "#9c179e"
             ],
             [
              0.4444444444444444,
              "#bd3786"
             ],
             [
              0.5555555555555556,
              "#d8576b"
             ],
             [
              0.6666666666666666,
              "#ed7953"
             ],
             [
              0.7777777777777778,
              "#fb9f3a"
             ],
             [
              0.8888888888888888,
              "#fdca26"
             ],
             [
              1.0,
              "#f0f921"
             ]
            ]
           }
          ],
          "heatmap": [
           {
            "type": "heatmap",
            "colorbar": {
             "outlinewidth": 0,
             "ticks": ""
            },
            "colorscale": [
             [
              0.0,
              "#0d0887"
             ],
             [
              0.1111111111111111,
              "#46039f"
             ],
             [
              0.2222222222222222,
              "#7201a8"
             ],
             [
              0.3333333333333333,
              "#9c179e"
             ],
             [
              0.4444444444444444,
              "#bd3786"
             ],
             [
              0.5555555555555556,
              "#d8576b"
             ],
             [
              0.6666666666666666,
              "#ed7953"
             ],
             [
              0.7777777777777778,
              "#fb9f3a"
             ],
             [
              0.8888888888888888,
              "#fdca26"
             ],
             [
              1.0,
              "#f0f921"
             ]
            ]
           }
          ],
          "heatmapgl": [
           {
            "type": "heatmapgl",
            "colorbar": {
             "outlinewidth": 0,
             "ticks": ""
            },
            "colorscale": [
             [
              0.0,
              "#0d0887"
             ],
             [
              0.1111111111111111,
              "#46039f"
             ],
             [
              0.2222222222222222,
              "#7201a8"
             ],
             [
              0.3333333333333333,
              "#9c179e"
             ],
             [
              0.4444444444444444,
              "#bd3786"
             ],
             [
              0.5555555555555556,
              "#d8576b"
             ],
             [
              0.6666666666666666,
              "#ed7953"
             ],
             [
              0.7777777777777778,
              "#fb9f3a"
             ],
             [
              0.8888888888888888,
              "#fdca26"
             ],
             [
              1.0,
              "#f0f921"
             ]
            ]
           }
          ],
          "contourcarpet": [
           {
            "type": "contourcarpet",
            "colorbar": {
             "outlinewidth": 0,
             "ticks": ""
            }
           }
          ],
          "contour": [
           {
            "type": "contour",
            "colorbar": {
             "outlinewidth": 0,
             "ticks": ""
            },
            "colorscale": [
             [
              0.0,
              "#0d0887"
             ],
             [
              0.1111111111111111,
              "#46039f"
             ],
             [
              0.2222222222222222,
              "#7201a8"
             ],
             [
              0.3333333333333333,
              "#9c179e"
             ],
             [
              0.4444444444444444,
              "#bd3786"
             ],
             [
              0.5555555555555556,
              "#d8576b"
             ],
             [
              0.6666666666666666,
              "#ed7953"
             ],
             [
              0.7777777777777778,
              "#fb9f3a"
             ],
             [
              0.8888888888888888,
              "#fdca26"
             ],
             [
              1.0,
              "#f0f921"
             ]
            ]
           }
          ],
          "surface": [
           {
            "type": "surface",
            "colorbar": {
             "outlinewidth": 0,
             "ticks": ""
            },
            "colorscale": [
             [
              0.0,
              "#0d0887"
             ],
             [
              0.1111111111111111,
              "#46039f"
             ],
             [
              0.2222222222222222,
              "#7201a8"
             ],
             [
              0.3333333333333333,
              "#9c179e"
             ],
             [
              0.4444444444444444,
              "#bd3786"
             ],
             [
              0.5555555555555556,
              "#d8576b"
             ],
             [
              0.6666666666666666,
              "#ed7953"
             ],
             [
              0.7777777777777778,
              "#fb9f3a"
             ],
             [
              0.8888888888888888,
              "#fdca26"
             ],
             [
              1.0,
              "#f0f921"
             ]
            ]
           }
          ],
          "mesh3d": [
           {
            "type": "mesh3d",
            "colorbar": {
             "outlinewidth": 0,
             "ticks": ""
            }
           }
          ],
          "scatter": [
           {
            "fillpattern": {
             "fillmode": "overlay",
             "size": 10,
             "solidity": 0.2
            },
            "type": "scatter"
           }
          ],
          "parcoords": [
           {
            "type": "parcoords",
            "line": {
             "colorbar": {
              "outlinewidth": 0,
              "ticks": ""
             }
            }
           }
          ],
          "scatterpolargl": [
           {
            "type": "scatterpolargl",
            "marker": {
             "colorbar": {
              "outlinewidth": 0,
              "ticks": ""
             }
            }
           }
          ],
          "bar": [
           {
            "error_x": {
             "color": "#2a3f5f"
            },
            "error_y": {
             "color": "#2a3f5f"
            },
            "marker": {
             "line": {
              "color": "#E5ECF6",
              "width": 0.5
             },
             "pattern": {
              "fillmode": "overlay",
              "size": 10,
              "solidity": 0.2
             }
            },
            "type": "bar"
           }
          ],
          "scattergeo": [
           {
            "type": "scattergeo",
            "marker": {
             "colorbar": {
              "outlinewidth": 0,
              "ticks": ""
             }
            }
           }
          ],
          "scatterpolar": [
           {
            "type": "scatterpolar",
            "marker": {
             "colorbar": {
              "outlinewidth": 0,
              "ticks": ""
             }
            }
           }
          ],
          "histogram": [
           {
            "marker": {
             "pattern": {
              "fillmode": "overlay",
              "size": 10,
              "solidity": 0.2
             }
            },
            "type": "histogram"
           }
          ],
          "scattergl": [
           {
            "type": "scattergl",
            "marker": {
             "colorbar": {
              "outlinewidth": 0,
              "ticks": ""
             }
            }
           }
          ],
          "scatter3d": [
           {
            "type": "scatter3d",
            "line": {
             "colorbar": {
              "outlinewidth": 0,
              "ticks": ""
             }
            },
            "marker": {
             "colorbar": {
              "outlinewidth": 0,
              "ticks": ""
             }
            }
           }
          ],
          "scattermapbox": [
           {
            "type": "scattermapbox",
            "marker": {
             "colorbar": {
              "outlinewidth": 0,
              "ticks": ""
             }
            }
           }
          ],
          "scatterternary": [
           {
            "type": "scatterternary",
            "marker": {
             "colorbar": {
              "outlinewidth": 0,
              "ticks": ""
             }
            }
           }
          ],
          "scattercarpet": [
           {
            "type": "scattercarpet",
            "marker": {
             "colorbar": {
              "outlinewidth": 0,
              "ticks": ""
             }
            }
           }
          ],
          "carpet": [
           {
            "aaxis": {
             "endlinecolor": "#2a3f5f",
             "gridcolor": "white",
             "linecolor": "white",
             "minorgridcolor": "white",
             "startlinecolor": "#2a3f5f"
            },
            "baxis": {
             "endlinecolor": "#2a3f5f",
             "gridcolor": "white",
             "linecolor": "white",
             "minorgridcolor": "white",
             "startlinecolor": "#2a3f5f"
            },
            "type": "carpet"
           }
          ],
          "table": [
           {
            "cells": {
             "fill": {
              "color": "#EBF0F8"
             },
             "line": {
              "color": "white"
             }
            },
            "header": {
             "fill": {
              "color": "#C8D4E3"
             },
             "line": {
              "color": "white"
             }
            },
            "type": "table"
           }
          ],
          "barpolar": [
           {
            "marker": {
             "line": {
              "color": "#E5ECF6",
              "width": 0.5
             },
             "pattern": {
              "fillmode": "overlay",
              "size": 10,
              "solidity": 0.2
             }
            },
            "type": "barpolar"
           }
          ],
          "pie": [
           {
            "automargin": true,
            "type": "pie"
           }
          ]
         },
         "layout": {
          "autotypenumbers": "strict",
          "colorway": [
           "#636efa",
           "#EF553B",
           "#00cc96",
           "#ab63fa",
           "#FFA15A",
           "#19d3f3",
           "#FF6692",
           "#B6E880",
           "#FF97FF",
           "#FECB52"
          ],
          "font": {
           "color": "#2a3f5f"
          },
          "hovermode": "closest",
          "hoverlabel": {
           "align": "left"
          },
          "paper_bgcolor": "white",
          "plot_bgcolor": "#E5ECF6",
          "polar": {
           "bgcolor": "#E5ECF6",
           "angularaxis": {
            "gridcolor": "white",
            "linecolor": "white",
            "ticks": ""
           },
           "radialaxis": {
            "gridcolor": "white",
            "linecolor": "white",
            "ticks": ""
           }
          },
          "ternary": {
           "bgcolor": "#E5ECF6",
           "aaxis": {
            "gridcolor": "white",
            "linecolor": "white",
            "ticks": ""
           },
           "baxis": {
            "gridcolor": "white",
            "linecolor": "white",
            "ticks": ""
           },
           "caxis": {
            "gridcolor": "white",
            "linecolor": "white",
            "ticks": ""
           }
          },
          "coloraxis": {
           "colorbar": {
            "outlinewidth": 0,
            "ticks": ""
           }
          },
          "colorscale": {
           "sequential": [
            [
             0.0,
             "#0d0887"
            ],
            [
             0.1111111111111111,
             "#46039f"
            ],
            [
             0.2222222222222222,
             "#7201a8"
            ],
            [
             0.3333333333333333,
             "#9c179e"
            ],
            [
             0.4444444444444444,
             "#bd3786"
            ],
            [
             0.5555555555555556,
             "#d8576b"
            ],
            [
             0.6666666666666666,
             "#ed7953"
            ],
            [
             0.7777777777777778,
             "#fb9f3a"
            ],
            [
             0.8888888888888888,
             "#fdca26"
            ],
            [
             1.0,
             "#f0f921"
            ]
           ],
           "sequentialminus": [
            [
             0.0,
             "#0d0887"
            ],
            [
             0.1111111111111111,
             "#46039f"
            ],
            [
             0.2222222222222222,
             "#7201a8"
            ],
            [
             0.3333333333333333,
             "#9c179e"
            ],
            [
             0.4444444444444444,
             "#bd3786"
            ],
            [
             0.5555555555555556,
             "#d8576b"
            ],
            [
             0.6666666666666666,
             "#ed7953"
            ],
            [
             0.7777777777777778,
             "#fb9f3a"
            ],
            [
             0.8888888888888888,
             "#fdca26"
            ],
            [
             1.0,
             "#f0f921"
            ]
           ],
           "diverging": [
            [
             0,
             "#8e0152"
            ],
            [
             0.1,
             "#c51b7d"
            ],
            [
             0.2,
             "#de77ae"
            ],
            [
             0.3,
             "#f1b6da"
            ],
            [
             0.4,
             "#fde0ef"
            ],
            [
             0.5,
             "#f7f7f7"
            ],
            [
             0.6,
             "#e6f5d0"
            ],
            [
             0.7,
             "#b8e186"
            ],
            [
             0.8,
             "#7fbc41"
            ],
            [
             0.9,
             "#4d9221"
            ],
            [
             1,
             "#276419"
            ]
           ]
          },
          "xaxis": {
           "gridcolor": "white",
           "linecolor": "white",
           "ticks": "",
           "title": {
            "standoff": 15
           },
           "zerolinecolor": "white",
           "automargin": true,
           "zerolinewidth": 2
          },
          "yaxis": {
           "gridcolor": "white",
           "linecolor": "white",
           "ticks": "",
           "title": {
            "standoff": 15
           },
           "zerolinecolor": "white",
           "automargin": true,
           "zerolinewidth": 2
          },
          "scene": {
           "xaxis": {
            "backgroundcolor": "#E5ECF6",
            "gridcolor": "white",
            "linecolor": "white",
            "showbackground": true,
            "ticks": "",
            "zerolinecolor": "white",
            "gridwidth": 2
           },
           "yaxis": {
            "backgroundcolor": "#E5ECF6",
            "gridcolor": "white",
            "linecolor": "white",
            "showbackground": true,
            "ticks": "",
            "zerolinecolor": "white",
            "gridwidth": 2
           },
           "zaxis": {
            "backgroundcolor": "#E5ECF6",
            "gridcolor": "white",
            "linecolor": "white",
            "showbackground": true,
            "ticks": "",
            "zerolinecolor": "white",
            "gridwidth": 2
           }
          },
          "shapedefaults": {
           "line": {
            "color": "#2a3f5f"
           }
          },
          "annotationdefaults": {
           "arrowcolor": "#2a3f5f",
           "arrowhead": 0,
           "arrowwidth": 1
          },
          "geo": {
           "bgcolor": "white",
           "landcolor": "#E5ECF6",
           "subunitcolor": "white",
           "showland": true,
           "showlakes": true,
           "lakecolor": "white"
          },
          "title": {
           "x": 0.05
          },
          "mapbox": {
           "style": "light"
          }
         }
        },
        "title": {
         "text": "Bootstrapped Confidence Intervals for Mean Fitness per Algorithm and Iteration"
        },
        "xaxis": {
         "title": {
          "text": "Iteration"
         }
        },
        "yaxis": {
         "title": {
          "text": "Mean Fitness"
         }
        },
        "hovermode": "x"
       },
       "config": {
        "plotlyServerURL": "https://plot.ly"
       }
      },
      "text/html": "<div>                            <div id=\"d264983a-97e2-4288-a603-bf9a7af76252\" class=\"plotly-graph-div\" style=\"height:525px; width:100%;\"></div>            <script type=\"text/javascript\">                require([\"plotly\"], function(Plotly) {                    window.PLOTLYENV=window.PLOTLYENV || {};                                    if (document.getElementById(\"d264983a-97e2-4288-a603-bf9a7af76252\")) {                    Plotly.newPlot(                        \"d264983a-97e2-4288-a603-bf9a7af76252\",                        [{\"line\":{\"width\":2},\"mode\":\"lines\",\"name\":\"PSO Mean Fitness\",\"x\":[0,1,2,3,4,5,6,7,8,9,10,11,12,13,14,15,16,17,18,19,20,21,22,23,24,25,26,27,28,29,30,31,32,33,34,35,36,37,38,39,40,41,42,43,44,45,46,47,48,49,50,51,52,53,54,55,56,57,58,59,60,61,62,63,64,65,66,67,68,69,70,71,72,73,74,75,76,77,78,79,80,81,82,83,84,85,86,87,88,89,90,91,92,93,94,95,96,97,98,99,100,101,102,103,104,105,106,107,108,109,110,111,112,113,114,115,116,117,118,119,120,121,122,123,124,125,126,127,128,129,130,131,132,133,134,135,136,137,138,139,140,141,142,143,144,145,146,147,148,149,150,151,152,153,154,155,156,157,158,159,160,161,162,163,164,165,166,167,168,169,170,171,172,173,174,175,176,177,178,179,180,181,182,183,184,185,186,187,188,189,190,191,192,193,194,195,196,197,198,199,200,201,202,203,204,205,206,207,208,209,210,211,212,213,214,215,216,217,218,219,220,221,222,223,224,225,226,227,228,229,230,231,232,233,234,235,236,237,238,239,240,241,242,243,244,245,246,247,248,249],\"y\":[1523.0,1360.0,2208.0,3826.0,1233.0,1697.0,2227.0,1679.0,1693.0,1430.0,1709.0,3482.0,1757.0,1100.0,2366.0,2040.0,2825.0,2289.0,1622.0,541.0,2775.0,1586.0,205.0,2200.0,3219.0,2824.0,1786.0,1095.0,2324.0,1472.0,2355.0,2148.0,1096.0,2238.0,1334.0,2457.0,2272.0,2380.0,1321.0,1394.0,3186.0,1380.0,2273.0,1728.0,889.0,2479.0,870.0,2015.0,2073.0,3000.0,884.0,1109.0,1122.0,2701.0,2613.0,1727.0,1325.0,1617.0,3770.0,1324.0,2199.0,1579.0,881.0,3155.0,1814.0,1491.0,1840.0,541.0,1824.0,1191.0,1338.0,1301.0,2009.0,1976.0,1470.0,1406.0,2595.0,1175.0,793.0,823.0,2263.0,1098.0,1548.0,1512.0,1361.0,1830.0,2333.0,2626.0,1708.0,1923.0,3429.0,2186.0,1442.0,2607.0,1401.0,1122.0,1415.0,2531.0,1279.0,879.0,1186.0,1933.0,1615.0,1929.0,1679.0,885.0,1183.0,1334.0,1053.0,1547.0,2397.0,1295.0,3488.0,1784.0,2182.0,2469.0,3361.0,2106.0,1836.0,1095.0,1661.0,1942.0,2804.0,1592.0,1914.0,1226.0,3601.0,3113.0,2711.0,1954.0,1095.0,902.0,1290.0,885.0,1897.0,1553.0,1348.0,1096.0,1093.0,202.0,1865.0,1760.0,1509.0,1829.0,2258.0,2264.0,1269.0,1305.0,1035.0,1739.0,2223.0,1541.0,1869.0,1568.0,2208.0,1363.0,1222.0,1059.0,887.0,1108.0,1096.0,1620.0,2248.0,1675.0,1903.0,1699.0,1500.0,1097.0,1488.0,1887.0,1584.0,2509.0,888.0,1785.0,783.0,1628.0,1565.0,2283.0,541.0,1616.0,2058.0,1543.0,1908.0,2918.0,1092.0,1070.0,2321.0,1206.0,1378.0,1521.0,1092.0,2480.0,885.0,1702.0,1464.0,2410.0,790.0,2155.0,1456.0,1588.0,1843.0,1639.0,1955.0,1101.0,1645.0,890.0,891.0,1067.0,2320.0,765.0,1911.0,2121.0,1093.0,2803.0,878.0,1868.0,2335.0,3860.0,887.0,1608.0,2313.0,2224.0,1682.0,1219.0,1691.0,1929.0,866.0,1530.0,1943.0,1832.0,2038.0,1401.0,1914.0,886.0,1776.0,1645.0,1617.0,903.0,1169.0,1101.0,1098.0,2693.0,1095.0,1634.0,868.0,2751.0,1093.0,1125.0,1452.0,880.0],\"type\":\"scatter\"},{\"line\":{\"width\":0},\"mode\":\"lines\",\"name\":\"PSO Lower Bound\",\"showlegend\":false,\"x\":[0,1,2,3,4,5,6,7,8,9,10,11,12,13,14,15,16,17,18,19,20,21,22,23,24,25,26,27,28,29,30,31,32,33,34,35,36,37,38,39,40,41,42,43,44,45,46,47,48,49,50,51,52,53,54,55,56,57,58,59,60,61,62,63,64,65,66,67,68,69,70,71,72,73,74,75,76,77,78,79,80,81,82,83,84,85,86,87,88,89,90,91,92,93,94,95,96,97,98,99,100,101,102,103,104,105,106,107,108,109,110,111,112,113,114,115,116,117,118,119,120,121,122,123,124,125,126,127,128,129,130,131,132,133,134,135,136,137,138,139,140,141,142,143,144,145,146,147,148,149,150,151,152,153,154,155,156,157,158,159,160,161,162,163,164,165,166,167,168,169,170,171,172,173,174,175,176,177,178,179,180,181,182,183,184,185,186,187,188,189,190,191,192,193,194,195,196,197,198,199,200,201,202,203,204,205,206,207,208,209,210,211,212,213,214,215,216,217,218,219,220,221,222,223,224,225,226,227,228,229,230,231,232,233,234,235,236,237,238,239,240,241,242,243,244,245,246,247,248,249],\"y\":[1523.0,1360.0,2208.0,3826.0,1233.0,1697.0,2227.0,1679.0,1693.0,1430.0,1709.0,3482.0,1757.0,1100.0,2366.0,2040.0,2825.0,2289.0,1622.0,541.0,2775.0,1586.0,205.0,2200.0,3219.0,2824.0,1786.0,1095.0,2324.0,1472.0,2355.0,2148.0,1096.0,2238.0,1334.0,2457.0,2272.0,2380.0,1321.0,1394.0,3186.0,1380.0,2273.0,1728.0,889.0,2479.0,870.0,2015.0,2073.0,3000.0,884.0,1109.0,1122.0,2701.0,2613.0,1727.0,1325.0,1617.0,3770.0,1324.0,2199.0,1579.0,881.0,3155.0,1814.0,1491.0,1840.0,541.0,1824.0,1191.0,1338.0,1301.0,2009.0,1976.0,1470.0,1406.0,2595.0,1175.0,793.0,823.0,2263.0,1098.0,1548.0,1512.0,1361.0,1830.0,2333.0,2626.0,1708.0,1923.0,3429.0,2186.0,1442.0,2607.0,1401.0,1122.0,1415.0,2531.0,1279.0,879.0,1186.0,1933.0,1615.0,1929.0,1679.0,885.0,1183.0,1334.0,1053.0,1547.0,2397.0,1295.0,3488.0,1784.0,2182.0,2469.0,3361.0,2106.0,1836.0,1095.0,1661.0,1942.0,2804.0,1592.0,1914.0,1226.0,3601.0,3113.0,2711.0,1954.0,1095.0,902.0,1290.0,885.0,1897.0,1553.0,1348.0,1096.0,1093.0,202.0,1865.0,1760.0,1509.0,1829.0,2258.0,2264.0,1269.0,1305.0,1035.0,1739.0,2223.0,1541.0,1869.0,1568.0,2208.0,1363.0,1222.0,1059.0,887.0,1108.0,1096.0,1620.0,2248.0,1675.0,1903.0,1699.0,1500.0,1097.0,1488.0,1887.0,1584.0,2509.0,888.0,1785.0,783.0,1628.0,1565.0,2283.0,541.0,1616.0,2058.0,1543.0,1908.0,2918.0,1092.0,1070.0,2321.0,1206.0,1378.0,1521.0,1092.0,2480.0,885.0,1702.0,1464.0,2410.0,790.0,2155.0,1456.0,1588.0,1843.0,1639.0,1955.0,1101.0,1645.0,890.0,891.0,1067.0,2320.0,765.0,1911.0,2121.0,1093.0,2803.0,878.0,1868.0,2335.0,3860.0,887.0,1608.0,2313.0,2224.0,1682.0,1219.0,1691.0,1929.0,866.0,1530.0,1943.0,1832.0,2038.0,1401.0,1914.0,886.0,1776.0,1645.0,1617.0,903.0,1169.0,1101.0,1098.0,2693.0,1095.0,1634.0,868.0,2751.0,1093.0,1125.0,1452.0,880.0],\"type\":\"scatter\"},{\"fill\":\"tonexty\",\"fillcolor\":\"rgba(68, 68, 68, 0.3)\",\"line\":{\"width\":0},\"mode\":\"lines\",\"name\":\"PSO Upper Bound\",\"showlegend\":false,\"x\":[0,1,2,3,4,5,6,7,8,9,10,11,12,13,14,15,16,17,18,19,20,21,22,23,24,25,26,27,28,29,30,31,32,33,34,35,36,37,38,39,40,41,42,43,44,45,46,47,48,49,50,51,52,53,54,55,56,57,58,59,60,61,62,63,64,65,66,67,68,69,70,71,72,73,74,75,76,77,78,79,80,81,82,83,84,85,86,87,88,89,90,91,92,93,94,95,96,97,98,99,100,101,102,103,104,105,106,107,108,109,110,111,112,113,114,115,116,117,118,119,120,121,122,123,124,125,126,127,128,129,130,131,132,133,134,135,136,137,138,139,140,141,142,143,144,145,146,147,148,149,150,151,152,153,154,155,156,157,158,159,160,161,162,163,164,165,166,167,168,169,170,171,172,173,174,175,176,177,178,179,180,181,182,183,184,185,186,187,188,189,190,191,192,193,194,195,196,197,198,199,200,201,202,203,204,205,206,207,208,209,210,211,212,213,214,215,216,217,218,219,220,221,222,223,224,225,226,227,228,229,230,231,232,233,234,235,236,237,238,239,240,241,242,243,244,245,246,247,248,249],\"y\":[1523.0,1360.0,2208.0,3826.0,1233.0,1697.0,2227.0,1679.0,1693.0,1430.0,1709.0,3482.0,1757.0,1100.0,2366.0,2040.0,2825.0,2289.0,1622.0,541.0,2775.0,1586.0,205.0,2200.0,3219.0,2824.0,1786.0,1095.0,2324.0,1472.0,2355.0,2148.0,1096.0,2238.0,1334.0,2457.0,2272.0,2380.0,1321.0,1394.0,3186.0,1380.0,2273.0,1728.0,889.0,2479.0,870.0,2015.0,2073.0,3000.0,884.0,1109.0,1122.0,2701.0,2613.0,1727.0,1325.0,1617.0,3770.0,1324.0,2199.0,1579.0,881.0,3155.0,1814.0,1491.0,1840.0,541.0,1824.0,1191.0,1338.0,1301.0,2009.0,1976.0,1470.0,1406.0,2595.0,1175.0,793.0,823.0,2263.0,1098.0,1548.0,1512.0,1361.0,1830.0,2333.0,2626.0,1708.0,1923.0,3429.0,2186.0,1442.0,2607.0,1401.0,1122.0,1415.0,2531.0,1279.0,879.0,1186.0,1933.0,1615.0,1929.0,1679.0,885.0,1183.0,1334.0,1053.0,1547.0,2397.0,1295.0,3488.0,1784.0,2182.0,2469.0,3361.0,2106.0,1836.0,1095.0,1661.0,1942.0,2804.0,1592.0,1914.0,1226.0,3601.0,3113.0,2711.0,1954.0,1095.0,902.0,1290.0,885.0,1897.0,1553.0,1348.0,1096.0,1093.0,202.0,1865.0,1760.0,1509.0,1829.0,2258.0,2264.0,1269.0,1305.0,1035.0,1739.0,2223.0,1541.0,1869.0,1568.0,2208.0,1363.0,1222.0,1059.0,887.0,1108.0,1096.0,1620.0,2248.0,1675.0,1903.0,1699.0,1500.0,1097.0,1488.0,1887.0,1584.0,2509.0,888.0,1785.0,783.0,1628.0,1565.0,2283.0,541.0,1616.0,2058.0,1543.0,1908.0,2918.0,1092.0,1070.0,2321.0,1206.0,1378.0,1521.0,1092.0,2480.0,885.0,1702.0,1464.0,2410.0,790.0,2155.0,1456.0,1588.0,1843.0,1639.0,1955.0,1101.0,1645.0,890.0,891.0,1067.0,2320.0,765.0,1911.0,2121.0,1093.0,2803.0,878.0,1868.0,2335.0,3860.0,887.0,1608.0,2313.0,2224.0,1682.0,1219.0,1691.0,1929.0,866.0,1530.0,1943.0,1832.0,2038.0,1401.0,1914.0,886.0,1776.0,1645.0,1617.0,903.0,1169.0,1101.0,1098.0,2693.0,1095.0,1634.0,868.0,2751.0,1093.0,1125.0,1452.0,880.0],\"type\":\"scatter\"},{\"line\":{\"width\":2},\"mode\":\"lines\",\"name\":\"GA Mean Fitness\",\"x\":[0,1,2,3,4,5,6,7,8,9,10,11,12,13,14,15,16,17,18,19,20,21,22,23,24,25,26,27,28,29,30,31,32,33,34,35,36,37,38,39,40,41,42,43,44,45,46,47,48,49,50,51,52,53,54,55,56,57,58,59,60,61,62,63,64,65,66,67,68,69,70,71,72,73,74,75,76,77,78,79,80,81,82,83,84,85,86,87,88,89,90,91,92,93,94,95,96,97,98,99,100,101,102,103,104,105,106,107,108,109,110,111,112,113,114,115,116,117,118,119,120,121,122,123,124,125,126,127,128,129,130,131,132,133,134,135,136,137,138,139,140,141,142,143,144,145,146,147,148,149,150,151,152,153,154,155,156,157,158,159,160,161,162,163,164,165,166,167,168,169,170,171,172,173,174,175,176,177,178,179,180,181,182,183,184,185,186,187,188,189,190,191,192,193,194,195,196,197,198,199,200,201,202,203,204,205,206,207,208,209,210,211,212,213,214,215,216,217,218,219,220,221,222,223,224,225,226,227,228,229,230,231,232,233,234,235,236,237,238,239,240,241,242,243,244,245,246,247,248,249],\"y\":[1559.0,2756.0,1826.0,1623.0,2169.0,791.0,1572.0,324.0,2501.0,1727.0,2128.0,1305.0,1730.0,1600.0,1734.0,1938.0,2196.0,880.0,2375.0,3061.0,1092.0,3128.0,1879.0,1721.0,2647.0,1486.0,1568.0,1446.0,779.0,1568.0,3640.0,1951.0,1854.0,875.0,1282.0,1344.0,2575.0,1910.0,2146.0,1853.0,2019.0,2612.0,2970.0,894.0,1251.0,1702.0,3051.0,1616.0,1800.0,1716.0,882.0,1471.0,1228.0,1423.0,2972.0,2556.0,1726.0,778.0,1627.0,1093.0,2926.0,1239.0,2097.0,2050.0,1655.0,1474.0,1486.0,1098.0,1235.0,1294.0,1322.0,3430.0,2477.0,2230.0,1628.0,2135.0,925.0,2294.0,2324.0,541.0,1864.0,2991.0,1153.0,2030.0,2349.0,1095.0,2268.0,3036.0,2165.0,1672.0,1999.0,2313.0,1189.0,3189.0,1692.0,2089.0,1935.0,887.0,231.0,2071.0,751.0,1686.0,1818.0,2321.0,1715.0,2035.0,1916.0,1657.0,1699.0,1634.0,1375.0,1289.0,3602.0,2026.0,2536.0,1646.0,1550.0,2695.0,3966.0,1375.0,1095.0,2682.0,541.0,1403.0,2038.0,1910.0,1453.0,1782.0,2212.0,1495.0,3386.0,1817.0,1476.0,3816.0,2099.0,1393.0,1696.0,3453.0,1450.0,2184.0,1003.0,2384.0,1977.0,3492.0,1581.0,1807.0,887.0,2498.0,2210.0,1736.0,1362.0,1520.0,1798.0,2414.0,1112.0,1767.0,2773.0,1084.0,2000.0,1392.0,1550.0,2512.0,3184.0,2118.0,2197.0,1757.0,884.0,1094.0,2618.0,1133.0,1097.0,2584.0,1219.0,205.0,1820.0,1079.0,1336.0,2551.0,1823.0,1374.0,2082.0,2161.0,1398.0,1544.0,3199.0,1805.0,1737.0,1802.0,1096.0,963.0,3225.0,1092.0,1096.0,232.0,2072.0,1248.0,2930.0,1526.0,2588.0,1098.0,2499.0,1355.0,1726.0,2018.0,2108.0,2851.0,2492.0,2777.0,2442.0,2408.0,2645.0,882.0,1489.0,2451.0,1532.0,1760.0,2009.0,1637.0,1668.0,2396.0,1881.0,890.0,1456.0,1495.0,881.0,875.0,882.0,1875.0,1338.0,2456.0,791.0,887.0,1539.0,1416.0,2190.0,1437.0,2633.0,1095.0,1244.0,1821.0,2336.0,1332.0,3371.0,1484.0,1560.0,2392.0,2046.0,1569.0,1322.0,1106.0],\"type\":\"scatter\"},{\"line\":{\"width\":0},\"mode\":\"lines\",\"name\":\"GA Lower Bound\",\"showlegend\":false,\"x\":[0,1,2,3,4,5,6,7,8,9,10,11,12,13,14,15,16,17,18,19,20,21,22,23,24,25,26,27,28,29,30,31,32,33,34,35,36,37,38,39,40,41,42,43,44,45,46,47,48,49,50,51,52,53,54,55,56,57,58,59,60,61,62,63,64,65,66,67,68,69,70,71,72,73,74,75,76,77,78,79,80,81,82,83,84,85,86,87,88,89,90,91,92,93,94,95,96,97,98,99,100,101,102,103,104,105,106,107,108,109,110,111,112,113,114,115,116,117,118,119,120,121,122,123,124,125,126,127,128,129,130,131,132,133,134,135,136,137,138,139,140,141,142,143,144,145,146,147,148,149,150,151,152,153,154,155,156,157,158,159,160,161,162,163,164,165,166,167,168,169,170,171,172,173,174,175,176,177,178,179,180,181,182,183,184,185,186,187,188,189,190,191,192,193,194,195,196,197,198,199,200,201,202,203,204,205,206,207,208,209,210,211,212,213,214,215,216,217,218,219,220,221,222,223,224,225,226,227,228,229,230,231,232,233,234,235,236,237,238,239,240,241,242,243,244,245,246,247,248,249],\"y\":[1559.0,2756.0,1826.0,1623.0,2169.0,791.0,1572.0,324.0,2501.0,1727.0,2128.0,1305.0,1730.0,1600.0,1734.0,1938.0,2196.0,880.0,2375.0,3061.0,1092.0,3128.0,1879.0,1721.0,2647.0,1486.0,1568.0,1446.0,779.0,1568.0,3640.0,1951.0,1854.0,875.0,1282.0,1344.0,2575.0,1910.0,2146.0,1853.0,2019.0,2612.0,2970.0,894.0,1251.0,1702.0,3051.0,1616.0,1800.0,1716.0,882.0,1471.0,1228.0,1423.0,2972.0,2556.0,1726.0,778.0,1627.0,1093.0,2926.0,1239.0,2097.0,2050.0,1655.0,1474.0,1486.0,1098.0,1235.0,1294.0,1322.0,3430.0,2477.0,2230.0,1628.0,2135.0,925.0,2294.0,2324.0,541.0,1864.0,2991.0,1153.0,2030.0,2349.0,1095.0,2268.0,3036.0,2165.0,1672.0,1999.0,2313.0,1189.0,3189.0,1692.0,2089.0,1935.0,887.0,231.0,2071.0,751.0,1686.0,1818.0,2321.0,1715.0,2035.0,1916.0,1657.0,1699.0,1634.0,1375.0,1289.0,3602.0,2026.0,2536.0,1646.0,1550.0,2695.0,3966.0,1375.0,1095.0,2682.0,541.0,1403.0,2038.0,1910.0,1453.0,1782.0,2212.0,1495.0,3386.0,1817.0,1476.0,3816.0,2099.0,1393.0,1696.0,3453.0,1450.0,2184.0,1003.0,2384.0,1977.0,3492.0,1581.0,1807.0,887.0,2498.0,2210.0,1736.0,1362.0,1520.0,1798.0,2414.0,1112.0,1767.0,2773.0,1084.0,2000.0,1392.0,1550.0,2512.0,3184.0,2118.0,2197.0,1757.0,884.0,1094.0,2618.0,1133.0,1097.0,2584.0,1219.0,205.0,1820.0,1079.0,1336.0,2551.0,1823.0,1374.0,2082.0,2161.0,1398.0,1544.0,3199.0,1805.0,1737.0,1802.0,1096.0,963.0,3225.0,1092.0,1096.0,232.0,2072.0,1248.0,2930.0,1526.0,2588.0,1098.0,2499.0,1355.0,1726.0,2018.0,2108.0,2851.0,2492.0,2777.0,2442.0,2408.0,2645.0,882.0,1489.0,2451.0,1532.0,1760.0,2009.0,1637.0,1668.0,2396.0,1881.0,890.0,1456.0,1495.0,881.0,875.0,882.0,1875.0,1338.0,2456.0,791.0,887.0,1539.0,1416.0,2190.0,1437.0,2633.0,1095.0,1244.0,1821.0,2336.0,1332.0,3371.0,1484.0,1560.0,2392.0,2046.0,1569.0,1322.0,1106.0],\"type\":\"scatter\"},{\"fill\":\"tonexty\",\"fillcolor\":\"rgba(68, 68, 68, 0.3)\",\"line\":{\"width\":0},\"mode\":\"lines\",\"name\":\"GA Upper Bound\",\"showlegend\":false,\"x\":[0,1,2,3,4,5,6,7,8,9,10,11,12,13,14,15,16,17,18,19,20,21,22,23,24,25,26,27,28,29,30,31,32,33,34,35,36,37,38,39,40,41,42,43,44,45,46,47,48,49,50,51,52,53,54,55,56,57,58,59,60,61,62,63,64,65,66,67,68,69,70,71,72,73,74,75,76,77,78,79,80,81,82,83,84,85,86,87,88,89,90,91,92,93,94,95,96,97,98,99,100,101,102,103,104,105,106,107,108,109,110,111,112,113,114,115,116,117,118,119,120,121,122,123,124,125,126,127,128,129,130,131,132,133,134,135,136,137,138,139,140,141,142,143,144,145,146,147,148,149,150,151,152,153,154,155,156,157,158,159,160,161,162,163,164,165,166,167,168,169,170,171,172,173,174,175,176,177,178,179,180,181,182,183,184,185,186,187,188,189,190,191,192,193,194,195,196,197,198,199,200,201,202,203,204,205,206,207,208,209,210,211,212,213,214,215,216,217,218,219,220,221,222,223,224,225,226,227,228,229,230,231,232,233,234,235,236,237,238,239,240,241,242,243,244,245,246,247,248,249],\"y\":[1559.0,2756.0,1826.0,1623.0,2169.0,791.0,1572.0,324.0,2501.0,1727.0,2128.0,1305.0,1730.0,1600.0,1734.0,1938.0,2196.0,880.0,2375.0,3061.0,1092.0,3128.0,1879.0,1721.0,2647.0,1486.0,1568.0,1446.0,779.0,1568.0,3640.0,1951.0,1854.0,875.0,1282.0,1344.0,2575.0,1910.0,2146.0,1853.0,2019.0,2612.0,2970.0,894.0,1251.0,1702.0,3051.0,1616.0,1800.0,1716.0,882.0,1471.0,1228.0,1423.0,2972.0,2556.0,1726.0,778.0,1627.0,1093.0,2926.0,1239.0,2097.0,2050.0,1655.0,1474.0,1486.0,1098.0,1235.0,1294.0,1322.0,3430.0,2477.0,2230.0,1628.0,2135.0,925.0,2294.0,2324.0,541.0,1864.0,2991.0,1153.0,2030.0,2349.0,1095.0,2268.0,3036.0,2165.0,1672.0,1999.0,2313.0,1189.0,3189.0,1692.0,2089.0,1935.0,887.0,231.0,2071.0,751.0,1686.0,1818.0,2321.0,1715.0,2035.0,1916.0,1657.0,1699.0,1634.0,1375.0,1289.0,3602.0,2026.0,2536.0,1646.0,1550.0,2695.0,3966.0,1375.0,1095.0,2682.0,541.0,1403.0,2038.0,1910.0,1453.0,1782.0,2212.0,1495.0,3386.0,1817.0,1476.0,3816.0,2099.0,1393.0,1696.0,3453.0,1450.0,2184.0,1003.0,2384.0,1977.0,3492.0,1581.0,1807.0,887.0,2498.0,2210.0,1736.0,1362.0,1520.0,1798.0,2414.0,1112.0,1767.0,2773.0,1084.0,2000.0,1392.0,1550.0,2512.0,3184.0,2118.0,2197.0,1757.0,884.0,1094.0,2618.0,1133.0,1097.0,2584.0,1219.0,205.0,1820.0,1079.0,1336.0,2551.0,1823.0,1374.0,2082.0,2161.0,1398.0,1544.0,3199.0,1805.0,1737.0,1802.0,1096.0,963.0,3225.0,1092.0,1096.0,232.0,2072.0,1248.0,2930.0,1526.0,2588.0,1098.0,2499.0,1355.0,1726.0,2018.0,2108.0,2851.0,2492.0,2777.0,2442.0,2408.0,2645.0,882.0,1489.0,2451.0,1532.0,1760.0,2009.0,1637.0,1668.0,2396.0,1881.0,890.0,1456.0,1495.0,881.0,875.0,882.0,1875.0,1338.0,2456.0,791.0,887.0,1539.0,1416.0,2190.0,1437.0,2633.0,1095.0,1244.0,1821.0,2336.0,1332.0,3371.0,1484.0,1560.0,2392.0,2046.0,1569.0,1322.0,1106.0],\"type\":\"scatter\"},{\"line\":{\"width\":2},\"mode\":\"lines\",\"name\":\"FA Mean Fitness\",\"x\":[0,1,2,3,4,5,6,7,8,9,10,11,12,13,14,15,16,17,18,19,20,21,22,23,24,25,26,27,28,29,30,31,32,33,34,35,36,37,38,39,40,41,42,43,44,45,46,47,48,49,50,51,52,53,54,55,56,57,58,59,60,61,62,63,64,65,66,67,68,69,70,71,72,73,74,75,76,77,78,79,80,81,82,83,84,85,86,87,88,89,90,91,92,93,94,95,96,97,98,99,100,101,102,103,104,105,106,107,108,109,110,111,112,113,114,115,116,117,118,119,120,121,122,123,124,125,126,127,128,129,130,131,132,133,134,135,136,137,138,139,140,141,142,143,144,145,146,147,148,149,150,151,152,153,154,155,156,157,158,159,160,161,162,163,164,165,166,167,168,169,170,171,172,173,174,175,176,177,178,179,180,181,182,183,184,185,186,187,188,189,190,191,192,193,194,195,196,197,198,199,200,201,202,203,204,205,206,207,208,209,210,211,212,213,214,215,216,217,218,219,220,221,222,223,224,225,226,227,228,229,230,231,232,233,234,235,236,237,238,239,240,241,242,243,244,245,246,247,248,249],\"y\":[1310.0,1892.0,1815.0,3387.0,1108.0,1595.0,2237.0,1399.0,798.0,1505.0,872.0,880.0,996.0,2115.0,1944.0,3290.0,1118.0,1987.0,3527.0,2745.0,1098.0,1581.0,1098.0,1960.0,1663.0,2234.0,1914.0,1479.0,3958.0,2092.0,2152.0,1716.0,1884.0,324.0,1450.0,1232.0,1741.0,1581.0,1560.0,1981.0,1672.0,1127.0,1097.0,1508.0,2829.0,1752.0,1228.0,2331.0,2253.0,1993.0,1596.0,882.0,1308.0,884.0,1168.0,2329.0,2162.0,1116.0,1541.0,1407.0,1576.0,1828.0,1442.0,885.0,1798.0,1678.0,1637.0,1524.0,2410.0,1257.0,1329.0,1134.0,1096.0,2030.0,2791.0,1099.0,1363.0,1367.0,846.0,2353.0,767.0,1861.0,2574.0,1853.0,1656.0,2472.0,2583.0,1094.0,1341.0,1081.0,783.0,1724.0,1474.0,1334.0,1389.0,1429.0,1497.0,2358.0,2567.0,1683.0,2155.0,882.0,1621.0,871.0,1194.0,1620.0,1933.0,873.0,2329.0,1715.0,817.0,2554.0,883.0,1184.0,1575.0,1363.0,1344.0,2150.0,2262.0,2553.0,1341.0,880.0,2485.0,2505.0,1241.0,1797.0,1520.0,2476.0,1463.0,1307.0,1901.0,1365.0,1356.0,1361.0,1818.0,2525.0,1745.0,1717.0,1109.0,1469.0,2327.0,2157.0,2132.0,881.0,2019.0,2024.0,2036.0,1245.0,1488.0,1249.0,1229.0,2715.0,1801.0,1601.0,1659.0,765.0,1100.0,1943.0,1326.0,2798.0,2405.0,877.0,1702.0,2751.0,1811.0,1480.0,1682.0,2760.0,875.0,2179.0,1799.0,1466.0,1538.0,1587.0,202.0,1439.0,1549.0,2127.0,1487.0,1622.0,1357.0,1522.0,2765.0,1419.0,1928.0,2243.0,2245.0,2166.0,875.0,1731.0,1312.0,872.0,2086.0,1958.0,1345.0,881.0,1157.0,1559.0,2071.0,1094.0,2692.0,324.0,2778.0,1732.0,1818.0,1368.0,1264.0,2736.0,2334.0,1526.0,882.0,1517.0,1795.0,1879.0,2022.0,1515.0,1839.0,1098.0,2055.0,1098.0,1920.0,3988.0,2663.0,892.0,1619.0,1094.0,2200.0,2705.0,2450.0,1887.0,1094.0,1924.0,1167.0,1208.0,2688.0,1728.0,1319.0,1107.0,1640.0,2369.0,2855.0,1428.0,1640.0,1284.0,1095.0,1807.0,1879.0,2234.0,1984.0,1096.0],\"type\":\"scatter\"},{\"line\":{\"width\":0},\"mode\":\"lines\",\"name\":\"FA Lower Bound\",\"showlegend\":false,\"x\":[0,1,2,3,4,5,6,7,8,9,10,11,12,13,14,15,16,17,18,19,20,21,22,23,24,25,26,27,28,29,30,31,32,33,34,35,36,37,38,39,40,41,42,43,44,45,46,47,48,49,50,51,52,53,54,55,56,57,58,59,60,61,62,63,64,65,66,67,68,69,70,71,72,73,74,75,76,77,78,79,80,81,82,83,84,85,86,87,88,89,90,91,92,93,94,95,96,97,98,99,100,101,102,103,104,105,106,107,108,109,110,111,112,113,114,115,116,117,118,119,120,121,122,123,124,125,126,127,128,129,130,131,132,133,134,135,136,137,138,139,140,141,142,143,144,145,146,147,148,149,150,151,152,153,154,155,156,157,158,159,160,161,162,163,164,165,166,167,168,169,170,171,172,173,174,175,176,177,178,179,180,181,182,183,184,185,186,187,188,189,190,191,192,193,194,195,196,197,198,199,200,201,202,203,204,205,206,207,208,209,210,211,212,213,214,215,216,217,218,219,220,221,222,223,224,225,226,227,228,229,230,231,232,233,234,235,236,237,238,239,240,241,242,243,244,245,246,247,248,249],\"y\":[1310.0,1892.0,1815.0,3387.0,1108.0,1595.0,2237.0,1399.0,798.0,1505.0,872.0,880.0,996.0,2115.0,1944.0,3290.0,1118.0,1987.0,3527.0,2745.0,1098.0,1581.0,1098.0,1960.0,1663.0,2234.0,1914.0,1479.0,3958.0,2092.0,2152.0,1716.0,1884.0,324.0,1450.0,1232.0,1741.0,1581.0,1560.0,1981.0,1672.0,1127.0,1097.0,1508.0,2829.0,1752.0,1228.0,2331.0,2253.0,1993.0,1596.0,882.0,1308.0,884.0,1168.0,2329.0,2162.0,1116.0,1541.0,1407.0,1576.0,1828.0,1442.0,885.0,1798.0,1678.0,1637.0,1524.0,2410.0,1257.0,1329.0,1134.0,1096.0,2030.0,2791.0,1099.0,1363.0,1367.0,846.0,2353.0,767.0,1861.0,2574.0,1853.0,1656.0,2472.0,2583.0,1094.0,1341.0,1081.0,783.0,1724.0,1474.0,1334.0,1389.0,1429.0,1497.0,2358.0,2567.0,1683.0,2155.0,882.0,1621.0,871.0,1194.0,1620.0,1933.0,873.0,2329.0,1715.0,817.0,2554.0,883.0,1184.0,1575.0,1363.0,1344.0,2150.0,2262.0,2553.0,1341.0,880.0,2485.0,2505.0,1241.0,1797.0,1520.0,2476.0,1463.0,1307.0,1901.0,1365.0,1356.0,1361.0,1818.0,2525.0,1745.0,1717.0,1109.0,1469.0,2327.0,2157.0,2132.0,881.0,2019.0,2024.0,2036.0,1245.0,1488.0,1249.0,1229.0,2715.0,1801.0,1601.0,1659.0,765.0,1100.0,1943.0,1326.0,2798.0,2405.0,877.0,1702.0,2751.0,1811.0,1480.0,1682.0,2760.0,875.0,2179.0,1799.0,1466.0,1538.0,1587.0,202.0,1439.0,1549.0,2127.0,1487.0,1622.0,1357.0,1522.0,2765.0,1419.0,1928.0,2243.0,2245.0,2166.0,875.0,1731.0,1312.0,872.0,2086.0,1958.0,1345.0,881.0,1157.0,1559.0,2071.0,1094.0,2692.0,324.0,2778.0,1732.0,1818.0,1368.0,1264.0,2736.0,2334.0,1526.0,882.0,1517.0,1795.0,1879.0,2022.0,1515.0,1839.0,1098.0,2055.0,1098.0,1920.0,3988.0,2663.0,892.0,1619.0,1094.0,2200.0,2705.0,2450.0,1887.0,1094.0,1924.0,1167.0,1208.0,2688.0,1728.0,1319.0,1107.0,1640.0,2369.0,2855.0,1428.0,1640.0,1284.0,1095.0,1807.0,1879.0,2234.0,1984.0,1096.0],\"type\":\"scatter\"},{\"fill\":\"tonexty\",\"fillcolor\":\"rgba(68, 68, 68, 0.3)\",\"line\":{\"width\":0},\"mode\":\"lines\",\"name\":\"FA Upper Bound\",\"showlegend\":false,\"x\":[0,1,2,3,4,5,6,7,8,9,10,11,12,13,14,15,16,17,18,19,20,21,22,23,24,25,26,27,28,29,30,31,32,33,34,35,36,37,38,39,40,41,42,43,44,45,46,47,48,49,50,51,52,53,54,55,56,57,58,59,60,61,62,63,64,65,66,67,68,69,70,71,72,73,74,75,76,77,78,79,80,81,82,83,84,85,86,87,88,89,90,91,92,93,94,95,96,97,98,99,100,101,102,103,104,105,106,107,108,109,110,111,112,113,114,115,116,117,118,119,120,121,122,123,124,125,126,127,128,129,130,131,132,133,134,135,136,137,138,139,140,141,142,143,144,145,146,147,148,149,150,151,152,153,154,155,156,157,158,159,160,161,162,163,164,165,166,167,168,169,170,171,172,173,174,175,176,177,178,179,180,181,182,183,184,185,186,187,188,189,190,191,192,193,194,195,196,197,198,199,200,201,202,203,204,205,206,207,208,209,210,211,212,213,214,215,216,217,218,219,220,221,222,223,224,225,226,227,228,229,230,231,232,233,234,235,236,237,238,239,240,241,242,243,244,245,246,247,248,249],\"y\":[1310.0,1892.0,1815.0,3387.0,1108.0,1595.0,2237.0,1399.0,798.0,1505.0,872.0,880.0,996.0,2115.0,1944.0,3290.0,1118.0,1987.0,3527.0,2745.0,1098.0,1581.0,1098.0,1960.0,1663.0,2234.0,1914.0,1479.0,3958.0,2092.0,2152.0,1716.0,1884.0,324.0,1450.0,1232.0,1741.0,1581.0,1560.0,1981.0,1672.0,1127.0,1097.0,1508.0,2829.0,1752.0,1228.0,2331.0,2253.0,1993.0,1596.0,882.0,1308.0,884.0,1168.0,2329.0,2162.0,1116.0,1541.0,1407.0,1576.0,1828.0,1442.0,885.0,1798.0,1678.0,1637.0,1524.0,2410.0,1257.0,1329.0,1134.0,1096.0,2030.0,2791.0,1099.0,1363.0,1367.0,846.0,2353.0,767.0,1861.0,2574.0,1853.0,1656.0,2472.0,2583.0,1094.0,1341.0,1081.0,783.0,1724.0,1474.0,1334.0,1389.0,1429.0,1497.0,2358.0,2567.0,1683.0,2155.0,882.0,1621.0,871.0,1194.0,1620.0,1933.0,873.0,2329.0,1715.0,817.0,2554.0,883.0,1184.0,1575.0,1363.0,1344.0,2150.0,2262.0,2553.0,1341.0,880.0,2485.0,2505.0,1241.0,1797.0,1520.0,2476.0,1463.0,1307.0,1901.0,1365.0,1356.0,1361.0,1818.0,2525.0,1745.0,1717.0,1109.0,1469.0,2327.0,2157.0,2132.0,881.0,2019.0,2024.0,2036.0,1245.0,1488.0,1249.0,1229.0,2715.0,1801.0,1601.0,1659.0,765.0,1100.0,1943.0,1326.0,2798.0,2405.0,877.0,1702.0,2751.0,1811.0,1480.0,1682.0,2760.0,875.0,2179.0,1799.0,1466.0,1538.0,1587.0,202.0,1439.0,1549.0,2127.0,1487.0,1622.0,1357.0,1522.0,2765.0,1419.0,1928.0,2243.0,2245.0,2166.0,875.0,1731.0,1312.0,872.0,2086.0,1958.0,1345.0,881.0,1157.0,1559.0,2071.0,1094.0,2692.0,324.0,2778.0,1732.0,1818.0,1368.0,1264.0,2736.0,2334.0,1526.0,882.0,1517.0,1795.0,1879.0,2022.0,1515.0,1839.0,1098.0,2055.0,1098.0,1920.0,3988.0,2663.0,892.0,1619.0,1094.0,2200.0,2705.0,2450.0,1887.0,1094.0,1924.0,1167.0,1208.0,2688.0,1728.0,1319.0,1107.0,1640.0,2369.0,2855.0,1428.0,1640.0,1284.0,1095.0,1807.0,1879.0,2234.0,1984.0,1096.0],\"type\":\"scatter\"},{\"line\":{\"width\":2},\"mode\":\"lines\",\"name\":\"DE Mean Fitness\",\"x\":[0,1,2,3,4,5,6,7,8,9,10,11,12,13,14,15,16,17,18,19,20,21,22,23,24,25,26,27,28,29,30,31,32,33,34,35,36,37,38,39,40,41,42,43,44,45,46,47,48,49,50,51,52,53,54,55,56,57,58,59,60,61,62,63,64,65,66,67,68,69,70,71,72,73,74,75,76,77,78,79,80,81,82,83,84,85,86,87,88,89,90,91,92,93,94,95,96,97,98,99,100,101,102,103,104,105,106,107,108,109,110,111,112,113,114,115,116,117,118,119,120,121,122,123,124,125,126,127,128,129,130,131,132,133,134,135,136,137,138,139,140,141,142,143,144,145,146,147,148,149,150,151,152,153,154,155,156,157,158,159,160,161,162,163,164,165,166,167,168,169,170,171,172,173,174,175,176,177,178,179,180,181,182,183,184,185,186,187,188,189,190,191,192,193,194,195,196,197,198,199,200,201,202,203,204,205,206,207,208,209,210,211,212,213,214,215,216,217,218,219,220,221,222,223,224,225,226,227,228,229,230,231,232,233,234,235,236,237,238,239,240,241,242,243,244,245,246,247,248,249],\"y\":[1635.0,1425.0,1549.0,2144.0,2238.0,1765.0,2030.0,1345.0,1494.0,1565.0,1980.0,876.0,1379.0,1761.0,2446.0,3024.0,541.0,885.0,1445.0,1896.0,1581.0,890.0,2080.0,1374.0,1590.0,2551.0,3263.0,1595.0,1682.0,2002.0,1609.0,1815.0,2048.0,1564.0,1241.0,1201.0,1095.0,1627.0,2250.0,2364.0,1517.0,2765.0,1092.0,1687.0,1337.0,1886.0,2527.0,1922.0,2194.0,879.0,1549.0,2717.0,2216.0,1742.0,1645.0,1129.0,1307.0,1900.0,882.0,1577.0,1692.0,2194.0,1723.0,2457.0,1096.0,1352.0,1726.0,2851.0,3009.0,1402.0,1306.0,1713.0,1285.0,2488.0,1788.0,1576.0,1151.0,1593.0,2359.0,1097.0,3586.0,1786.0,2200.0,2000.0,2029.0,1796.0,2195.0,2229.0,2124.0,1969.0,2657.0,2264.0,1561.0,1872.0,1556.0,1764.0,1318.0,884.0,2598.0,1899.0,2036.0,1697.0,2282.0,324.0,1090.0,1257.0,2148.0,1677.0,1377.0,1804.0,1750.0,324.0,1981.0,1329.0,1131.0,1600.0,2744.0,1733.0,1096.0,1830.0,2488.0,1309.0,1313.0,1318.0,1946.0,2497.0,1524.0,1689.0,1152.0,3376.0,1090.0,880.0,1362.0,1706.0,1167.0,867.0,1192.0,1105.0,1097.0,1653.0,1411.0,1767.0,1504.0,2404.0,2239.0,3304.0,1952.0,1920.0,1411.0,2903.0,3974.0,1195.0,1612.0,2612.0,1100.0,1096.0,1558.0,541.0,2429.0,2205.0,1339.0,1110.0,1903.0,2078.0,1171.0,873.0,1586.0,1428.0,2543.0,1873.0,1664.0,1892.0,3181.0,3529.0,1094.0,2362.0,2110.0,3362.0,2848.0,1372.0,1546.0,1430.0,1790.0,2541.0,1193.0,1209.0,2347.0,324.0,1397.0,1622.0,889.0,2799.0,541.0,541.0,1640.0,2131.0,1484.0,886.0,2372.0,1096.0,1363.0,1434.0,2014.0,768.0,2232.0,2342.0,848.0,1791.0,1862.0,2151.0,1984.0,848.0,869.0,2624.0,1570.0,1613.0,1372.0,884.0,891.0,2182.0,1366.0,3419.0,872.0,1320.0,1511.0,2487.0,2051.0,1834.0,1696.0,2991.0,1592.0,1953.0,1491.0,2293.0,1686.0,2249.0,1611.0,792.0,3806.0,324.0,2618.0,2151.0,871.0,1893.0,2162.0,784.0,1703.0,2797.0,1745.0,1097.0],\"type\":\"scatter\"},{\"line\":{\"width\":0},\"mode\":\"lines\",\"name\":\"DE Lower Bound\",\"showlegend\":false,\"x\":[0,1,2,3,4,5,6,7,8,9,10,11,12,13,14,15,16,17,18,19,20,21,22,23,24,25,26,27,28,29,30,31,32,33,34,35,36,37,38,39,40,41,42,43,44,45,46,47,48,49,50,51,52,53,54,55,56,57,58,59,60,61,62,63,64,65,66,67,68,69,70,71,72,73,74,75,76,77,78,79,80,81,82,83,84,85,86,87,88,89,90,91,92,93,94,95,96,97,98,99,100,101,102,103,104,105,106,107,108,109,110,111,112,113,114,115,116,117,118,119,120,121,122,123,124,125,126,127,128,129,130,131,132,133,134,135,136,137,138,139,140,141,142,143,144,145,146,147,148,149,150,151,152,153,154,155,156,157,158,159,160,161,162,163,164,165,166,167,168,169,170,171,172,173,174,175,176,177,178,179,180,181,182,183,184,185,186,187,188,189,190,191,192,193,194,195,196,197,198,199,200,201,202,203,204,205,206,207,208,209,210,211,212,213,214,215,216,217,218,219,220,221,222,223,224,225,226,227,228,229,230,231,232,233,234,235,236,237,238,239,240,241,242,243,244,245,246,247,248,249],\"y\":[1635.0,1425.0,1549.0,2144.0,2238.0,1765.0,2030.0,1345.0,1494.0,1565.0,1980.0,876.0,1379.0,1761.0,2446.0,3024.0,541.0,885.0,1445.0,1896.0,1581.0,890.0,2080.0,1374.0,1590.0,2551.0,3263.0,1595.0,1682.0,2002.0,1609.0,1815.0,2048.0,1564.0,1241.0,1201.0,1095.0,1627.0,2250.0,2364.0,1517.0,2765.0,1092.0,1687.0,1337.0,1886.0,2527.0,1922.0,2194.0,879.0,1549.0,2717.0,2216.0,1742.0,1645.0,1129.0,1307.0,1900.0,882.0,1577.0,1692.0,2194.0,1723.0,2457.0,1096.0,1352.0,1726.0,2851.0,3009.0,1402.0,1306.0,1713.0,1285.0,2488.0,1788.0,1576.0,1151.0,1593.0,2359.0,1097.0,3586.0,1786.0,2200.0,2000.0,2029.0,1796.0,2195.0,2229.0,2124.0,1969.0,2657.0,2264.0,1561.0,1872.0,1556.0,1764.0,1318.0,884.0,2598.0,1899.0,2036.0,1697.0,2282.0,324.0,1090.0,1257.0,2148.0,1677.0,1377.0,1804.0,1750.0,324.0,1981.0,1329.0,1131.0,1600.0,2744.0,1733.0,1096.0,1830.0,2488.0,1309.0,1313.0,1318.0,1946.0,2497.0,1524.0,1689.0,1152.0,3376.0,1090.0,880.0,1362.0,1706.0,1167.0,867.0,1192.0,1105.0,1097.0,1653.0,1411.0,1767.0,1504.0,2404.0,2239.0,3304.0,1952.0,1920.0,1411.0,2903.0,3974.0,1195.0,1612.0,2612.0,1100.0,1096.0,1558.0,541.0,2429.0,2205.0,1339.0,1110.0,1903.0,2078.0,1171.0,873.0,1586.0,1428.0,2543.0,1873.0,1664.0,1892.0,3181.0,3529.0,1094.0,2362.0,2110.0,3362.0,2848.0,1372.0,1546.0,1430.0,1790.0,2541.0,1193.0,1209.0,2347.0,324.0,1397.0,1622.0,889.0,2799.0,541.0,541.0,1640.0,2131.0,1484.0,886.0,2372.0,1096.0,1363.0,1434.0,2014.0,768.0,2232.0,2342.0,848.0,1791.0,1862.0,2151.0,1984.0,848.0,869.0,2624.0,1570.0,1613.0,1372.0,884.0,891.0,2182.0,1366.0,3419.0,872.0,1320.0,1511.0,2487.0,2051.0,1834.0,1696.0,2991.0,1592.0,1953.0,1491.0,2293.0,1686.0,2249.0,1611.0,792.0,3806.0,324.0,2618.0,2151.0,871.0,1893.0,2162.0,784.0,1703.0,2797.0,1745.0,1097.0],\"type\":\"scatter\"},{\"fill\":\"tonexty\",\"fillcolor\":\"rgba(68, 68, 68, 0.3)\",\"line\":{\"width\":0},\"mode\":\"lines\",\"name\":\"DE Upper Bound\",\"showlegend\":false,\"x\":[0,1,2,3,4,5,6,7,8,9,10,11,12,13,14,15,16,17,18,19,20,21,22,23,24,25,26,27,28,29,30,31,32,33,34,35,36,37,38,39,40,41,42,43,44,45,46,47,48,49,50,51,52,53,54,55,56,57,58,59,60,61,62,63,64,65,66,67,68,69,70,71,72,73,74,75,76,77,78,79,80,81,82,83,84,85,86,87,88,89,90,91,92,93,94,95,96,97,98,99,100,101,102,103,104,105,106,107,108,109,110,111,112,113,114,115,116,117,118,119,120,121,122,123,124,125,126,127,128,129,130,131,132,133,134,135,136,137,138,139,140,141,142,143,144,145,146,147,148,149,150,151,152,153,154,155,156,157,158,159,160,161,162,163,164,165,166,167,168,169,170,171,172,173,174,175,176,177,178,179,180,181,182,183,184,185,186,187,188,189,190,191,192,193,194,195,196,197,198,199,200,201,202,203,204,205,206,207,208,209,210,211,212,213,214,215,216,217,218,219,220,221,222,223,224,225,226,227,228,229,230,231,232,233,234,235,236,237,238,239,240,241,242,243,244,245,246,247,248,249],\"y\":[1635.0,1425.0,1549.0,2144.0,2238.0,1765.0,2030.0,1345.0,1494.0,1565.0,1980.0,876.0,1379.0,1761.0,2446.0,3024.0,541.0,885.0,1445.0,1896.0,1581.0,890.0,2080.0,1374.0,1590.0,2551.0,3263.0,1595.0,1682.0,2002.0,1609.0,1815.0,2048.0,1564.0,1241.0,1201.0,1095.0,1627.0,2250.0,2364.0,1517.0,2765.0,1092.0,1687.0,1337.0,1886.0,2527.0,1922.0,2194.0,879.0,1549.0,2717.0,2216.0,1742.0,1645.0,1129.0,1307.0,1900.0,882.0,1577.0,1692.0,2194.0,1723.0,2457.0,1096.0,1352.0,1726.0,2851.0,3009.0,1402.0,1306.0,1713.0,1285.0,2488.0,1788.0,1576.0,1151.0,1593.0,2359.0,1097.0,3586.0,1786.0,2200.0,2000.0,2029.0,1796.0,2195.0,2229.0,2124.0,1969.0,2657.0,2264.0,1561.0,1872.0,1556.0,1764.0,1318.0,884.0,2598.0,1899.0,2036.0,1697.0,2282.0,324.0,1090.0,1257.0,2148.0,1677.0,1377.0,1804.0,1750.0,324.0,1981.0,1329.0,1131.0,1600.0,2744.0,1733.0,1096.0,1830.0,2488.0,1309.0,1313.0,1318.0,1946.0,2497.0,1524.0,1689.0,1152.0,3376.0,1090.0,880.0,1362.0,1706.0,1167.0,867.0,1192.0,1105.0,1097.0,1653.0,1411.0,1767.0,1504.0,2404.0,2239.0,3304.0,1952.0,1920.0,1411.0,2903.0,3974.0,1195.0,1612.0,2612.0,1100.0,1096.0,1558.0,541.0,2429.0,2205.0,1339.0,1110.0,1903.0,2078.0,1171.0,873.0,1586.0,1428.0,2543.0,1873.0,1664.0,1892.0,3181.0,3529.0,1094.0,2362.0,2110.0,3362.0,2848.0,1372.0,1546.0,1430.0,1790.0,2541.0,1193.0,1209.0,2347.0,324.0,1397.0,1622.0,889.0,2799.0,541.0,541.0,1640.0,2131.0,1484.0,886.0,2372.0,1096.0,1363.0,1434.0,2014.0,768.0,2232.0,2342.0,848.0,1791.0,1862.0,2151.0,1984.0,848.0,869.0,2624.0,1570.0,1613.0,1372.0,884.0,891.0,2182.0,1366.0,3419.0,872.0,1320.0,1511.0,2487.0,2051.0,1834.0,1696.0,2991.0,1592.0,1953.0,1491.0,2293.0,1686.0,2249.0,1611.0,792.0,3806.0,324.0,2618.0,2151.0,871.0,1893.0,2162.0,784.0,1703.0,2797.0,1745.0,1097.0],\"type\":\"scatter\"},{\"line\":{\"width\":2},\"mode\":\"lines\",\"name\":\"SADE Mean Fitness\",\"x\":[0,1,2,3,4,5,6,7,8,9,10,11,12,13,14,15,16,17,18,19,20,21,22,23,24,25,26,27,28,29,30,31,32,33,34,35,36,37,38,39,40,41,42,43,44,45,46,47,48,49,50,51,52,53,54,55,56,57,58,59,60,61,62,63,64,65,66,67,68,69,70,71,72,73,74,75,76,77,78,79,80,81,82,83,84,85,86,87,88,89,90,91,92,93,94,95,96,97,98,99,100,101,102,103,104,105,106,107,108,109,110,111,112,113,114,115,116,117,118,119,120,121,122,123,124,125,126,127,128,129,130,131,132,133,134,135,136,137,138,139,140,141,142,143,144,145,146,147,148,149,150,151,152,153,154,155,156,157,158,159,160,161,162,163,164,165,166,167,168,169,170,171,172,173,174,175,176,177,178,179,180,181,182,183,184,185,186,187,188,189,190,191,192,193,194,195,196,197,198,199,200,201,202,203,204,205,206,207,208,209,210,211,212,213,214,215,216,217,218,219,220,221,222,223,224,225,226,227,228,229,230,231,232,233,234,235,236,237,238,239,240,241,242,243,244,245,246,247,248,249],\"y\":[1586.0,2377.0,3167.0,1661.0,870.0,2048.0,1097.0,1738.0,2165.0,1672.0,1097.0,1030.0,1095.0,1332.0,2428.0,2550.0,2053.0,1321.0,2286.0,796.0,3345.0,1560.0,1109.0,2145.0,2517.0,2610.0,1988.0,2138.0,2203.0,1535.0,1438.0,1096.0,1261.0,1094.0,1530.0,1555.0,1298.0,2438.0,1649.0,2845.0,2187.0,1735.0,2349.0,541.0,3722.0,1520.0,2880.0,1675.0,1057.0,1667.0,854.0,232.0,2455.0,1540.0,847.0,1373.0,1484.0,3620.0,1932.0,1185.0,2627.0,1992.0,1567.0,1777.0,917.0,1097.0,2498.0,1510.0,1595.0,1496.0,1089.0,2389.0,2880.0,1094.0,2230.0,1612.0,1755.0,1854.0,1059.0,2573.0,1737.0,2352.0,1457.0,1658.0,1285.0,1980.0,1497.0,1279.0,1620.0,2503.0,3787.0,2341.0,1617.0,1096.0,888.0,2955.0,2682.0,2185.0,1452.0,1329.0,1405.0,2070.0,2322.0,1424.0,1753.0,3645.0,1358.0,897.0,1510.0,1891.0,806.0,1526.0,1536.0,767.0,1118.0,1765.0,1226.0,1602.0,762.0,1303.0,2876.0,1770.0,1797.0,2020.0,2192.0,1709.0,2223.0,1732.0,3017.0,2573.0,1734.0,2189.0,758.0,1415.0,1127.0,1064.0,834.0,1424.0,757.0,1481.0,881.0,1149.0,1781.0,1933.0,1409.0,1331.0,887.0,1361.0,1997.0,1976.0,1604.0,786.0,2215.0,1130.0,2728.0,1100.0,1832.0,1641.0,1098.0,1767.0,2431.0,1654.0,1663.0,2716.0,3171.0,1775.0,3184.0,3802.0,2094.0,1873.0,1652.0,1985.0,2215.0,1669.0,1586.0,1097.0,1180.0,1801.0,1621.0,1946.0,1799.0,1924.0,864.0,2350.0,2091.0,1690.0,1530.0,1789.0,2111.0,3865.0,1942.0,1382.0,1097.0,324.0,2100.0,879.0,1094.0,2159.0,1097.0,1885.0,2013.0,2690.0,1433.0,879.0,1517.0,2156.0,1291.0,1748.0,1703.0,1527.0,2332.0,1092.0,1414.0,2042.0,1370.0,1671.0,1590.0,2337.0,785.0,1504.0,1910.0,1501.0,1647.0,2730.0,1891.0,1865.0,1799.0,1929.0,1093.0,879.0,1602.0,1199.0,1849.0,994.0,2621.0,1113.0,1600.0,1551.0,880.0,1604.0,841.0,2863.0,1097.0,1167.0,1726.0,1799.0,1393.0,1681.0,1677.0,2097.0],\"type\":\"scatter\"},{\"line\":{\"width\":0},\"mode\":\"lines\",\"name\":\"SADE Lower Bound\",\"showlegend\":false,\"x\":[0,1,2,3,4,5,6,7,8,9,10,11,12,13,14,15,16,17,18,19,20,21,22,23,24,25,26,27,28,29,30,31,32,33,34,35,36,37,38,39,40,41,42,43,44,45,46,47,48,49,50,51,52,53,54,55,56,57,58,59,60,61,62,63,64,65,66,67,68,69,70,71,72,73,74,75,76,77,78,79,80,81,82,83,84,85,86,87,88,89,90,91,92,93,94,95,96,97,98,99,100,101,102,103,104,105,106,107,108,109,110,111,112,113,114,115,116,117,118,119,120,121,122,123,124,125,126,127,128,129,130,131,132,133,134,135,136,137,138,139,140,141,142,143,144,145,146,147,148,149,150,151,152,153,154,155,156,157,158,159,160,161,162,163,164,165,166,167,168,169,170,171,172,173,174,175,176,177,178,179,180,181,182,183,184,185,186,187,188,189,190,191,192,193,194,195,196,197,198,199,200,201,202,203,204,205,206,207,208,209,210,211,212,213,214,215,216,217,218,219,220,221,222,223,224,225,226,227,228,229,230,231,232,233,234,235,236,237,238,239,240,241,242,243,244,245,246,247,248,249],\"y\":[1586.0,2377.0,3167.0,1661.0,870.0,2048.0,1097.0,1738.0,2165.0,1672.0,1097.0,1030.0,1095.0,1332.0,2428.0,2550.0,2053.0,1321.0,2286.0,796.0,3345.0,1560.0,1109.0,2145.0,2517.0,2610.0,1988.0,2138.0,2203.0,1535.0,1438.0,1096.0,1261.0,1094.0,1530.0,1555.0,1298.0,2438.0,1649.0,2845.0,2187.0,1735.0,2349.0,541.0,3722.0,1520.0,2880.0,1675.0,1057.0,1667.0,854.0,232.0,2455.0,1540.0,847.0,1373.0,1484.0,3620.0,1932.0,1185.0,2627.0,1992.0,1567.0,1777.0,917.0,1097.0,2498.0,1510.0,1595.0,1496.0,1089.0,2389.0,2880.0,1094.0,2230.0,1612.0,1755.0,1854.0,1059.0,2573.0,1737.0,2352.0,1457.0,1658.0,1285.0,1980.0,1497.0,1279.0,1620.0,2503.0,3787.0,2341.0,1617.0,1096.0,888.0,2955.0,2682.0,2185.0,1452.0,1329.0,1405.0,2070.0,2322.0,1424.0,1753.0,3645.0,1358.0,897.0,1510.0,1891.0,806.0,1526.0,1536.0,767.0,1118.0,1765.0,1226.0,1602.0,762.0,1303.0,2876.0,1770.0,1797.0,2020.0,2192.0,1709.0,2223.0,1732.0,3017.0,2573.0,1734.0,2189.0,758.0,1415.0,1127.0,1064.0,834.0,1424.0,757.0,1481.0,881.0,1149.0,1781.0,1933.0,1409.0,1331.0,887.0,1361.0,1997.0,1976.0,1604.0,786.0,2215.0,1130.0,2728.0,1100.0,1832.0,1641.0,1098.0,1767.0,2431.0,1654.0,1663.0,2716.0,3171.0,1775.0,3184.0,3802.0,2094.0,1873.0,1652.0,1985.0,2215.0,1669.0,1586.0,1097.0,1180.0,1801.0,1621.0,1946.0,1799.0,1924.0,864.0,2350.0,2091.0,1690.0,1530.0,1789.0,2111.0,3865.0,1942.0,1382.0,1097.0,324.0,2100.0,879.0,1094.0,2159.0,1097.0,1885.0,2013.0,2690.0,1433.0,879.0,1517.0,2156.0,1291.0,1748.0,1703.0,1527.0,2332.0,1092.0,1414.0,2042.0,1370.0,1671.0,1590.0,2337.0,785.0,1504.0,1910.0,1501.0,1647.0,2730.0,1891.0,1865.0,1799.0,1929.0,1093.0,879.0,1602.0,1199.0,1849.0,994.0,2621.0,1113.0,1600.0,1551.0,880.0,1604.0,841.0,2863.0,1097.0,1167.0,1726.0,1799.0,1393.0,1681.0,1677.0,2097.0],\"type\":\"scatter\"},{\"fill\":\"tonexty\",\"fillcolor\":\"rgba(68, 68, 68, 0.3)\",\"line\":{\"width\":0},\"mode\":\"lines\",\"name\":\"SADE Upper Bound\",\"showlegend\":false,\"x\":[0,1,2,3,4,5,6,7,8,9,10,11,12,13,14,15,16,17,18,19,20,21,22,23,24,25,26,27,28,29,30,31,32,33,34,35,36,37,38,39,40,41,42,43,44,45,46,47,48,49,50,51,52,53,54,55,56,57,58,59,60,61,62,63,64,65,66,67,68,69,70,71,72,73,74,75,76,77,78,79,80,81,82,83,84,85,86,87,88,89,90,91,92,93,94,95,96,97,98,99,100,101,102,103,104,105,106,107,108,109,110,111,112,113,114,115,116,117,118,119,120,121,122,123,124,125,126,127,128,129,130,131,132,133,134,135,136,137,138,139,140,141,142,143,144,145,146,147,148,149,150,151,152,153,154,155,156,157,158,159,160,161,162,163,164,165,166,167,168,169,170,171,172,173,174,175,176,177,178,179,180,181,182,183,184,185,186,187,188,189,190,191,192,193,194,195,196,197,198,199,200,201,202,203,204,205,206,207,208,209,210,211,212,213,214,215,216,217,218,219,220,221,222,223,224,225,226,227,228,229,230,231,232,233,234,235,236,237,238,239,240,241,242,243,244,245,246,247,248,249],\"y\":[1586.0,2377.0,3167.0,1661.0,870.0,2048.0,1097.0,1738.0,2165.0,1672.0,1097.0,1030.0,1095.0,1332.0,2428.0,2550.0,2053.0,1321.0,2286.0,796.0,3345.0,1560.0,1109.0,2145.0,2517.0,2610.0,1988.0,2138.0,2203.0,1535.0,1438.0,1096.0,1261.0,1094.0,1530.0,1555.0,1298.0,2438.0,1649.0,2845.0,2187.0,1735.0,2349.0,541.0,3722.0,1520.0,2880.0,1675.0,1057.0,1667.0,854.0,232.0,2455.0,1540.0,847.0,1373.0,1484.0,3620.0,1932.0,1185.0,2627.0,1992.0,1567.0,1777.0,917.0,1097.0,2498.0,1510.0,1595.0,1496.0,1089.0,2389.0,2880.0,1094.0,2230.0,1612.0,1755.0,1854.0,1059.0,2573.0,1737.0,2352.0,1457.0,1658.0,1285.0,1980.0,1497.0,1279.0,1620.0,2503.0,3787.0,2341.0,1617.0,1096.0,888.0,2955.0,2682.0,2185.0,1452.0,1329.0,1405.0,2070.0,2322.0,1424.0,1753.0,3645.0,1358.0,897.0,1510.0,1891.0,806.0,1526.0,1536.0,767.0,1118.0,1765.0,1226.0,1602.0,762.0,1303.0,2876.0,1770.0,1797.0,2020.0,2192.0,1709.0,2223.0,1732.0,3017.0,2573.0,1734.0,2189.0,758.0,1415.0,1127.0,1064.0,834.0,1424.0,757.0,1481.0,881.0,1149.0,1781.0,1933.0,1409.0,1331.0,887.0,1361.0,1997.0,1976.0,1604.0,786.0,2215.0,1130.0,2728.0,1100.0,1832.0,1641.0,1098.0,1767.0,2431.0,1654.0,1663.0,2716.0,3171.0,1775.0,3184.0,3802.0,2094.0,1873.0,1652.0,1985.0,2215.0,1669.0,1586.0,1097.0,1180.0,1801.0,1621.0,1946.0,1799.0,1924.0,864.0,2350.0,2091.0,1690.0,1530.0,1789.0,2111.0,3865.0,1942.0,1382.0,1097.0,324.0,2100.0,879.0,1094.0,2159.0,1097.0,1885.0,2013.0,2690.0,1433.0,879.0,1517.0,2156.0,1291.0,1748.0,1703.0,1527.0,2332.0,1092.0,1414.0,2042.0,1370.0,1671.0,1590.0,2337.0,785.0,1504.0,1910.0,1501.0,1647.0,2730.0,1891.0,1865.0,1799.0,1929.0,1093.0,879.0,1602.0,1199.0,1849.0,994.0,2621.0,1113.0,1600.0,1551.0,880.0,1604.0,841.0,2863.0,1097.0,1167.0,1726.0,1799.0,1393.0,1681.0,1677.0,2097.0],\"type\":\"scatter\"}],                        {\"template\":{\"data\":{\"histogram2dcontour\":[{\"type\":\"histogram2dcontour\",\"colorbar\":{\"outlinewidth\":0,\"ticks\":\"\"},\"colorscale\":[[0.0,\"#0d0887\"],[0.1111111111111111,\"#46039f\"],[0.2222222222222222,\"#7201a8\"],[0.3333333333333333,\"#9c179e\"],[0.4444444444444444,\"#bd3786\"],[0.5555555555555556,\"#d8576b\"],[0.6666666666666666,\"#ed7953\"],[0.7777777777777778,\"#fb9f3a\"],[0.8888888888888888,\"#fdca26\"],[1.0,\"#f0f921\"]]}],\"choropleth\":[{\"type\":\"choropleth\",\"colorbar\":{\"outlinewidth\":0,\"ticks\":\"\"}}],\"histogram2d\":[{\"type\":\"histogram2d\",\"colorbar\":{\"outlinewidth\":0,\"ticks\":\"\"},\"colorscale\":[[0.0,\"#0d0887\"],[0.1111111111111111,\"#46039f\"],[0.2222222222222222,\"#7201a8\"],[0.3333333333333333,\"#9c179e\"],[0.4444444444444444,\"#bd3786\"],[0.5555555555555556,\"#d8576b\"],[0.6666666666666666,\"#ed7953\"],[0.7777777777777778,\"#fb9f3a\"],[0.8888888888888888,\"#fdca26\"],[1.0,\"#f0f921\"]]}],\"heatmap\":[{\"type\":\"heatmap\",\"colorbar\":{\"outlinewidth\":0,\"ticks\":\"\"},\"colorscale\":[[0.0,\"#0d0887\"],[0.1111111111111111,\"#46039f\"],[0.2222222222222222,\"#7201a8\"],[0.3333333333333333,\"#9c179e\"],[0.4444444444444444,\"#bd3786\"],[0.5555555555555556,\"#d8576b\"],[0.6666666666666666,\"#ed7953\"],[0.7777777777777778,\"#fb9f3a\"],[0.8888888888888888,\"#fdca26\"],[1.0,\"#f0f921\"]]}],\"heatmapgl\":[{\"type\":\"heatmapgl\",\"colorbar\":{\"outlinewidth\":0,\"ticks\":\"\"},\"colorscale\":[[0.0,\"#0d0887\"],[0.1111111111111111,\"#46039f\"],[0.2222222222222222,\"#7201a8\"],[0.3333333333333333,\"#9c179e\"],[0.4444444444444444,\"#bd3786\"],[0.5555555555555556,\"#d8576b\"],[0.6666666666666666,\"#ed7953\"],[0.7777777777777778,\"#fb9f3a\"],[0.8888888888888888,\"#fdca26\"],[1.0,\"#f0f921\"]]}],\"contourcarpet\":[{\"type\":\"contourcarpet\",\"colorbar\":{\"outlinewidth\":0,\"ticks\":\"\"}}],\"contour\":[{\"type\":\"contour\",\"colorbar\":{\"outlinewidth\":0,\"ticks\":\"\"},\"colorscale\":[[0.0,\"#0d0887\"],[0.1111111111111111,\"#46039f\"],[0.2222222222222222,\"#7201a8\"],[0.3333333333333333,\"#9c179e\"],[0.4444444444444444,\"#bd3786\"],[0.5555555555555556,\"#d8576b\"],[0.6666666666666666,\"#ed7953\"],[0.7777777777777778,\"#fb9f3a\"],[0.8888888888888888,\"#fdca26\"],[1.0,\"#f0f921\"]]}],\"surface\":[{\"type\":\"surface\",\"colorbar\":{\"outlinewidth\":0,\"ticks\":\"\"},\"colorscale\":[[0.0,\"#0d0887\"],[0.1111111111111111,\"#46039f\"],[0.2222222222222222,\"#7201a8\"],[0.3333333333333333,\"#9c179e\"],[0.4444444444444444,\"#bd3786\"],[0.5555555555555556,\"#d8576b\"],[0.6666666666666666,\"#ed7953\"],[0.7777777777777778,\"#fb9f3a\"],[0.8888888888888888,\"#fdca26\"],[1.0,\"#f0f921\"]]}],\"mesh3d\":[{\"type\":\"mesh3d\",\"colorbar\":{\"outlinewidth\":0,\"ticks\":\"\"}}],\"scatter\":[{\"fillpattern\":{\"fillmode\":\"overlay\",\"size\":10,\"solidity\":0.2},\"type\":\"scatter\"}],\"parcoords\":[{\"type\":\"parcoords\",\"line\":{\"colorbar\":{\"outlinewidth\":0,\"ticks\":\"\"}}}],\"scatterpolargl\":[{\"type\":\"scatterpolargl\",\"marker\":{\"colorbar\":{\"outlinewidth\":0,\"ticks\":\"\"}}}],\"bar\":[{\"error_x\":{\"color\":\"#2a3f5f\"},\"error_y\":{\"color\":\"#2a3f5f\"},\"marker\":{\"line\":{\"color\":\"#E5ECF6\",\"width\":0.5},\"pattern\":{\"fillmode\":\"overlay\",\"size\":10,\"solidity\":0.2}},\"type\":\"bar\"}],\"scattergeo\":[{\"type\":\"scattergeo\",\"marker\":{\"colorbar\":{\"outlinewidth\":0,\"ticks\":\"\"}}}],\"scatterpolar\":[{\"type\":\"scatterpolar\",\"marker\":{\"colorbar\":{\"outlinewidth\":0,\"ticks\":\"\"}}}],\"histogram\":[{\"marker\":{\"pattern\":{\"fillmode\":\"overlay\",\"size\":10,\"solidity\":0.2}},\"type\":\"histogram\"}],\"scattergl\":[{\"type\":\"scattergl\",\"marker\":{\"colorbar\":{\"outlinewidth\":0,\"ticks\":\"\"}}}],\"scatter3d\":[{\"type\":\"scatter3d\",\"line\":{\"colorbar\":{\"outlinewidth\":0,\"ticks\":\"\"}},\"marker\":{\"colorbar\":{\"outlinewidth\":0,\"ticks\":\"\"}}}],\"scattermapbox\":[{\"type\":\"scattermapbox\",\"marker\":{\"colorbar\":{\"outlinewidth\":0,\"ticks\":\"\"}}}],\"scatterternary\":[{\"type\":\"scatterternary\",\"marker\":{\"colorbar\":{\"outlinewidth\":0,\"ticks\":\"\"}}}],\"scattercarpet\":[{\"type\":\"scattercarpet\",\"marker\":{\"colorbar\":{\"outlinewidth\":0,\"ticks\":\"\"}}}],\"carpet\":[{\"aaxis\":{\"endlinecolor\":\"#2a3f5f\",\"gridcolor\":\"white\",\"linecolor\":\"white\",\"minorgridcolor\":\"white\",\"startlinecolor\":\"#2a3f5f\"},\"baxis\":{\"endlinecolor\":\"#2a3f5f\",\"gridcolor\":\"white\",\"linecolor\":\"white\",\"minorgridcolor\":\"white\",\"startlinecolor\":\"#2a3f5f\"},\"type\":\"carpet\"}],\"table\":[{\"cells\":{\"fill\":{\"color\":\"#EBF0F8\"},\"line\":{\"color\":\"white\"}},\"header\":{\"fill\":{\"color\":\"#C8D4E3\"},\"line\":{\"color\":\"white\"}},\"type\":\"table\"}],\"barpolar\":[{\"marker\":{\"line\":{\"color\":\"#E5ECF6\",\"width\":0.5},\"pattern\":{\"fillmode\":\"overlay\",\"size\":10,\"solidity\":0.2}},\"type\":\"barpolar\"}],\"pie\":[{\"automargin\":true,\"type\":\"pie\"}]},\"layout\":{\"autotypenumbers\":\"strict\",\"colorway\":[\"#636efa\",\"#EF553B\",\"#00cc96\",\"#ab63fa\",\"#FFA15A\",\"#19d3f3\",\"#FF6692\",\"#B6E880\",\"#FF97FF\",\"#FECB52\"],\"font\":{\"color\":\"#2a3f5f\"},\"hovermode\":\"closest\",\"hoverlabel\":{\"align\":\"left\"},\"paper_bgcolor\":\"white\",\"plot_bgcolor\":\"#E5ECF6\",\"polar\":{\"bgcolor\":\"#E5ECF6\",\"angularaxis\":{\"gridcolor\":\"white\",\"linecolor\":\"white\",\"ticks\":\"\"},\"radialaxis\":{\"gridcolor\":\"white\",\"linecolor\":\"white\",\"ticks\":\"\"}},\"ternary\":{\"bgcolor\":\"#E5ECF6\",\"aaxis\":{\"gridcolor\":\"white\",\"linecolor\":\"white\",\"ticks\":\"\"},\"baxis\":{\"gridcolor\":\"white\",\"linecolor\":\"white\",\"ticks\":\"\"},\"caxis\":{\"gridcolor\":\"white\",\"linecolor\":\"white\",\"ticks\":\"\"}},\"coloraxis\":{\"colorbar\":{\"outlinewidth\":0,\"ticks\":\"\"}},\"colorscale\":{\"sequential\":[[0.0,\"#0d0887\"],[0.1111111111111111,\"#46039f\"],[0.2222222222222222,\"#7201a8\"],[0.3333333333333333,\"#9c179e\"],[0.4444444444444444,\"#bd3786\"],[0.5555555555555556,\"#d8576b\"],[0.6666666666666666,\"#ed7953\"],[0.7777777777777778,\"#fb9f3a\"],[0.8888888888888888,\"#fdca26\"],[1.0,\"#f0f921\"]],\"sequentialminus\":[[0.0,\"#0d0887\"],[0.1111111111111111,\"#46039f\"],[0.2222222222222222,\"#7201a8\"],[0.3333333333333333,\"#9c179e\"],[0.4444444444444444,\"#bd3786\"],[0.5555555555555556,\"#d8576b\"],[0.6666666666666666,\"#ed7953\"],[0.7777777777777778,\"#fb9f3a\"],[0.8888888888888888,\"#fdca26\"],[1.0,\"#f0f921\"]],\"diverging\":[[0,\"#8e0152\"],[0.1,\"#c51b7d\"],[0.2,\"#de77ae\"],[0.3,\"#f1b6da\"],[0.4,\"#fde0ef\"],[0.5,\"#f7f7f7\"],[0.6,\"#e6f5d0\"],[0.7,\"#b8e186\"],[0.8,\"#7fbc41\"],[0.9,\"#4d9221\"],[1,\"#276419\"]]},\"xaxis\":{\"gridcolor\":\"white\",\"linecolor\":\"white\",\"ticks\":\"\",\"title\":{\"standoff\":15},\"zerolinecolor\":\"white\",\"automargin\":true,\"zerolinewidth\":2},\"yaxis\":{\"gridcolor\":\"white\",\"linecolor\":\"white\",\"ticks\":\"\",\"title\":{\"standoff\":15},\"zerolinecolor\":\"white\",\"automargin\":true,\"zerolinewidth\":2},\"scene\":{\"xaxis\":{\"backgroundcolor\":\"#E5ECF6\",\"gridcolor\":\"white\",\"linecolor\":\"white\",\"showbackground\":true,\"ticks\":\"\",\"zerolinecolor\":\"white\",\"gridwidth\":2},\"yaxis\":{\"backgroundcolor\":\"#E5ECF6\",\"gridcolor\":\"white\",\"linecolor\":\"white\",\"showbackground\":true,\"ticks\":\"\",\"zerolinecolor\":\"white\",\"gridwidth\":2},\"zaxis\":{\"backgroundcolor\":\"#E5ECF6\",\"gridcolor\":\"white\",\"linecolor\":\"white\",\"showbackground\":true,\"ticks\":\"\",\"zerolinecolor\":\"white\",\"gridwidth\":2}},\"shapedefaults\":{\"line\":{\"color\":\"#2a3f5f\"}},\"annotationdefaults\":{\"arrowcolor\":\"#2a3f5f\",\"arrowhead\":0,\"arrowwidth\":1},\"geo\":{\"bgcolor\":\"white\",\"landcolor\":\"#E5ECF6\",\"subunitcolor\":\"white\",\"showland\":true,\"showlakes\":true,\"lakecolor\":\"white\"},\"title\":{\"x\":0.05},\"mapbox\":{\"style\":\"light\"}}},\"title\":{\"text\":\"Bootstrapped Confidence Intervals for Mean Fitness per Algorithm and Iteration\"},\"xaxis\":{\"title\":{\"text\":\"Iteration\"}},\"yaxis\":{\"title\":{\"text\":\"Mean Fitness\"}},\"hovermode\":\"x\"},                        {\"responsive\": true}                    ).then(function(){\n                            \nvar gd = document.getElementById('d264983a-97e2-4288-a603-bf9a7af76252');\nvar x = new MutationObserver(function (mutations, observer) {{\n        var display = window.getComputedStyle(gd).display;\n        if (!display || display === 'none') {{\n            console.log([gd, 'removed!']);\n            Plotly.purge(gd);\n            observer.disconnect();\n        }}\n}});\n\n// Listen for the removal of the full notebook cells\nvar notebookContainer = gd.closest('#notebook-container');\nif (notebookContainer) {{\n    x.observe(notebookContainer, {childList: true});\n}}\n\n// Listen for the clearing of the current output cell\nvar outputEl = gd.closest('.output');\nif (outputEl) {{\n    x.observe(outputEl, {childList: true});\n}}\n\n                        })                };                });            </script>        </div>"
     },
     "metadata": {},
     "output_type": "display_data"
    }
   ],
   "source": [
    "import pandas as pd\n",
    "import numpy as np\n",
    "import plotly.graph_objects as go\n",
    "\n",
    "def bootstrap_confidence_intervals(df, num_bootstraps, confidence_level):\n",
    "    \"\"\"\n",
    "    Calculate bootstrapped confidence intervals for each algorithm.\n",
    "    \n",
    "    :param df: DataFrame with 'algorithm', 'iteration', and 'fitness' columns.\n",
    "    :param num_bootstraps: Number of bootstrap samples.\n",
    "    :param confidence_level: Confidence level for the intervals.\n",
    "    :return: DataFrame with bootstrapped confidence intervals.\n",
    "    \"\"\"\n",
    "    \n",
    "    # https://acclab.github.io/bootstrap-confidence-intervals.html\n",
    "    bootstrapped_data = []\n",
    "    \n",
    "    for algorithm in df_bootstrapped['algorithm'].unique():\n",
    "        for iteration in df_bootstrapped['iteration'].unique():\n",
    "            iteration_fitness = df_bootstrapped[(df_bootstrapped['algorithm'] == algorithm) & (df_bootstrapped['iteration'] == iteration)]['fitness']\n",
    "            \n",
    "            # Skip if no data for the iteration\n",
    "            if iteration_fitness.empty:\n",
    "                continue\n",
    "            \n",
    "            bootstrap_means = []\n",
    "            # Generate bootstrap samples\n",
    "            for _ in range(num_bootstraps):\n",
    "                bootstrap_sample = np.random.choice(iteration_fitness, size=len(iteration_fitness), replace=True)\n",
    "                bootstrap_means.append(np.mean(bootstrap_sample))\n",
    "            \n",
    "            # Calculate the confidence intervals\n",
    "            lower_bound = np.percentile(bootstrap_means, (1 - confidence_level) / 2 * 100)\n",
    "            upper_bound = np.percentile(bootstrap_means, (1 + confidence_level) / 2 * 100)\n",
    "            mean_value = np.mean(bootstrap_means)\n",
    "            \n",
    "            # Collect data for this algorithm and iteration\n",
    "            bootstrapped_data.append({\n",
    "                'algorithm': algorithm,\n",
    "                'iteration': iteration,\n",
    "                'lower_bound': lower_bound,\n",
    "                'upper_bound': upper_bound,\n",
    "                'mean_fitness': mean_value\n",
    "            })\n",
    "    \n",
    "    return pd.DataFrame(bootstrapped_data)\n",
    "\n",
    "def plot_bootstrapped_intervals(bootstrap_df):\n",
    "    \"\"\"\n",
    "    Plot bootstrapped confidence intervals using Plotly.\n",
    "    \n",
    "    :param bootstrap_df: DataFrame with bootstrapped confidence intervals.\n",
    "    \"\"\"\n",
    "    fig = go.Figure()\n",
    "    \n",
    "    for algorithm in bootstrap_df['algorithm'].unique():\n",
    "        df_algo = bootstrap_df[bootstrap_df['algorithm'] == algorithm]\n",
    "        \n",
    "        # Add the mean fitness trace\n",
    "        fig.add_trace(go.Scatter(\n",
    "            name=f'{algorithm} Mean Fitness',\n",
    "            x=df_algo['iteration'],\n",
    "            y=df_algo['mean_fitness'],\n",
    "            mode='lines',\n",
    "            line=dict(width=2),\n",
    "        ))\n",
    "        \n",
    "        # Add the confidence interval trace\n",
    "        fig.add_traces([\n",
    "            go.Scatter(\n",
    "                name=f'{algorithm} Lower Bound',\n",
    "                x=df_algo['iteration'],\n",
    "                y=df_algo['lower_bound'],\n",
    "                mode='lines',\n",
    "                line=dict(width=0),\n",
    "                showlegend=False\n",
    "            ),\n",
    "            go.Scatter(\n",
    "                name=f'{algorithm} Upper Bound',\n",
    "                x=df_algo['iteration'],\n",
    "                y=df_algo['upper_bound'],\n",
    "                mode='lines',\n",
    "                line=dict(width=0),\n",
    "                fill='tonexty',\n",
    "                fillcolor='rgba(68, 68, 68, 0.3)',\n",
    "                showlegend=False\n",
    "            )\n",
    "        ])\n",
    "    \n",
    "    fig.update_layout(\n",
    "        title='Bootstrapped Confidence Intervals for Mean Fitness per Algorithm and Iteration',\n",
    "        xaxis_title='Iteration',\n",
    "        yaxis_title='Mean Fitness',\n",
    "        hovermode=\"x\"\n",
    "    )\n",
    "    \n",
    "    fig.show()\n",
    "\n",
    "# Assuming 'df' is your DataFrame with 'algorithm', 'iteration', and 'fitness' columns\n",
    "num_bootstraps = 1000\n",
    "confidence_level = 0.95\n",
    "bootstrap_df = bootstrap_confidence_intervals(df_bootstrapped, num_bootstraps, confidence_level)\n",
    "plot_bootstrapped_intervals(bootstrap_df)\n"
   ]
  },
  {
   "cell_type": "markdown",
   "source": [
    "### Fitness value distribution by algorithm - Bootstrapped"
   ],
   "metadata": {
    "collapsed": false
   },
   "id": "d1848efe2f39fa85"
  },
  {
   "cell_type": "code",
   "execution_count": 20,
   "id": "a05eee04081d09c7",
   "metadata": {
    "collapsed": false,
    "ExecuteTime": {
     "end_time": "2024-05-02T15:35:09.237213600Z",
     "start_time": "2024-05-02T15:35:09.176127900Z"
    }
   },
   "outputs": [
    {
     "data": {
      "text/plain": "             Mean  Median     SD    Min     Max\nalgorithm                                      \nDE         1746.0  1684.0  664.0  324.0  3974.0\nFA         1693.0  1620.0  612.0  202.0  3988.0\nGA         1821.0  1728.0  703.0  205.0  3966.0\nPSO        1718.0  1625.0  675.0  202.0  3860.0\nSADE       1731.0  1656.0  654.0  232.0  3865.0",
      "text/html": "<div>\n<style scoped>\n    .dataframe tbody tr th:only-of-type {\n        vertical-align: middle;\n    }\n\n    .dataframe tbody tr th {\n        vertical-align: top;\n    }\n\n    .dataframe thead th {\n        text-align: right;\n    }\n</style>\n<table border=\"1\" class=\"dataframe\">\n  <thead>\n    <tr style=\"text-align: right;\">\n      <th></th>\n      <th>Mean</th>\n      <th>Median</th>\n      <th>SD</th>\n      <th>Min</th>\n      <th>Max</th>\n    </tr>\n    <tr>\n      <th>algorithm</th>\n      <th></th>\n      <th></th>\n      <th></th>\n      <th></th>\n      <th></th>\n    </tr>\n  </thead>\n  <tbody>\n    <tr>\n      <th>DE</th>\n      <td>1746.0</td>\n      <td>1684.0</td>\n      <td>664.0</td>\n      <td>324.0</td>\n      <td>3974.0</td>\n    </tr>\n    <tr>\n      <th>FA</th>\n      <td>1693.0</td>\n      <td>1620.0</td>\n      <td>612.0</td>\n      <td>202.0</td>\n      <td>3988.0</td>\n    </tr>\n    <tr>\n      <th>GA</th>\n      <td>1821.0</td>\n      <td>1728.0</td>\n      <td>703.0</td>\n      <td>205.0</td>\n      <td>3966.0</td>\n    </tr>\n    <tr>\n      <th>PSO</th>\n      <td>1718.0</td>\n      <td>1625.0</td>\n      <td>675.0</td>\n      <td>202.0</td>\n      <td>3860.0</td>\n    </tr>\n    <tr>\n      <th>SADE</th>\n      <td>1731.0</td>\n      <td>1656.0</td>\n      <td>654.0</td>\n      <td>232.0</td>\n      <td>3865.0</td>\n    </tr>\n  </tbody>\n</table>\n</div>"
     },
     "execution_count": 20,
     "metadata": {},
     "output_type": "execute_result"
    }
   ],
   "source": [
    "# Calculate the statistics for the bootstrapped data\n",
    "bootstrapped_statistics_df = bootstrap_df.groupby('algorithm')['mean_fitness'].agg(\n",
    "    Mean='mean',\n",
    "    Median='median',\n",
    "    SD='std',\n",
    "    Min='min',\n",
    "    Max='max'\n",
    ")\n",
    "bootstrapped_statistics_df = bootstrapped_statistics_df.round(0)\n",
    "bootstrapped_statistics_df"
   ]
  },
  {
   "cell_type": "code",
   "execution_count": 21,
   "outputs": [
    {
     "name": "stderr",
     "output_type": "stream",
     "text": [
      "C:\\Users\\sasop\\AppData\\Local\\Temp\\ipykernel_28460\\2044650198.py:10: SettingWithCopyWarning:\n",
      "\n",
      "\n",
      "A value is trying to be set on a copy of a slice from a DataFrame\n",
      "\n",
      "See the caveats in the documentation: https://pandas.pydata.org/pandas-docs/stable/user_guide/indexing.html#returning-a-view-versus-a-copy\n",
      "\n"
     ]
    },
    {
     "data": {
      "application/vnd.plotly.v1+json": {
       "data": [
        {
         "fill": "none",
         "line": {
          "dash": "solid"
         },
         "name": "DE (Area: 0.53)",
         "r": [
          1.0,
          0.75,
          0.75,
          0.25,
          0.25,
          1.0
         ],
         "theta": [
          "num layers",
          "bottleneck size",
          "complexity",
          "fitness",
          "error",
          "num layers"
         ],
         "type": "scatterpolar"
        },
        {
         "fill": "none",
         "line": {
          "dash": "dot"
         },
         "name": "FA (Area: 0.51)",
         "r": [
          0.0,
          0.5,
          0.5,
          1.0,
          1.0,
          0.0
         ],
         "theta": [
          "num layers",
          "bottleneck size",
          "complexity",
          "fitness",
          "error",
          "num layers"
         ],
         "type": "scatterpolar"
        },
        {
         "fill": "none",
         "line": {
          "dash": "dash"
         },
         "name": "GA (Area: 0.51)",
         "r": [
          0.75,
          1.0,
          1.0,
          0.0,
          0.0,
          0.75
         ],
         "theta": [
          "num layers",
          "bottleneck size",
          "complexity",
          "fitness",
          "error",
          "num layers"
         ],
         "type": "scatterpolar"
        },
        {
         "fill": "none",
         "line": {
          "dash": "longdash"
         },
         "name": "PSO (Area: 0.28)",
         "r": [
          0.5,
          0.0,
          0.0,
          0.75,
          0.75,
          0.5
         ],
         "theta": [
          "num layers",
          "bottleneck size",
          "complexity",
          "fitness",
          "error",
          "num layers"
         ],
         "type": "scatterpolar"
        },
        {
         "fill": "none",
         "line": {
          "dash": "dashdot"
         },
         "name": "SADE (Area: 0.18)",
         "r": [
          0.25,
          0.25,
          0.25,
          0.5,
          0.5,
          0.25
         ],
         "theta": [
          "num layers",
          "bottleneck size",
          "complexity",
          "fitness",
          "error",
          "num layers"
         ],
         "type": "scatterpolar"
        }
       ],
       "layout": {
        "polar": {
         "radialaxis": {
          "range": [
           0,
           1
          ],
          "visible": true
         }
        },
        "showlegend": true,
        "template": {
         "data": {
          "histogram2dcontour": [
           {
            "type": "histogram2dcontour",
            "colorbar": {
             "outlinewidth": 0,
             "ticks": ""
            },
            "colorscale": [
             [
              0.0,
              "#0d0887"
             ],
             [
              0.1111111111111111,
              "#46039f"
             ],
             [
              0.2222222222222222,
              "#7201a8"
             ],
             [
              0.3333333333333333,
              "#9c179e"
             ],
             [
              0.4444444444444444,
              "#bd3786"
             ],
             [
              0.5555555555555556,
              "#d8576b"
             ],
             [
              0.6666666666666666,
              "#ed7953"
             ],
             [
              0.7777777777777778,
              "#fb9f3a"
             ],
             [
              0.8888888888888888,
              "#fdca26"
             ],
             [
              1.0,
              "#f0f921"
             ]
            ]
           }
          ],
          "choropleth": [
           {
            "type": "choropleth",
            "colorbar": {
             "outlinewidth": 0,
             "ticks": ""
            }
           }
          ],
          "histogram2d": [
           {
            "type": "histogram2d",
            "colorbar": {
             "outlinewidth": 0,
             "ticks": ""
            },
            "colorscale": [
             [
              0.0,
              "#0d0887"
             ],
             [
              0.1111111111111111,
              "#46039f"
             ],
             [
              0.2222222222222222,
              "#7201a8"
             ],
             [
              0.3333333333333333,
              "#9c179e"
             ],
             [
              0.4444444444444444,
              "#bd3786"
             ],
             [
              0.5555555555555556,
              "#d8576b"
             ],
             [
              0.6666666666666666,
              "#ed7953"
             ],
             [
              0.7777777777777778,
              "#fb9f3a"
             ],
             [
              0.8888888888888888,
              "#fdca26"
             ],
             [
              1.0,
              "#f0f921"
             ]
            ]
           }
          ],
          "heatmap": [
           {
            "type": "heatmap",
            "colorbar": {
             "outlinewidth": 0,
             "ticks": ""
            },
            "colorscale": [
             [
              0.0,
              "#0d0887"
             ],
             [
              0.1111111111111111,
              "#46039f"
             ],
             [
              0.2222222222222222,
              "#7201a8"
             ],
             [
              0.3333333333333333,
              "#9c179e"
             ],
             [
              0.4444444444444444,
              "#bd3786"
             ],
             [
              0.5555555555555556,
              "#d8576b"
             ],
             [
              0.6666666666666666,
              "#ed7953"
             ],
             [
              0.7777777777777778,
              "#fb9f3a"
             ],
             [
              0.8888888888888888,
              "#fdca26"
             ],
             [
              1.0,
              "#f0f921"
             ]
            ]
           }
          ],
          "heatmapgl": [
           {
            "type": "heatmapgl",
            "colorbar": {
             "outlinewidth": 0,
             "ticks": ""
            },
            "colorscale": [
             [
              0.0,
              "#0d0887"
             ],
             [
              0.1111111111111111,
              "#46039f"
             ],
             [
              0.2222222222222222,
              "#7201a8"
             ],
             [
              0.3333333333333333,
              "#9c179e"
             ],
             [
              0.4444444444444444,
              "#bd3786"
             ],
             [
              0.5555555555555556,
              "#d8576b"
             ],
             [
              0.6666666666666666,
              "#ed7953"
             ],
             [
              0.7777777777777778,
              "#fb9f3a"
             ],
             [
              0.8888888888888888,
              "#fdca26"
             ],
             [
              1.0,
              "#f0f921"
             ]
            ]
           }
          ],
          "contourcarpet": [
           {
            "type": "contourcarpet",
            "colorbar": {
             "outlinewidth": 0,
             "ticks": ""
            }
           }
          ],
          "contour": [
           {
            "type": "contour",
            "colorbar": {
             "outlinewidth": 0,
             "ticks": ""
            },
            "colorscale": [
             [
              0.0,
              "#0d0887"
             ],
             [
              0.1111111111111111,
              "#46039f"
             ],
             [
              0.2222222222222222,
              "#7201a8"
             ],
             [
              0.3333333333333333,
              "#9c179e"
             ],
             [
              0.4444444444444444,
              "#bd3786"
             ],
             [
              0.5555555555555556,
              "#d8576b"
             ],
             [
              0.6666666666666666,
              "#ed7953"
             ],
             [
              0.7777777777777778,
              "#fb9f3a"
             ],
             [
              0.8888888888888888,
              "#fdca26"
             ],
             [
              1.0,
              "#f0f921"
             ]
            ]
           }
          ],
          "surface": [
           {
            "type": "surface",
            "colorbar": {
             "outlinewidth": 0,
             "ticks": ""
            },
            "colorscale": [
             [
              0.0,
              "#0d0887"
             ],
             [
              0.1111111111111111,
              "#46039f"
             ],
             [
              0.2222222222222222,
              "#7201a8"
             ],
             [
              0.3333333333333333,
              "#9c179e"
             ],
             [
              0.4444444444444444,
              "#bd3786"
             ],
             [
              0.5555555555555556,
              "#d8576b"
             ],
             [
              0.6666666666666666,
              "#ed7953"
             ],
             [
              0.7777777777777778,
              "#fb9f3a"
             ],
             [
              0.8888888888888888,
              "#fdca26"
             ],
             [
              1.0,
              "#f0f921"
             ]
            ]
           }
          ],
          "mesh3d": [
           {
            "type": "mesh3d",
            "colorbar": {
             "outlinewidth": 0,
             "ticks": ""
            }
           }
          ],
          "scatter": [
           {
            "fillpattern": {
             "fillmode": "overlay",
             "size": 10,
             "solidity": 0.2
            },
            "type": "scatter"
           }
          ],
          "parcoords": [
           {
            "type": "parcoords",
            "line": {
             "colorbar": {
              "outlinewidth": 0,
              "ticks": ""
             }
            }
           }
          ],
          "scatterpolargl": [
           {
            "type": "scatterpolargl",
            "marker": {
             "colorbar": {
              "outlinewidth": 0,
              "ticks": ""
             }
            }
           }
          ],
          "bar": [
           {
            "error_x": {
             "color": "#2a3f5f"
            },
            "error_y": {
             "color": "#2a3f5f"
            },
            "marker": {
             "line": {
              "color": "#E5ECF6",
              "width": 0.5
             },
             "pattern": {
              "fillmode": "overlay",
              "size": 10,
              "solidity": 0.2
             }
            },
            "type": "bar"
           }
          ],
          "scattergeo": [
           {
            "type": "scattergeo",
            "marker": {
             "colorbar": {
              "outlinewidth": 0,
              "ticks": ""
             }
            }
           }
          ],
          "scatterpolar": [
           {
            "type": "scatterpolar",
            "marker": {
             "colorbar": {
              "outlinewidth": 0,
              "ticks": ""
             }
            }
           }
          ],
          "histogram": [
           {
            "marker": {
             "pattern": {
              "fillmode": "overlay",
              "size": 10,
              "solidity": 0.2
             }
            },
            "type": "histogram"
           }
          ],
          "scattergl": [
           {
            "type": "scattergl",
            "marker": {
             "colorbar": {
              "outlinewidth": 0,
              "ticks": ""
             }
            }
           }
          ],
          "scatter3d": [
           {
            "type": "scatter3d",
            "line": {
             "colorbar": {
              "outlinewidth": 0,
              "ticks": ""
             }
            },
            "marker": {
             "colorbar": {
              "outlinewidth": 0,
              "ticks": ""
             }
            }
           }
          ],
          "scattermapbox": [
           {
            "type": "scattermapbox",
            "marker": {
             "colorbar": {
              "outlinewidth": 0,
              "ticks": ""
             }
            }
           }
          ],
          "scatterternary": [
           {
            "type": "scatterternary",
            "marker": {
             "colorbar": {
              "outlinewidth": 0,
              "ticks": ""
             }
            }
           }
          ],
          "scattercarpet": [
           {
            "type": "scattercarpet",
            "marker": {
             "colorbar": {
              "outlinewidth": 0,
              "ticks": ""
             }
            }
           }
          ],
          "carpet": [
           {
            "aaxis": {
             "endlinecolor": "#2a3f5f",
             "gridcolor": "white",
             "linecolor": "white",
             "minorgridcolor": "white",
             "startlinecolor": "#2a3f5f"
            },
            "baxis": {
             "endlinecolor": "#2a3f5f",
             "gridcolor": "white",
             "linecolor": "white",
             "minorgridcolor": "white",
             "startlinecolor": "#2a3f5f"
            },
            "type": "carpet"
           }
          ],
          "table": [
           {
            "cells": {
             "fill": {
              "color": "#EBF0F8"
             },
             "line": {
              "color": "white"
             }
            },
            "header": {
             "fill": {
              "color": "#C8D4E3"
             },
             "line": {
              "color": "white"
             }
            },
            "type": "table"
           }
          ],
          "barpolar": [
           {
            "marker": {
             "line": {
              "color": "#E5ECF6",
              "width": 0.5
             },
             "pattern": {
              "fillmode": "overlay",
              "size": 10,
              "solidity": 0.2
             }
            },
            "type": "barpolar"
           }
          ],
          "pie": [
           {
            "automargin": true,
            "type": "pie"
           }
          ]
         },
         "layout": {
          "autotypenumbers": "strict",
          "colorway": [
           "#636efa",
           "#EF553B",
           "#00cc96",
           "#ab63fa",
           "#FFA15A",
           "#19d3f3",
           "#FF6692",
           "#B6E880",
           "#FF97FF",
           "#FECB52"
          ],
          "font": {
           "color": "#2a3f5f"
          },
          "hovermode": "closest",
          "hoverlabel": {
           "align": "left"
          },
          "paper_bgcolor": "white",
          "plot_bgcolor": "#E5ECF6",
          "polar": {
           "bgcolor": "#E5ECF6",
           "angularaxis": {
            "gridcolor": "white",
            "linecolor": "white",
            "ticks": ""
           },
           "radialaxis": {
            "gridcolor": "white",
            "linecolor": "white",
            "ticks": ""
           }
          },
          "ternary": {
           "bgcolor": "#E5ECF6",
           "aaxis": {
            "gridcolor": "white",
            "linecolor": "white",
            "ticks": ""
           },
           "baxis": {
            "gridcolor": "white",
            "linecolor": "white",
            "ticks": ""
           },
           "caxis": {
            "gridcolor": "white",
            "linecolor": "white",
            "ticks": ""
           }
          },
          "coloraxis": {
           "colorbar": {
            "outlinewidth": 0,
            "ticks": ""
           }
          },
          "colorscale": {
           "sequential": [
            [
             0.0,
             "#0d0887"
            ],
            [
             0.1111111111111111,
             "#46039f"
            ],
            [
             0.2222222222222222,
             "#7201a8"
            ],
            [
             0.3333333333333333,
             "#9c179e"
            ],
            [
             0.4444444444444444,
             "#bd3786"
            ],
            [
             0.5555555555555556,
             "#d8576b"
            ],
            [
             0.6666666666666666,
             "#ed7953"
            ],
            [
             0.7777777777777778,
             "#fb9f3a"
            ],
            [
             0.8888888888888888,
             "#fdca26"
            ],
            [
             1.0,
             "#f0f921"
            ]
           ],
           "sequentialminus": [
            [
             0.0,
             "#0d0887"
            ],
            [
             0.1111111111111111,
             "#46039f"
            ],
            [
             0.2222222222222222,
             "#7201a8"
            ],
            [
             0.3333333333333333,
             "#9c179e"
            ],
            [
             0.4444444444444444,
             "#bd3786"
            ],
            [
             0.5555555555555556,
             "#d8576b"
            ],
            [
             0.6666666666666666,
             "#ed7953"
            ],
            [
             0.7777777777777778,
             "#fb9f3a"
            ],
            [
             0.8888888888888888,
             "#fdca26"
            ],
            [
             1.0,
             "#f0f921"
            ]
           ],
           "diverging": [
            [
             0,
             "#8e0152"
            ],
            [
             0.1,
             "#c51b7d"
            ],
            [
             0.2,
             "#de77ae"
            ],
            [
             0.3,
             "#f1b6da"
            ],
            [
             0.4,
             "#fde0ef"
            ],
            [
             0.5,
             "#f7f7f7"
            ],
            [
             0.6,
             "#e6f5d0"
            ],
            [
             0.7,
             "#b8e186"
            ],
            [
             0.8,
             "#7fbc41"
            ],
            [
             0.9,
             "#4d9221"
            ],
            [
             1,
             "#276419"
            ]
           ]
          },
          "xaxis": {
           "gridcolor": "white",
           "linecolor": "white",
           "ticks": "",
           "title": {
            "standoff": 15
           },
           "zerolinecolor": "white",
           "automargin": true,
           "zerolinewidth": 2
          },
          "yaxis": {
           "gridcolor": "white",
           "linecolor": "white",
           "ticks": "",
           "title": {
            "standoff": 15
           },
           "zerolinecolor": "white",
           "automargin": true,
           "zerolinewidth": 2
          },
          "scene": {
           "xaxis": {
            "backgroundcolor": "#E5ECF6",
            "gridcolor": "white",
            "linecolor": "white",
            "showbackground": true,
            "ticks": "",
            "zerolinecolor": "white",
            "gridwidth": 2
           },
           "yaxis": {
            "backgroundcolor": "#E5ECF6",
            "gridcolor": "white",
            "linecolor": "white",
            "showbackground": true,
            "ticks": "",
            "zerolinecolor": "white",
            "gridwidth": 2
           },
           "zaxis": {
            "backgroundcolor": "#E5ECF6",
            "gridcolor": "white",
            "linecolor": "white",
            "showbackground": true,
            "ticks": "",
            "zerolinecolor": "white",
            "gridwidth": 2
           }
          },
          "shapedefaults": {
           "line": {
            "color": "#2a3f5f"
           }
          },
          "annotationdefaults": {
           "arrowcolor": "#2a3f5f",
           "arrowhead": 0,
           "arrowwidth": 1
          },
          "geo": {
           "bgcolor": "white",
           "landcolor": "#E5ECF6",
           "subunitcolor": "white",
           "showland": true,
           "showlakes": true,
           "lakecolor": "white"
          },
          "title": {
           "x": 0.05
          },
          "mapbox": {
           "style": "light"
          }
         }
        }
       },
       "config": {
        "plotlyServerURL": "https://plot.ly"
       }
      },
      "text/html": "<div>                            <div id=\"9b8a2fdf-e839-48ef-b207-48d172969fc4\" class=\"plotly-graph-div\" style=\"height:525px; width:100%;\"></div>            <script type=\"text/javascript\">                require([\"plotly\"], function(Plotly) {                    window.PLOTLYENV=window.PLOTLYENV || {};                                    if (document.getElementById(\"9b8a2fdf-e839-48ef-b207-48d172969fc4\")) {                    Plotly.newPlot(                        \"9b8a2fdf-e839-48ef-b207-48d172969fc4\",                        [{\"fill\":\"none\",\"line\":{\"dash\":\"solid\"},\"name\":\"DE (Area: 0.53)\",\"r\":[1.0,0.75,0.75,0.25,0.25,1.0],\"theta\":[\"num layers\",\"bottleneck size\",\"complexity\",\"fitness\",\"error\",\"num layers\"],\"type\":\"scatterpolar\"},{\"fill\":\"none\",\"line\":{\"dash\":\"dot\"},\"name\":\"FA (Area: 0.51)\",\"r\":[0.0,0.5,0.5,1.0,1.0,0.0],\"theta\":[\"num layers\",\"bottleneck size\",\"complexity\",\"fitness\",\"error\",\"num layers\"],\"type\":\"scatterpolar\"},{\"fill\":\"none\",\"line\":{\"dash\":\"dash\"},\"name\":\"GA (Area: 0.51)\",\"r\":[0.75,1.0,1.0,0.0,0.0,0.75],\"theta\":[\"num layers\",\"bottleneck size\",\"complexity\",\"fitness\",\"error\",\"num layers\"],\"type\":\"scatterpolar\"},{\"fill\":\"none\",\"line\":{\"dash\":\"longdash\"},\"name\":\"PSO (Area: 0.28)\",\"r\":[0.5,0.0,0.0,0.75,0.75,0.5],\"theta\":[\"num layers\",\"bottleneck size\",\"complexity\",\"fitness\",\"error\",\"num layers\"],\"type\":\"scatterpolar\"},{\"fill\":\"none\",\"line\":{\"dash\":\"dashdot\"},\"name\":\"SADE (Area: 0.18)\",\"r\":[0.25,0.25,0.25,0.5,0.5,0.25],\"theta\":[\"num layers\",\"bottleneck size\",\"complexity\",\"fitness\",\"error\",\"num layers\"],\"type\":\"scatterpolar\"}],                        {\"polar\":{\"radialaxis\":{\"range\":[0,1],\"visible\":true}},\"showlegend\":true,\"template\":{\"data\":{\"histogram2dcontour\":[{\"type\":\"histogram2dcontour\",\"colorbar\":{\"outlinewidth\":0,\"ticks\":\"\"},\"colorscale\":[[0.0,\"#0d0887\"],[0.1111111111111111,\"#46039f\"],[0.2222222222222222,\"#7201a8\"],[0.3333333333333333,\"#9c179e\"],[0.4444444444444444,\"#bd3786\"],[0.5555555555555556,\"#d8576b\"],[0.6666666666666666,\"#ed7953\"],[0.7777777777777778,\"#fb9f3a\"],[0.8888888888888888,\"#fdca26\"],[1.0,\"#f0f921\"]]}],\"choropleth\":[{\"type\":\"choropleth\",\"colorbar\":{\"outlinewidth\":0,\"ticks\":\"\"}}],\"histogram2d\":[{\"type\":\"histogram2d\",\"colorbar\":{\"outlinewidth\":0,\"ticks\":\"\"},\"colorscale\":[[0.0,\"#0d0887\"],[0.1111111111111111,\"#46039f\"],[0.2222222222222222,\"#7201a8\"],[0.3333333333333333,\"#9c179e\"],[0.4444444444444444,\"#bd3786\"],[0.5555555555555556,\"#d8576b\"],[0.6666666666666666,\"#ed7953\"],[0.7777777777777778,\"#fb9f3a\"],[0.8888888888888888,\"#fdca26\"],[1.0,\"#f0f921\"]]}],\"heatmap\":[{\"type\":\"heatmap\",\"colorbar\":{\"outlinewidth\":0,\"ticks\":\"\"},\"colorscale\":[[0.0,\"#0d0887\"],[0.1111111111111111,\"#46039f\"],[0.2222222222222222,\"#7201a8\"],[0.3333333333333333,\"#9c179e\"],[0.4444444444444444,\"#bd3786\"],[0.5555555555555556,\"#d8576b\"],[0.6666666666666666,\"#ed7953\"],[0.7777777777777778,\"#fb9f3a\"],[0.8888888888888888,\"#fdca26\"],[1.0,\"#f0f921\"]]}],\"heatmapgl\":[{\"type\":\"heatmapgl\",\"colorbar\":{\"outlinewidth\":0,\"ticks\":\"\"},\"colorscale\":[[0.0,\"#0d0887\"],[0.1111111111111111,\"#46039f\"],[0.2222222222222222,\"#7201a8\"],[0.3333333333333333,\"#9c179e\"],[0.4444444444444444,\"#bd3786\"],[0.5555555555555556,\"#d8576b\"],[0.6666666666666666,\"#ed7953\"],[0.7777777777777778,\"#fb9f3a\"],[0.8888888888888888,\"#fdca26\"],[1.0,\"#f0f921\"]]}],\"contourcarpet\":[{\"type\":\"contourcarpet\",\"colorbar\":{\"outlinewidth\":0,\"ticks\":\"\"}}],\"contour\":[{\"type\":\"contour\",\"colorbar\":{\"outlinewidth\":0,\"ticks\":\"\"},\"colorscale\":[[0.0,\"#0d0887\"],[0.1111111111111111,\"#46039f\"],[0.2222222222222222,\"#7201a8\"],[0.3333333333333333,\"#9c179e\"],[0.4444444444444444,\"#bd3786\"],[0.5555555555555556,\"#d8576b\"],[0.6666666666666666,\"#ed7953\"],[0.7777777777777778,\"#fb9f3a\"],[0.8888888888888888,\"#fdca26\"],[1.0,\"#f0f921\"]]}],\"surface\":[{\"type\":\"surface\",\"colorbar\":{\"outlinewidth\":0,\"ticks\":\"\"},\"colorscale\":[[0.0,\"#0d0887\"],[0.1111111111111111,\"#46039f\"],[0.2222222222222222,\"#7201a8\"],[0.3333333333333333,\"#9c179e\"],[0.4444444444444444,\"#bd3786\"],[0.5555555555555556,\"#d8576b\"],[0.6666666666666666,\"#ed7953\"],[0.7777777777777778,\"#fb9f3a\"],[0.8888888888888888,\"#fdca26\"],[1.0,\"#f0f921\"]]}],\"mesh3d\":[{\"type\":\"mesh3d\",\"colorbar\":{\"outlinewidth\":0,\"ticks\":\"\"}}],\"scatter\":[{\"fillpattern\":{\"fillmode\":\"overlay\",\"size\":10,\"solidity\":0.2},\"type\":\"scatter\"}],\"parcoords\":[{\"type\":\"parcoords\",\"line\":{\"colorbar\":{\"outlinewidth\":0,\"ticks\":\"\"}}}],\"scatterpolargl\":[{\"type\":\"scatterpolargl\",\"marker\":{\"colorbar\":{\"outlinewidth\":0,\"ticks\":\"\"}}}],\"bar\":[{\"error_x\":{\"color\":\"#2a3f5f\"},\"error_y\":{\"color\":\"#2a3f5f\"},\"marker\":{\"line\":{\"color\":\"#E5ECF6\",\"width\":0.5},\"pattern\":{\"fillmode\":\"overlay\",\"size\":10,\"solidity\":0.2}},\"type\":\"bar\"}],\"scattergeo\":[{\"type\":\"scattergeo\",\"marker\":{\"colorbar\":{\"outlinewidth\":0,\"ticks\":\"\"}}}],\"scatterpolar\":[{\"type\":\"scatterpolar\",\"marker\":{\"colorbar\":{\"outlinewidth\":0,\"ticks\":\"\"}}}],\"histogram\":[{\"marker\":{\"pattern\":{\"fillmode\":\"overlay\",\"size\":10,\"solidity\":0.2}},\"type\":\"histogram\"}],\"scattergl\":[{\"type\":\"scattergl\",\"marker\":{\"colorbar\":{\"outlinewidth\":0,\"ticks\":\"\"}}}],\"scatter3d\":[{\"type\":\"scatter3d\",\"line\":{\"colorbar\":{\"outlinewidth\":0,\"ticks\":\"\"}},\"marker\":{\"colorbar\":{\"outlinewidth\":0,\"ticks\":\"\"}}}],\"scattermapbox\":[{\"type\":\"scattermapbox\",\"marker\":{\"colorbar\":{\"outlinewidth\":0,\"ticks\":\"\"}}}],\"scatterternary\":[{\"type\":\"scatterternary\",\"marker\":{\"colorbar\":{\"outlinewidth\":0,\"ticks\":\"\"}}}],\"scattercarpet\":[{\"type\":\"scattercarpet\",\"marker\":{\"colorbar\":{\"outlinewidth\":0,\"ticks\":\"\"}}}],\"carpet\":[{\"aaxis\":{\"endlinecolor\":\"#2a3f5f\",\"gridcolor\":\"white\",\"linecolor\":\"white\",\"minorgridcolor\":\"white\",\"startlinecolor\":\"#2a3f5f\"},\"baxis\":{\"endlinecolor\":\"#2a3f5f\",\"gridcolor\":\"white\",\"linecolor\":\"white\",\"minorgridcolor\":\"white\",\"startlinecolor\":\"#2a3f5f\"},\"type\":\"carpet\"}],\"table\":[{\"cells\":{\"fill\":{\"color\":\"#EBF0F8\"},\"line\":{\"color\":\"white\"}},\"header\":{\"fill\":{\"color\":\"#C8D4E3\"},\"line\":{\"color\":\"white\"}},\"type\":\"table\"}],\"barpolar\":[{\"marker\":{\"line\":{\"color\":\"#E5ECF6\",\"width\":0.5},\"pattern\":{\"fillmode\":\"overlay\",\"size\":10,\"solidity\":0.2}},\"type\":\"barpolar\"}],\"pie\":[{\"automargin\":true,\"type\":\"pie\"}]},\"layout\":{\"autotypenumbers\":\"strict\",\"colorway\":[\"#636efa\",\"#EF553B\",\"#00cc96\",\"#ab63fa\",\"#FFA15A\",\"#19d3f3\",\"#FF6692\",\"#B6E880\",\"#FF97FF\",\"#FECB52\"],\"font\":{\"color\":\"#2a3f5f\"},\"hovermode\":\"closest\",\"hoverlabel\":{\"align\":\"left\"},\"paper_bgcolor\":\"white\",\"plot_bgcolor\":\"#E5ECF6\",\"polar\":{\"bgcolor\":\"#E5ECF6\",\"angularaxis\":{\"gridcolor\":\"white\",\"linecolor\":\"white\",\"ticks\":\"\"},\"radialaxis\":{\"gridcolor\":\"white\",\"linecolor\":\"white\",\"ticks\":\"\"}},\"ternary\":{\"bgcolor\":\"#E5ECF6\",\"aaxis\":{\"gridcolor\":\"white\",\"linecolor\":\"white\",\"ticks\":\"\"},\"baxis\":{\"gridcolor\":\"white\",\"linecolor\":\"white\",\"ticks\":\"\"},\"caxis\":{\"gridcolor\":\"white\",\"linecolor\":\"white\",\"ticks\":\"\"}},\"coloraxis\":{\"colorbar\":{\"outlinewidth\":0,\"ticks\":\"\"}},\"colorscale\":{\"sequential\":[[0.0,\"#0d0887\"],[0.1111111111111111,\"#46039f\"],[0.2222222222222222,\"#7201a8\"],[0.3333333333333333,\"#9c179e\"],[0.4444444444444444,\"#bd3786\"],[0.5555555555555556,\"#d8576b\"],[0.6666666666666666,\"#ed7953\"],[0.7777777777777778,\"#fb9f3a\"],[0.8888888888888888,\"#fdca26\"],[1.0,\"#f0f921\"]],\"sequentialminus\":[[0.0,\"#0d0887\"],[0.1111111111111111,\"#46039f\"],[0.2222222222222222,\"#7201a8\"],[0.3333333333333333,\"#9c179e\"],[0.4444444444444444,\"#bd3786\"],[0.5555555555555556,\"#d8576b\"],[0.6666666666666666,\"#ed7953\"],[0.7777777777777778,\"#fb9f3a\"],[0.8888888888888888,\"#fdca26\"],[1.0,\"#f0f921\"]],\"diverging\":[[0,\"#8e0152\"],[0.1,\"#c51b7d\"],[0.2,\"#de77ae\"],[0.3,\"#f1b6da\"],[0.4,\"#fde0ef\"],[0.5,\"#f7f7f7\"],[0.6,\"#e6f5d0\"],[0.7,\"#b8e186\"],[0.8,\"#7fbc41\"],[0.9,\"#4d9221\"],[1,\"#276419\"]]},\"xaxis\":{\"gridcolor\":\"white\",\"linecolor\":\"white\",\"ticks\":\"\",\"title\":{\"standoff\":15},\"zerolinecolor\":\"white\",\"automargin\":true,\"zerolinewidth\":2},\"yaxis\":{\"gridcolor\":\"white\",\"linecolor\":\"white\",\"ticks\":\"\",\"title\":{\"standoff\":15},\"zerolinecolor\":\"white\",\"automargin\":true,\"zerolinewidth\":2},\"scene\":{\"xaxis\":{\"backgroundcolor\":\"#E5ECF6\",\"gridcolor\":\"white\",\"linecolor\":\"white\",\"showbackground\":true,\"ticks\":\"\",\"zerolinecolor\":\"white\",\"gridwidth\":2},\"yaxis\":{\"backgroundcolor\":\"#E5ECF6\",\"gridcolor\":\"white\",\"linecolor\":\"white\",\"showbackground\":true,\"ticks\":\"\",\"zerolinecolor\":\"white\",\"gridwidth\":2},\"zaxis\":{\"backgroundcolor\":\"#E5ECF6\",\"gridcolor\":\"white\",\"linecolor\":\"white\",\"showbackground\":true,\"ticks\":\"\",\"zerolinecolor\":\"white\",\"gridwidth\":2}},\"shapedefaults\":{\"line\":{\"color\":\"#2a3f5f\"}},\"annotationdefaults\":{\"arrowcolor\":\"#2a3f5f\",\"arrowhead\":0,\"arrowwidth\":1},\"geo\":{\"bgcolor\":\"white\",\"landcolor\":\"#E5ECF6\",\"subunitcolor\":\"white\",\"showland\":true,\"showlakes\":true,\"lakecolor\":\"white\"},\"title\":{\"x\":0.05},\"mapbox\":{\"style\":\"light\"}}}},                        {\"responsive\": true}                    ).then(function(){\n                            \nvar gd = document.getElementById('9b8a2fdf-e839-48ef-b207-48d172969fc4');\nvar x = new MutationObserver(function (mutations, observer) {{\n        var display = window.getComputedStyle(gd).display;\n        if (!display || display === 'none') {{\n            console.log([gd, 'removed!']);\n            Plotly.purge(gd);\n            observer.disconnect();\n        }}\n}});\n\n// Listen for the removal of the full notebook cells\nvar notebookContainer = gd.closest('#notebook-container');\nif (notebookContainer) {{\n    x.observe(notebookContainer, {childList: true});\n}}\n\n// Listen for the clearing of the current output cell\nvar outputEl = gd.closest('.output');\nif (outputEl) {{\n    x.observe(outputEl, {childList: true});\n}}\n\n                        })                };                });            </script>        </div>"
     },
     "metadata": {},
     "output_type": "display_data"
    }
   ],
   "source": [
    "import pandas as pd\n",
    "import plotly.graph_objs as go\n",
    "from math import pi, sin\n",
    "from sklearn.preprocessing import QuantileTransformer\n",
    "\n",
    "# Assuming df_solutions is your original DataFrame with the data\n",
    "selected_columns = ['algorithm_name', 'num_layers', 'bottleneck_size', 'complexity', 'fitness', 'error']\n",
    "df_selected = df_solutions[selected_columns]\n",
    "# Rename bottleneck_size to bottleneck size and num_layers to num layers\n",
    "df_selected.rename(columns={'bottleneck_size': 'bottleneck size', 'num_layers': 'num layers'}, inplace=True)\n",
    "\n",
    "# Calculating the average values for each category grouped by 'algorithm_name'\n",
    "average_values = df_selected.groupby('algorithm_name').mean().reset_index()\n",
    "\n",
    "# Transform the data for radar chart plotting using percentile scaling\n",
    "categories = average_values.columns[1:]  # Exclude the algorithm_name column from categories\n",
    "\n",
    "# Apply percentile scaling\n",
    "quantile_transformer = QuantileTransformer(output_distribution='uniform', n_quantiles=5, random_state=0)\n",
    "scaled_values = quantile_transformer.fit_transform(average_values[categories])\n",
    "scaled_df = pd.DataFrame(scaled_values, columns=categories)\n",
    "scaled_df['algorithm_name'] = average_values['algorithm_name']\n",
    "\n",
    "# Invert the scaled values since lower is better\n",
    "for category in categories:\n",
    "    scaled_df[category] = 1 - scaled_df[category]\n",
    "\n",
    "# List of available dash styles for differentiation\n",
    "dash_styles = ['solid', 'dot', 'dash', 'longdash', 'dashdot']\n",
    "\n",
    "# Assign a different dash style to each algorithm\n",
    "unique_algorithms = scaled_df['algorithm_name'].unique()\n",
    "line_styles = {alg: {'dash': dash_styles[i % len(dash_styles)]} for i, alg in enumerate(unique_algorithms)}\n",
    "\n",
    "# Function to calculate the area of the polygon formed on the radar chart\n",
    "def calculate_polygon_area(r_values, num_vars):\n",
    "    angle = (2 * pi) / num_vars\n",
    "    sin_half_angle = sin(angle / 2)\n",
    "    area = 0.0\n",
    "    for i in range(num_vars):\n",
    "        area += (r_values[i] * r_values[(i + 1) % num_vars] * sin_half_angle) / 2\n",
    "    return area\n",
    "\n",
    "# Calculate the areas and prepare the data for the radar chart\n",
    "data = []\n",
    "areas = {}\n",
    "num_vars = len(categories)\n",
    "for i, row in scaled_df.iterrows():\n",
    "    algorithm_name = row['algorithm_name']\n",
    "    r_values = row[categories].tolist()\n",
    "    r_values.append(r_values[0])  # Ensure the shape is closed by appending the first value at the end\n",
    "    # Calculate the area of the polygon\n",
    "    area = calculate_polygon_area(r_values, num_vars)\n",
    "    areas[algorithm_name] = area\n",
    "    \n",
    "    data.append(go.Scatterpolar(\n",
    "        r=r_values,\n",
    "        theta=categories.tolist() + [categories.tolist()[0]],  # Ensure the shape is closed by appending the first category at the end\n",
    "        fill='none',\n",
    "        name=f\"{algorithm_name} (Area: {area:.2f})\",  # Include area in the legend\n",
    "        line=line_styles[algorithm_name]\n",
    "    ))\n",
    "\n",
    "# Sort the algorithms by the calculated areas and update the legend accordingly\n",
    "sorted_algorithms = sorted(areas.items(), key=lambda x: x[1], reverse=True)\n",
    "for i, (alg, area) in enumerate(sorted_algorithms):\n",
    "    data[i]['name'] = f\"{alg} (Area: {area:.2f})\"\n",
    "\n",
    "# Define the layout of the chart\n",
    "layout = go.Layout(\n",
    "    polar=dict(\n",
    "        radialaxis=dict(\n",
    "            visible=True,\n",
    "            range=[0, 1]\n",
    "        )\n",
    "    ),\n",
    "    showlegend=True\n",
    ")\n",
    "\n",
    "# Create the figure and display it\n",
    "fig = go.Figure(data=data, layout=layout)\n",
    "fig.show()\n",
    "fig.write_image(\"plot_radar.svg\")\n",
    "\n"
   ],
   "metadata": {
    "collapsed": false,
    "ExecuteTime": {
     "end_time": "2024-05-02T15:35:09.702964200Z",
     "start_time": "2024-05-02T15:35:09.206376800Z"
    }
   },
   "id": "d2f0ca74c698e7f1"
  },
  {
   "cell_type": "code",
   "execution_count": 22,
   "outputs": [
    {
     "data": {
      "text/plain": "optimizer\nASGD       1872.752137\nAdagrad    1874.086420\nAdam       1988.100457\nRAdam      1888.920398\nRPROP       970.893443\nSGD        1948.567686\nName: fitness, dtype: float64"
     },
     "execution_count": 22,
     "metadata": {},
     "output_type": "execute_result"
    }
   ],
   "source": [
    "df_solutions.groupby('optimizer')['fitness'].mean()"
   ],
   "metadata": {
    "collapsed": false,
    "ExecuteTime": {
     "end_time": "2024-05-02T15:35:09.724058700Z",
     "start_time": "2024-05-02T15:35:09.702964200Z"
    }
   },
   "id": "7acd343a49f97868"
  },
  {
   "cell_type": "code",
   "execution_count": 23,
   "outputs": [
    {
     "data": {
      "application/vnd.plotly.v1+json": {
       "data": [
        {
         "alignmentgroup": "True",
         "hovertemplate": "optimizer:=ASGD<br>Activation Function=%{x}<br>average fitness=%{y}<extra></extra>",
         "legendgroup": "ASGD",
         "marker": {
          "color": "#636efa",
          "pattern": {
           "shape": ""
          }
         },
         "name": "ASGD",
         "offsetgroup": "ASGD",
         "orientation": "v",
         "showlegend": true,
         "textposition": "auto",
         "x": [
          "CELU",
          "ELU",
          "GELU",
          "Leaky RELU",
          "RELU",
          "RRELU",
          "SELU",
          "TANH"
         ],
         "xaxis": "x",
         "y": [
          1804.3142857142857,
          1788.448275862069,
          2291.5,
          2283.0,
          1873.357142857143,
          2092.3611111111113,
          1464.05,
          1800.4634146341464
         ],
         "yaxis": "y",
         "type": "bar"
        },
        {
         "alignmentgroup": "True",
         "hovertemplate": "optimizer:=Adagrad<br>Activation Function=%{x}<br>average fitness=%{y}<extra></extra>",
         "legendgroup": "Adagrad",
         "marker": {
          "color": "#EF553B",
          "pattern": {
           "shape": ""
          }
         },
         "name": "Adagrad",
         "offsetgroup": "Adagrad",
         "orientation": "v",
         "showlegend": true,
         "textposition": "auto",
         "x": [
          "CELU",
          "ELU",
          "GELU",
          "Leaky RELU",
          "RELU",
          "RRELU",
          "SELU",
          "TANH"
         ],
         "xaxis": "x",
         "y": [
          1661.9473684210527,
          1797.5641025641025,
          2227.7,
          2303.3333333333335,
          2051.25,
          2235.090909090909,
          1431.7575757575758,
          1738.6829268292684
         ],
         "yaxis": "y",
         "type": "bar"
        },
        {
         "alignmentgroup": "True",
         "hovertemplate": "optimizer:=Adam<br>Activation Function=%{x}<br>average fitness=%{y}<extra></extra>",
         "legendgroup": "Adam",
         "marker": {
          "color": "#00cc96",
          "pattern": {
           "shape": ""
          }
         },
         "name": "Adam",
         "offsetgroup": "Adam",
         "orientation": "v",
         "showlegend": true,
         "textposition": "auto",
         "x": [
          "CELU",
          "ELU",
          "GELU",
          "Leaky RELU",
          "RELU",
          "RRELU",
          "SELU",
          "TANH"
         ],
         "xaxis": "x",
         "y": [
          1826.4285714285713,
          1877.5925925925926,
          2409.75,
          2115.5333333333333,
          2106.5,
          2489.108108108108,
          1369.344827586207,
          1853.025
         ],
         "yaxis": "y",
         "type": "bar"
        },
        {
         "alignmentgroup": "True",
         "hovertemplate": "optimizer:=RAdam<br>Activation Function=%{x}<br>average fitness=%{y}<extra></extra>",
         "legendgroup": "RAdam",
         "marker": {
          "color": "#ab63fa",
          "pattern": {
           "shape": ""
          }
         },
         "name": "RAdam",
         "offsetgroup": "RAdam",
         "orientation": "v",
         "showlegend": true,
         "textposition": "auto",
         "x": [
          "CELU",
          "ELU",
          "GELU",
          "Leaky RELU",
          "RELU",
          "RRELU",
          "SELU",
          "TANH"
         ],
         "xaxis": "x",
         "y": [
          1909.6363636363637,
          1779.5833333333333,
          2271.6666666666665,
          2074.1666666666665,
          2039.6,
          2372.625,
          1447.3684210526317,
          1807.9375
         ],
         "yaxis": "y",
         "type": "bar"
        },
        {
         "alignmentgroup": "True",
         "hovertemplate": "optimizer:=RPROP<br>Activation Function=%{x}<br>average fitness=%{y}<extra></extra>",
         "legendgroup": "RPROP",
         "marker": {
          "color": "#FFA15A",
          "pattern": {
           "shape": ""
          }
         },
         "name": "RPROP",
         "offsetgroup": "RPROP",
         "orientation": "v",
         "showlegend": true,
         "textposition": "auto",
         "x": [
          "CELU",
          "ELU",
          "GELU",
          "Leaky RELU",
          "RELU",
          "RRELU",
          "SELU",
          "TANH"
         ],
         "xaxis": "x",
         "y": [
          968.4814814814815,
          952.72,
          1331.483870967742,
          926.6315789473684,
          1238.0967741935483,
          991.5588235294117,
          914.4,
          389.89285714285717
         ],
         "yaxis": "y",
         "type": "bar"
        },
        {
         "alignmentgroup": "True",
         "hovertemplate": "optimizer:=SGD<br>Activation Function=%{x}<br>average fitness=%{y}<extra></extra>",
         "legendgroup": "SGD",
         "marker": {
          "color": "#19d3f3",
          "pattern": {
           "shape": ""
          }
         },
         "name": "SGD",
         "offsetgroup": "SGD",
         "orientation": "v",
         "showlegend": true,
         "textposition": "auto",
         "x": [
          "CELU",
          "ELU",
          "GELU",
          "Leaky RELU",
          "RELU",
          "RRELU",
          "SELU",
          "TANH"
         ],
         "xaxis": "x",
         "y": [
          1707.9444444444443,
          1968.6774193548388,
          2479.3,
          1939.8235294117646,
          1888.0,
          2341.5833333333335,
          1402.375,
          1839.3125
         ],
         "yaxis": "y",
         "type": "bar"
        }
       ],
       "layout": {
        "template": {
         "data": {
          "histogram2dcontour": [
           {
            "type": "histogram2dcontour",
            "colorbar": {
             "outlinewidth": 0,
             "ticks": ""
            },
            "colorscale": [
             [
              0.0,
              "#0d0887"
             ],
             [
              0.1111111111111111,
              "#46039f"
             ],
             [
              0.2222222222222222,
              "#7201a8"
             ],
             [
              0.3333333333333333,
              "#9c179e"
             ],
             [
              0.4444444444444444,
              "#bd3786"
             ],
             [
              0.5555555555555556,
              "#d8576b"
             ],
             [
              0.6666666666666666,
              "#ed7953"
             ],
             [
              0.7777777777777778,
              "#fb9f3a"
             ],
             [
              0.8888888888888888,
              "#fdca26"
             ],
             [
              1.0,
              "#f0f921"
             ]
            ]
           }
          ],
          "choropleth": [
           {
            "type": "choropleth",
            "colorbar": {
             "outlinewidth": 0,
             "ticks": ""
            }
           }
          ],
          "histogram2d": [
           {
            "type": "histogram2d",
            "colorbar": {
             "outlinewidth": 0,
             "ticks": ""
            },
            "colorscale": [
             [
              0.0,
              "#0d0887"
             ],
             [
              0.1111111111111111,
              "#46039f"
             ],
             [
              0.2222222222222222,
              "#7201a8"
             ],
             [
              0.3333333333333333,
              "#9c179e"
             ],
             [
              0.4444444444444444,
              "#bd3786"
             ],
             [
              0.5555555555555556,
              "#d8576b"
             ],
             [
              0.6666666666666666,
              "#ed7953"
             ],
             [
              0.7777777777777778,
              "#fb9f3a"
             ],
             [
              0.8888888888888888,
              "#fdca26"
             ],
             [
              1.0,
              "#f0f921"
             ]
            ]
           }
          ],
          "heatmap": [
           {
            "type": "heatmap",
            "colorbar": {
             "outlinewidth": 0,
             "ticks": ""
            },
            "colorscale": [
             [
              0.0,
              "#0d0887"
             ],
             [
              0.1111111111111111,
              "#46039f"
             ],
             [
              0.2222222222222222,
              "#7201a8"
             ],
             [
              0.3333333333333333,
              "#9c179e"
             ],
             [
              0.4444444444444444,
              "#bd3786"
             ],
             [
              0.5555555555555556,
              "#d8576b"
             ],
             [
              0.6666666666666666,
              "#ed7953"
             ],
             [
              0.7777777777777778,
              "#fb9f3a"
             ],
             [
              0.8888888888888888,
              "#fdca26"
             ],
             [
              1.0,
              "#f0f921"
             ]
            ]
           }
          ],
          "heatmapgl": [
           {
            "type": "heatmapgl",
            "colorbar": {
             "outlinewidth": 0,
             "ticks": ""
            },
            "colorscale": [
             [
              0.0,
              "#0d0887"
             ],
             [
              0.1111111111111111,
              "#46039f"
             ],
             [
              0.2222222222222222,
              "#7201a8"
             ],
             [
              0.3333333333333333,
              "#9c179e"
             ],
             [
              0.4444444444444444,
              "#bd3786"
             ],
             [
              0.5555555555555556,
              "#d8576b"
             ],
             [
              0.6666666666666666,
              "#ed7953"
             ],
             [
              0.7777777777777778,
              "#fb9f3a"
             ],
             [
              0.8888888888888888,
              "#fdca26"
             ],
             [
              1.0,
              "#f0f921"
             ]
            ]
           }
          ],
          "contourcarpet": [
           {
            "type": "contourcarpet",
            "colorbar": {
             "outlinewidth": 0,
             "ticks": ""
            }
           }
          ],
          "contour": [
           {
            "type": "contour",
            "colorbar": {
             "outlinewidth": 0,
             "ticks": ""
            },
            "colorscale": [
             [
              0.0,
              "#0d0887"
             ],
             [
              0.1111111111111111,
              "#46039f"
             ],
             [
              0.2222222222222222,
              "#7201a8"
             ],
             [
              0.3333333333333333,
              "#9c179e"
             ],
             [
              0.4444444444444444,
              "#bd3786"
             ],
             [
              0.5555555555555556,
              "#d8576b"
             ],
             [
              0.6666666666666666,
              "#ed7953"
             ],
             [
              0.7777777777777778,
              "#fb9f3a"
             ],
             [
              0.8888888888888888,
              "#fdca26"
             ],
             [
              1.0,
              "#f0f921"
             ]
            ]
           }
          ],
          "surface": [
           {
            "type": "surface",
            "colorbar": {
             "outlinewidth": 0,
             "ticks": ""
            },
            "colorscale": [
             [
              0.0,
              "#0d0887"
             ],
             [
              0.1111111111111111,
              "#46039f"
             ],
             [
              0.2222222222222222,
              "#7201a8"
             ],
             [
              0.3333333333333333,
              "#9c179e"
             ],
             [
              0.4444444444444444,
              "#bd3786"
             ],
             [
              0.5555555555555556,
              "#d8576b"
             ],
             [
              0.6666666666666666,
              "#ed7953"
             ],
             [
              0.7777777777777778,
              "#fb9f3a"
             ],
             [
              0.8888888888888888,
              "#fdca26"
             ],
             [
              1.0,
              "#f0f921"
             ]
            ]
           }
          ],
          "mesh3d": [
           {
            "type": "mesh3d",
            "colorbar": {
             "outlinewidth": 0,
             "ticks": ""
            }
           }
          ],
          "scatter": [
           {
            "fillpattern": {
             "fillmode": "overlay",
             "size": 10,
             "solidity": 0.2
            },
            "type": "scatter"
           }
          ],
          "parcoords": [
           {
            "type": "parcoords",
            "line": {
             "colorbar": {
              "outlinewidth": 0,
              "ticks": ""
             }
            }
           }
          ],
          "scatterpolargl": [
           {
            "type": "scatterpolargl",
            "marker": {
             "colorbar": {
              "outlinewidth": 0,
              "ticks": ""
             }
            }
           }
          ],
          "bar": [
           {
            "error_x": {
             "color": "#2a3f5f"
            },
            "error_y": {
             "color": "#2a3f5f"
            },
            "marker": {
             "line": {
              "color": "#E5ECF6",
              "width": 0.5
             },
             "pattern": {
              "fillmode": "overlay",
              "size": 10,
              "solidity": 0.2
             }
            },
            "type": "bar"
           }
          ],
          "scattergeo": [
           {
            "type": "scattergeo",
            "marker": {
             "colorbar": {
              "outlinewidth": 0,
              "ticks": ""
             }
            }
           }
          ],
          "scatterpolar": [
           {
            "type": "scatterpolar",
            "marker": {
             "colorbar": {
              "outlinewidth": 0,
              "ticks": ""
             }
            }
           }
          ],
          "histogram": [
           {
            "marker": {
             "pattern": {
              "fillmode": "overlay",
              "size": 10,
              "solidity": 0.2
             }
            },
            "type": "histogram"
           }
          ],
          "scattergl": [
           {
            "type": "scattergl",
            "marker": {
             "colorbar": {
              "outlinewidth": 0,
              "ticks": ""
             }
            }
           }
          ],
          "scatter3d": [
           {
            "type": "scatter3d",
            "line": {
             "colorbar": {
              "outlinewidth": 0,
              "ticks": ""
             }
            },
            "marker": {
             "colorbar": {
              "outlinewidth": 0,
              "ticks": ""
             }
            }
           }
          ],
          "scattermapbox": [
           {
            "type": "scattermapbox",
            "marker": {
             "colorbar": {
              "outlinewidth": 0,
              "ticks": ""
             }
            }
           }
          ],
          "scatterternary": [
           {
            "type": "scatterternary",
            "marker": {
             "colorbar": {
              "outlinewidth": 0,
              "ticks": ""
             }
            }
           }
          ],
          "scattercarpet": [
           {
            "type": "scattercarpet",
            "marker": {
             "colorbar": {
              "outlinewidth": 0,
              "ticks": ""
             }
            }
           }
          ],
          "carpet": [
           {
            "aaxis": {
             "endlinecolor": "#2a3f5f",
             "gridcolor": "white",
             "linecolor": "white",
             "minorgridcolor": "white",
             "startlinecolor": "#2a3f5f"
            },
            "baxis": {
             "endlinecolor": "#2a3f5f",
             "gridcolor": "white",
             "linecolor": "white",
             "minorgridcolor": "white",
             "startlinecolor": "#2a3f5f"
            },
            "type": "carpet"
           }
          ],
          "table": [
           {
            "cells": {
             "fill": {
              "color": "#EBF0F8"
             },
             "line": {
              "color": "white"
             }
            },
            "header": {
             "fill": {
              "color": "#C8D4E3"
             },
             "line": {
              "color": "white"
             }
            },
            "type": "table"
           }
          ],
          "barpolar": [
           {
            "marker": {
             "line": {
              "color": "#E5ECF6",
              "width": 0.5
             },
             "pattern": {
              "fillmode": "overlay",
              "size": 10,
              "solidity": 0.2
             }
            },
            "type": "barpolar"
           }
          ],
          "pie": [
           {
            "automargin": true,
            "type": "pie"
           }
          ]
         },
         "layout": {
          "autotypenumbers": "strict",
          "colorway": [
           "#636efa",
           "#EF553B",
           "#00cc96",
           "#ab63fa",
           "#FFA15A",
           "#19d3f3",
           "#FF6692",
           "#B6E880",
           "#FF97FF",
           "#FECB52"
          ],
          "font": {
           "color": "#2a3f5f"
          },
          "hovermode": "closest",
          "hoverlabel": {
           "align": "left"
          },
          "paper_bgcolor": "white",
          "plot_bgcolor": "#E5ECF6",
          "polar": {
           "bgcolor": "#E5ECF6",
           "angularaxis": {
            "gridcolor": "white",
            "linecolor": "white",
            "ticks": ""
           },
           "radialaxis": {
            "gridcolor": "white",
            "linecolor": "white",
            "ticks": ""
           }
          },
          "ternary": {
           "bgcolor": "#E5ECF6",
           "aaxis": {
            "gridcolor": "white",
            "linecolor": "white",
            "ticks": ""
           },
           "baxis": {
            "gridcolor": "white",
            "linecolor": "white",
            "ticks": ""
           },
           "caxis": {
            "gridcolor": "white",
            "linecolor": "white",
            "ticks": ""
           }
          },
          "coloraxis": {
           "colorbar": {
            "outlinewidth": 0,
            "ticks": ""
           }
          },
          "colorscale": {
           "sequential": [
            [
             0.0,
             "#0d0887"
            ],
            [
             0.1111111111111111,
             "#46039f"
            ],
            [
             0.2222222222222222,
             "#7201a8"
            ],
            [
             0.3333333333333333,
             "#9c179e"
            ],
            [
             0.4444444444444444,
             "#bd3786"
            ],
            [
             0.5555555555555556,
             "#d8576b"
            ],
            [
             0.6666666666666666,
             "#ed7953"
            ],
            [
             0.7777777777777778,
             "#fb9f3a"
            ],
            [
             0.8888888888888888,
             "#fdca26"
            ],
            [
             1.0,
             "#f0f921"
            ]
           ],
           "sequentialminus": [
            [
             0.0,
             "#0d0887"
            ],
            [
             0.1111111111111111,
             "#46039f"
            ],
            [
             0.2222222222222222,
             "#7201a8"
            ],
            [
             0.3333333333333333,
             "#9c179e"
            ],
            [
             0.4444444444444444,
             "#bd3786"
            ],
            [
             0.5555555555555556,
             "#d8576b"
            ],
            [
             0.6666666666666666,
             "#ed7953"
            ],
            [
             0.7777777777777778,
             "#fb9f3a"
            ],
            [
             0.8888888888888888,
             "#fdca26"
            ],
            [
             1.0,
             "#f0f921"
            ]
           ],
           "diverging": [
            [
             0,
             "#8e0152"
            ],
            [
             0.1,
             "#c51b7d"
            ],
            [
             0.2,
             "#de77ae"
            ],
            [
             0.3,
             "#f1b6da"
            ],
            [
             0.4,
             "#fde0ef"
            ],
            [
             0.5,
             "#f7f7f7"
            ],
            [
             0.6,
             "#e6f5d0"
            ],
            [
             0.7,
             "#b8e186"
            ],
            [
             0.8,
             "#7fbc41"
            ],
            [
             0.9,
             "#4d9221"
            ],
            [
             1,
             "#276419"
            ]
           ]
          },
          "xaxis": {
           "gridcolor": "white",
           "linecolor": "white",
           "ticks": "",
           "title": {
            "standoff": 15
           },
           "zerolinecolor": "white",
           "automargin": true,
           "zerolinewidth": 2
          },
          "yaxis": {
           "gridcolor": "white",
           "linecolor": "white",
           "ticks": "",
           "title": {
            "standoff": 15
           },
           "zerolinecolor": "white",
           "automargin": true,
           "zerolinewidth": 2
          },
          "scene": {
           "xaxis": {
            "backgroundcolor": "#E5ECF6",
            "gridcolor": "white",
            "linecolor": "white",
            "showbackground": true,
            "ticks": "",
            "zerolinecolor": "white",
            "gridwidth": 2
           },
           "yaxis": {
            "backgroundcolor": "#E5ECF6",
            "gridcolor": "white",
            "linecolor": "white",
            "showbackground": true,
            "ticks": "",
            "zerolinecolor": "white",
            "gridwidth": 2
           },
           "zaxis": {
            "backgroundcolor": "#E5ECF6",
            "gridcolor": "white",
            "linecolor": "white",
            "showbackground": true,
            "ticks": "",
            "zerolinecolor": "white",
            "gridwidth": 2
           }
          },
          "shapedefaults": {
           "line": {
            "color": "#2a3f5f"
           }
          },
          "annotationdefaults": {
           "arrowcolor": "#2a3f5f",
           "arrowhead": 0,
           "arrowwidth": 1
          },
          "geo": {
           "bgcolor": "white",
           "landcolor": "#E5ECF6",
           "subunitcolor": "white",
           "showland": true,
           "showlakes": true,
           "lakecolor": "white"
          },
          "title": {
           "x": 0.05
          },
          "mapbox": {
           "style": "light"
          }
         }
        },
        "xaxis": {
         "anchor": "y",
         "domain": [
          0.0,
          1.0
         ],
         "title": {
          "text": "Activation Function"
         }
        },
        "yaxis": {
         "anchor": "x",
         "domain": [
          0.0,
          1.0
         ],
         "title": {
          "text": "average fitness"
         }
        },
        "legend": {
         "title": {
          "text": "optimizer:"
         },
         "tracegroupgap": 0,
         "orientation": "h",
         "yanchor": "bottom",
         "y": 1,
         "xanchor": "center",
         "x": 0.5
        },
        "margin": {
         "t": 60
        },
        "barmode": "group",
        "autosize": false,
        "width": 1600,
        "height": 450
       },
       "config": {
        "plotlyServerURL": "https://plot.ly"
       }
      },
      "text/html": "<div>                            <div id=\"9fbc7bbc-550a-44e5-9753-8c3b41901d7a\" class=\"plotly-graph-div\" style=\"height:450px; width:1600px;\"></div>            <script type=\"text/javascript\">                require([\"plotly\"], function(Plotly) {                    window.PLOTLYENV=window.PLOTLYENV || {};                                    if (document.getElementById(\"9fbc7bbc-550a-44e5-9753-8c3b41901d7a\")) {                    Plotly.newPlot(                        \"9fbc7bbc-550a-44e5-9753-8c3b41901d7a\",                        [{\"alignmentgroup\":\"True\",\"hovertemplate\":\"optimizer:=ASGD\\u003cbr\\u003eActivation Function=%{x}\\u003cbr\\u003eaverage fitness=%{y}\\u003cextra\\u003e\\u003c\\u002fextra\\u003e\",\"legendgroup\":\"ASGD\",\"marker\":{\"color\":\"#636efa\",\"pattern\":{\"shape\":\"\"}},\"name\":\"ASGD\",\"offsetgroup\":\"ASGD\",\"orientation\":\"v\",\"showlegend\":true,\"textposition\":\"auto\",\"x\":[\"CELU\",\"ELU\",\"GELU\",\"Leaky RELU\",\"RELU\",\"RRELU\",\"SELU\",\"TANH\"],\"xaxis\":\"x\",\"y\":[1804.3142857142857,1788.448275862069,2291.5,2283.0,1873.357142857143,2092.3611111111113,1464.05,1800.4634146341464],\"yaxis\":\"y\",\"type\":\"bar\"},{\"alignmentgroup\":\"True\",\"hovertemplate\":\"optimizer:=Adagrad\\u003cbr\\u003eActivation Function=%{x}\\u003cbr\\u003eaverage fitness=%{y}\\u003cextra\\u003e\\u003c\\u002fextra\\u003e\",\"legendgroup\":\"Adagrad\",\"marker\":{\"color\":\"#EF553B\",\"pattern\":{\"shape\":\"\"}},\"name\":\"Adagrad\",\"offsetgroup\":\"Adagrad\",\"orientation\":\"v\",\"showlegend\":true,\"textposition\":\"auto\",\"x\":[\"CELU\",\"ELU\",\"GELU\",\"Leaky RELU\",\"RELU\",\"RRELU\",\"SELU\",\"TANH\"],\"xaxis\":\"x\",\"y\":[1661.9473684210527,1797.5641025641025,2227.7,2303.3333333333335,2051.25,2235.090909090909,1431.7575757575758,1738.6829268292684],\"yaxis\":\"y\",\"type\":\"bar\"},{\"alignmentgroup\":\"True\",\"hovertemplate\":\"optimizer:=Adam\\u003cbr\\u003eActivation Function=%{x}\\u003cbr\\u003eaverage fitness=%{y}\\u003cextra\\u003e\\u003c\\u002fextra\\u003e\",\"legendgroup\":\"Adam\",\"marker\":{\"color\":\"#00cc96\",\"pattern\":{\"shape\":\"\"}},\"name\":\"Adam\",\"offsetgroup\":\"Adam\",\"orientation\":\"v\",\"showlegend\":true,\"textposition\":\"auto\",\"x\":[\"CELU\",\"ELU\",\"GELU\",\"Leaky RELU\",\"RELU\",\"RRELU\",\"SELU\",\"TANH\"],\"xaxis\":\"x\",\"y\":[1826.4285714285713,1877.5925925925926,2409.75,2115.5333333333333,2106.5,2489.108108108108,1369.344827586207,1853.025],\"yaxis\":\"y\",\"type\":\"bar\"},{\"alignmentgroup\":\"True\",\"hovertemplate\":\"optimizer:=RAdam\\u003cbr\\u003eActivation Function=%{x}\\u003cbr\\u003eaverage fitness=%{y}\\u003cextra\\u003e\\u003c\\u002fextra\\u003e\",\"legendgroup\":\"RAdam\",\"marker\":{\"color\":\"#ab63fa\",\"pattern\":{\"shape\":\"\"}},\"name\":\"RAdam\",\"offsetgroup\":\"RAdam\",\"orientation\":\"v\",\"showlegend\":true,\"textposition\":\"auto\",\"x\":[\"CELU\",\"ELU\",\"GELU\",\"Leaky RELU\",\"RELU\",\"RRELU\",\"SELU\",\"TANH\"],\"xaxis\":\"x\",\"y\":[1909.6363636363637,1779.5833333333333,2271.6666666666665,2074.1666666666665,2039.6,2372.625,1447.3684210526317,1807.9375],\"yaxis\":\"y\",\"type\":\"bar\"},{\"alignmentgroup\":\"True\",\"hovertemplate\":\"optimizer:=RPROP\\u003cbr\\u003eActivation Function=%{x}\\u003cbr\\u003eaverage fitness=%{y}\\u003cextra\\u003e\\u003c\\u002fextra\\u003e\",\"legendgroup\":\"RPROP\",\"marker\":{\"color\":\"#FFA15A\",\"pattern\":{\"shape\":\"\"}},\"name\":\"RPROP\",\"offsetgroup\":\"RPROP\",\"orientation\":\"v\",\"showlegend\":true,\"textposition\":\"auto\",\"x\":[\"CELU\",\"ELU\",\"GELU\",\"Leaky RELU\",\"RELU\",\"RRELU\",\"SELU\",\"TANH\"],\"xaxis\":\"x\",\"y\":[968.4814814814815,952.72,1331.483870967742,926.6315789473684,1238.0967741935483,991.5588235294117,914.4,389.89285714285717],\"yaxis\":\"y\",\"type\":\"bar\"},{\"alignmentgroup\":\"True\",\"hovertemplate\":\"optimizer:=SGD\\u003cbr\\u003eActivation Function=%{x}\\u003cbr\\u003eaverage fitness=%{y}\\u003cextra\\u003e\\u003c\\u002fextra\\u003e\",\"legendgroup\":\"SGD\",\"marker\":{\"color\":\"#19d3f3\",\"pattern\":{\"shape\":\"\"}},\"name\":\"SGD\",\"offsetgroup\":\"SGD\",\"orientation\":\"v\",\"showlegend\":true,\"textposition\":\"auto\",\"x\":[\"CELU\",\"ELU\",\"GELU\",\"Leaky RELU\",\"RELU\",\"RRELU\",\"SELU\",\"TANH\"],\"xaxis\":\"x\",\"y\":[1707.9444444444443,1968.6774193548388,2479.3,1939.8235294117646,1888.0,2341.5833333333335,1402.375,1839.3125],\"yaxis\":\"y\",\"type\":\"bar\"}],                        {\"template\":{\"data\":{\"histogram2dcontour\":[{\"type\":\"histogram2dcontour\",\"colorbar\":{\"outlinewidth\":0,\"ticks\":\"\"},\"colorscale\":[[0.0,\"#0d0887\"],[0.1111111111111111,\"#46039f\"],[0.2222222222222222,\"#7201a8\"],[0.3333333333333333,\"#9c179e\"],[0.4444444444444444,\"#bd3786\"],[0.5555555555555556,\"#d8576b\"],[0.6666666666666666,\"#ed7953\"],[0.7777777777777778,\"#fb9f3a\"],[0.8888888888888888,\"#fdca26\"],[1.0,\"#f0f921\"]]}],\"choropleth\":[{\"type\":\"choropleth\",\"colorbar\":{\"outlinewidth\":0,\"ticks\":\"\"}}],\"histogram2d\":[{\"type\":\"histogram2d\",\"colorbar\":{\"outlinewidth\":0,\"ticks\":\"\"},\"colorscale\":[[0.0,\"#0d0887\"],[0.1111111111111111,\"#46039f\"],[0.2222222222222222,\"#7201a8\"],[0.3333333333333333,\"#9c179e\"],[0.4444444444444444,\"#bd3786\"],[0.5555555555555556,\"#d8576b\"],[0.6666666666666666,\"#ed7953\"],[0.7777777777777778,\"#fb9f3a\"],[0.8888888888888888,\"#fdca26\"],[1.0,\"#f0f921\"]]}],\"heatmap\":[{\"type\":\"heatmap\",\"colorbar\":{\"outlinewidth\":0,\"ticks\":\"\"},\"colorscale\":[[0.0,\"#0d0887\"],[0.1111111111111111,\"#46039f\"],[0.2222222222222222,\"#7201a8\"],[0.3333333333333333,\"#9c179e\"],[0.4444444444444444,\"#bd3786\"],[0.5555555555555556,\"#d8576b\"],[0.6666666666666666,\"#ed7953\"],[0.7777777777777778,\"#fb9f3a\"],[0.8888888888888888,\"#fdca26\"],[1.0,\"#f0f921\"]]}],\"heatmapgl\":[{\"type\":\"heatmapgl\",\"colorbar\":{\"outlinewidth\":0,\"ticks\":\"\"},\"colorscale\":[[0.0,\"#0d0887\"],[0.1111111111111111,\"#46039f\"],[0.2222222222222222,\"#7201a8\"],[0.3333333333333333,\"#9c179e\"],[0.4444444444444444,\"#bd3786\"],[0.5555555555555556,\"#d8576b\"],[0.6666666666666666,\"#ed7953\"],[0.7777777777777778,\"#fb9f3a\"],[0.8888888888888888,\"#fdca26\"],[1.0,\"#f0f921\"]]}],\"contourcarpet\":[{\"type\":\"contourcarpet\",\"colorbar\":{\"outlinewidth\":0,\"ticks\":\"\"}}],\"contour\":[{\"type\":\"contour\",\"colorbar\":{\"outlinewidth\":0,\"ticks\":\"\"},\"colorscale\":[[0.0,\"#0d0887\"],[0.1111111111111111,\"#46039f\"],[0.2222222222222222,\"#7201a8\"],[0.3333333333333333,\"#9c179e\"],[0.4444444444444444,\"#bd3786\"],[0.5555555555555556,\"#d8576b\"],[0.6666666666666666,\"#ed7953\"],[0.7777777777777778,\"#fb9f3a\"],[0.8888888888888888,\"#fdca26\"],[1.0,\"#f0f921\"]]}],\"surface\":[{\"type\":\"surface\",\"colorbar\":{\"outlinewidth\":0,\"ticks\":\"\"},\"colorscale\":[[0.0,\"#0d0887\"],[0.1111111111111111,\"#46039f\"],[0.2222222222222222,\"#7201a8\"],[0.3333333333333333,\"#9c179e\"],[0.4444444444444444,\"#bd3786\"],[0.5555555555555556,\"#d8576b\"],[0.6666666666666666,\"#ed7953\"],[0.7777777777777778,\"#fb9f3a\"],[0.8888888888888888,\"#fdca26\"],[1.0,\"#f0f921\"]]}],\"mesh3d\":[{\"type\":\"mesh3d\",\"colorbar\":{\"outlinewidth\":0,\"ticks\":\"\"}}],\"scatter\":[{\"fillpattern\":{\"fillmode\":\"overlay\",\"size\":10,\"solidity\":0.2},\"type\":\"scatter\"}],\"parcoords\":[{\"type\":\"parcoords\",\"line\":{\"colorbar\":{\"outlinewidth\":0,\"ticks\":\"\"}}}],\"scatterpolargl\":[{\"type\":\"scatterpolargl\",\"marker\":{\"colorbar\":{\"outlinewidth\":0,\"ticks\":\"\"}}}],\"bar\":[{\"error_x\":{\"color\":\"#2a3f5f\"},\"error_y\":{\"color\":\"#2a3f5f\"},\"marker\":{\"line\":{\"color\":\"#E5ECF6\",\"width\":0.5},\"pattern\":{\"fillmode\":\"overlay\",\"size\":10,\"solidity\":0.2}},\"type\":\"bar\"}],\"scattergeo\":[{\"type\":\"scattergeo\",\"marker\":{\"colorbar\":{\"outlinewidth\":0,\"ticks\":\"\"}}}],\"scatterpolar\":[{\"type\":\"scatterpolar\",\"marker\":{\"colorbar\":{\"outlinewidth\":0,\"ticks\":\"\"}}}],\"histogram\":[{\"marker\":{\"pattern\":{\"fillmode\":\"overlay\",\"size\":10,\"solidity\":0.2}},\"type\":\"histogram\"}],\"scattergl\":[{\"type\":\"scattergl\",\"marker\":{\"colorbar\":{\"outlinewidth\":0,\"ticks\":\"\"}}}],\"scatter3d\":[{\"type\":\"scatter3d\",\"line\":{\"colorbar\":{\"outlinewidth\":0,\"ticks\":\"\"}},\"marker\":{\"colorbar\":{\"outlinewidth\":0,\"ticks\":\"\"}}}],\"scattermapbox\":[{\"type\":\"scattermapbox\",\"marker\":{\"colorbar\":{\"outlinewidth\":0,\"ticks\":\"\"}}}],\"scatterternary\":[{\"type\":\"scatterternary\",\"marker\":{\"colorbar\":{\"outlinewidth\":0,\"ticks\":\"\"}}}],\"scattercarpet\":[{\"type\":\"scattercarpet\",\"marker\":{\"colorbar\":{\"outlinewidth\":0,\"ticks\":\"\"}}}],\"carpet\":[{\"aaxis\":{\"endlinecolor\":\"#2a3f5f\",\"gridcolor\":\"white\",\"linecolor\":\"white\",\"minorgridcolor\":\"white\",\"startlinecolor\":\"#2a3f5f\"},\"baxis\":{\"endlinecolor\":\"#2a3f5f\",\"gridcolor\":\"white\",\"linecolor\":\"white\",\"minorgridcolor\":\"white\",\"startlinecolor\":\"#2a3f5f\"},\"type\":\"carpet\"}],\"table\":[{\"cells\":{\"fill\":{\"color\":\"#EBF0F8\"},\"line\":{\"color\":\"white\"}},\"header\":{\"fill\":{\"color\":\"#C8D4E3\"},\"line\":{\"color\":\"white\"}},\"type\":\"table\"}],\"barpolar\":[{\"marker\":{\"line\":{\"color\":\"#E5ECF6\",\"width\":0.5},\"pattern\":{\"fillmode\":\"overlay\",\"size\":10,\"solidity\":0.2}},\"type\":\"barpolar\"}],\"pie\":[{\"automargin\":true,\"type\":\"pie\"}]},\"layout\":{\"autotypenumbers\":\"strict\",\"colorway\":[\"#636efa\",\"#EF553B\",\"#00cc96\",\"#ab63fa\",\"#FFA15A\",\"#19d3f3\",\"#FF6692\",\"#B6E880\",\"#FF97FF\",\"#FECB52\"],\"font\":{\"color\":\"#2a3f5f\"},\"hovermode\":\"closest\",\"hoverlabel\":{\"align\":\"left\"},\"paper_bgcolor\":\"white\",\"plot_bgcolor\":\"#E5ECF6\",\"polar\":{\"bgcolor\":\"#E5ECF6\",\"angularaxis\":{\"gridcolor\":\"white\",\"linecolor\":\"white\",\"ticks\":\"\"},\"radialaxis\":{\"gridcolor\":\"white\",\"linecolor\":\"white\",\"ticks\":\"\"}},\"ternary\":{\"bgcolor\":\"#E5ECF6\",\"aaxis\":{\"gridcolor\":\"white\",\"linecolor\":\"white\",\"ticks\":\"\"},\"baxis\":{\"gridcolor\":\"white\",\"linecolor\":\"white\",\"ticks\":\"\"},\"caxis\":{\"gridcolor\":\"white\",\"linecolor\":\"white\",\"ticks\":\"\"}},\"coloraxis\":{\"colorbar\":{\"outlinewidth\":0,\"ticks\":\"\"}},\"colorscale\":{\"sequential\":[[0.0,\"#0d0887\"],[0.1111111111111111,\"#46039f\"],[0.2222222222222222,\"#7201a8\"],[0.3333333333333333,\"#9c179e\"],[0.4444444444444444,\"#bd3786\"],[0.5555555555555556,\"#d8576b\"],[0.6666666666666666,\"#ed7953\"],[0.7777777777777778,\"#fb9f3a\"],[0.8888888888888888,\"#fdca26\"],[1.0,\"#f0f921\"]],\"sequentialminus\":[[0.0,\"#0d0887\"],[0.1111111111111111,\"#46039f\"],[0.2222222222222222,\"#7201a8\"],[0.3333333333333333,\"#9c179e\"],[0.4444444444444444,\"#bd3786\"],[0.5555555555555556,\"#d8576b\"],[0.6666666666666666,\"#ed7953\"],[0.7777777777777778,\"#fb9f3a\"],[0.8888888888888888,\"#fdca26\"],[1.0,\"#f0f921\"]],\"diverging\":[[0,\"#8e0152\"],[0.1,\"#c51b7d\"],[0.2,\"#de77ae\"],[0.3,\"#f1b6da\"],[0.4,\"#fde0ef\"],[0.5,\"#f7f7f7\"],[0.6,\"#e6f5d0\"],[0.7,\"#b8e186\"],[0.8,\"#7fbc41\"],[0.9,\"#4d9221\"],[1,\"#276419\"]]},\"xaxis\":{\"gridcolor\":\"white\",\"linecolor\":\"white\",\"ticks\":\"\",\"title\":{\"standoff\":15},\"zerolinecolor\":\"white\",\"automargin\":true,\"zerolinewidth\":2},\"yaxis\":{\"gridcolor\":\"white\",\"linecolor\":\"white\",\"ticks\":\"\",\"title\":{\"standoff\":15},\"zerolinecolor\":\"white\",\"automargin\":true,\"zerolinewidth\":2},\"scene\":{\"xaxis\":{\"backgroundcolor\":\"#E5ECF6\",\"gridcolor\":\"white\",\"linecolor\":\"white\",\"showbackground\":true,\"ticks\":\"\",\"zerolinecolor\":\"white\",\"gridwidth\":2},\"yaxis\":{\"backgroundcolor\":\"#E5ECF6\",\"gridcolor\":\"white\",\"linecolor\":\"white\",\"showbackground\":true,\"ticks\":\"\",\"zerolinecolor\":\"white\",\"gridwidth\":2},\"zaxis\":{\"backgroundcolor\":\"#E5ECF6\",\"gridcolor\":\"white\",\"linecolor\":\"white\",\"showbackground\":true,\"ticks\":\"\",\"zerolinecolor\":\"white\",\"gridwidth\":2}},\"shapedefaults\":{\"line\":{\"color\":\"#2a3f5f\"}},\"annotationdefaults\":{\"arrowcolor\":\"#2a3f5f\",\"arrowhead\":0,\"arrowwidth\":1},\"geo\":{\"bgcolor\":\"white\",\"landcolor\":\"#E5ECF6\",\"subunitcolor\":\"white\",\"showland\":true,\"showlakes\":true,\"lakecolor\":\"white\"},\"title\":{\"x\":0.05},\"mapbox\":{\"style\":\"light\"}}},\"xaxis\":{\"anchor\":\"y\",\"domain\":[0.0,1.0],\"title\":{\"text\":\"Activation Function\"}},\"yaxis\":{\"anchor\":\"x\",\"domain\":[0.0,1.0],\"title\":{\"text\":\"average fitness\"}},\"legend\":{\"title\":{\"text\":\"optimizer:\"},\"tracegroupgap\":0,\"orientation\":\"h\",\"yanchor\":\"bottom\",\"y\":1,\"xanchor\":\"center\",\"x\":0.5},\"margin\":{\"t\":60},\"barmode\":\"group\",\"autosize\":false,\"width\":1600,\"height\":450},                        {\"responsive\": true}                    ).then(function(){\n                            \nvar gd = document.getElementById('9fbc7bbc-550a-44e5-9753-8c3b41901d7a');\nvar x = new MutationObserver(function (mutations, observer) {{\n        var display = window.getComputedStyle(gd).display;\n        if (!display || display === 'none') {{\n            console.log([gd, 'removed!']);\n            Plotly.purge(gd);\n            observer.disconnect();\n        }}\n}});\n\n// Listen for the removal of the full notebook cells\nvar notebookContainer = gd.closest('#notebook-container');\nif (notebookContainer) {{\n    x.observe(notebookContainer, {childList: true});\n}}\n\n// Listen for the clearing of the current output cell\nvar outputEl = gd.closest('.output');\nif (outputEl) {{\n    x.observe(outputEl, {childList: true});\n}}\n\n                        })                };                });            </script>        </div>"
     },
     "metadata": {},
     "output_type": "display_data"
    },
    {
     "data": {
      "application/vnd.plotly.v1+json": {
       "data": [
        {
         "alignmentgroup": "True",
         "hovertemplate": "activation function:=CELU<br>optimizer=%{x}<br>average fitness=%{y}<extra></extra>",
         "legendgroup": "CELU",
         "marker": {
          "color": "#636efa",
          "pattern": {
           "shape": ""
          }
         },
         "name": "CELU",
         "offsetgroup": "CELU",
         "orientation": "v",
         "showlegend": true,
         "textposition": "auto",
         "x": [
          "ASGD",
          "Adagrad",
          "Adam",
          "RAdam",
          "RPROP",
          "SGD"
         ],
         "xaxis": "x",
         "y": [
          1804.3142857142857,
          1661.9473684210527,
          1826.4285714285713,
          1909.6363636363637,
          968.4814814814815,
          1707.9444444444443
         ],
         "yaxis": "y",
         "type": "bar"
        },
        {
         "alignmentgroup": "True",
         "hovertemplate": "activation function:=ELU<br>optimizer=%{x}<br>average fitness=%{y}<extra></extra>",
         "legendgroup": "ELU",
         "marker": {
          "color": "#EF553B",
          "pattern": {
           "shape": ""
          }
         },
         "name": "ELU",
         "offsetgroup": "ELU",
         "orientation": "v",
         "showlegend": true,
         "textposition": "auto",
         "x": [
          "ASGD",
          "Adagrad",
          "Adam",
          "RAdam",
          "RPROP",
          "SGD"
         ],
         "xaxis": "x",
         "y": [
          1788.448275862069,
          1797.5641025641025,
          1877.5925925925926,
          1779.5833333333333,
          952.72,
          1968.6774193548388
         ],
         "yaxis": "y",
         "type": "bar"
        },
        {
         "alignmentgroup": "True",
         "hovertemplate": "activation function:=GELU<br>optimizer=%{x}<br>average fitness=%{y}<extra></extra>",
         "legendgroup": "GELU",
         "marker": {
          "color": "#00cc96",
          "pattern": {
           "shape": ""
          }
         },
         "name": "GELU",
         "offsetgroup": "GELU",
         "orientation": "v",
         "showlegend": true,
         "textposition": "auto",
         "x": [
          "ASGD",
          "Adagrad",
          "Adam",
          "RAdam",
          "RPROP",
          "SGD"
         ],
         "xaxis": "x",
         "y": [
          2291.5,
          2227.7,
          2409.75,
          2271.6666666666665,
          1331.483870967742,
          2479.3
         ],
         "yaxis": "y",
         "type": "bar"
        },
        {
         "alignmentgroup": "True",
         "hovertemplate": "activation function:=Leaky RELU<br>optimizer=%{x}<br>average fitness=%{y}<extra></extra>",
         "legendgroup": "Leaky RELU",
         "marker": {
          "color": "#ab63fa",
          "pattern": {
           "shape": ""
          }
         },
         "name": "Leaky RELU",
         "offsetgroup": "Leaky RELU",
         "orientation": "v",
         "showlegend": true,
         "textposition": "auto",
         "x": [
          "ASGD",
          "Adagrad",
          "Adam",
          "RAdam",
          "RPROP",
          "SGD"
         ],
         "xaxis": "x",
         "y": [
          2283.0,
          2303.3333333333335,
          2115.5333333333333,
          2074.1666666666665,
          926.6315789473684,
          1939.8235294117646
         ],
         "yaxis": "y",
         "type": "bar"
        },
        {
         "alignmentgroup": "True",
         "hovertemplate": "activation function:=RELU<br>optimizer=%{x}<br>average fitness=%{y}<extra></extra>",
         "legendgroup": "RELU",
         "marker": {
          "color": "#FFA15A",
          "pattern": {
           "shape": ""
          }
         },
         "name": "RELU",
         "offsetgroup": "RELU",
         "orientation": "v",
         "showlegend": true,
         "textposition": "auto",
         "x": [
          "ASGD",
          "Adagrad",
          "Adam",
          "RAdam",
          "RPROP",
          "SGD"
         ],
         "xaxis": "x",
         "y": [
          1873.357142857143,
          2051.25,
          2106.5,
          2039.6,
          1238.0967741935483,
          1888.0
         ],
         "yaxis": "y",
         "type": "bar"
        },
        {
         "alignmentgroup": "True",
         "hovertemplate": "activation function:=RRELU<br>optimizer=%{x}<br>average fitness=%{y}<extra></extra>",
         "legendgroup": "RRELU",
         "marker": {
          "color": "#19d3f3",
          "pattern": {
           "shape": ""
          }
         },
         "name": "RRELU",
         "offsetgroup": "RRELU",
         "orientation": "v",
         "showlegend": true,
         "textposition": "auto",
         "x": [
          "ASGD",
          "Adagrad",
          "Adam",
          "RAdam",
          "RPROP",
          "SGD"
         ],
         "xaxis": "x",
         "y": [
          2092.3611111111113,
          2235.090909090909,
          2489.108108108108,
          2372.625,
          991.5588235294117,
          2341.5833333333335
         ],
         "yaxis": "y",
         "type": "bar"
        },
        {
         "alignmentgroup": "True",
         "hovertemplate": "activation function:=SELU<br>optimizer=%{x}<br>average fitness=%{y}<extra></extra>",
         "legendgroup": "SELU",
         "marker": {
          "color": "#FF6692",
          "pattern": {
           "shape": ""
          }
         },
         "name": "SELU",
         "offsetgroup": "SELU",
         "orientation": "v",
         "showlegend": true,
         "textposition": "auto",
         "x": [
          "ASGD",
          "Adagrad",
          "Adam",
          "RAdam",
          "RPROP",
          "SGD"
         ],
         "xaxis": "x",
         "y": [
          1464.05,
          1431.7575757575758,
          1369.344827586207,
          1447.3684210526317,
          914.4,
          1402.375
         ],
         "yaxis": "y",
         "type": "bar"
        },
        {
         "alignmentgroup": "True",
         "hovertemplate": "activation function:=TANH<br>optimizer=%{x}<br>average fitness=%{y}<extra></extra>",
         "legendgroup": "TANH",
         "marker": {
          "color": "#B6E880",
          "pattern": {
           "shape": ""
          }
         },
         "name": "TANH",
         "offsetgroup": "TANH",
         "orientation": "v",
         "showlegend": true,
         "textposition": "auto",
         "x": [
          "ASGD",
          "Adagrad",
          "Adam",
          "RAdam",
          "RPROP",
          "SGD"
         ],
         "xaxis": "x",
         "y": [
          1800.4634146341464,
          1738.6829268292684,
          1853.025,
          1807.9375,
          389.89285714285717,
          1839.3125
         ],
         "yaxis": "y",
         "type": "bar"
        }
       ],
       "layout": {
        "template": {
         "data": {
          "histogram2dcontour": [
           {
            "type": "histogram2dcontour",
            "colorbar": {
             "outlinewidth": 0,
             "ticks": ""
            },
            "colorscale": [
             [
              0.0,
              "#0d0887"
             ],
             [
              0.1111111111111111,
              "#46039f"
             ],
             [
              0.2222222222222222,
              "#7201a8"
             ],
             [
              0.3333333333333333,
              "#9c179e"
             ],
             [
              0.4444444444444444,
              "#bd3786"
             ],
             [
              0.5555555555555556,
              "#d8576b"
             ],
             [
              0.6666666666666666,
              "#ed7953"
             ],
             [
              0.7777777777777778,
              "#fb9f3a"
             ],
             [
              0.8888888888888888,
              "#fdca26"
             ],
             [
              1.0,
              "#f0f921"
             ]
            ]
           }
          ],
          "choropleth": [
           {
            "type": "choropleth",
            "colorbar": {
             "outlinewidth": 0,
             "ticks": ""
            }
           }
          ],
          "histogram2d": [
           {
            "type": "histogram2d",
            "colorbar": {
             "outlinewidth": 0,
             "ticks": ""
            },
            "colorscale": [
             [
              0.0,
              "#0d0887"
             ],
             [
              0.1111111111111111,
              "#46039f"
             ],
             [
              0.2222222222222222,
              "#7201a8"
             ],
             [
              0.3333333333333333,
              "#9c179e"
             ],
             [
              0.4444444444444444,
              "#bd3786"
             ],
             [
              0.5555555555555556,
              "#d8576b"
             ],
             [
              0.6666666666666666,
              "#ed7953"
             ],
             [
              0.7777777777777778,
              "#fb9f3a"
             ],
             [
              0.8888888888888888,
              "#fdca26"
             ],
             [
              1.0,
              "#f0f921"
             ]
            ]
           }
          ],
          "heatmap": [
           {
            "type": "heatmap",
            "colorbar": {
             "outlinewidth": 0,
             "ticks": ""
            },
            "colorscale": [
             [
              0.0,
              "#0d0887"
             ],
             [
              0.1111111111111111,
              "#46039f"
             ],
             [
              0.2222222222222222,
              "#7201a8"
             ],
             [
              0.3333333333333333,
              "#9c179e"
             ],
             [
              0.4444444444444444,
              "#bd3786"
             ],
             [
              0.5555555555555556,
              "#d8576b"
             ],
             [
              0.6666666666666666,
              "#ed7953"
             ],
             [
              0.7777777777777778,
              "#fb9f3a"
             ],
             [
              0.8888888888888888,
              "#fdca26"
             ],
             [
              1.0,
              "#f0f921"
             ]
            ]
           }
          ],
          "heatmapgl": [
           {
            "type": "heatmapgl",
            "colorbar": {
             "outlinewidth": 0,
             "ticks": ""
            },
            "colorscale": [
             [
              0.0,
              "#0d0887"
             ],
             [
              0.1111111111111111,
              "#46039f"
             ],
             [
              0.2222222222222222,
              "#7201a8"
             ],
             [
              0.3333333333333333,
              "#9c179e"
             ],
             [
              0.4444444444444444,
              "#bd3786"
             ],
             [
              0.5555555555555556,
              "#d8576b"
             ],
             [
              0.6666666666666666,
              "#ed7953"
             ],
             [
              0.7777777777777778,
              "#fb9f3a"
             ],
             [
              0.8888888888888888,
              "#fdca26"
             ],
             [
              1.0,
              "#f0f921"
             ]
            ]
           }
          ],
          "contourcarpet": [
           {
            "type": "contourcarpet",
            "colorbar": {
             "outlinewidth": 0,
             "ticks": ""
            }
           }
          ],
          "contour": [
           {
            "type": "contour",
            "colorbar": {
             "outlinewidth": 0,
             "ticks": ""
            },
            "colorscale": [
             [
              0.0,
              "#0d0887"
             ],
             [
              0.1111111111111111,
              "#46039f"
             ],
             [
              0.2222222222222222,
              "#7201a8"
             ],
             [
              0.3333333333333333,
              "#9c179e"
             ],
             [
              0.4444444444444444,
              "#bd3786"
             ],
             [
              0.5555555555555556,
              "#d8576b"
             ],
             [
              0.6666666666666666,
              "#ed7953"
             ],
             [
              0.7777777777777778,
              "#fb9f3a"
             ],
             [
              0.8888888888888888,
              "#fdca26"
             ],
             [
              1.0,
              "#f0f921"
             ]
            ]
           }
          ],
          "surface": [
           {
            "type": "surface",
            "colorbar": {
             "outlinewidth": 0,
             "ticks": ""
            },
            "colorscale": [
             [
              0.0,
              "#0d0887"
             ],
             [
              0.1111111111111111,
              "#46039f"
             ],
             [
              0.2222222222222222,
              "#7201a8"
             ],
             [
              0.3333333333333333,
              "#9c179e"
             ],
             [
              0.4444444444444444,
              "#bd3786"
             ],
             [
              0.5555555555555556,
              "#d8576b"
             ],
             [
              0.6666666666666666,
              "#ed7953"
             ],
             [
              0.7777777777777778,
              "#fb9f3a"
             ],
             [
              0.8888888888888888,
              "#fdca26"
             ],
             [
              1.0,
              "#f0f921"
             ]
            ]
           }
          ],
          "mesh3d": [
           {
            "type": "mesh3d",
            "colorbar": {
             "outlinewidth": 0,
             "ticks": ""
            }
           }
          ],
          "scatter": [
           {
            "fillpattern": {
             "fillmode": "overlay",
             "size": 10,
             "solidity": 0.2
            },
            "type": "scatter"
           }
          ],
          "parcoords": [
           {
            "type": "parcoords",
            "line": {
             "colorbar": {
              "outlinewidth": 0,
              "ticks": ""
             }
            }
           }
          ],
          "scatterpolargl": [
           {
            "type": "scatterpolargl",
            "marker": {
             "colorbar": {
              "outlinewidth": 0,
              "ticks": ""
             }
            }
           }
          ],
          "bar": [
           {
            "error_x": {
             "color": "#2a3f5f"
            },
            "error_y": {
             "color": "#2a3f5f"
            },
            "marker": {
             "line": {
              "color": "#E5ECF6",
              "width": 0.5
             },
             "pattern": {
              "fillmode": "overlay",
              "size": 10,
              "solidity": 0.2
             }
            },
            "type": "bar"
           }
          ],
          "scattergeo": [
           {
            "type": "scattergeo",
            "marker": {
             "colorbar": {
              "outlinewidth": 0,
              "ticks": ""
             }
            }
           }
          ],
          "scatterpolar": [
           {
            "type": "scatterpolar",
            "marker": {
             "colorbar": {
              "outlinewidth": 0,
              "ticks": ""
             }
            }
           }
          ],
          "histogram": [
           {
            "marker": {
             "pattern": {
              "fillmode": "overlay",
              "size": 10,
              "solidity": 0.2
             }
            },
            "type": "histogram"
           }
          ],
          "scattergl": [
           {
            "type": "scattergl",
            "marker": {
             "colorbar": {
              "outlinewidth": 0,
              "ticks": ""
             }
            }
           }
          ],
          "scatter3d": [
           {
            "type": "scatter3d",
            "line": {
             "colorbar": {
              "outlinewidth": 0,
              "ticks": ""
             }
            },
            "marker": {
             "colorbar": {
              "outlinewidth": 0,
              "ticks": ""
             }
            }
           }
          ],
          "scattermapbox": [
           {
            "type": "scattermapbox",
            "marker": {
             "colorbar": {
              "outlinewidth": 0,
              "ticks": ""
             }
            }
           }
          ],
          "scatterternary": [
           {
            "type": "scatterternary",
            "marker": {
             "colorbar": {
              "outlinewidth": 0,
              "ticks": ""
             }
            }
           }
          ],
          "scattercarpet": [
           {
            "type": "scattercarpet",
            "marker": {
             "colorbar": {
              "outlinewidth": 0,
              "ticks": ""
             }
            }
           }
          ],
          "carpet": [
           {
            "aaxis": {
             "endlinecolor": "#2a3f5f",
             "gridcolor": "white",
             "linecolor": "white",
             "minorgridcolor": "white",
             "startlinecolor": "#2a3f5f"
            },
            "baxis": {
             "endlinecolor": "#2a3f5f",
             "gridcolor": "white",
             "linecolor": "white",
             "minorgridcolor": "white",
             "startlinecolor": "#2a3f5f"
            },
            "type": "carpet"
           }
          ],
          "table": [
           {
            "cells": {
             "fill": {
              "color": "#EBF0F8"
             },
             "line": {
              "color": "white"
             }
            },
            "header": {
             "fill": {
              "color": "#C8D4E3"
             },
             "line": {
              "color": "white"
             }
            },
            "type": "table"
           }
          ],
          "barpolar": [
           {
            "marker": {
             "line": {
              "color": "#E5ECF6",
              "width": 0.5
             },
             "pattern": {
              "fillmode": "overlay",
              "size": 10,
              "solidity": 0.2
             }
            },
            "type": "barpolar"
           }
          ],
          "pie": [
           {
            "automargin": true,
            "type": "pie"
           }
          ]
         },
         "layout": {
          "autotypenumbers": "strict",
          "colorway": [
           "#636efa",
           "#EF553B",
           "#00cc96",
           "#ab63fa",
           "#FFA15A",
           "#19d3f3",
           "#FF6692",
           "#B6E880",
           "#FF97FF",
           "#FECB52"
          ],
          "font": {
           "color": "#2a3f5f"
          },
          "hovermode": "closest",
          "hoverlabel": {
           "align": "left"
          },
          "paper_bgcolor": "white",
          "plot_bgcolor": "#E5ECF6",
          "polar": {
           "bgcolor": "#E5ECF6",
           "angularaxis": {
            "gridcolor": "white",
            "linecolor": "white",
            "ticks": ""
           },
           "radialaxis": {
            "gridcolor": "white",
            "linecolor": "white",
            "ticks": ""
           }
          },
          "ternary": {
           "bgcolor": "#E5ECF6",
           "aaxis": {
            "gridcolor": "white",
            "linecolor": "white",
            "ticks": ""
           },
           "baxis": {
            "gridcolor": "white",
            "linecolor": "white",
            "ticks": ""
           },
           "caxis": {
            "gridcolor": "white",
            "linecolor": "white",
            "ticks": ""
           }
          },
          "coloraxis": {
           "colorbar": {
            "outlinewidth": 0,
            "ticks": ""
           }
          },
          "colorscale": {
           "sequential": [
            [
             0.0,
             "#0d0887"
            ],
            [
             0.1111111111111111,
             "#46039f"
            ],
            [
             0.2222222222222222,
             "#7201a8"
            ],
            [
             0.3333333333333333,
             "#9c179e"
            ],
            [
             0.4444444444444444,
             "#bd3786"
            ],
            [
             0.5555555555555556,
             "#d8576b"
            ],
            [
             0.6666666666666666,
             "#ed7953"
            ],
            [
             0.7777777777777778,
             "#fb9f3a"
            ],
            [
             0.8888888888888888,
             "#fdca26"
            ],
            [
             1.0,
             "#f0f921"
            ]
           ],
           "sequentialminus": [
            [
             0.0,
             "#0d0887"
            ],
            [
             0.1111111111111111,
             "#46039f"
            ],
            [
             0.2222222222222222,
             "#7201a8"
            ],
            [
             0.3333333333333333,
             "#9c179e"
            ],
            [
             0.4444444444444444,
             "#bd3786"
            ],
            [
             0.5555555555555556,
             "#d8576b"
            ],
            [
             0.6666666666666666,
             "#ed7953"
            ],
            [
             0.7777777777777778,
             "#fb9f3a"
            ],
            [
             0.8888888888888888,
             "#fdca26"
            ],
            [
             1.0,
             "#f0f921"
            ]
           ],
           "diverging": [
            [
             0,
             "#8e0152"
            ],
            [
             0.1,
             "#c51b7d"
            ],
            [
             0.2,
             "#de77ae"
            ],
            [
             0.3,
             "#f1b6da"
            ],
            [
             0.4,
             "#fde0ef"
            ],
            [
             0.5,
             "#f7f7f7"
            ],
            [
             0.6,
             "#e6f5d0"
            ],
            [
             0.7,
             "#b8e186"
            ],
            [
             0.8,
             "#7fbc41"
            ],
            [
             0.9,
             "#4d9221"
            ],
            [
             1,
             "#276419"
            ]
           ]
          },
          "xaxis": {
           "gridcolor": "white",
           "linecolor": "white",
           "ticks": "",
           "title": {
            "standoff": 15
           },
           "zerolinecolor": "white",
           "automargin": true,
           "zerolinewidth": 2
          },
          "yaxis": {
           "gridcolor": "white",
           "linecolor": "white",
           "ticks": "",
           "title": {
            "standoff": 15
           },
           "zerolinecolor": "white",
           "automargin": true,
           "zerolinewidth": 2
          },
          "scene": {
           "xaxis": {
            "backgroundcolor": "#E5ECF6",
            "gridcolor": "white",
            "linecolor": "white",
            "showbackground": true,
            "ticks": "",
            "zerolinecolor": "white",
            "gridwidth": 2
           },
           "yaxis": {
            "backgroundcolor": "#E5ECF6",
            "gridcolor": "white",
            "linecolor": "white",
            "showbackground": true,
            "ticks": "",
            "zerolinecolor": "white",
            "gridwidth": 2
           },
           "zaxis": {
            "backgroundcolor": "#E5ECF6",
            "gridcolor": "white",
            "linecolor": "white",
            "showbackground": true,
            "ticks": "",
            "zerolinecolor": "white",
            "gridwidth": 2
           }
          },
          "shapedefaults": {
           "line": {
            "color": "#2a3f5f"
           }
          },
          "annotationdefaults": {
           "arrowcolor": "#2a3f5f",
           "arrowhead": 0,
           "arrowwidth": 1
          },
          "geo": {
           "bgcolor": "white",
           "landcolor": "#E5ECF6",
           "subunitcolor": "white",
           "showland": true,
           "showlakes": true,
           "lakecolor": "white"
          },
          "title": {
           "x": 0.05
          },
          "mapbox": {
           "style": "light"
          }
         }
        },
        "xaxis": {
         "anchor": "y",
         "domain": [
          0.0,
          1.0
         ],
         "title": {
          "text": "optimizer"
         }
        },
        "yaxis": {
         "anchor": "x",
         "domain": [
          0.0,
          1.0
         ],
         "title": {
          "text": "average fitness"
         }
        },
        "legend": {
         "title": {
          "text": "activation function:"
         },
         "tracegroupgap": 0,
         "orientation": "h",
         "yanchor": "bottom",
         "y": 1,
         "xanchor": "center",
         "x": 0.5
        },
        "margin": {
         "t": 60
        },
        "barmode": "group",
        "autosize": false,
        "width": 1600,
        "height": 450
       },
       "config": {
        "plotlyServerURL": "https://plot.ly"
       }
      },
      "text/html": "<div>                            <div id=\"73919203-77e9-4da9-b1ef-a7833d445bfa\" class=\"plotly-graph-div\" style=\"height:450px; width:1600px;\"></div>            <script type=\"text/javascript\">                require([\"plotly\"], function(Plotly) {                    window.PLOTLYENV=window.PLOTLYENV || {};                                    if (document.getElementById(\"73919203-77e9-4da9-b1ef-a7833d445bfa\")) {                    Plotly.newPlot(                        \"73919203-77e9-4da9-b1ef-a7833d445bfa\",                        [{\"alignmentgroup\":\"True\",\"hovertemplate\":\"activation function:=CELU\\u003cbr\\u003eoptimizer=%{x}\\u003cbr\\u003eaverage fitness=%{y}\\u003cextra\\u003e\\u003c\\u002fextra\\u003e\",\"legendgroup\":\"CELU\",\"marker\":{\"color\":\"#636efa\",\"pattern\":{\"shape\":\"\"}},\"name\":\"CELU\",\"offsetgroup\":\"CELU\",\"orientation\":\"v\",\"showlegend\":true,\"textposition\":\"auto\",\"x\":[\"ASGD\",\"Adagrad\",\"Adam\",\"RAdam\",\"RPROP\",\"SGD\"],\"xaxis\":\"x\",\"y\":[1804.3142857142857,1661.9473684210527,1826.4285714285713,1909.6363636363637,968.4814814814815,1707.9444444444443],\"yaxis\":\"y\",\"type\":\"bar\"},{\"alignmentgroup\":\"True\",\"hovertemplate\":\"activation function:=ELU\\u003cbr\\u003eoptimizer=%{x}\\u003cbr\\u003eaverage fitness=%{y}\\u003cextra\\u003e\\u003c\\u002fextra\\u003e\",\"legendgroup\":\"ELU\",\"marker\":{\"color\":\"#EF553B\",\"pattern\":{\"shape\":\"\"}},\"name\":\"ELU\",\"offsetgroup\":\"ELU\",\"orientation\":\"v\",\"showlegend\":true,\"textposition\":\"auto\",\"x\":[\"ASGD\",\"Adagrad\",\"Adam\",\"RAdam\",\"RPROP\",\"SGD\"],\"xaxis\":\"x\",\"y\":[1788.448275862069,1797.5641025641025,1877.5925925925926,1779.5833333333333,952.72,1968.6774193548388],\"yaxis\":\"y\",\"type\":\"bar\"},{\"alignmentgroup\":\"True\",\"hovertemplate\":\"activation function:=GELU\\u003cbr\\u003eoptimizer=%{x}\\u003cbr\\u003eaverage fitness=%{y}\\u003cextra\\u003e\\u003c\\u002fextra\\u003e\",\"legendgroup\":\"GELU\",\"marker\":{\"color\":\"#00cc96\",\"pattern\":{\"shape\":\"\"}},\"name\":\"GELU\",\"offsetgroup\":\"GELU\",\"orientation\":\"v\",\"showlegend\":true,\"textposition\":\"auto\",\"x\":[\"ASGD\",\"Adagrad\",\"Adam\",\"RAdam\",\"RPROP\",\"SGD\"],\"xaxis\":\"x\",\"y\":[2291.5,2227.7,2409.75,2271.6666666666665,1331.483870967742,2479.3],\"yaxis\":\"y\",\"type\":\"bar\"},{\"alignmentgroup\":\"True\",\"hovertemplate\":\"activation function:=Leaky RELU\\u003cbr\\u003eoptimizer=%{x}\\u003cbr\\u003eaverage fitness=%{y}\\u003cextra\\u003e\\u003c\\u002fextra\\u003e\",\"legendgroup\":\"Leaky RELU\",\"marker\":{\"color\":\"#ab63fa\",\"pattern\":{\"shape\":\"\"}},\"name\":\"Leaky RELU\",\"offsetgroup\":\"Leaky RELU\",\"orientation\":\"v\",\"showlegend\":true,\"textposition\":\"auto\",\"x\":[\"ASGD\",\"Adagrad\",\"Adam\",\"RAdam\",\"RPROP\",\"SGD\"],\"xaxis\":\"x\",\"y\":[2283.0,2303.3333333333335,2115.5333333333333,2074.1666666666665,926.6315789473684,1939.8235294117646],\"yaxis\":\"y\",\"type\":\"bar\"},{\"alignmentgroup\":\"True\",\"hovertemplate\":\"activation function:=RELU\\u003cbr\\u003eoptimizer=%{x}\\u003cbr\\u003eaverage fitness=%{y}\\u003cextra\\u003e\\u003c\\u002fextra\\u003e\",\"legendgroup\":\"RELU\",\"marker\":{\"color\":\"#FFA15A\",\"pattern\":{\"shape\":\"\"}},\"name\":\"RELU\",\"offsetgroup\":\"RELU\",\"orientation\":\"v\",\"showlegend\":true,\"textposition\":\"auto\",\"x\":[\"ASGD\",\"Adagrad\",\"Adam\",\"RAdam\",\"RPROP\",\"SGD\"],\"xaxis\":\"x\",\"y\":[1873.357142857143,2051.25,2106.5,2039.6,1238.0967741935483,1888.0],\"yaxis\":\"y\",\"type\":\"bar\"},{\"alignmentgroup\":\"True\",\"hovertemplate\":\"activation function:=RRELU\\u003cbr\\u003eoptimizer=%{x}\\u003cbr\\u003eaverage fitness=%{y}\\u003cextra\\u003e\\u003c\\u002fextra\\u003e\",\"legendgroup\":\"RRELU\",\"marker\":{\"color\":\"#19d3f3\",\"pattern\":{\"shape\":\"\"}},\"name\":\"RRELU\",\"offsetgroup\":\"RRELU\",\"orientation\":\"v\",\"showlegend\":true,\"textposition\":\"auto\",\"x\":[\"ASGD\",\"Adagrad\",\"Adam\",\"RAdam\",\"RPROP\",\"SGD\"],\"xaxis\":\"x\",\"y\":[2092.3611111111113,2235.090909090909,2489.108108108108,2372.625,991.5588235294117,2341.5833333333335],\"yaxis\":\"y\",\"type\":\"bar\"},{\"alignmentgroup\":\"True\",\"hovertemplate\":\"activation function:=SELU\\u003cbr\\u003eoptimizer=%{x}\\u003cbr\\u003eaverage fitness=%{y}\\u003cextra\\u003e\\u003c\\u002fextra\\u003e\",\"legendgroup\":\"SELU\",\"marker\":{\"color\":\"#FF6692\",\"pattern\":{\"shape\":\"\"}},\"name\":\"SELU\",\"offsetgroup\":\"SELU\",\"orientation\":\"v\",\"showlegend\":true,\"textposition\":\"auto\",\"x\":[\"ASGD\",\"Adagrad\",\"Adam\",\"RAdam\",\"RPROP\",\"SGD\"],\"xaxis\":\"x\",\"y\":[1464.05,1431.7575757575758,1369.344827586207,1447.3684210526317,914.4,1402.375],\"yaxis\":\"y\",\"type\":\"bar\"},{\"alignmentgroup\":\"True\",\"hovertemplate\":\"activation function:=TANH\\u003cbr\\u003eoptimizer=%{x}\\u003cbr\\u003eaverage fitness=%{y}\\u003cextra\\u003e\\u003c\\u002fextra\\u003e\",\"legendgroup\":\"TANH\",\"marker\":{\"color\":\"#B6E880\",\"pattern\":{\"shape\":\"\"}},\"name\":\"TANH\",\"offsetgroup\":\"TANH\",\"orientation\":\"v\",\"showlegend\":true,\"textposition\":\"auto\",\"x\":[\"ASGD\",\"Adagrad\",\"Adam\",\"RAdam\",\"RPROP\",\"SGD\"],\"xaxis\":\"x\",\"y\":[1800.4634146341464,1738.6829268292684,1853.025,1807.9375,389.89285714285717,1839.3125],\"yaxis\":\"y\",\"type\":\"bar\"}],                        {\"template\":{\"data\":{\"histogram2dcontour\":[{\"type\":\"histogram2dcontour\",\"colorbar\":{\"outlinewidth\":0,\"ticks\":\"\"},\"colorscale\":[[0.0,\"#0d0887\"],[0.1111111111111111,\"#46039f\"],[0.2222222222222222,\"#7201a8\"],[0.3333333333333333,\"#9c179e\"],[0.4444444444444444,\"#bd3786\"],[0.5555555555555556,\"#d8576b\"],[0.6666666666666666,\"#ed7953\"],[0.7777777777777778,\"#fb9f3a\"],[0.8888888888888888,\"#fdca26\"],[1.0,\"#f0f921\"]]}],\"choropleth\":[{\"type\":\"choropleth\",\"colorbar\":{\"outlinewidth\":0,\"ticks\":\"\"}}],\"histogram2d\":[{\"type\":\"histogram2d\",\"colorbar\":{\"outlinewidth\":0,\"ticks\":\"\"},\"colorscale\":[[0.0,\"#0d0887\"],[0.1111111111111111,\"#46039f\"],[0.2222222222222222,\"#7201a8\"],[0.3333333333333333,\"#9c179e\"],[0.4444444444444444,\"#bd3786\"],[0.5555555555555556,\"#d8576b\"],[0.6666666666666666,\"#ed7953\"],[0.7777777777777778,\"#fb9f3a\"],[0.8888888888888888,\"#fdca26\"],[1.0,\"#f0f921\"]]}],\"heatmap\":[{\"type\":\"heatmap\",\"colorbar\":{\"outlinewidth\":0,\"ticks\":\"\"},\"colorscale\":[[0.0,\"#0d0887\"],[0.1111111111111111,\"#46039f\"],[0.2222222222222222,\"#7201a8\"],[0.3333333333333333,\"#9c179e\"],[0.4444444444444444,\"#bd3786\"],[0.5555555555555556,\"#d8576b\"],[0.6666666666666666,\"#ed7953\"],[0.7777777777777778,\"#fb9f3a\"],[0.8888888888888888,\"#fdca26\"],[1.0,\"#f0f921\"]]}],\"heatmapgl\":[{\"type\":\"heatmapgl\",\"colorbar\":{\"outlinewidth\":0,\"ticks\":\"\"},\"colorscale\":[[0.0,\"#0d0887\"],[0.1111111111111111,\"#46039f\"],[0.2222222222222222,\"#7201a8\"],[0.3333333333333333,\"#9c179e\"],[0.4444444444444444,\"#bd3786\"],[0.5555555555555556,\"#d8576b\"],[0.6666666666666666,\"#ed7953\"],[0.7777777777777778,\"#fb9f3a\"],[0.8888888888888888,\"#fdca26\"],[1.0,\"#f0f921\"]]}],\"contourcarpet\":[{\"type\":\"contourcarpet\",\"colorbar\":{\"outlinewidth\":0,\"ticks\":\"\"}}],\"contour\":[{\"type\":\"contour\",\"colorbar\":{\"outlinewidth\":0,\"ticks\":\"\"},\"colorscale\":[[0.0,\"#0d0887\"],[0.1111111111111111,\"#46039f\"],[0.2222222222222222,\"#7201a8\"],[0.3333333333333333,\"#9c179e\"],[0.4444444444444444,\"#bd3786\"],[0.5555555555555556,\"#d8576b\"],[0.6666666666666666,\"#ed7953\"],[0.7777777777777778,\"#fb9f3a\"],[0.8888888888888888,\"#fdca26\"],[1.0,\"#f0f921\"]]}],\"surface\":[{\"type\":\"surface\",\"colorbar\":{\"outlinewidth\":0,\"ticks\":\"\"},\"colorscale\":[[0.0,\"#0d0887\"],[0.1111111111111111,\"#46039f\"],[0.2222222222222222,\"#7201a8\"],[0.3333333333333333,\"#9c179e\"],[0.4444444444444444,\"#bd3786\"],[0.5555555555555556,\"#d8576b\"],[0.6666666666666666,\"#ed7953\"],[0.7777777777777778,\"#fb9f3a\"],[0.8888888888888888,\"#fdca26\"],[1.0,\"#f0f921\"]]}],\"mesh3d\":[{\"type\":\"mesh3d\",\"colorbar\":{\"outlinewidth\":0,\"ticks\":\"\"}}],\"scatter\":[{\"fillpattern\":{\"fillmode\":\"overlay\",\"size\":10,\"solidity\":0.2},\"type\":\"scatter\"}],\"parcoords\":[{\"type\":\"parcoords\",\"line\":{\"colorbar\":{\"outlinewidth\":0,\"ticks\":\"\"}}}],\"scatterpolargl\":[{\"type\":\"scatterpolargl\",\"marker\":{\"colorbar\":{\"outlinewidth\":0,\"ticks\":\"\"}}}],\"bar\":[{\"error_x\":{\"color\":\"#2a3f5f\"},\"error_y\":{\"color\":\"#2a3f5f\"},\"marker\":{\"line\":{\"color\":\"#E5ECF6\",\"width\":0.5},\"pattern\":{\"fillmode\":\"overlay\",\"size\":10,\"solidity\":0.2}},\"type\":\"bar\"}],\"scattergeo\":[{\"type\":\"scattergeo\",\"marker\":{\"colorbar\":{\"outlinewidth\":0,\"ticks\":\"\"}}}],\"scatterpolar\":[{\"type\":\"scatterpolar\",\"marker\":{\"colorbar\":{\"outlinewidth\":0,\"ticks\":\"\"}}}],\"histogram\":[{\"marker\":{\"pattern\":{\"fillmode\":\"overlay\",\"size\":10,\"solidity\":0.2}},\"type\":\"histogram\"}],\"scattergl\":[{\"type\":\"scattergl\",\"marker\":{\"colorbar\":{\"outlinewidth\":0,\"ticks\":\"\"}}}],\"scatter3d\":[{\"type\":\"scatter3d\",\"line\":{\"colorbar\":{\"outlinewidth\":0,\"ticks\":\"\"}},\"marker\":{\"colorbar\":{\"outlinewidth\":0,\"ticks\":\"\"}}}],\"scattermapbox\":[{\"type\":\"scattermapbox\",\"marker\":{\"colorbar\":{\"outlinewidth\":0,\"ticks\":\"\"}}}],\"scatterternary\":[{\"type\":\"scatterternary\",\"marker\":{\"colorbar\":{\"outlinewidth\":0,\"ticks\":\"\"}}}],\"scattercarpet\":[{\"type\":\"scattercarpet\",\"marker\":{\"colorbar\":{\"outlinewidth\":0,\"ticks\":\"\"}}}],\"carpet\":[{\"aaxis\":{\"endlinecolor\":\"#2a3f5f\",\"gridcolor\":\"white\",\"linecolor\":\"white\",\"minorgridcolor\":\"white\",\"startlinecolor\":\"#2a3f5f\"},\"baxis\":{\"endlinecolor\":\"#2a3f5f\",\"gridcolor\":\"white\",\"linecolor\":\"white\",\"minorgridcolor\":\"white\",\"startlinecolor\":\"#2a3f5f\"},\"type\":\"carpet\"}],\"table\":[{\"cells\":{\"fill\":{\"color\":\"#EBF0F8\"},\"line\":{\"color\":\"white\"}},\"header\":{\"fill\":{\"color\":\"#C8D4E3\"},\"line\":{\"color\":\"white\"}},\"type\":\"table\"}],\"barpolar\":[{\"marker\":{\"line\":{\"color\":\"#E5ECF6\",\"width\":0.5},\"pattern\":{\"fillmode\":\"overlay\",\"size\":10,\"solidity\":0.2}},\"type\":\"barpolar\"}],\"pie\":[{\"automargin\":true,\"type\":\"pie\"}]},\"layout\":{\"autotypenumbers\":\"strict\",\"colorway\":[\"#636efa\",\"#EF553B\",\"#00cc96\",\"#ab63fa\",\"#FFA15A\",\"#19d3f3\",\"#FF6692\",\"#B6E880\",\"#FF97FF\",\"#FECB52\"],\"font\":{\"color\":\"#2a3f5f\"},\"hovermode\":\"closest\",\"hoverlabel\":{\"align\":\"left\"},\"paper_bgcolor\":\"white\",\"plot_bgcolor\":\"#E5ECF6\",\"polar\":{\"bgcolor\":\"#E5ECF6\",\"angularaxis\":{\"gridcolor\":\"white\",\"linecolor\":\"white\",\"ticks\":\"\"},\"radialaxis\":{\"gridcolor\":\"white\",\"linecolor\":\"white\",\"ticks\":\"\"}},\"ternary\":{\"bgcolor\":\"#E5ECF6\",\"aaxis\":{\"gridcolor\":\"white\",\"linecolor\":\"white\",\"ticks\":\"\"},\"baxis\":{\"gridcolor\":\"white\",\"linecolor\":\"white\",\"ticks\":\"\"},\"caxis\":{\"gridcolor\":\"white\",\"linecolor\":\"white\",\"ticks\":\"\"}},\"coloraxis\":{\"colorbar\":{\"outlinewidth\":0,\"ticks\":\"\"}},\"colorscale\":{\"sequential\":[[0.0,\"#0d0887\"],[0.1111111111111111,\"#46039f\"],[0.2222222222222222,\"#7201a8\"],[0.3333333333333333,\"#9c179e\"],[0.4444444444444444,\"#bd3786\"],[0.5555555555555556,\"#d8576b\"],[0.6666666666666666,\"#ed7953\"],[0.7777777777777778,\"#fb9f3a\"],[0.8888888888888888,\"#fdca26\"],[1.0,\"#f0f921\"]],\"sequentialminus\":[[0.0,\"#0d0887\"],[0.1111111111111111,\"#46039f\"],[0.2222222222222222,\"#7201a8\"],[0.3333333333333333,\"#9c179e\"],[0.4444444444444444,\"#bd3786\"],[0.5555555555555556,\"#d8576b\"],[0.6666666666666666,\"#ed7953\"],[0.7777777777777778,\"#fb9f3a\"],[0.8888888888888888,\"#fdca26\"],[1.0,\"#f0f921\"]],\"diverging\":[[0,\"#8e0152\"],[0.1,\"#c51b7d\"],[0.2,\"#de77ae\"],[0.3,\"#f1b6da\"],[0.4,\"#fde0ef\"],[0.5,\"#f7f7f7\"],[0.6,\"#e6f5d0\"],[0.7,\"#b8e186\"],[0.8,\"#7fbc41\"],[0.9,\"#4d9221\"],[1,\"#276419\"]]},\"xaxis\":{\"gridcolor\":\"white\",\"linecolor\":\"white\",\"ticks\":\"\",\"title\":{\"standoff\":15},\"zerolinecolor\":\"white\",\"automargin\":true,\"zerolinewidth\":2},\"yaxis\":{\"gridcolor\":\"white\",\"linecolor\":\"white\",\"ticks\":\"\",\"title\":{\"standoff\":15},\"zerolinecolor\":\"white\",\"automargin\":true,\"zerolinewidth\":2},\"scene\":{\"xaxis\":{\"backgroundcolor\":\"#E5ECF6\",\"gridcolor\":\"white\",\"linecolor\":\"white\",\"showbackground\":true,\"ticks\":\"\",\"zerolinecolor\":\"white\",\"gridwidth\":2},\"yaxis\":{\"backgroundcolor\":\"#E5ECF6\",\"gridcolor\":\"white\",\"linecolor\":\"white\",\"showbackground\":true,\"ticks\":\"\",\"zerolinecolor\":\"white\",\"gridwidth\":2},\"zaxis\":{\"backgroundcolor\":\"#E5ECF6\",\"gridcolor\":\"white\",\"linecolor\":\"white\",\"showbackground\":true,\"ticks\":\"\",\"zerolinecolor\":\"white\",\"gridwidth\":2}},\"shapedefaults\":{\"line\":{\"color\":\"#2a3f5f\"}},\"annotationdefaults\":{\"arrowcolor\":\"#2a3f5f\",\"arrowhead\":0,\"arrowwidth\":1},\"geo\":{\"bgcolor\":\"white\",\"landcolor\":\"#E5ECF6\",\"subunitcolor\":\"white\",\"showland\":true,\"showlakes\":true,\"lakecolor\":\"white\"},\"title\":{\"x\":0.05},\"mapbox\":{\"style\":\"light\"}}},\"xaxis\":{\"anchor\":\"y\",\"domain\":[0.0,1.0],\"title\":{\"text\":\"optimizer\"}},\"yaxis\":{\"anchor\":\"x\",\"domain\":[0.0,1.0],\"title\":{\"text\":\"average fitness\"}},\"legend\":{\"title\":{\"text\":\"activation function:\"},\"tracegroupgap\":0,\"orientation\":\"h\",\"yanchor\":\"bottom\",\"y\":1,\"xanchor\":\"center\",\"x\":0.5},\"margin\":{\"t\":60},\"barmode\":\"group\",\"autosize\":false,\"width\":1600,\"height\":450},                        {\"responsive\": true}                    ).then(function(){\n                            \nvar gd = document.getElementById('73919203-77e9-4da9-b1ef-a7833d445bfa');\nvar x = new MutationObserver(function (mutations, observer) {{\n        var display = window.getComputedStyle(gd).display;\n        if (!display || display === 'none') {{\n            console.log([gd, 'removed!']);\n            Plotly.purge(gd);\n            observer.disconnect();\n        }}\n}});\n\n// Listen for the removal of the full notebook cells\nvar notebookContainer = gd.closest('#notebook-container');\nif (notebookContainer) {{\n    x.observe(notebookContainer, {childList: true});\n}}\n\n// Listen for the clearing of the current output cell\nvar outputEl = gd.closest('.output');\nif (outputEl) {{\n    x.observe(outputEl, {childList: true});\n}}\n\n                        })                };                });            </script>        </div>"
     },
     "metadata": {},
     "output_type": "display_data"
    }
   ],
   "source": [
    "import pandas as pd\n",
    "import plotly.express as px\n",
    "\n",
    "# Load your DataFrame here if needed, for example:\n",
    "# df = pd.read_csv('path_to_your_dataframe.csv')\n",
    "\n",
    "# For now, let's assume df is already your DataFrame with the necessary data.\n",
    "\n",
    "# We'll group the data by 'activation' and 'optimizer', and then calculate the mean fitness\n",
    "# This will give us the average fitness value for each activation function, per optimizer.\n",
    "grouped_optimizer_df = df_solutions.groupby(['activation', 'optimizer'])['fitness'].mean().reset_index()\n",
    "\n",
    "# Now we create a bar plot with Plotly Express, where the x-axis is the activation functions,\n",
    "# the y-axis is the average fitness, and the bars are grouped by optimizer.\n",
    "fig = px.bar(grouped_optimizer_df, x='activation', y='fitness', color='optimizer', barmode='group',\n",
    "             labels={'fitness': 'average fitness', 'activation': 'Activation Function', 'optimizer': 'optimizer:'})\n",
    "fig.update_layout(\n",
    "    autosize=False,\n",
    "    width=1600,\n",
    "    height=450,\n",
    "     legend=dict(\n",
    "        orientation=\"h\",\n",
    "        yanchor=\"bottom\",\n",
    "        y=1,\n",
    "        xanchor=\"center\",\n",
    "        x=0.5\n",
    "    ))\n",
    "fig.show()\n",
    "fig.write_image(\"plot_optimizer.svg\")\n",
    "\n",
    "# Calculate the average fitness for each optimizer and activation function combination\n",
    "grouped_activation_df = df_solutions.groupby(['optimizer', 'activation'])['fitness'].mean().reset_index()\n",
    "\n",
    "# Create the bar chart with Plotly Express\n",
    "fig = px.bar(grouped_activation_df, x='optimizer', y='fitness', color='activation', barmode='group',\n",
    "             labels={'fitness': 'average fitness', 'activation': 'activation function:', 'optimizer': 'optimizer'})\n",
    "fig.update_layout(\n",
    "    autosize=False,\n",
    "    width=1600,\n",
    "    height=450,\n",
    "     legend=dict(\n",
    "        orientation=\"h\",\n",
    "        yanchor=\"bottom\",\n",
    "        y=1,\n",
    "        xanchor=\"center\",\n",
    "        x=0.5\n",
    "    ))\n",
    "\n",
    "# Show the figure\n",
    "fig.show()\n",
    "fig.write_image(\"plot_activation.svg\")\n"
   ],
   "metadata": {
    "collapsed": false,
    "ExecuteTime": {
     "end_time": "2024-05-02T15:35:10.227766100Z",
     "start_time": "2024-05-02T15:35:09.719913200Z"
    }
   },
   "id": "d22740225ac63428"
  },
  {
   "cell_type": "code",
   "execution_count": 24,
   "outputs": [
    {
     "data": {
      "application/vnd.plotly.v1+json": {
       "data": [
        {
         "alignmentgroup": "True",
         "hovertemplate": "optimizer=ASGD<br>algorithm=DE<br>activation function=%{x}<br>average fitness=%{y}<extra></extra>",
         "legendgroup": "ASGD",
         "marker": {
          "color": "#636efa",
          "pattern": {
           "shape": ""
          }
         },
         "name": "ASGD",
         "offsetgroup": "ASGD",
         "orientation": "v",
         "showlegend": true,
         "textposition": "auto",
         "x": [
          "CELU",
          "ELU",
          "GELU",
          "Leaky RELU",
          "RELU",
          "RRELU",
          "SELU",
          "TANH"
         ],
         "xaxis": "x",
         "y": [
          1598.0,
          1859.25,
          2145.6666666666665,
          3385.5,
          2150.75,
          1989.0,
          1381.5555555555557,
          1753.5555555555557
         ],
         "yaxis": "y",
         "type": "bar"
        },
        {
         "alignmentgroup": "True",
         "hovertemplate": "optimizer=ASGD<br>algorithm=FA<br>activation function=%{x}<br>average fitness=%{y}<extra></extra>",
         "legendgroup": "ASGD",
         "marker": {
          "color": "#636efa",
          "pattern": {
           "shape": ""
          }
         },
         "name": "ASGD",
         "offsetgroup": "ASGD",
         "orientation": "v",
         "showlegend": false,
         "textposition": "auto",
         "x": [
          "CELU",
          "ELU",
          "GELU",
          "Leaky RELU",
          "RRELU",
          "SELU",
          "TANH"
         ],
         "xaxis": "x2",
         "y": [
          1660.8333333333333,
          1635.75,
          2290.2,
          1367.0,
          2072.625,
          1390.125,
          1694.5
         ],
         "yaxis": "y2",
         "type": "bar"
        },
        {
         "alignmentgroup": "True",
         "hovertemplate": "optimizer=ASGD<br>algorithm=GA<br>activation function=%{x}<br>average fitness=%{y}<extra></extra>",
         "legendgroup": "ASGD",
         "marker": {
          "color": "#636efa",
          "pattern": {
           "shape": ""
          }
         },
         "name": "ASGD",
         "offsetgroup": "ASGD",
         "orientation": "v",
         "showlegend": false,
         "textposition": "auto",
         "x": [
          "CELU",
          "ELU",
          "GELU",
          "Leaky RELU",
          "RELU",
          "RRELU",
          "SELU",
          "TANH"
         ],
         "xaxis": "x3",
         "y": [
          1783.0,
          1980.857142857143,
          2027.8,
          2260.6666666666665,
          1509.5,
          2235.4,
          1435.0,
          1606.0
         ],
         "yaxis": "y3",
         "type": "bar"
        },
        {
         "alignmentgroup": "True",
         "hovertemplate": "optimizer=ASGD<br>algorithm=PSO<br>activation function=%{x}<br>average fitness=%{y}<extra></extra>",
         "legendgroup": "ASGD",
         "marker": {
          "color": "#636efa",
          "pattern": {
           "shape": ""
          }
         },
         "name": "ASGD",
         "offsetgroup": "ASGD",
         "orientation": "v",
         "showlegend": false,
         "textposition": "auto",
         "x": [
          "CELU",
          "ELU",
          "GELU",
          "Leaky RELU",
          "RRELU",
          "SELU",
          "TANH"
         ],
         "xaxis": "x4",
         "y": [
          2605.4,
          1624.4285714285713,
          2457.25,
          2486.3333333333335,
          2212.2,
          1612.75,
          1865.1
         ],
         "yaxis": "y4",
         "type": "bar"
        },
        {
         "alignmentgroup": "True",
         "hovertemplate": "optimizer=ASGD<br>algorithm=SADE<br>activation function=%{x}<br>average fitness=%{y}<extra></extra>",
         "legendgroup": "ASGD",
         "marker": {
          "color": "#636efa",
          "pattern": {
           "shape": ""
          }
         },
         "name": "ASGD",
         "offsetgroup": "ASGD",
         "orientation": "v",
         "showlegend": false,
         "textposition": "auto",
         "x": [
          "CELU",
          "ELU",
          "GELU",
          "RELU",
          "RRELU",
          "SELU",
          "TANH"
         ],
         "xaxis": "x5",
         "y": [
          1686.2,
          1737.0,
          2483.625,
          1825.625,
          2053.0,
          1487.7272727272727,
          1977.7777777777778
         ],
         "yaxis": "y5",
         "type": "bar"
        },
        {
         "alignmentgroup": "True",
         "hovertemplate": "optimizer=Adagrad<br>algorithm=DE<br>activation function=%{x}<br>average fitness=%{y}<extra></extra>",
         "legendgroup": "Adagrad",
         "marker": {
          "color": "#EF553B",
          "pattern": {
           "shape": ""
          }
         },
         "name": "Adagrad",
         "offsetgroup": "Adagrad",
         "orientation": "v",
         "showlegend": true,
         "textposition": "auto",
         "x": [
          "CELU",
          "ELU",
          "GELU",
          "Leaky RELU",
          "RRELU",
          "SELU",
          "TANH"
         ],
         "xaxis": "x",
         "y": [
          1631.7272727272727,
          1797.909090909091,
          2343.8,
          2446.5,
          2176.6363636363635,
          1546.3333333333333,
          1899.1666666666667
         ],
         "yaxis": "y",
         "type": "bar"
        },
        {
         "alignmentgroup": "True",
         "hovertemplate": "optimizer=Adagrad<br>algorithm=FA<br>activation function=%{x}<br>average fitness=%{y}<extra></extra>",
         "legendgroup": "Adagrad",
         "marker": {
          "color": "#EF553B",
          "pattern": {
           "shape": ""
          }
         },
         "name": "Adagrad",
         "offsetgroup": "Adagrad",
         "orientation": "v",
         "showlegend": false,
         "textposition": "auto",
         "x": [
          "CELU",
          "ELU",
          "GELU",
          "Leaky RELU",
          "RELU",
          "RRELU",
          "SELU",
          "TANH"
         ],
         "xaxis": "x2",
         "y": [
          1672.0,
          2050.25,
          2386.0,
          2071.0,
          1717.5,
          2387.0,
          1381.0,
          1708.8
         ],
         "yaxis": "y2",
         "type": "bar"
        },
        {
         "alignmentgroup": "True",
         "hovertemplate": "optimizer=Adagrad<br>algorithm=GA<br>activation function=%{x}<br>average fitness=%{y}<extra></extra>",
         "legendgroup": "Adagrad",
         "marker": {
          "color": "#EF553B",
          "pattern": {
           "shape": ""
          }
         },
         "name": "Adagrad",
         "offsetgroup": "Adagrad",
         "orientation": "v",
         "showlegend": false,
         "textposition": "auto",
         "x": [
          "CELU",
          "ELU",
          "GELU",
          "Leaky RELU",
          "RELU",
          "RRELU",
          "SELU",
          "TANH"
         ],
         "xaxis": "x3",
         "y": [
          1736.0,
          1827.3333333333333,
          2176.1,
          3453.0,
          1975.75,
          2308.3333333333335,
          1381.8,
          1691.0
         ],
         "yaxis": "y3",
         "type": "bar"
        },
        {
         "alignmentgroup": "True",
         "hovertemplate": "optimizer=Adagrad<br>algorithm=PSO<br>activation function=%{x}<br>average fitness=%{y}<extra></extra>",
         "legendgroup": "Adagrad",
         "marker": {
          "color": "#EF553B",
          "pattern": {
           "shape": ""
          }
         },
         "name": "Adagrad",
         "offsetgroup": "Adagrad",
         "orientation": "v",
         "showlegend": false,
         "textposition": "auto",
         "x": [
          "CELU",
          "ELU",
          "GELU",
          "RELU",
          "RRELU",
          "SELU",
          "TANH"
         ],
         "xaxis": "x4",
         "y": [
          1821.4,
          1724.6,
          2173.0,
          2133.5,
          2030.0,
          1461.6666666666667,
          1600.6666666666667
         ],
         "yaxis": "y4",
         "type": "bar"
        },
        {
         "alignmentgroup": "True",
         "hovertemplate": "optimizer=Adagrad<br>algorithm=SADE<br>activation function=%{x}<br>average fitness=%{y}<extra></extra>",
         "legendgroup": "Adagrad",
         "marker": {
          "color": "#EF553B",
          "pattern": {
           "shape": ""
          }
         },
         "name": "Adagrad",
         "offsetgroup": "Adagrad",
         "orientation": "v",
         "showlegend": false,
         "textposition": "auto",
         "x": [
          "CELU",
          "ELU",
          "GELU",
          "Leaky RELU",
          "RELU",
          "RRELU",
          "SELU",
          "TANH"
         ],
         "xaxis": "x5",
         "y": [
          1577.8,
          1733.8461538461538,
          2149.0,
          1701.5,
          2371.5,
          2151.5555555555557,
          1375.7777777777778,
          1825.1
         ],
         "yaxis": "y5",
         "type": "bar"
        },
        {
         "alignmentgroup": "True",
         "hovertemplate": "optimizer=Adam<br>algorithm=DE<br>activation function=%{x}<br>average fitness=%{y}<extra></extra>",
         "legendgroup": "Adam",
         "marker": {
          "color": "#00cc96",
          "pattern": {
           "shape": ""
          }
         },
         "name": "Adam",
         "offsetgroup": "Adam",
         "orientation": "v",
         "showlegend": true,
         "textposition": "auto",
         "x": [
          "CELU",
          "ELU",
          "GELU",
          "Leaky RELU",
          "RELU",
          "RRELU",
          "SELU",
          "TANH"
         ],
         "xaxis": "x",
         "y": [
          1864.142857142857,
          1969.2222222222222,
          2053.6666666666665,
          1920.0,
          3035.0,
          2404.6,
          1449.75,
          1851.4
         ],
         "yaxis": "y",
         "type": "bar"
        },
        {
         "alignmentgroup": "True",
         "hovertemplate": "optimizer=Adam<br>algorithm=FA<br>activation function=%{x}<br>average fitness=%{y}<extra></extra>",
         "legendgroup": "Adam",
         "marker": {
          "color": "#00cc96",
          "pattern": {
           "shape": ""
          }
         },
         "name": "Adam",
         "offsetgroup": "Adam",
         "orientation": "v",
         "showlegend": false,
         "textposition": "auto",
         "x": [
          "CELU",
          "ELU",
          "GELU",
          "Leaky RELU",
          "RELU",
          "RRELU",
          "SELU",
          "TANH"
         ],
         "xaxis": "x2",
         "y": [
          1713.0,
          1525.6666666666667,
          2320.8333333333335,
          2522.6666666666665,
          1391.5,
          2518.5454545454545,
          1360.0,
          1786.0
         ],
         "yaxis": "y2",
         "type": "bar"
        },
        {
         "alignmentgroup": "True",
         "hovertemplate": "optimizer=Adam<br>algorithm=GA<br>activation function=%{x}<br>average fitness=%{y}<extra></extra>",
         "legendgroup": "Adam",
         "marker": {
          "color": "#00cc96",
          "pattern": {
           "shape": ""
          }
         },
         "name": "Adam",
         "offsetgroup": "Adam",
         "orientation": "v",
         "showlegend": false,
         "textposition": "auto",
         "x": [
          "CELU",
          "ELU",
          "GELU",
          "Leaky RELU",
          "RELU",
          "RRELU",
          "SELU",
          "TANH"
         ],
         "xaxis": "x3",
         "y": [
          2329.3333333333335,
          1863.0,
          2617.1666666666665,
          2157.75,
          1362.0,
          2569.5,
          1423.5,
          1817.3333333333333
         ],
         "yaxis": "y3",
         "type": "bar"
        },
        {
         "alignmentgroup": "True",
         "hovertemplate": "optimizer=Adam<br>algorithm=PSO<br>activation function=%{x}<br>average fitness=%{y}<extra></extra>",
         "legendgroup": "Adam",
         "marker": {
          "color": "#00cc96",
          "pattern": {
           "shape": ""
          }
         },
         "name": "Adam",
         "offsetgroup": "Adam",
         "orientation": "v",
         "showlegend": false,
         "textposition": "auto",
         "x": [
          "CELU",
          "ELU",
          "GELU",
          "Leaky RELU",
          "RELU",
          "RRELU",
          "SELU",
          "TANH"
         ],
         "xaxis": "x4",
         "y": [
          1625.4285714285713,
          1928.5,
          2146.25,
          2045.3333333333333,
          2350.0,
          2809.6,
          1445.0,
          1845.5
         ],
         "yaxis": "y4",
         "type": "bar"
        },
        {
         "alignmentgroup": "True",
         "hovertemplate": "optimizer=Adam<br>algorithm=SADE<br>activation function=%{x}<br>average fitness=%{y}<extra></extra>",
         "legendgroup": "Adam",
         "marker": {
          "color": "#00cc96",
          "pattern": {
           "shape": ""
          }
         },
         "name": "Adam",
         "offsetgroup": "Adam",
         "orientation": "v",
         "showlegend": false,
         "textposition": "auto",
         "x": [
          "CELU",
          "ELU",
          "GELU",
          "Leaky RELU",
          "RELU",
          "RRELU",
          "SELU",
          "TANH"
         ],
         "xaxis": "x5",
         "y": [
          1697.2727272727273,
          1894.3333333333333,
          2692.0,
          1869.5,
          2880.0,
          1914.3333333333333,
          1291.8,
          2017.3333333333333
         ],
         "yaxis": "y5",
         "type": "bar"
        },
        {
         "alignmentgroup": "True",
         "hovertemplate": "optimizer=RAdam<br>algorithm=DE<br>activation function=%{x}<br>average fitness=%{y}<extra></extra>",
         "legendgroup": "RAdam",
         "marker": {
          "color": "#ab63fa",
          "pattern": {
           "shape": ""
          }
         },
         "name": "RAdam",
         "offsetgroup": "RAdam",
         "orientation": "v",
         "showlegend": true,
         "textposition": "auto",
         "x": [
          "CELU",
          "ELU",
          "GELU",
          "Leaky RELU",
          "RELU",
          "RRELU",
          "SELU",
          "TANH"
         ],
         "xaxis": "x",
         "y": [
          1926.25,
          1927.2857142857142,
          2031.5,
          1642.6666666666667,
          3419.0,
          2187.6666666666665,
          1445.0,
          1787.4285714285713
         ],
         "yaxis": "y",
         "type": "bar"
        },
        {
         "alignmentgroup": "True",
         "hovertemplate": "optimizer=RAdam<br>algorithm=FA<br>activation function=%{x}<br>average fitness=%{y}<extra></extra>",
         "legendgroup": "RAdam",
         "marker": {
          "color": "#ab63fa",
          "pattern": {
           "shape": ""
          }
         },
         "name": "RAdam",
         "offsetgroup": "RAdam",
         "orientation": "v",
         "showlegend": false,
         "textposition": "auto",
         "x": [
          "CELU",
          "ELU",
          "GELU",
          "Leaky RELU",
          "RELU",
          "RRELU",
          "SELU",
          "TANH"
         ],
         "xaxis": "x2",
         "y": [
          1978.5,
          1535.25,
          2202.4,
          1914.0,
          1884.0,
          2329.8333333333335,
          1531.142857142857,
          1633.2222222222222
         ],
         "yaxis": "y2",
         "type": "bar"
        },
        {
         "alignmentgroup": "True",
         "hovertemplate": "optimizer=RAdam<br>algorithm=GA<br>activation function=%{x}<br>average fitness=%{y}<extra></extra>",
         "legendgroup": "RAdam",
         "marker": {
          "color": "#ab63fa",
          "pattern": {
           "shape": ""
          }
         },
         "name": "RAdam",
         "offsetgroup": "RAdam",
         "orientation": "v",
         "showlegend": false,
         "textposition": "auto",
         "x": [
          "CELU",
          "ELU",
          "GELU",
          "Leaky RELU",
          "RRELU",
          "SELU",
          "TANH"
         ],
         "xaxis": "x3",
         "y": [
          1687.3333333333333,
          1784.5,
          1867.0,
          2647.0,
          2392.0,
          1525.0,
          1844.1666666666667
         ],
         "yaxis": "y3",
         "type": "bar"
        },
        {
         "alignmentgroup": "True",
         "hovertemplate": "optimizer=RAdam<br>algorithm=PSO<br>activation function=%{x}<br>average fitness=%{y}<extra></extra>",
         "legendgroup": "RAdam",
         "marker": {
          "color": "#ab63fa",
          "pattern": {
           "shape": ""
          }
         },
         "name": "RAdam",
         "offsetgroup": "RAdam",
         "orientation": "v",
         "showlegend": false,
         "textposition": "auto",
         "x": [
          "CELU",
          "ELU",
          "GELU",
          "Leaky RELU",
          "RELU",
          "RRELU",
          "SELU",
          "TANH"
         ],
         "xaxis": "x4",
         "y": [
          1852.75,
          1786.6666666666667,
          2654.3333333333335,
          2352.6666666666665,
          1768.5,
          3165.0,
          1355.4545454545455,
          1977.6
         ],
         "yaxis": "y4",
         "type": "bar"
        },
        {
         "alignmentgroup": "True",
         "hovertemplate": "optimizer=RAdam<br>algorithm=SADE<br>activation function=%{x}<br>average fitness=%{y}<extra></extra>",
         "legendgroup": "RAdam",
         "marker": {
          "color": "#ab63fa",
          "pattern": {
           "shape": ""
          }
         },
         "name": "RAdam",
         "offsetgroup": "RAdam",
         "orientation": "v",
         "showlegend": false,
         "textposition": "auto",
         "x": [
          "CELU",
          "ELU",
          "GELU",
          "Leaky RELU",
          "RELU",
          "RRELU",
          "SELU",
          "TANH"
         ],
         "xaxis": "x5",
         "y": [
          2077.0,
          1899.4285714285713,
          2561.4,
          2085.75,
          1358.0,
          2134.9,
          1467.2857142857142,
          1938.0
         ],
         "yaxis": "y5",
         "type": "bar"
        },
        {
         "alignmentgroup": "True",
         "hovertemplate": "optimizer=RPROP<br>algorithm=DE<br>activation function=%{x}<br>average fitness=%{y}<extra></extra>",
         "legendgroup": "RPROP",
         "marker": {
          "color": "#FFA15A",
          "pattern": {
           "shape": ""
          }
         },
         "name": "RPROP",
         "offsetgroup": "RPROP",
         "orientation": "v",
         "showlegend": true,
         "textposition": "auto",
         "x": [
          "CELU",
          "ELU",
          "GELU",
          "Leaky RELU",
          "RELU",
          "RRELU",
          "SELU",
          "TANH"
         ],
         "xaxis": "x",
         "y": [
          930.8888888888889,
          938.6666666666666,
          1255.75,
          905.6,
          1092.0,
          972.0,
          969.6,
          432.5
         ],
         "yaxis": "y",
         "type": "bar"
        },
        {
         "alignmentgroup": "True",
         "hovertemplate": "optimizer=RPROP<br>algorithm=FA<br>activation function=%{x}<br>average fitness=%{y}<extra></extra>",
         "legendgroup": "RPROP",
         "marker": {
          "color": "#FFA15A",
          "pattern": {
           "shape": ""
          }
         },
         "name": "RPROP",
         "offsetgroup": "RPROP",
         "orientation": "v",
         "showlegend": false,
         "textposition": "auto",
         "x": [
          "CELU",
          "ELU",
          "GELU",
          "Leaky RELU",
          "RELU",
          "RRELU",
          "SELU",
          "TANH"
         ],
         "xaxis": "x2",
         "y": [
          1000.4285714285714,
          973.6666666666666,
          966.4,
          906.5714285714286,
          899.5,
          1041.25,
          921.0,
          283.3333333333333
         ],
         "yaxis": "y2",
         "type": "bar"
        },
        {
         "alignmentgroup": "True",
         "hovertemplate": "optimizer=RPROP<br>algorithm=GA<br>activation function=%{x}<br>average fitness=%{y}<extra></extra>",
         "legendgroup": "RPROP",
         "marker": {
          "color": "#FFA15A",
          "pattern": {
           "shape": ""
          }
         },
         "name": "RPROP",
         "offsetgroup": "RPROP",
         "orientation": "v",
         "showlegend": false,
         "textposition": "auto",
         "x": [
          "CELU",
          "ELU",
          "GELU",
          "Leaky RELU",
          "RELU",
          "RRELU",
          "SELU",
          "TANH"
         ],
         "xaxis": "x3",
         "y": [
          1024.0,
          848.0,
          1894.8333333333333,
          989.0,
          1350.6666666666667,
          1007.0,
          834.5,
          345.6666666666667
         ],
         "yaxis": "y3",
         "type": "bar"
        },
        {
         "alignmentgroup": "True",
         "hovertemplate": "optimizer=RPROP<br>algorithm=PSO<br>activation function=%{x}<br>average fitness=%{y}<extra></extra>",
         "legendgroup": "RPROP",
         "marker": {
          "color": "#FFA15A",
          "pattern": {
           "shape": ""
          }
         },
         "name": "RPROP",
         "offsetgroup": "RPROP",
         "orientation": "v",
         "showlegend": false,
         "textposition": "auto",
         "x": [
          "CELU",
          "ELU",
          "GELU",
          "Leaky RELU",
          "RELU",
          "RRELU",
          "SELU",
          "TANH"
         ],
         "xaxis": "x4",
         "y": [
          1044.0,
          971.0,
          1179.857142857143,
          880.8888888888889,
          1591.111111111111,
          992.0,
          935.4444444444445,
          428.5
         ],
         "yaxis": "y4",
         "type": "bar"
        },
        {
         "alignmentgroup": "True",
         "hovertemplate": "optimizer=RPROP<br>algorithm=SADE<br>activation function=%{x}<br>average fitness=%{y}<extra></extra>",
         "legendgroup": "RPROP",
         "marker": {
          "color": "#FFA15A",
          "pattern": {
           "shape": ""
          }
         },
         "name": "RPROP",
         "offsetgroup": "RPROP",
         "orientation": "v",
         "showlegend": false,
         "textposition": "auto",
         "x": [
          "CELU",
          "ELU",
          "GELU",
          "Leaky RELU",
          "RELU",
          "RRELU",
          "SELU",
          "TANH"
         ],
         "xaxis": "x5",
         "y": [
          880.0,
          970.125,
          1354.0,
          944.2222222222222,
          1032.0,
          973.8,
          888.8571428571429,
          392.4
         ],
         "yaxis": "y5",
         "type": "bar"
        },
        {
         "alignmentgroup": "True",
         "hovertemplate": "optimizer=SGD<br>algorithm=DE<br>activation function=%{x}<br>average fitness=%{y}<extra></extra>",
         "legendgroup": "SGD",
         "marker": {
          "color": "#19d3f3",
          "pattern": {
           "shape": ""
          }
         },
         "name": "SGD",
         "offsetgroup": "SGD",
         "orientation": "v",
         "showlegend": true,
         "textposition": "auto",
         "x": [
          "CELU",
          "ELU",
          "GELU",
          "Leaky RELU",
          "RELU",
          "RRELU",
          "SELU",
          "TANH"
         ],
         "xaxis": "x",
         "y": [
          1691.6666666666667,
          2213.714285714286,
          2676.2,
          1590.0,
          1596.5,
          2306.5,
          1374.6666666666667,
          1440.5
         ],
         "yaxis": "y",
         "type": "bar"
        },
        {
         "alignmentgroup": "True",
         "hovertemplate": "optimizer=SGD<br>algorithm=FA<br>activation function=%{x}<br>average fitness=%{y}<extra></extra>",
         "legendgroup": "SGD",
         "marker": {
          "color": "#19d3f3",
          "pattern": {
           "shape": ""
          }
         },
         "name": "SGD",
         "offsetgroup": "SGD",
         "orientation": "v",
         "showlegend": false,
         "textposition": "auto",
         "x": [
          "CELU",
          "ELU",
          "GELU",
          "Leaky RELU",
          "RRELU",
          "SELU",
          "TANH"
         ],
         "xaxis": "x2",
         "y": [
          1846.0,
          2056.0,
          2593.5,
          1824.2,
          2233.0,
          1377.125,
          1867.7777777777778
         ],
         "yaxis": "y2",
         "type": "bar"
        },
        {
         "alignmentgroup": "True",
         "hovertemplate": "optimizer=SGD<br>algorithm=GA<br>activation function=%{x}<br>average fitness=%{y}<extra></extra>",
         "legendgroup": "SGD",
         "marker": {
          "color": "#19d3f3",
          "pattern": {
           "shape": ""
          }
         },
         "name": "SGD",
         "offsetgroup": "SGD",
         "orientation": "v",
         "showlegend": false,
         "textposition": "auto",
         "x": [
          "CELU",
          "ELU",
          "GELU",
          "Leaky RELU",
          "RELU",
          "RRELU",
          "SELU",
          "TANH"
         ],
         "xaxis": "x3",
         "y": [
          1683.25,
          2242.5,
          2096.5,
          2019.4,
          2153.5,
          2689.6666666666665,
          1405.888888888889,
          1871.9166666666667
         ],
         "yaxis": "y3",
         "type": "bar"
        },
        {
         "alignmentgroup": "True",
         "hovertemplate": "optimizer=SGD<br>algorithm=PSO<br>activation function=%{x}<br>average fitness=%{y}<extra></extra>",
         "legendgroup": "SGD",
         "marker": {
          "color": "#19d3f3",
          "pattern": {
           "shape": ""
          }
         },
         "name": "SGD",
         "offsetgroup": "SGD",
         "orientation": "v",
         "showlegend": false,
         "textposition": "auto",
         "x": [
          "CELU",
          "ELU",
          "GELU",
          "Leaky RELU",
          "RELU",
          "RRELU",
          "SELU",
          "TANH"
         ],
         "xaxis": "x4",
         "y": [
          1677.857142857143,
          1794.111111111111,
          2409.5714285714284,
          1735.6666666666667,
          1880.6666666666667,
          2095.285714285714,
          1307.5,
          1713.5
         ],
         "yaxis": "y4",
         "type": "bar"
        },
        {
         "alignmentgroup": "True",
         "hovertemplate": "optimizer=SGD<br>algorithm=SADE<br>activation function=%{x}<br>average fitness=%{y}<extra></extra>",
         "legendgroup": "SGD",
         "marker": {
          "color": "#19d3f3",
          "pattern": {
           "shape": ""
          }
         },
         "name": "SGD",
         "offsetgroup": "SGD",
         "orientation": "v",
         "showlegend": false,
         "textposition": "auto",
         "x": [
          "CELU",
          "ELU",
          "GELU",
          "Leaky RELU",
          "RELU",
          "RRELU",
          "SELU",
          "TANH"
         ],
         "xaxis": "x5",
         "y": [
          1677.0,
          1688.4285714285713,
          2665.1666666666665,
          2320.6666666666665,
          1897.25,
          2372.8,
          1545.6,
          1970.0
         ],
         "yaxis": "y5",
         "type": "bar"
        }
       ],
       "layout": {
        "template": {
         "data": {
          "histogram2dcontour": [
           {
            "type": "histogram2dcontour",
            "colorbar": {
             "outlinewidth": 0,
             "ticks": ""
            },
            "colorscale": [
             [
              0.0,
              "#0d0887"
             ],
             [
              0.1111111111111111,
              "#46039f"
             ],
             [
              0.2222222222222222,
              "#7201a8"
             ],
             [
              0.3333333333333333,
              "#9c179e"
             ],
             [
              0.4444444444444444,
              "#bd3786"
             ],
             [
              0.5555555555555556,
              "#d8576b"
             ],
             [
              0.6666666666666666,
              "#ed7953"
             ],
             [
              0.7777777777777778,
              "#fb9f3a"
             ],
             [
              0.8888888888888888,
              "#fdca26"
             ],
             [
              1.0,
              "#f0f921"
             ]
            ]
           }
          ],
          "choropleth": [
           {
            "type": "choropleth",
            "colorbar": {
             "outlinewidth": 0,
             "ticks": ""
            }
           }
          ],
          "histogram2d": [
           {
            "type": "histogram2d",
            "colorbar": {
             "outlinewidth": 0,
             "ticks": ""
            },
            "colorscale": [
             [
              0.0,
              "#0d0887"
             ],
             [
              0.1111111111111111,
              "#46039f"
             ],
             [
              0.2222222222222222,
              "#7201a8"
             ],
             [
              0.3333333333333333,
              "#9c179e"
             ],
             [
              0.4444444444444444,
              "#bd3786"
             ],
             [
              0.5555555555555556,
              "#d8576b"
             ],
             [
              0.6666666666666666,
              "#ed7953"
             ],
             [
              0.7777777777777778,
              "#fb9f3a"
             ],
             [
              0.8888888888888888,
              "#fdca26"
             ],
             [
              1.0,
              "#f0f921"
             ]
            ]
           }
          ],
          "heatmap": [
           {
            "type": "heatmap",
            "colorbar": {
             "outlinewidth": 0,
             "ticks": ""
            },
            "colorscale": [
             [
              0.0,
              "#0d0887"
             ],
             [
              0.1111111111111111,
              "#46039f"
             ],
             [
              0.2222222222222222,
              "#7201a8"
             ],
             [
              0.3333333333333333,
              "#9c179e"
             ],
             [
              0.4444444444444444,
              "#bd3786"
             ],
             [
              0.5555555555555556,
              "#d8576b"
             ],
             [
              0.6666666666666666,
              "#ed7953"
             ],
             [
              0.7777777777777778,
              "#fb9f3a"
             ],
             [
              0.8888888888888888,
              "#fdca26"
             ],
             [
              1.0,
              "#f0f921"
             ]
            ]
           }
          ],
          "heatmapgl": [
           {
            "type": "heatmapgl",
            "colorbar": {
             "outlinewidth": 0,
             "ticks": ""
            },
            "colorscale": [
             [
              0.0,
              "#0d0887"
             ],
             [
              0.1111111111111111,
              "#46039f"
             ],
             [
              0.2222222222222222,
              "#7201a8"
             ],
             [
              0.3333333333333333,
              "#9c179e"
             ],
             [
              0.4444444444444444,
              "#bd3786"
             ],
             [
              0.5555555555555556,
              "#d8576b"
             ],
             [
              0.6666666666666666,
              "#ed7953"
             ],
             [
              0.7777777777777778,
              "#fb9f3a"
             ],
             [
              0.8888888888888888,
              "#fdca26"
             ],
             [
              1.0,
              "#f0f921"
             ]
            ]
           }
          ],
          "contourcarpet": [
           {
            "type": "contourcarpet",
            "colorbar": {
             "outlinewidth": 0,
             "ticks": ""
            }
           }
          ],
          "contour": [
           {
            "type": "contour",
            "colorbar": {
             "outlinewidth": 0,
             "ticks": ""
            },
            "colorscale": [
             [
              0.0,
              "#0d0887"
             ],
             [
              0.1111111111111111,
              "#46039f"
             ],
             [
              0.2222222222222222,
              "#7201a8"
             ],
             [
              0.3333333333333333,
              "#9c179e"
             ],
             [
              0.4444444444444444,
              "#bd3786"
             ],
             [
              0.5555555555555556,
              "#d8576b"
             ],
             [
              0.6666666666666666,
              "#ed7953"
             ],
             [
              0.7777777777777778,
              "#fb9f3a"
             ],
             [
              0.8888888888888888,
              "#fdca26"
             ],
             [
              1.0,
              "#f0f921"
             ]
            ]
           }
          ],
          "surface": [
           {
            "type": "surface",
            "colorbar": {
             "outlinewidth": 0,
             "ticks": ""
            },
            "colorscale": [
             [
              0.0,
              "#0d0887"
             ],
             [
              0.1111111111111111,
              "#46039f"
             ],
             [
              0.2222222222222222,
              "#7201a8"
             ],
             [
              0.3333333333333333,
              "#9c179e"
             ],
             [
              0.4444444444444444,
              "#bd3786"
             ],
             [
              0.5555555555555556,
              "#d8576b"
             ],
             [
              0.6666666666666666,
              "#ed7953"
             ],
             [
              0.7777777777777778,
              "#fb9f3a"
             ],
             [
              0.8888888888888888,
              "#fdca26"
             ],
             [
              1.0,
              "#f0f921"
             ]
            ]
           }
          ],
          "mesh3d": [
           {
            "type": "mesh3d",
            "colorbar": {
             "outlinewidth": 0,
             "ticks": ""
            }
           }
          ],
          "scatter": [
           {
            "fillpattern": {
             "fillmode": "overlay",
             "size": 10,
             "solidity": 0.2
            },
            "type": "scatter"
           }
          ],
          "parcoords": [
           {
            "type": "parcoords",
            "line": {
             "colorbar": {
              "outlinewidth": 0,
              "ticks": ""
             }
            }
           }
          ],
          "scatterpolargl": [
           {
            "type": "scatterpolargl",
            "marker": {
             "colorbar": {
              "outlinewidth": 0,
              "ticks": ""
             }
            }
           }
          ],
          "bar": [
           {
            "error_x": {
             "color": "#2a3f5f"
            },
            "error_y": {
             "color": "#2a3f5f"
            },
            "marker": {
             "line": {
              "color": "#E5ECF6",
              "width": 0.5
             },
             "pattern": {
              "fillmode": "overlay",
              "size": 10,
              "solidity": 0.2
             }
            },
            "type": "bar"
           }
          ],
          "scattergeo": [
           {
            "type": "scattergeo",
            "marker": {
             "colorbar": {
              "outlinewidth": 0,
              "ticks": ""
             }
            }
           }
          ],
          "scatterpolar": [
           {
            "type": "scatterpolar",
            "marker": {
             "colorbar": {
              "outlinewidth": 0,
              "ticks": ""
             }
            }
           }
          ],
          "histogram": [
           {
            "marker": {
             "pattern": {
              "fillmode": "overlay",
              "size": 10,
              "solidity": 0.2
             }
            },
            "type": "histogram"
           }
          ],
          "scattergl": [
           {
            "type": "scattergl",
            "marker": {
             "colorbar": {
              "outlinewidth": 0,
              "ticks": ""
             }
            }
           }
          ],
          "scatter3d": [
           {
            "type": "scatter3d",
            "line": {
             "colorbar": {
              "outlinewidth": 0,
              "ticks": ""
             }
            },
            "marker": {
             "colorbar": {
              "outlinewidth": 0,
              "ticks": ""
             }
            }
           }
          ],
          "scattermapbox": [
           {
            "type": "scattermapbox",
            "marker": {
             "colorbar": {
              "outlinewidth": 0,
              "ticks": ""
             }
            }
           }
          ],
          "scatterternary": [
           {
            "type": "scatterternary",
            "marker": {
             "colorbar": {
              "outlinewidth": 0,
              "ticks": ""
             }
            }
           }
          ],
          "scattercarpet": [
           {
            "type": "scattercarpet",
            "marker": {
             "colorbar": {
              "outlinewidth": 0,
              "ticks": ""
             }
            }
           }
          ],
          "carpet": [
           {
            "aaxis": {
             "endlinecolor": "#2a3f5f",
             "gridcolor": "white",
             "linecolor": "white",
             "minorgridcolor": "white",
             "startlinecolor": "#2a3f5f"
            },
            "baxis": {
             "endlinecolor": "#2a3f5f",
             "gridcolor": "white",
             "linecolor": "white",
             "minorgridcolor": "white",
             "startlinecolor": "#2a3f5f"
            },
            "type": "carpet"
           }
          ],
          "table": [
           {
            "cells": {
             "fill": {
              "color": "#EBF0F8"
             },
             "line": {
              "color": "white"
             }
            },
            "header": {
             "fill": {
              "color": "#C8D4E3"
             },
             "line": {
              "color": "white"
             }
            },
            "type": "table"
           }
          ],
          "barpolar": [
           {
            "marker": {
             "line": {
              "color": "#E5ECF6",
              "width": 0.5
             },
             "pattern": {
              "fillmode": "overlay",
              "size": 10,
              "solidity": 0.2
             }
            },
            "type": "barpolar"
           }
          ],
          "pie": [
           {
            "automargin": true,
            "type": "pie"
           }
          ]
         },
         "layout": {
          "autotypenumbers": "strict",
          "colorway": [
           "#636efa",
           "#EF553B",
           "#00cc96",
           "#ab63fa",
           "#FFA15A",
           "#19d3f3",
           "#FF6692",
           "#B6E880",
           "#FF97FF",
           "#FECB52"
          ],
          "font": {
           "color": "#2a3f5f"
          },
          "hovermode": "closest",
          "hoverlabel": {
           "align": "left"
          },
          "paper_bgcolor": "white",
          "plot_bgcolor": "#E5ECF6",
          "polar": {
           "bgcolor": "#E5ECF6",
           "angularaxis": {
            "gridcolor": "white",
            "linecolor": "white",
            "ticks": ""
           },
           "radialaxis": {
            "gridcolor": "white",
            "linecolor": "white",
            "ticks": ""
           }
          },
          "ternary": {
           "bgcolor": "#E5ECF6",
           "aaxis": {
            "gridcolor": "white",
            "linecolor": "white",
            "ticks": ""
           },
           "baxis": {
            "gridcolor": "white",
            "linecolor": "white",
            "ticks": ""
           },
           "caxis": {
            "gridcolor": "white",
            "linecolor": "white",
            "ticks": ""
           }
          },
          "coloraxis": {
           "colorbar": {
            "outlinewidth": 0,
            "ticks": ""
           }
          },
          "colorscale": {
           "sequential": [
            [
             0.0,
             "#0d0887"
            ],
            [
             0.1111111111111111,
             "#46039f"
            ],
            [
             0.2222222222222222,
             "#7201a8"
            ],
            [
             0.3333333333333333,
             "#9c179e"
            ],
            [
             0.4444444444444444,
             "#bd3786"
            ],
            [
             0.5555555555555556,
             "#d8576b"
            ],
            [
             0.6666666666666666,
             "#ed7953"
            ],
            [
             0.7777777777777778,
             "#fb9f3a"
            ],
            [
             0.8888888888888888,
             "#fdca26"
            ],
            [
             1.0,
             "#f0f921"
            ]
           ],
           "sequentialminus": [
            [
             0.0,
             "#0d0887"
            ],
            [
             0.1111111111111111,
             "#46039f"
            ],
            [
             0.2222222222222222,
             "#7201a8"
            ],
            [
             0.3333333333333333,
             "#9c179e"
            ],
            [
             0.4444444444444444,
             "#bd3786"
            ],
            [
             0.5555555555555556,
             "#d8576b"
            ],
            [
             0.6666666666666666,
             "#ed7953"
            ],
            [
             0.7777777777777778,
             "#fb9f3a"
            ],
            [
             0.8888888888888888,
             "#fdca26"
            ],
            [
             1.0,
             "#f0f921"
            ]
           ],
           "diverging": [
            [
             0,
             "#8e0152"
            ],
            [
             0.1,
             "#c51b7d"
            ],
            [
             0.2,
             "#de77ae"
            ],
            [
             0.3,
             "#f1b6da"
            ],
            [
             0.4,
             "#fde0ef"
            ],
            [
             0.5,
             "#f7f7f7"
            ],
            [
             0.6,
             "#e6f5d0"
            ],
            [
             0.7,
             "#b8e186"
            ],
            [
             0.8,
             "#7fbc41"
            ],
            [
             0.9,
             "#4d9221"
            ],
            [
             1,
             "#276419"
            ]
           ]
          },
          "xaxis": {
           "gridcolor": "white",
           "linecolor": "white",
           "ticks": "",
           "title": {
            "standoff": 15
           },
           "zerolinecolor": "white",
           "automargin": true,
           "zerolinewidth": 2
          },
          "yaxis": {
           "gridcolor": "white",
           "linecolor": "white",
           "ticks": "",
           "title": {
            "standoff": 15
           },
           "zerolinecolor": "white",
           "automargin": true,
           "zerolinewidth": 2
          },
          "scene": {
           "xaxis": {
            "backgroundcolor": "#E5ECF6",
            "gridcolor": "white",
            "linecolor": "white",
            "showbackground": true,
            "ticks": "",
            "zerolinecolor": "white",
            "gridwidth": 2
           },
           "yaxis": {
            "backgroundcolor": "#E5ECF6",
            "gridcolor": "white",
            "linecolor": "white",
            "showbackground": true,
            "ticks": "",
            "zerolinecolor": "white",
            "gridwidth": 2
           },
           "zaxis": {
            "backgroundcolor": "#E5ECF6",
            "gridcolor": "white",
            "linecolor": "white",
            "showbackground": true,
            "ticks": "",
            "zerolinecolor": "white",
            "gridwidth": 2
           }
          },
          "shapedefaults": {
           "line": {
            "color": "#2a3f5f"
           }
          },
          "annotationdefaults": {
           "arrowcolor": "#2a3f5f",
           "arrowhead": 0,
           "arrowwidth": 1
          },
          "geo": {
           "bgcolor": "white",
           "landcolor": "#E5ECF6",
           "subunitcolor": "white",
           "showland": true,
           "showlakes": true,
           "lakecolor": "white"
          },
          "title": {
           "x": 0.05
          },
          "mapbox": {
           "style": "light"
          }
         }
        },
        "xaxis": {
         "anchor": "y",
         "domain": [
          0.0,
          0.18400000000000002
         ],
         "title": {
          "text": "activation function"
         }
        },
        "yaxis": {
         "anchor": "x",
         "domain": [
          0.0,
          1.0
         ],
         "title": {
          "text": "average fitness"
         }
        },
        "xaxis2": {
         "anchor": "y2",
         "domain": [
          0.20400000000000001,
          0.388
         ],
         "matches": "x",
         "title": {
          "text": "activation function"
         }
        },
        "yaxis2": {
         "anchor": "x2",
         "domain": [
          0.0,
          1.0
         ],
         "matches": "y",
         "showticklabels": false
        },
        "xaxis3": {
         "anchor": "y3",
         "domain": [
          0.40800000000000003,
          0.5920000000000001
         ],
         "matches": "x",
         "title": {
          "text": "activation function"
         }
        },
        "yaxis3": {
         "anchor": "x3",
         "domain": [
          0.0,
          1.0
         ],
         "matches": "y",
         "showticklabels": false
        },
        "xaxis4": {
         "anchor": "y4",
         "domain": [
          0.6120000000000001,
          0.7960000000000002
         ],
         "matches": "x",
         "title": {
          "text": "activation function"
         }
        },
        "yaxis4": {
         "anchor": "x4",
         "domain": [
          0.0,
          1.0
         ],
         "matches": "y",
         "showticklabels": false
        },
        "xaxis5": {
         "anchor": "y5",
         "domain": [
          0.8160000000000001,
          1.0
         ],
         "matches": "x",
         "title": {
          "text": "activation function"
         }
        },
        "yaxis5": {
         "anchor": "x5",
         "domain": [
          0.0,
          1.0
         ],
         "matches": "y",
         "showticklabels": false
        },
        "annotations": [
         {
          "font": {},
          "showarrow": false,
          "text": "algorithm=DE",
          "x": 0.09200000000000001,
          "xanchor": "center",
          "xref": "paper",
          "y": 1.0,
          "yanchor": "bottom",
          "yref": "paper"
         },
         {
          "font": {},
          "showarrow": false,
          "text": "algorithm=FA",
          "x": 0.29600000000000004,
          "xanchor": "center",
          "xref": "paper",
          "y": 1.0,
          "yanchor": "bottom",
          "yref": "paper"
         },
         {
          "font": {},
          "showarrow": false,
          "text": "algorithm=GA",
          "x": 0.5,
          "xanchor": "center",
          "xref": "paper",
          "y": 1.0,
          "yanchor": "bottom",
          "yref": "paper"
         },
         {
          "font": {},
          "showarrow": false,
          "text": "algorithm=PSO",
          "x": 0.7040000000000002,
          "xanchor": "center",
          "xref": "paper",
          "y": 1.0,
          "yanchor": "bottom",
          "yref": "paper"
         },
         {
          "font": {},
          "showarrow": false,
          "text": "algorithm=SADE",
          "x": 0.908,
          "xanchor": "center",
          "xref": "paper",
          "y": 1.0,
          "yanchor": "bottom",
          "yref": "paper"
         }
        ],
        "legend": {
         "title": {
          "text": "optimizer"
         },
         "tracegroupgap": 0,
         "orientation": "h",
         "yanchor": "bottom",
         "y": 1.15,
         "xanchor": "center",
         "x": 0.5
        },
        "margin": {
         "t": 60
        },
        "barmode": "group",
        "autosize": false,
        "width": 1600,
        "height": 450
       },
       "config": {
        "plotlyServerURL": "https://plot.ly"
       }
      },
      "text/html": "<div>                            <div id=\"bd465d37-ccb6-41bf-8b90-4d24c5d57b02\" class=\"plotly-graph-div\" style=\"height:450px; width:1600px;\"></div>            <script type=\"text/javascript\">                require([\"plotly\"], function(Plotly) {                    window.PLOTLYENV=window.PLOTLYENV || {};                                    if (document.getElementById(\"bd465d37-ccb6-41bf-8b90-4d24c5d57b02\")) {                    Plotly.newPlot(                        \"bd465d37-ccb6-41bf-8b90-4d24c5d57b02\",                        [{\"alignmentgroup\":\"True\",\"hovertemplate\":\"optimizer=ASGD\\u003cbr\\u003ealgorithm=DE\\u003cbr\\u003eactivation function=%{x}\\u003cbr\\u003eaverage fitness=%{y}\\u003cextra\\u003e\\u003c\\u002fextra\\u003e\",\"legendgroup\":\"ASGD\",\"marker\":{\"color\":\"#636efa\",\"pattern\":{\"shape\":\"\"}},\"name\":\"ASGD\",\"offsetgroup\":\"ASGD\",\"orientation\":\"v\",\"showlegend\":true,\"textposition\":\"auto\",\"x\":[\"CELU\",\"ELU\",\"GELU\",\"Leaky RELU\",\"RELU\",\"RRELU\",\"SELU\",\"TANH\"],\"xaxis\":\"x\",\"y\":[1598.0,1859.25,2145.6666666666665,3385.5,2150.75,1989.0,1381.5555555555557,1753.5555555555557],\"yaxis\":\"y\",\"type\":\"bar\"},{\"alignmentgroup\":\"True\",\"hovertemplate\":\"optimizer=ASGD\\u003cbr\\u003ealgorithm=FA\\u003cbr\\u003eactivation function=%{x}\\u003cbr\\u003eaverage fitness=%{y}\\u003cextra\\u003e\\u003c\\u002fextra\\u003e\",\"legendgroup\":\"ASGD\",\"marker\":{\"color\":\"#636efa\",\"pattern\":{\"shape\":\"\"}},\"name\":\"ASGD\",\"offsetgroup\":\"ASGD\",\"orientation\":\"v\",\"showlegend\":false,\"textposition\":\"auto\",\"x\":[\"CELU\",\"ELU\",\"GELU\",\"Leaky RELU\",\"RRELU\",\"SELU\",\"TANH\"],\"xaxis\":\"x2\",\"y\":[1660.8333333333333,1635.75,2290.2,1367.0,2072.625,1390.125,1694.5],\"yaxis\":\"y2\",\"type\":\"bar\"},{\"alignmentgroup\":\"True\",\"hovertemplate\":\"optimizer=ASGD\\u003cbr\\u003ealgorithm=GA\\u003cbr\\u003eactivation function=%{x}\\u003cbr\\u003eaverage fitness=%{y}\\u003cextra\\u003e\\u003c\\u002fextra\\u003e\",\"legendgroup\":\"ASGD\",\"marker\":{\"color\":\"#636efa\",\"pattern\":{\"shape\":\"\"}},\"name\":\"ASGD\",\"offsetgroup\":\"ASGD\",\"orientation\":\"v\",\"showlegend\":false,\"textposition\":\"auto\",\"x\":[\"CELU\",\"ELU\",\"GELU\",\"Leaky RELU\",\"RELU\",\"RRELU\",\"SELU\",\"TANH\"],\"xaxis\":\"x3\",\"y\":[1783.0,1980.857142857143,2027.8,2260.6666666666665,1509.5,2235.4,1435.0,1606.0],\"yaxis\":\"y3\",\"type\":\"bar\"},{\"alignmentgroup\":\"True\",\"hovertemplate\":\"optimizer=ASGD\\u003cbr\\u003ealgorithm=PSO\\u003cbr\\u003eactivation function=%{x}\\u003cbr\\u003eaverage fitness=%{y}\\u003cextra\\u003e\\u003c\\u002fextra\\u003e\",\"legendgroup\":\"ASGD\",\"marker\":{\"color\":\"#636efa\",\"pattern\":{\"shape\":\"\"}},\"name\":\"ASGD\",\"offsetgroup\":\"ASGD\",\"orientation\":\"v\",\"showlegend\":false,\"textposition\":\"auto\",\"x\":[\"CELU\",\"ELU\",\"GELU\",\"Leaky RELU\",\"RRELU\",\"SELU\",\"TANH\"],\"xaxis\":\"x4\",\"y\":[2605.4,1624.4285714285713,2457.25,2486.3333333333335,2212.2,1612.75,1865.1],\"yaxis\":\"y4\",\"type\":\"bar\"},{\"alignmentgroup\":\"True\",\"hovertemplate\":\"optimizer=ASGD\\u003cbr\\u003ealgorithm=SADE\\u003cbr\\u003eactivation function=%{x}\\u003cbr\\u003eaverage fitness=%{y}\\u003cextra\\u003e\\u003c\\u002fextra\\u003e\",\"legendgroup\":\"ASGD\",\"marker\":{\"color\":\"#636efa\",\"pattern\":{\"shape\":\"\"}},\"name\":\"ASGD\",\"offsetgroup\":\"ASGD\",\"orientation\":\"v\",\"showlegend\":false,\"textposition\":\"auto\",\"x\":[\"CELU\",\"ELU\",\"GELU\",\"RELU\",\"RRELU\",\"SELU\",\"TANH\"],\"xaxis\":\"x5\",\"y\":[1686.2,1737.0,2483.625,1825.625,2053.0,1487.7272727272727,1977.7777777777778],\"yaxis\":\"y5\",\"type\":\"bar\"},{\"alignmentgroup\":\"True\",\"hovertemplate\":\"optimizer=Adagrad\\u003cbr\\u003ealgorithm=DE\\u003cbr\\u003eactivation function=%{x}\\u003cbr\\u003eaverage fitness=%{y}\\u003cextra\\u003e\\u003c\\u002fextra\\u003e\",\"legendgroup\":\"Adagrad\",\"marker\":{\"color\":\"#EF553B\",\"pattern\":{\"shape\":\"\"}},\"name\":\"Adagrad\",\"offsetgroup\":\"Adagrad\",\"orientation\":\"v\",\"showlegend\":true,\"textposition\":\"auto\",\"x\":[\"CELU\",\"ELU\",\"GELU\",\"Leaky RELU\",\"RRELU\",\"SELU\",\"TANH\"],\"xaxis\":\"x\",\"y\":[1631.7272727272727,1797.909090909091,2343.8,2446.5,2176.6363636363635,1546.3333333333333,1899.1666666666667],\"yaxis\":\"y\",\"type\":\"bar\"},{\"alignmentgroup\":\"True\",\"hovertemplate\":\"optimizer=Adagrad\\u003cbr\\u003ealgorithm=FA\\u003cbr\\u003eactivation function=%{x}\\u003cbr\\u003eaverage fitness=%{y}\\u003cextra\\u003e\\u003c\\u002fextra\\u003e\",\"legendgroup\":\"Adagrad\",\"marker\":{\"color\":\"#EF553B\",\"pattern\":{\"shape\":\"\"}},\"name\":\"Adagrad\",\"offsetgroup\":\"Adagrad\",\"orientation\":\"v\",\"showlegend\":false,\"textposition\":\"auto\",\"x\":[\"CELU\",\"ELU\",\"GELU\",\"Leaky RELU\",\"RELU\",\"RRELU\",\"SELU\",\"TANH\"],\"xaxis\":\"x2\",\"y\":[1672.0,2050.25,2386.0,2071.0,1717.5,2387.0,1381.0,1708.8],\"yaxis\":\"y2\",\"type\":\"bar\"},{\"alignmentgroup\":\"True\",\"hovertemplate\":\"optimizer=Adagrad\\u003cbr\\u003ealgorithm=GA\\u003cbr\\u003eactivation function=%{x}\\u003cbr\\u003eaverage fitness=%{y}\\u003cextra\\u003e\\u003c\\u002fextra\\u003e\",\"legendgroup\":\"Adagrad\",\"marker\":{\"color\":\"#EF553B\",\"pattern\":{\"shape\":\"\"}},\"name\":\"Adagrad\",\"offsetgroup\":\"Adagrad\",\"orientation\":\"v\",\"showlegend\":false,\"textposition\":\"auto\",\"x\":[\"CELU\",\"ELU\",\"GELU\",\"Leaky RELU\",\"RELU\",\"RRELU\",\"SELU\",\"TANH\"],\"xaxis\":\"x3\",\"y\":[1736.0,1827.3333333333333,2176.1,3453.0,1975.75,2308.3333333333335,1381.8,1691.0],\"yaxis\":\"y3\",\"type\":\"bar\"},{\"alignmentgroup\":\"True\",\"hovertemplate\":\"optimizer=Adagrad\\u003cbr\\u003ealgorithm=PSO\\u003cbr\\u003eactivation function=%{x}\\u003cbr\\u003eaverage fitness=%{y}\\u003cextra\\u003e\\u003c\\u002fextra\\u003e\",\"legendgroup\":\"Adagrad\",\"marker\":{\"color\":\"#EF553B\",\"pattern\":{\"shape\":\"\"}},\"name\":\"Adagrad\",\"offsetgroup\":\"Adagrad\",\"orientation\":\"v\",\"showlegend\":false,\"textposition\":\"auto\",\"x\":[\"CELU\",\"ELU\",\"GELU\",\"RELU\",\"RRELU\",\"SELU\",\"TANH\"],\"xaxis\":\"x4\",\"y\":[1821.4,1724.6,2173.0,2133.5,2030.0,1461.6666666666667,1600.6666666666667],\"yaxis\":\"y4\",\"type\":\"bar\"},{\"alignmentgroup\":\"True\",\"hovertemplate\":\"optimizer=Adagrad\\u003cbr\\u003ealgorithm=SADE\\u003cbr\\u003eactivation function=%{x}\\u003cbr\\u003eaverage fitness=%{y}\\u003cextra\\u003e\\u003c\\u002fextra\\u003e\",\"legendgroup\":\"Adagrad\",\"marker\":{\"color\":\"#EF553B\",\"pattern\":{\"shape\":\"\"}},\"name\":\"Adagrad\",\"offsetgroup\":\"Adagrad\",\"orientation\":\"v\",\"showlegend\":false,\"textposition\":\"auto\",\"x\":[\"CELU\",\"ELU\",\"GELU\",\"Leaky RELU\",\"RELU\",\"RRELU\",\"SELU\",\"TANH\"],\"xaxis\":\"x5\",\"y\":[1577.8,1733.8461538461538,2149.0,1701.5,2371.5,2151.5555555555557,1375.7777777777778,1825.1],\"yaxis\":\"y5\",\"type\":\"bar\"},{\"alignmentgroup\":\"True\",\"hovertemplate\":\"optimizer=Adam\\u003cbr\\u003ealgorithm=DE\\u003cbr\\u003eactivation function=%{x}\\u003cbr\\u003eaverage fitness=%{y}\\u003cextra\\u003e\\u003c\\u002fextra\\u003e\",\"legendgroup\":\"Adam\",\"marker\":{\"color\":\"#00cc96\",\"pattern\":{\"shape\":\"\"}},\"name\":\"Adam\",\"offsetgroup\":\"Adam\",\"orientation\":\"v\",\"showlegend\":true,\"textposition\":\"auto\",\"x\":[\"CELU\",\"ELU\",\"GELU\",\"Leaky RELU\",\"RELU\",\"RRELU\",\"SELU\",\"TANH\"],\"xaxis\":\"x\",\"y\":[1864.142857142857,1969.2222222222222,2053.6666666666665,1920.0,3035.0,2404.6,1449.75,1851.4],\"yaxis\":\"y\",\"type\":\"bar\"},{\"alignmentgroup\":\"True\",\"hovertemplate\":\"optimizer=Adam\\u003cbr\\u003ealgorithm=FA\\u003cbr\\u003eactivation function=%{x}\\u003cbr\\u003eaverage fitness=%{y}\\u003cextra\\u003e\\u003c\\u002fextra\\u003e\",\"legendgroup\":\"Adam\",\"marker\":{\"color\":\"#00cc96\",\"pattern\":{\"shape\":\"\"}},\"name\":\"Adam\",\"offsetgroup\":\"Adam\",\"orientation\":\"v\",\"showlegend\":false,\"textposition\":\"auto\",\"x\":[\"CELU\",\"ELU\",\"GELU\",\"Leaky RELU\",\"RELU\",\"RRELU\",\"SELU\",\"TANH\"],\"xaxis\":\"x2\",\"y\":[1713.0,1525.6666666666667,2320.8333333333335,2522.6666666666665,1391.5,2518.5454545454545,1360.0,1786.0],\"yaxis\":\"y2\",\"type\":\"bar\"},{\"alignmentgroup\":\"True\",\"hovertemplate\":\"optimizer=Adam\\u003cbr\\u003ealgorithm=GA\\u003cbr\\u003eactivation function=%{x}\\u003cbr\\u003eaverage fitness=%{y}\\u003cextra\\u003e\\u003c\\u002fextra\\u003e\",\"legendgroup\":\"Adam\",\"marker\":{\"color\":\"#00cc96\",\"pattern\":{\"shape\":\"\"}},\"name\":\"Adam\",\"offsetgroup\":\"Adam\",\"orientation\":\"v\",\"showlegend\":false,\"textposition\":\"auto\",\"x\":[\"CELU\",\"ELU\",\"GELU\",\"Leaky RELU\",\"RELU\",\"RRELU\",\"SELU\",\"TANH\"],\"xaxis\":\"x3\",\"y\":[2329.3333333333335,1863.0,2617.1666666666665,2157.75,1362.0,2569.5,1423.5,1817.3333333333333],\"yaxis\":\"y3\",\"type\":\"bar\"},{\"alignmentgroup\":\"True\",\"hovertemplate\":\"optimizer=Adam\\u003cbr\\u003ealgorithm=PSO\\u003cbr\\u003eactivation function=%{x}\\u003cbr\\u003eaverage fitness=%{y}\\u003cextra\\u003e\\u003c\\u002fextra\\u003e\",\"legendgroup\":\"Adam\",\"marker\":{\"color\":\"#00cc96\",\"pattern\":{\"shape\":\"\"}},\"name\":\"Adam\",\"offsetgroup\":\"Adam\",\"orientation\":\"v\",\"showlegend\":false,\"textposition\":\"auto\",\"x\":[\"CELU\",\"ELU\",\"GELU\",\"Leaky RELU\",\"RELU\",\"RRELU\",\"SELU\",\"TANH\"],\"xaxis\":\"x4\",\"y\":[1625.4285714285713,1928.5,2146.25,2045.3333333333333,2350.0,2809.6,1445.0,1845.5],\"yaxis\":\"y4\",\"type\":\"bar\"},{\"alignmentgroup\":\"True\",\"hovertemplate\":\"optimizer=Adam\\u003cbr\\u003ealgorithm=SADE\\u003cbr\\u003eactivation function=%{x}\\u003cbr\\u003eaverage fitness=%{y}\\u003cextra\\u003e\\u003c\\u002fextra\\u003e\",\"legendgroup\":\"Adam\",\"marker\":{\"color\":\"#00cc96\",\"pattern\":{\"shape\":\"\"}},\"name\":\"Adam\",\"offsetgroup\":\"Adam\",\"orientation\":\"v\",\"showlegend\":false,\"textposition\":\"auto\",\"x\":[\"CELU\",\"ELU\",\"GELU\",\"Leaky RELU\",\"RELU\",\"RRELU\",\"SELU\",\"TANH\"],\"xaxis\":\"x5\",\"y\":[1697.2727272727273,1894.3333333333333,2692.0,1869.5,2880.0,1914.3333333333333,1291.8,2017.3333333333333],\"yaxis\":\"y5\",\"type\":\"bar\"},{\"alignmentgroup\":\"True\",\"hovertemplate\":\"optimizer=RAdam\\u003cbr\\u003ealgorithm=DE\\u003cbr\\u003eactivation function=%{x}\\u003cbr\\u003eaverage fitness=%{y}\\u003cextra\\u003e\\u003c\\u002fextra\\u003e\",\"legendgroup\":\"RAdam\",\"marker\":{\"color\":\"#ab63fa\",\"pattern\":{\"shape\":\"\"}},\"name\":\"RAdam\",\"offsetgroup\":\"RAdam\",\"orientation\":\"v\",\"showlegend\":true,\"textposition\":\"auto\",\"x\":[\"CELU\",\"ELU\",\"GELU\",\"Leaky RELU\",\"RELU\",\"RRELU\",\"SELU\",\"TANH\"],\"xaxis\":\"x\",\"y\":[1926.25,1927.2857142857142,2031.5,1642.6666666666667,3419.0,2187.6666666666665,1445.0,1787.4285714285713],\"yaxis\":\"y\",\"type\":\"bar\"},{\"alignmentgroup\":\"True\",\"hovertemplate\":\"optimizer=RAdam\\u003cbr\\u003ealgorithm=FA\\u003cbr\\u003eactivation function=%{x}\\u003cbr\\u003eaverage fitness=%{y}\\u003cextra\\u003e\\u003c\\u002fextra\\u003e\",\"legendgroup\":\"RAdam\",\"marker\":{\"color\":\"#ab63fa\",\"pattern\":{\"shape\":\"\"}},\"name\":\"RAdam\",\"offsetgroup\":\"RAdam\",\"orientation\":\"v\",\"showlegend\":false,\"textposition\":\"auto\",\"x\":[\"CELU\",\"ELU\",\"GELU\",\"Leaky RELU\",\"RELU\",\"RRELU\",\"SELU\",\"TANH\"],\"xaxis\":\"x2\",\"y\":[1978.5,1535.25,2202.4,1914.0,1884.0,2329.8333333333335,1531.142857142857,1633.2222222222222],\"yaxis\":\"y2\",\"type\":\"bar\"},{\"alignmentgroup\":\"True\",\"hovertemplate\":\"optimizer=RAdam\\u003cbr\\u003ealgorithm=GA\\u003cbr\\u003eactivation function=%{x}\\u003cbr\\u003eaverage fitness=%{y}\\u003cextra\\u003e\\u003c\\u002fextra\\u003e\",\"legendgroup\":\"RAdam\",\"marker\":{\"color\":\"#ab63fa\",\"pattern\":{\"shape\":\"\"}},\"name\":\"RAdam\",\"offsetgroup\":\"RAdam\",\"orientation\":\"v\",\"showlegend\":false,\"textposition\":\"auto\",\"x\":[\"CELU\",\"ELU\",\"GELU\",\"Leaky RELU\",\"RRELU\",\"SELU\",\"TANH\"],\"xaxis\":\"x3\",\"y\":[1687.3333333333333,1784.5,1867.0,2647.0,2392.0,1525.0,1844.1666666666667],\"yaxis\":\"y3\",\"type\":\"bar\"},{\"alignmentgroup\":\"True\",\"hovertemplate\":\"optimizer=RAdam\\u003cbr\\u003ealgorithm=PSO\\u003cbr\\u003eactivation function=%{x}\\u003cbr\\u003eaverage fitness=%{y}\\u003cextra\\u003e\\u003c\\u002fextra\\u003e\",\"legendgroup\":\"RAdam\",\"marker\":{\"color\":\"#ab63fa\",\"pattern\":{\"shape\":\"\"}},\"name\":\"RAdam\",\"offsetgroup\":\"RAdam\",\"orientation\":\"v\",\"showlegend\":false,\"textposition\":\"auto\",\"x\":[\"CELU\",\"ELU\",\"GELU\",\"Leaky RELU\",\"RELU\",\"RRELU\",\"SELU\",\"TANH\"],\"xaxis\":\"x4\",\"y\":[1852.75,1786.6666666666667,2654.3333333333335,2352.6666666666665,1768.5,3165.0,1355.4545454545455,1977.6],\"yaxis\":\"y4\",\"type\":\"bar\"},{\"alignmentgroup\":\"True\",\"hovertemplate\":\"optimizer=RAdam\\u003cbr\\u003ealgorithm=SADE\\u003cbr\\u003eactivation function=%{x}\\u003cbr\\u003eaverage fitness=%{y}\\u003cextra\\u003e\\u003c\\u002fextra\\u003e\",\"legendgroup\":\"RAdam\",\"marker\":{\"color\":\"#ab63fa\",\"pattern\":{\"shape\":\"\"}},\"name\":\"RAdam\",\"offsetgroup\":\"RAdam\",\"orientation\":\"v\",\"showlegend\":false,\"textposition\":\"auto\",\"x\":[\"CELU\",\"ELU\",\"GELU\",\"Leaky RELU\",\"RELU\",\"RRELU\",\"SELU\",\"TANH\"],\"xaxis\":\"x5\",\"y\":[2077.0,1899.4285714285713,2561.4,2085.75,1358.0,2134.9,1467.2857142857142,1938.0],\"yaxis\":\"y5\",\"type\":\"bar\"},{\"alignmentgroup\":\"True\",\"hovertemplate\":\"optimizer=RPROP\\u003cbr\\u003ealgorithm=DE\\u003cbr\\u003eactivation function=%{x}\\u003cbr\\u003eaverage fitness=%{y}\\u003cextra\\u003e\\u003c\\u002fextra\\u003e\",\"legendgroup\":\"RPROP\",\"marker\":{\"color\":\"#FFA15A\",\"pattern\":{\"shape\":\"\"}},\"name\":\"RPROP\",\"offsetgroup\":\"RPROP\",\"orientation\":\"v\",\"showlegend\":true,\"textposition\":\"auto\",\"x\":[\"CELU\",\"ELU\",\"GELU\",\"Leaky RELU\",\"RELU\",\"RRELU\",\"SELU\",\"TANH\"],\"xaxis\":\"x\",\"y\":[930.8888888888889,938.6666666666666,1255.75,905.6,1092.0,972.0,969.6,432.5],\"yaxis\":\"y\",\"type\":\"bar\"},{\"alignmentgroup\":\"True\",\"hovertemplate\":\"optimizer=RPROP\\u003cbr\\u003ealgorithm=FA\\u003cbr\\u003eactivation function=%{x}\\u003cbr\\u003eaverage fitness=%{y}\\u003cextra\\u003e\\u003c\\u002fextra\\u003e\",\"legendgroup\":\"RPROP\",\"marker\":{\"color\":\"#FFA15A\",\"pattern\":{\"shape\":\"\"}},\"name\":\"RPROP\",\"offsetgroup\":\"RPROP\",\"orientation\":\"v\",\"showlegend\":false,\"textposition\":\"auto\",\"x\":[\"CELU\",\"ELU\",\"GELU\",\"Leaky RELU\",\"RELU\",\"RRELU\",\"SELU\",\"TANH\"],\"xaxis\":\"x2\",\"y\":[1000.4285714285714,973.6666666666666,966.4,906.5714285714286,899.5,1041.25,921.0,283.3333333333333],\"yaxis\":\"y2\",\"type\":\"bar\"},{\"alignmentgroup\":\"True\",\"hovertemplate\":\"optimizer=RPROP\\u003cbr\\u003ealgorithm=GA\\u003cbr\\u003eactivation function=%{x}\\u003cbr\\u003eaverage fitness=%{y}\\u003cextra\\u003e\\u003c\\u002fextra\\u003e\",\"legendgroup\":\"RPROP\",\"marker\":{\"color\":\"#FFA15A\",\"pattern\":{\"shape\":\"\"}},\"name\":\"RPROP\",\"offsetgroup\":\"RPROP\",\"orientation\":\"v\",\"showlegend\":false,\"textposition\":\"auto\",\"x\":[\"CELU\",\"ELU\",\"GELU\",\"Leaky RELU\",\"RELU\",\"RRELU\",\"SELU\",\"TANH\"],\"xaxis\":\"x3\",\"y\":[1024.0,848.0,1894.8333333333333,989.0,1350.6666666666667,1007.0,834.5,345.6666666666667],\"yaxis\":\"y3\",\"type\":\"bar\"},{\"alignmentgroup\":\"True\",\"hovertemplate\":\"optimizer=RPROP\\u003cbr\\u003ealgorithm=PSO\\u003cbr\\u003eactivation function=%{x}\\u003cbr\\u003eaverage fitness=%{y}\\u003cextra\\u003e\\u003c\\u002fextra\\u003e\",\"legendgroup\":\"RPROP\",\"marker\":{\"color\":\"#FFA15A\",\"pattern\":{\"shape\":\"\"}},\"name\":\"RPROP\",\"offsetgroup\":\"RPROP\",\"orientation\":\"v\",\"showlegend\":false,\"textposition\":\"auto\",\"x\":[\"CELU\",\"ELU\",\"GELU\",\"Leaky RELU\",\"RELU\",\"RRELU\",\"SELU\",\"TANH\"],\"xaxis\":\"x4\",\"y\":[1044.0,971.0,1179.857142857143,880.8888888888889,1591.111111111111,992.0,935.4444444444445,428.5],\"yaxis\":\"y4\",\"type\":\"bar\"},{\"alignmentgroup\":\"True\",\"hovertemplate\":\"optimizer=RPROP\\u003cbr\\u003ealgorithm=SADE\\u003cbr\\u003eactivation function=%{x}\\u003cbr\\u003eaverage fitness=%{y}\\u003cextra\\u003e\\u003c\\u002fextra\\u003e\",\"legendgroup\":\"RPROP\",\"marker\":{\"color\":\"#FFA15A\",\"pattern\":{\"shape\":\"\"}},\"name\":\"RPROP\",\"offsetgroup\":\"RPROP\",\"orientation\":\"v\",\"showlegend\":false,\"textposition\":\"auto\",\"x\":[\"CELU\",\"ELU\",\"GELU\",\"Leaky RELU\",\"RELU\",\"RRELU\",\"SELU\",\"TANH\"],\"xaxis\":\"x5\",\"y\":[880.0,970.125,1354.0,944.2222222222222,1032.0,973.8,888.8571428571429,392.4],\"yaxis\":\"y5\",\"type\":\"bar\"},{\"alignmentgroup\":\"True\",\"hovertemplate\":\"optimizer=SGD\\u003cbr\\u003ealgorithm=DE\\u003cbr\\u003eactivation function=%{x}\\u003cbr\\u003eaverage fitness=%{y}\\u003cextra\\u003e\\u003c\\u002fextra\\u003e\",\"legendgroup\":\"SGD\",\"marker\":{\"color\":\"#19d3f3\",\"pattern\":{\"shape\":\"\"}},\"name\":\"SGD\",\"offsetgroup\":\"SGD\",\"orientation\":\"v\",\"showlegend\":true,\"textposition\":\"auto\",\"x\":[\"CELU\",\"ELU\",\"GELU\",\"Leaky RELU\",\"RELU\",\"RRELU\",\"SELU\",\"TANH\"],\"xaxis\":\"x\",\"y\":[1691.6666666666667,2213.714285714286,2676.2,1590.0,1596.5,2306.5,1374.6666666666667,1440.5],\"yaxis\":\"y\",\"type\":\"bar\"},{\"alignmentgroup\":\"True\",\"hovertemplate\":\"optimizer=SGD\\u003cbr\\u003ealgorithm=FA\\u003cbr\\u003eactivation function=%{x}\\u003cbr\\u003eaverage fitness=%{y}\\u003cextra\\u003e\\u003c\\u002fextra\\u003e\",\"legendgroup\":\"SGD\",\"marker\":{\"color\":\"#19d3f3\",\"pattern\":{\"shape\":\"\"}},\"name\":\"SGD\",\"offsetgroup\":\"SGD\",\"orientation\":\"v\",\"showlegend\":false,\"textposition\":\"auto\",\"x\":[\"CELU\",\"ELU\",\"GELU\",\"Leaky RELU\",\"RRELU\",\"SELU\",\"TANH\"],\"xaxis\":\"x2\",\"y\":[1846.0,2056.0,2593.5,1824.2,2233.0,1377.125,1867.7777777777778],\"yaxis\":\"y2\",\"type\":\"bar\"},{\"alignmentgroup\":\"True\",\"hovertemplate\":\"optimizer=SGD\\u003cbr\\u003ealgorithm=GA\\u003cbr\\u003eactivation function=%{x}\\u003cbr\\u003eaverage fitness=%{y}\\u003cextra\\u003e\\u003c\\u002fextra\\u003e\",\"legendgroup\":\"SGD\",\"marker\":{\"color\":\"#19d3f3\",\"pattern\":{\"shape\":\"\"}},\"name\":\"SGD\",\"offsetgroup\":\"SGD\",\"orientation\":\"v\",\"showlegend\":false,\"textposition\":\"auto\",\"x\":[\"CELU\",\"ELU\",\"GELU\",\"Leaky RELU\",\"RELU\",\"RRELU\",\"SELU\",\"TANH\"],\"xaxis\":\"x3\",\"y\":[1683.25,2242.5,2096.5,2019.4,2153.5,2689.6666666666665,1405.888888888889,1871.9166666666667],\"yaxis\":\"y3\",\"type\":\"bar\"},{\"alignmentgroup\":\"True\",\"hovertemplate\":\"optimizer=SGD\\u003cbr\\u003ealgorithm=PSO\\u003cbr\\u003eactivation function=%{x}\\u003cbr\\u003eaverage fitness=%{y}\\u003cextra\\u003e\\u003c\\u002fextra\\u003e\",\"legendgroup\":\"SGD\",\"marker\":{\"color\":\"#19d3f3\",\"pattern\":{\"shape\":\"\"}},\"name\":\"SGD\",\"offsetgroup\":\"SGD\",\"orientation\":\"v\",\"showlegend\":false,\"textposition\":\"auto\",\"x\":[\"CELU\",\"ELU\",\"GELU\",\"Leaky RELU\",\"RELU\",\"RRELU\",\"SELU\",\"TANH\"],\"xaxis\":\"x4\",\"y\":[1677.857142857143,1794.111111111111,2409.5714285714284,1735.6666666666667,1880.6666666666667,2095.285714285714,1307.5,1713.5],\"yaxis\":\"y4\",\"type\":\"bar\"},{\"alignmentgroup\":\"True\",\"hovertemplate\":\"optimizer=SGD\\u003cbr\\u003ealgorithm=SADE\\u003cbr\\u003eactivation function=%{x}\\u003cbr\\u003eaverage fitness=%{y}\\u003cextra\\u003e\\u003c\\u002fextra\\u003e\",\"legendgroup\":\"SGD\",\"marker\":{\"color\":\"#19d3f3\",\"pattern\":{\"shape\":\"\"}},\"name\":\"SGD\",\"offsetgroup\":\"SGD\",\"orientation\":\"v\",\"showlegend\":false,\"textposition\":\"auto\",\"x\":[\"CELU\",\"ELU\",\"GELU\",\"Leaky RELU\",\"RELU\",\"RRELU\",\"SELU\",\"TANH\"],\"xaxis\":\"x5\",\"y\":[1677.0,1688.4285714285713,2665.1666666666665,2320.6666666666665,1897.25,2372.8,1545.6,1970.0],\"yaxis\":\"y5\",\"type\":\"bar\"}],                        {\"template\":{\"data\":{\"histogram2dcontour\":[{\"type\":\"histogram2dcontour\",\"colorbar\":{\"outlinewidth\":0,\"ticks\":\"\"},\"colorscale\":[[0.0,\"#0d0887\"],[0.1111111111111111,\"#46039f\"],[0.2222222222222222,\"#7201a8\"],[0.3333333333333333,\"#9c179e\"],[0.4444444444444444,\"#bd3786\"],[0.5555555555555556,\"#d8576b\"],[0.6666666666666666,\"#ed7953\"],[0.7777777777777778,\"#fb9f3a\"],[0.8888888888888888,\"#fdca26\"],[1.0,\"#f0f921\"]]}],\"choropleth\":[{\"type\":\"choropleth\",\"colorbar\":{\"outlinewidth\":0,\"ticks\":\"\"}}],\"histogram2d\":[{\"type\":\"histogram2d\",\"colorbar\":{\"outlinewidth\":0,\"ticks\":\"\"},\"colorscale\":[[0.0,\"#0d0887\"],[0.1111111111111111,\"#46039f\"],[0.2222222222222222,\"#7201a8\"],[0.3333333333333333,\"#9c179e\"],[0.4444444444444444,\"#bd3786\"],[0.5555555555555556,\"#d8576b\"],[0.6666666666666666,\"#ed7953\"],[0.7777777777777778,\"#fb9f3a\"],[0.8888888888888888,\"#fdca26\"],[1.0,\"#f0f921\"]]}],\"heatmap\":[{\"type\":\"heatmap\",\"colorbar\":{\"outlinewidth\":0,\"ticks\":\"\"},\"colorscale\":[[0.0,\"#0d0887\"],[0.1111111111111111,\"#46039f\"],[0.2222222222222222,\"#7201a8\"],[0.3333333333333333,\"#9c179e\"],[0.4444444444444444,\"#bd3786\"],[0.5555555555555556,\"#d8576b\"],[0.6666666666666666,\"#ed7953\"],[0.7777777777777778,\"#fb9f3a\"],[0.8888888888888888,\"#fdca26\"],[1.0,\"#f0f921\"]]}],\"heatmapgl\":[{\"type\":\"heatmapgl\",\"colorbar\":{\"outlinewidth\":0,\"ticks\":\"\"},\"colorscale\":[[0.0,\"#0d0887\"],[0.1111111111111111,\"#46039f\"],[0.2222222222222222,\"#7201a8\"],[0.3333333333333333,\"#9c179e\"],[0.4444444444444444,\"#bd3786\"],[0.5555555555555556,\"#d8576b\"],[0.6666666666666666,\"#ed7953\"],[0.7777777777777778,\"#fb9f3a\"],[0.8888888888888888,\"#fdca26\"],[1.0,\"#f0f921\"]]}],\"contourcarpet\":[{\"type\":\"contourcarpet\",\"colorbar\":{\"outlinewidth\":0,\"ticks\":\"\"}}],\"contour\":[{\"type\":\"contour\",\"colorbar\":{\"outlinewidth\":0,\"ticks\":\"\"},\"colorscale\":[[0.0,\"#0d0887\"],[0.1111111111111111,\"#46039f\"],[0.2222222222222222,\"#7201a8\"],[0.3333333333333333,\"#9c179e\"],[0.4444444444444444,\"#bd3786\"],[0.5555555555555556,\"#d8576b\"],[0.6666666666666666,\"#ed7953\"],[0.7777777777777778,\"#fb9f3a\"],[0.8888888888888888,\"#fdca26\"],[1.0,\"#f0f921\"]]}],\"surface\":[{\"type\":\"surface\",\"colorbar\":{\"outlinewidth\":0,\"ticks\":\"\"},\"colorscale\":[[0.0,\"#0d0887\"],[0.1111111111111111,\"#46039f\"],[0.2222222222222222,\"#7201a8\"],[0.3333333333333333,\"#9c179e\"],[0.4444444444444444,\"#bd3786\"],[0.5555555555555556,\"#d8576b\"],[0.6666666666666666,\"#ed7953\"],[0.7777777777777778,\"#fb9f3a\"],[0.8888888888888888,\"#fdca26\"],[1.0,\"#f0f921\"]]}],\"mesh3d\":[{\"type\":\"mesh3d\",\"colorbar\":{\"outlinewidth\":0,\"ticks\":\"\"}}],\"scatter\":[{\"fillpattern\":{\"fillmode\":\"overlay\",\"size\":10,\"solidity\":0.2},\"type\":\"scatter\"}],\"parcoords\":[{\"type\":\"parcoords\",\"line\":{\"colorbar\":{\"outlinewidth\":0,\"ticks\":\"\"}}}],\"scatterpolargl\":[{\"type\":\"scatterpolargl\",\"marker\":{\"colorbar\":{\"outlinewidth\":0,\"ticks\":\"\"}}}],\"bar\":[{\"error_x\":{\"color\":\"#2a3f5f\"},\"error_y\":{\"color\":\"#2a3f5f\"},\"marker\":{\"line\":{\"color\":\"#E5ECF6\",\"width\":0.5},\"pattern\":{\"fillmode\":\"overlay\",\"size\":10,\"solidity\":0.2}},\"type\":\"bar\"}],\"scattergeo\":[{\"type\":\"scattergeo\",\"marker\":{\"colorbar\":{\"outlinewidth\":0,\"ticks\":\"\"}}}],\"scatterpolar\":[{\"type\":\"scatterpolar\",\"marker\":{\"colorbar\":{\"outlinewidth\":0,\"ticks\":\"\"}}}],\"histogram\":[{\"marker\":{\"pattern\":{\"fillmode\":\"overlay\",\"size\":10,\"solidity\":0.2}},\"type\":\"histogram\"}],\"scattergl\":[{\"type\":\"scattergl\",\"marker\":{\"colorbar\":{\"outlinewidth\":0,\"ticks\":\"\"}}}],\"scatter3d\":[{\"type\":\"scatter3d\",\"line\":{\"colorbar\":{\"outlinewidth\":0,\"ticks\":\"\"}},\"marker\":{\"colorbar\":{\"outlinewidth\":0,\"ticks\":\"\"}}}],\"scattermapbox\":[{\"type\":\"scattermapbox\",\"marker\":{\"colorbar\":{\"outlinewidth\":0,\"ticks\":\"\"}}}],\"scatterternary\":[{\"type\":\"scatterternary\",\"marker\":{\"colorbar\":{\"outlinewidth\":0,\"ticks\":\"\"}}}],\"scattercarpet\":[{\"type\":\"scattercarpet\",\"marker\":{\"colorbar\":{\"outlinewidth\":0,\"ticks\":\"\"}}}],\"carpet\":[{\"aaxis\":{\"endlinecolor\":\"#2a3f5f\",\"gridcolor\":\"white\",\"linecolor\":\"white\",\"minorgridcolor\":\"white\",\"startlinecolor\":\"#2a3f5f\"},\"baxis\":{\"endlinecolor\":\"#2a3f5f\",\"gridcolor\":\"white\",\"linecolor\":\"white\",\"minorgridcolor\":\"white\",\"startlinecolor\":\"#2a3f5f\"},\"type\":\"carpet\"}],\"table\":[{\"cells\":{\"fill\":{\"color\":\"#EBF0F8\"},\"line\":{\"color\":\"white\"}},\"header\":{\"fill\":{\"color\":\"#C8D4E3\"},\"line\":{\"color\":\"white\"}},\"type\":\"table\"}],\"barpolar\":[{\"marker\":{\"line\":{\"color\":\"#E5ECF6\",\"width\":0.5},\"pattern\":{\"fillmode\":\"overlay\",\"size\":10,\"solidity\":0.2}},\"type\":\"barpolar\"}],\"pie\":[{\"automargin\":true,\"type\":\"pie\"}]},\"layout\":{\"autotypenumbers\":\"strict\",\"colorway\":[\"#636efa\",\"#EF553B\",\"#00cc96\",\"#ab63fa\",\"#FFA15A\",\"#19d3f3\",\"#FF6692\",\"#B6E880\",\"#FF97FF\",\"#FECB52\"],\"font\":{\"color\":\"#2a3f5f\"},\"hovermode\":\"closest\",\"hoverlabel\":{\"align\":\"left\"},\"paper_bgcolor\":\"white\",\"plot_bgcolor\":\"#E5ECF6\",\"polar\":{\"bgcolor\":\"#E5ECF6\",\"angularaxis\":{\"gridcolor\":\"white\",\"linecolor\":\"white\",\"ticks\":\"\"},\"radialaxis\":{\"gridcolor\":\"white\",\"linecolor\":\"white\",\"ticks\":\"\"}},\"ternary\":{\"bgcolor\":\"#E5ECF6\",\"aaxis\":{\"gridcolor\":\"white\",\"linecolor\":\"white\",\"ticks\":\"\"},\"baxis\":{\"gridcolor\":\"white\",\"linecolor\":\"white\",\"ticks\":\"\"},\"caxis\":{\"gridcolor\":\"white\",\"linecolor\":\"white\",\"ticks\":\"\"}},\"coloraxis\":{\"colorbar\":{\"outlinewidth\":0,\"ticks\":\"\"}},\"colorscale\":{\"sequential\":[[0.0,\"#0d0887\"],[0.1111111111111111,\"#46039f\"],[0.2222222222222222,\"#7201a8\"],[0.3333333333333333,\"#9c179e\"],[0.4444444444444444,\"#bd3786\"],[0.5555555555555556,\"#d8576b\"],[0.6666666666666666,\"#ed7953\"],[0.7777777777777778,\"#fb9f3a\"],[0.8888888888888888,\"#fdca26\"],[1.0,\"#f0f921\"]],\"sequentialminus\":[[0.0,\"#0d0887\"],[0.1111111111111111,\"#46039f\"],[0.2222222222222222,\"#7201a8\"],[0.3333333333333333,\"#9c179e\"],[0.4444444444444444,\"#bd3786\"],[0.5555555555555556,\"#d8576b\"],[0.6666666666666666,\"#ed7953\"],[0.7777777777777778,\"#fb9f3a\"],[0.8888888888888888,\"#fdca26\"],[1.0,\"#f0f921\"]],\"diverging\":[[0,\"#8e0152\"],[0.1,\"#c51b7d\"],[0.2,\"#de77ae\"],[0.3,\"#f1b6da\"],[0.4,\"#fde0ef\"],[0.5,\"#f7f7f7\"],[0.6,\"#e6f5d0\"],[0.7,\"#b8e186\"],[0.8,\"#7fbc41\"],[0.9,\"#4d9221\"],[1,\"#276419\"]]},\"xaxis\":{\"gridcolor\":\"white\",\"linecolor\":\"white\",\"ticks\":\"\",\"title\":{\"standoff\":15},\"zerolinecolor\":\"white\",\"automargin\":true,\"zerolinewidth\":2},\"yaxis\":{\"gridcolor\":\"white\",\"linecolor\":\"white\",\"ticks\":\"\",\"title\":{\"standoff\":15},\"zerolinecolor\":\"white\",\"automargin\":true,\"zerolinewidth\":2},\"scene\":{\"xaxis\":{\"backgroundcolor\":\"#E5ECF6\",\"gridcolor\":\"white\",\"linecolor\":\"white\",\"showbackground\":true,\"ticks\":\"\",\"zerolinecolor\":\"white\",\"gridwidth\":2},\"yaxis\":{\"backgroundcolor\":\"#E5ECF6\",\"gridcolor\":\"white\",\"linecolor\":\"white\",\"showbackground\":true,\"ticks\":\"\",\"zerolinecolor\":\"white\",\"gridwidth\":2},\"zaxis\":{\"backgroundcolor\":\"#E5ECF6\",\"gridcolor\":\"white\",\"linecolor\":\"white\",\"showbackground\":true,\"ticks\":\"\",\"zerolinecolor\":\"white\",\"gridwidth\":2}},\"shapedefaults\":{\"line\":{\"color\":\"#2a3f5f\"}},\"annotationdefaults\":{\"arrowcolor\":\"#2a3f5f\",\"arrowhead\":0,\"arrowwidth\":1},\"geo\":{\"bgcolor\":\"white\",\"landcolor\":\"#E5ECF6\",\"subunitcolor\":\"white\",\"showland\":true,\"showlakes\":true,\"lakecolor\":\"white\"},\"title\":{\"x\":0.05},\"mapbox\":{\"style\":\"light\"}}},\"xaxis\":{\"anchor\":\"y\",\"domain\":[0.0,0.18400000000000002],\"title\":{\"text\":\"activation function\"}},\"yaxis\":{\"anchor\":\"x\",\"domain\":[0.0,1.0],\"title\":{\"text\":\"average fitness\"}},\"xaxis2\":{\"anchor\":\"y2\",\"domain\":[0.20400000000000001,0.388],\"matches\":\"x\",\"title\":{\"text\":\"activation function\"}},\"yaxis2\":{\"anchor\":\"x2\",\"domain\":[0.0,1.0],\"matches\":\"y\",\"showticklabels\":false},\"xaxis3\":{\"anchor\":\"y3\",\"domain\":[0.40800000000000003,0.5920000000000001],\"matches\":\"x\",\"title\":{\"text\":\"activation function\"}},\"yaxis3\":{\"anchor\":\"x3\",\"domain\":[0.0,1.0],\"matches\":\"y\",\"showticklabels\":false},\"xaxis4\":{\"anchor\":\"y4\",\"domain\":[0.6120000000000001,0.7960000000000002],\"matches\":\"x\",\"title\":{\"text\":\"activation function\"}},\"yaxis4\":{\"anchor\":\"x4\",\"domain\":[0.0,1.0],\"matches\":\"y\",\"showticklabels\":false},\"xaxis5\":{\"anchor\":\"y5\",\"domain\":[0.8160000000000001,1.0],\"matches\":\"x\",\"title\":{\"text\":\"activation function\"}},\"yaxis5\":{\"anchor\":\"x5\",\"domain\":[0.0,1.0],\"matches\":\"y\",\"showticklabels\":false},\"annotations\":[{\"font\":{},\"showarrow\":false,\"text\":\"algorithm=DE\",\"x\":0.09200000000000001,\"xanchor\":\"center\",\"xref\":\"paper\",\"y\":1.0,\"yanchor\":\"bottom\",\"yref\":\"paper\"},{\"font\":{},\"showarrow\":false,\"text\":\"algorithm=FA\",\"x\":0.29600000000000004,\"xanchor\":\"center\",\"xref\":\"paper\",\"y\":1.0,\"yanchor\":\"bottom\",\"yref\":\"paper\"},{\"font\":{},\"showarrow\":false,\"text\":\"algorithm=GA\",\"x\":0.5,\"xanchor\":\"center\",\"xref\":\"paper\",\"y\":1.0,\"yanchor\":\"bottom\",\"yref\":\"paper\"},{\"font\":{},\"showarrow\":false,\"text\":\"algorithm=PSO\",\"x\":0.7040000000000002,\"xanchor\":\"center\",\"xref\":\"paper\",\"y\":1.0,\"yanchor\":\"bottom\",\"yref\":\"paper\"},{\"font\":{},\"showarrow\":false,\"text\":\"algorithm=SADE\",\"x\":0.908,\"xanchor\":\"center\",\"xref\":\"paper\",\"y\":1.0,\"yanchor\":\"bottom\",\"yref\":\"paper\"}],\"legend\":{\"title\":{\"text\":\"optimizer\"},\"tracegroupgap\":0,\"orientation\":\"h\",\"yanchor\":\"bottom\",\"y\":1.15,\"xanchor\":\"center\",\"x\":0.5},\"margin\":{\"t\":60},\"barmode\":\"group\",\"autosize\":false,\"width\":1600,\"height\":450},                        {\"responsive\": true}                    ).then(function(){\n                            \nvar gd = document.getElementById('bd465d37-ccb6-41bf-8b90-4d24c5d57b02');\nvar x = new MutationObserver(function (mutations, observer) {{\n        var display = window.getComputedStyle(gd).display;\n        if (!display || display === 'none') {{\n            console.log([gd, 'removed!']);\n            Plotly.purge(gd);\n            observer.disconnect();\n        }}\n}});\n\n// Listen for the removal of the full notebook cells\nvar notebookContainer = gd.closest('#notebook-container');\nif (notebookContainer) {{\n    x.observe(notebookContainer, {childList: true});\n}}\n\n// Listen for the clearing of the current output cell\nvar outputEl = gd.closest('.output');\nif (outputEl) {{\n    x.observe(outputEl, {childList: true});\n}}\n\n                        })                };                });            </script>        </div>"
     },
     "metadata": {},
     "output_type": "display_data"
    },
    {
     "data": {
      "application/vnd.plotly.v1+json": {
       "data": [
        {
         "alignmentgroup": "True",
         "hovertemplate": "activation function=CELU<br>algorithm=DE<br>optimizer=%{x}<br>average fitness=%{y}<extra></extra>",
         "legendgroup": "CELU",
         "marker": {
          "color": "#636efa",
          "pattern": {
           "shape": ""
          }
         },
         "name": "CELU",
         "offsetgroup": "CELU",
         "orientation": "v",
         "showlegend": true,
         "textposition": "auto",
         "x": [
          "ASGD",
          "Adagrad",
          "Adam",
          "RAdam",
          "RPROP",
          "SGD"
         ],
         "xaxis": "x",
         "y": [
          1598.0,
          1631.7272727272727,
          1864.142857142857,
          1926.25,
          930.8888888888889,
          1691.6666666666667
         ],
         "yaxis": "y",
         "type": "bar"
        },
        {
         "alignmentgroup": "True",
         "hovertemplate": "activation function=CELU<br>algorithm=FA<br>optimizer=%{x}<br>average fitness=%{y}<extra></extra>",
         "legendgroup": "CELU",
         "marker": {
          "color": "#636efa",
          "pattern": {
           "shape": ""
          }
         },
         "name": "CELU",
         "offsetgroup": "CELU",
         "orientation": "v",
         "showlegend": false,
         "textposition": "auto",
         "x": [
          "ASGD",
          "Adagrad",
          "Adam",
          "RAdam",
          "RPROP",
          "SGD"
         ],
         "xaxis": "x2",
         "y": [
          1660.8333333333333,
          1672.0,
          1713.0,
          1978.5,
          1000.4285714285714,
          1846.0
         ],
         "yaxis": "y2",
         "type": "bar"
        },
        {
         "alignmentgroup": "True",
         "hovertemplate": "activation function=CELU<br>algorithm=GA<br>optimizer=%{x}<br>average fitness=%{y}<extra></extra>",
         "legendgroup": "CELU",
         "marker": {
          "color": "#636efa",
          "pattern": {
           "shape": ""
          }
         },
         "name": "CELU",
         "offsetgroup": "CELU",
         "orientation": "v",
         "showlegend": false,
         "textposition": "auto",
         "x": [
          "ASGD",
          "Adagrad",
          "Adam",
          "RAdam",
          "RPROP",
          "SGD"
         ],
         "xaxis": "x3",
         "y": [
          1783.0,
          1736.0,
          2329.3333333333335,
          1687.3333333333333,
          1024.0,
          1683.25
         ],
         "yaxis": "y3",
         "type": "bar"
        },
        {
         "alignmentgroup": "True",
         "hovertemplate": "activation function=CELU<br>algorithm=PSO<br>optimizer=%{x}<br>average fitness=%{y}<extra></extra>",
         "legendgroup": "CELU",
         "marker": {
          "color": "#636efa",
          "pattern": {
           "shape": ""
          }
         },
         "name": "CELU",
         "offsetgroup": "CELU",
         "orientation": "v",
         "showlegend": false,
         "textposition": "auto",
         "x": [
          "ASGD",
          "Adagrad",
          "Adam",
          "RAdam",
          "RPROP",
          "SGD"
         ],
         "xaxis": "x4",
         "y": [
          2605.4,
          1821.4,
          1625.4285714285713,
          1852.75,
          1044.0,
          1677.857142857143
         ],
         "yaxis": "y4",
         "type": "bar"
        },
        {
         "alignmentgroup": "True",
         "hovertemplate": "activation function=CELU<br>algorithm=SADE<br>optimizer=%{x}<br>average fitness=%{y}<extra></extra>",
         "legendgroup": "CELU",
         "marker": {
          "color": "#636efa",
          "pattern": {
           "shape": ""
          }
         },
         "name": "CELU",
         "offsetgroup": "CELU",
         "orientation": "v",
         "showlegend": false,
         "textposition": "auto",
         "x": [
          "ASGD",
          "Adagrad",
          "Adam",
          "RAdam",
          "RPROP",
          "SGD"
         ],
         "xaxis": "x5",
         "y": [
          1686.2,
          1577.8,
          1697.2727272727273,
          2077.0,
          880.0,
          1677.0
         ],
         "yaxis": "y5",
         "type": "bar"
        },
        {
         "alignmentgroup": "True",
         "hovertemplate": "activation function=ELU<br>algorithm=DE<br>optimizer=%{x}<br>average fitness=%{y}<extra></extra>",
         "legendgroup": "ELU",
         "marker": {
          "color": "#EF553B",
          "pattern": {
           "shape": ""
          }
         },
         "name": "ELU",
         "offsetgroup": "ELU",
         "orientation": "v",
         "showlegend": true,
         "textposition": "auto",
         "x": [
          "ASGD",
          "Adagrad",
          "Adam",
          "RAdam",
          "RPROP",
          "SGD"
         ],
         "xaxis": "x",
         "y": [
          1859.25,
          1797.909090909091,
          1969.2222222222222,
          1927.2857142857142,
          938.6666666666666,
          2213.714285714286
         ],
         "yaxis": "y",
         "type": "bar"
        },
        {
         "alignmentgroup": "True",
         "hovertemplate": "activation function=ELU<br>algorithm=FA<br>optimizer=%{x}<br>average fitness=%{y}<extra></extra>",
         "legendgroup": "ELU",
         "marker": {
          "color": "#EF553B",
          "pattern": {
           "shape": ""
          }
         },
         "name": "ELU",
         "offsetgroup": "ELU",
         "orientation": "v",
         "showlegend": false,
         "textposition": "auto",
         "x": [
          "ASGD",
          "Adagrad",
          "Adam",
          "RAdam",
          "RPROP",
          "SGD"
         ],
         "xaxis": "x2",
         "y": [
          1635.75,
          2050.25,
          1525.6666666666667,
          1535.25,
          973.6666666666666,
          2056.0
         ],
         "yaxis": "y2",
         "type": "bar"
        },
        {
         "alignmentgroup": "True",
         "hovertemplate": "activation function=ELU<br>algorithm=GA<br>optimizer=%{x}<br>average fitness=%{y}<extra></extra>",
         "legendgroup": "ELU",
         "marker": {
          "color": "#EF553B",
          "pattern": {
           "shape": ""
          }
         },
         "name": "ELU",
         "offsetgroup": "ELU",
         "orientation": "v",
         "showlegend": false,
         "textposition": "auto",
         "x": [
          "ASGD",
          "Adagrad",
          "Adam",
          "RAdam",
          "RPROP",
          "SGD"
         ],
         "xaxis": "x3",
         "y": [
          1980.857142857143,
          1827.3333333333333,
          1863.0,
          1784.5,
          848.0,
          2242.5
         ],
         "yaxis": "y3",
         "type": "bar"
        },
        {
         "alignmentgroup": "True",
         "hovertemplate": "activation function=ELU<br>algorithm=PSO<br>optimizer=%{x}<br>average fitness=%{y}<extra></extra>",
         "legendgroup": "ELU",
         "marker": {
          "color": "#EF553B",
          "pattern": {
           "shape": ""
          }
         },
         "name": "ELU",
         "offsetgroup": "ELU",
         "orientation": "v",
         "showlegend": false,
         "textposition": "auto",
         "x": [
          "ASGD",
          "Adagrad",
          "Adam",
          "RAdam",
          "RPROP",
          "SGD"
         ],
         "xaxis": "x4",
         "y": [
          1624.4285714285713,
          1724.6,
          1928.5,
          1786.6666666666667,
          971.0,
          1794.111111111111
         ],
         "yaxis": "y4",
         "type": "bar"
        },
        {
         "alignmentgroup": "True",
         "hovertemplate": "activation function=ELU<br>algorithm=SADE<br>optimizer=%{x}<br>average fitness=%{y}<extra></extra>",
         "legendgroup": "ELU",
         "marker": {
          "color": "#EF553B",
          "pattern": {
           "shape": ""
          }
         },
         "name": "ELU",
         "offsetgroup": "ELU",
         "orientation": "v",
         "showlegend": false,
         "textposition": "auto",
         "x": [
          "ASGD",
          "Adagrad",
          "Adam",
          "RAdam",
          "RPROP",
          "SGD"
         ],
         "xaxis": "x5",
         "y": [
          1737.0,
          1733.8461538461538,
          1894.3333333333333,
          1899.4285714285713,
          970.125,
          1688.4285714285713
         ],
         "yaxis": "y5",
         "type": "bar"
        },
        {
         "alignmentgroup": "True",
         "hovertemplate": "activation function=GELU<br>algorithm=DE<br>optimizer=%{x}<br>average fitness=%{y}<extra></extra>",
         "legendgroup": "GELU",
         "marker": {
          "color": "#00cc96",
          "pattern": {
           "shape": ""
          }
         },
         "name": "GELU",
         "offsetgroup": "GELU",
         "orientation": "v",
         "showlegend": true,
         "textposition": "auto",
         "x": [
          "ASGD",
          "Adagrad",
          "Adam",
          "RAdam",
          "RPROP",
          "SGD"
         ],
         "xaxis": "x",
         "y": [
          2145.6666666666665,
          2343.8,
          2053.6666666666665,
          2031.5,
          1255.75,
          2676.2
         ],
         "yaxis": "y",
         "type": "bar"
        },
        {
         "alignmentgroup": "True",
         "hovertemplate": "activation function=GELU<br>algorithm=FA<br>optimizer=%{x}<br>average fitness=%{y}<extra></extra>",
         "legendgroup": "GELU",
         "marker": {
          "color": "#00cc96",
          "pattern": {
           "shape": ""
          }
         },
         "name": "GELU",
         "offsetgroup": "GELU",
         "orientation": "v",
         "showlegend": false,
         "textposition": "auto",
         "x": [
          "ASGD",
          "Adagrad",
          "Adam",
          "RAdam",
          "RPROP",
          "SGD"
         ],
         "xaxis": "x2",
         "y": [
          2290.2,
          2386.0,
          2320.8333333333335,
          2202.4,
          966.4,
          2593.5
         ],
         "yaxis": "y2",
         "type": "bar"
        },
        {
         "alignmentgroup": "True",
         "hovertemplate": "activation function=GELU<br>algorithm=GA<br>optimizer=%{x}<br>average fitness=%{y}<extra></extra>",
         "legendgroup": "GELU",
         "marker": {
          "color": "#00cc96",
          "pattern": {
           "shape": ""
          }
         },
         "name": "GELU",
         "offsetgroup": "GELU",
         "orientation": "v",
         "showlegend": false,
         "textposition": "auto",
         "x": [
          "ASGD",
          "Adagrad",
          "Adam",
          "RAdam",
          "RPROP",
          "SGD"
         ],
         "xaxis": "x3",
         "y": [
          2027.8,
          2176.1,
          2617.1666666666665,
          1867.0,
          1894.8333333333333,
          2096.5
         ],
         "yaxis": "y3",
         "type": "bar"
        },
        {
         "alignmentgroup": "True",
         "hovertemplate": "activation function=GELU<br>algorithm=PSO<br>optimizer=%{x}<br>average fitness=%{y}<extra></extra>",
         "legendgroup": "GELU",
         "marker": {
          "color": "#00cc96",
          "pattern": {
           "shape": ""
          }
         },
         "name": "GELU",
         "offsetgroup": "GELU",
         "orientation": "v",
         "showlegend": false,
         "textposition": "auto",
         "x": [
          "ASGD",
          "Adagrad",
          "Adam",
          "RAdam",
          "RPROP",
          "SGD"
         ],
         "xaxis": "x4",
         "y": [
          2457.25,
          2173.0,
          2146.25,
          2654.3333333333335,
          1179.857142857143,
          2409.5714285714284
         ],
         "yaxis": "y4",
         "type": "bar"
        },
        {
         "alignmentgroup": "True",
         "hovertemplate": "activation function=GELU<br>algorithm=SADE<br>optimizer=%{x}<br>average fitness=%{y}<extra></extra>",
         "legendgroup": "GELU",
         "marker": {
          "color": "#00cc96",
          "pattern": {
           "shape": ""
          }
         },
         "name": "GELU",
         "offsetgroup": "GELU",
         "orientation": "v",
         "showlegend": false,
         "textposition": "auto",
         "x": [
          "ASGD",
          "Adagrad",
          "Adam",
          "RAdam",
          "RPROP",
          "SGD"
         ],
         "xaxis": "x5",
         "y": [
          2483.625,
          2149.0,
          2692.0,
          2561.4,
          1354.0,
          2665.1666666666665
         ],
         "yaxis": "y5",
         "type": "bar"
        },
        {
         "alignmentgroup": "True",
         "hovertemplate": "activation function=Leaky RELU<br>algorithm=DE<br>optimizer=%{x}<br>average fitness=%{y}<extra></extra>",
         "legendgroup": "Leaky RELU",
         "marker": {
          "color": "#ab63fa",
          "pattern": {
           "shape": ""
          }
         },
         "name": "Leaky RELU",
         "offsetgroup": "Leaky RELU",
         "orientation": "v",
         "showlegend": true,
         "textposition": "auto",
         "x": [
          "ASGD",
          "Adagrad",
          "Adam",
          "RAdam",
          "RPROP",
          "SGD"
         ],
         "xaxis": "x",
         "y": [
          3385.5,
          2446.5,
          1920.0,
          1642.6666666666667,
          905.6,
          1590.0
         ],
         "yaxis": "y",
         "type": "bar"
        },
        {
         "alignmentgroup": "True",
         "hovertemplate": "activation function=Leaky RELU<br>algorithm=FA<br>optimizer=%{x}<br>average fitness=%{y}<extra></extra>",
         "legendgroup": "Leaky RELU",
         "marker": {
          "color": "#ab63fa",
          "pattern": {
           "shape": ""
          }
         },
         "name": "Leaky RELU",
         "offsetgroup": "Leaky RELU",
         "orientation": "v",
         "showlegend": false,
         "textposition": "auto",
         "x": [
          "ASGD",
          "Adagrad",
          "Adam",
          "RAdam",
          "RPROP",
          "SGD"
         ],
         "xaxis": "x2",
         "y": [
          1367.0,
          2071.0,
          2522.6666666666665,
          1914.0,
          906.5714285714286,
          1824.2
         ],
         "yaxis": "y2",
         "type": "bar"
        },
        {
         "alignmentgroup": "True",
         "hovertemplate": "activation function=Leaky RELU<br>algorithm=GA<br>optimizer=%{x}<br>average fitness=%{y}<extra></extra>",
         "legendgroup": "Leaky RELU",
         "marker": {
          "color": "#ab63fa",
          "pattern": {
           "shape": ""
          }
         },
         "name": "Leaky RELU",
         "offsetgroup": "Leaky RELU",
         "orientation": "v",
         "showlegend": false,
         "textposition": "auto",
         "x": [
          "ASGD",
          "Adagrad",
          "Adam",
          "RAdam",
          "RPROP",
          "SGD"
         ],
         "xaxis": "x3",
         "y": [
          2260.6666666666665,
          3453.0,
          2157.75,
          2647.0,
          989.0,
          2019.4
         ],
         "yaxis": "y3",
         "type": "bar"
        },
        {
         "alignmentgroup": "True",
         "hovertemplate": "activation function=Leaky RELU<br>algorithm=PSO<br>optimizer=%{x}<br>average fitness=%{y}<extra></extra>",
         "legendgroup": "Leaky RELU",
         "marker": {
          "color": "#ab63fa",
          "pattern": {
           "shape": ""
          }
         },
         "name": "Leaky RELU",
         "offsetgroup": "Leaky RELU",
         "orientation": "v",
         "showlegend": false,
         "textposition": "auto",
         "x": [
          "ASGD",
          "Adam",
          "RAdam",
          "RPROP",
          "SGD"
         ],
         "xaxis": "x4",
         "y": [
          2486.3333333333335,
          2045.3333333333333,
          2352.6666666666665,
          880.8888888888889,
          1735.6666666666667
         ],
         "yaxis": "y4",
         "type": "bar"
        },
        {
         "alignmentgroup": "True",
         "hovertemplate": "activation function=Leaky RELU<br>algorithm=SADE<br>optimizer=%{x}<br>average fitness=%{y}<extra></extra>",
         "legendgroup": "Leaky RELU",
         "marker": {
          "color": "#ab63fa",
          "pattern": {
           "shape": ""
          }
         },
         "name": "Leaky RELU",
         "offsetgroup": "Leaky RELU",
         "orientation": "v",
         "showlegend": false,
         "textposition": "auto",
         "x": [
          "Adagrad",
          "Adam",
          "RAdam",
          "RPROP",
          "SGD"
         ],
         "xaxis": "x5",
         "y": [
          1701.5,
          1869.5,
          2085.75,
          944.2222222222222,
          2320.6666666666665
         ],
         "yaxis": "y5",
         "type": "bar"
        },
        {
         "alignmentgroup": "True",
         "hovertemplate": "activation function=RELU<br>algorithm=DE<br>optimizer=%{x}<br>average fitness=%{y}<extra></extra>",
         "legendgroup": "RELU",
         "marker": {
          "color": "#FFA15A",
          "pattern": {
           "shape": ""
          }
         },
         "name": "RELU",
         "offsetgroup": "RELU",
         "orientation": "v",
         "showlegend": true,
         "textposition": "auto",
         "x": [
          "ASGD",
          "Adam",
          "RAdam",
          "RPROP",
          "SGD"
         ],
         "xaxis": "x",
         "y": [
          2150.75,
          3035.0,
          3419.0,
          1092.0,
          1596.5
         ],
         "yaxis": "y",
         "type": "bar"
        },
        {
         "alignmentgroup": "True",
         "hovertemplate": "activation function=RELU<br>algorithm=FA<br>optimizer=%{x}<br>average fitness=%{y}<extra></extra>",
         "legendgroup": "RELU",
         "marker": {
          "color": "#FFA15A",
          "pattern": {
           "shape": ""
          }
         },
         "name": "RELU",
         "offsetgroup": "RELU",
         "orientation": "v",
         "showlegend": false,
         "textposition": "auto",
         "x": [
          "Adagrad",
          "Adam",
          "RAdam",
          "RPROP"
         ],
         "xaxis": "x2",
         "y": [
          1717.5,
          1391.5,
          1884.0,
          899.5
         ],
         "yaxis": "y2",
         "type": "bar"
        },
        {
         "alignmentgroup": "True",
         "hovertemplate": "activation function=RELU<br>algorithm=GA<br>optimizer=%{x}<br>average fitness=%{y}<extra></extra>",
         "legendgroup": "RELU",
         "marker": {
          "color": "#FFA15A",
          "pattern": {
           "shape": ""
          }
         },
         "name": "RELU",
         "offsetgroup": "RELU",
         "orientation": "v",
         "showlegend": false,
         "textposition": "auto",
         "x": [
          "ASGD",
          "Adagrad",
          "Adam",
          "RPROP",
          "SGD"
         ],
         "xaxis": "x3",
         "y": [
          1509.5,
          1975.75,
          1362.0,
          1350.6666666666667,
          2153.5
         ],
         "yaxis": "y3",
         "type": "bar"
        },
        {
         "alignmentgroup": "True",
         "hovertemplate": "activation function=RELU<br>algorithm=PSO<br>optimizer=%{x}<br>average fitness=%{y}<extra></extra>",
         "legendgroup": "RELU",
         "marker": {
          "color": "#FFA15A",
          "pattern": {
           "shape": ""
          }
         },
         "name": "RELU",
         "offsetgroup": "RELU",
         "orientation": "v",
         "showlegend": false,
         "textposition": "auto",
         "x": [
          "Adagrad",
          "Adam",
          "RAdam",
          "RPROP",
          "SGD"
         ],
         "xaxis": "x4",
         "y": [
          2133.5,
          2350.0,
          1768.5,
          1591.111111111111,
          1880.6666666666667
         ],
         "yaxis": "y4",
         "type": "bar"
        },
        {
         "alignmentgroup": "True",
         "hovertemplate": "activation function=RELU<br>algorithm=SADE<br>optimizer=%{x}<br>average fitness=%{y}<extra></extra>",
         "legendgroup": "RELU",
         "marker": {
          "color": "#FFA15A",
          "pattern": {
           "shape": ""
          }
         },
         "name": "RELU",
         "offsetgroup": "RELU",
         "orientation": "v",
         "showlegend": false,
         "textposition": "auto",
         "x": [
          "ASGD",
          "Adagrad",
          "Adam",
          "RAdam",
          "RPROP",
          "SGD"
         ],
         "xaxis": "x5",
         "y": [
          1825.625,
          2371.5,
          2880.0,
          1358.0,
          1032.0,
          1897.25
         ],
         "yaxis": "y5",
         "type": "bar"
        },
        {
         "alignmentgroup": "True",
         "hovertemplate": "activation function=RRELU<br>algorithm=DE<br>optimizer=%{x}<br>average fitness=%{y}<extra></extra>",
         "legendgroup": "RRELU",
         "marker": {
          "color": "#19d3f3",
          "pattern": {
           "shape": ""
          }
         },
         "name": "RRELU",
         "offsetgroup": "RRELU",
         "orientation": "v",
         "showlegend": true,
         "textposition": "auto",
         "x": [
          "ASGD",
          "Adagrad",
          "Adam",
          "RAdam",
          "RPROP",
          "SGD"
         ],
         "xaxis": "x",
         "y": [
          1989.0,
          2176.6363636363635,
          2404.6,
          2187.6666666666665,
          972.0,
          2306.5
         ],
         "yaxis": "y",
         "type": "bar"
        },
        {
         "alignmentgroup": "True",
         "hovertemplate": "activation function=RRELU<br>algorithm=FA<br>optimizer=%{x}<br>average fitness=%{y}<extra></extra>",
         "legendgroup": "RRELU",
         "marker": {
          "color": "#19d3f3",
          "pattern": {
           "shape": ""
          }
         },
         "name": "RRELU",
         "offsetgroup": "RRELU",
         "orientation": "v",
         "showlegend": false,
         "textposition": "auto",
         "x": [
          "ASGD",
          "Adagrad",
          "Adam",
          "RAdam",
          "RPROP",
          "SGD"
         ],
         "xaxis": "x2",
         "y": [
          2072.625,
          2387.0,
          2518.5454545454545,
          2329.8333333333335,
          1041.25,
          2233.0
         ],
         "yaxis": "y2",
         "type": "bar"
        },
        {
         "alignmentgroup": "True",
         "hovertemplate": "activation function=RRELU<br>algorithm=GA<br>optimizer=%{x}<br>average fitness=%{y}<extra></extra>",
         "legendgroup": "RRELU",
         "marker": {
          "color": "#19d3f3",
          "pattern": {
           "shape": ""
          }
         },
         "name": "RRELU",
         "offsetgroup": "RRELU",
         "orientation": "v",
         "showlegend": false,
         "textposition": "auto",
         "x": [
          "ASGD",
          "Adagrad",
          "Adam",
          "RAdam",
          "RPROP",
          "SGD"
         ],
         "xaxis": "x3",
         "y": [
          2235.4,
          2308.3333333333335,
          2569.5,
          2392.0,
          1007.0,
          2689.6666666666665
         ],
         "yaxis": "y3",
         "type": "bar"
        },
        {
         "alignmentgroup": "True",
         "hovertemplate": "activation function=RRELU<br>algorithm=PSO<br>optimizer=%{x}<br>average fitness=%{y}<extra></extra>",
         "legendgroup": "RRELU",
         "marker": {
          "color": "#19d3f3",
          "pattern": {
           "shape": ""
          }
         },
         "name": "RRELU",
         "offsetgroup": "RRELU",
         "orientation": "v",
         "showlegend": false,
         "textposition": "auto",
         "x": [
          "ASGD",
          "Adagrad",
          "Adam",
          "RAdam",
          "RPROP",
          "SGD"
         ],
         "xaxis": "x4",
         "y": [
          2212.2,
          2030.0,
          2809.6,
          3165.0,
          992.0,
          2095.285714285714
         ],
         "yaxis": "y4",
         "type": "bar"
        },
        {
         "alignmentgroup": "True",
         "hovertemplate": "activation function=RRELU<br>algorithm=SADE<br>optimizer=%{x}<br>average fitness=%{y}<extra></extra>",
         "legendgroup": "RRELU",
         "marker": {
          "color": "#19d3f3",
          "pattern": {
           "shape": ""
          }
         },
         "name": "RRELU",
         "offsetgroup": "RRELU",
         "orientation": "v",
         "showlegend": false,
         "textposition": "auto",
         "x": [
          "ASGD",
          "Adagrad",
          "Adam",
          "RAdam",
          "RPROP",
          "SGD"
         ],
         "xaxis": "x5",
         "y": [
          2053.0,
          2151.5555555555557,
          1914.3333333333333,
          2134.9,
          973.8,
          2372.8
         ],
         "yaxis": "y5",
         "type": "bar"
        },
        {
         "alignmentgroup": "True",
         "hovertemplate": "activation function=SELU<br>algorithm=DE<br>optimizer=%{x}<br>average fitness=%{y}<extra></extra>",
         "legendgroup": "SELU",
         "marker": {
          "color": "#FF6692",
          "pattern": {
           "shape": ""
          }
         },
         "name": "SELU",
         "offsetgroup": "SELU",
         "orientation": "v",
         "showlegend": true,
         "textposition": "auto",
         "x": [
          "ASGD",
          "Adagrad",
          "Adam",
          "RAdam",
          "RPROP",
          "SGD"
         ],
         "xaxis": "x",
         "y": [
          1381.5555555555557,
          1546.3333333333333,
          1449.75,
          1445.0,
          969.6,
          1374.6666666666667
         ],
         "yaxis": "y",
         "type": "bar"
        },
        {
         "alignmentgroup": "True",
         "hovertemplate": "activation function=SELU<br>algorithm=FA<br>optimizer=%{x}<br>average fitness=%{y}<extra></extra>",
         "legendgroup": "SELU",
         "marker": {
          "color": "#FF6692",
          "pattern": {
           "shape": ""
          }
         },
         "name": "SELU",
         "offsetgroup": "SELU",
         "orientation": "v",
         "showlegend": false,
         "textposition": "auto",
         "x": [
          "ASGD",
          "Adagrad",
          "Adam",
          "RAdam",
          "RPROP",
          "SGD"
         ],
         "xaxis": "x2",
         "y": [
          1390.125,
          1381.0,
          1360.0,
          1531.142857142857,
          921.0,
          1377.125
         ],
         "yaxis": "y2",
         "type": "bar"
        },
        {
         "alignmentgroup": "True",
         "hovertemplate": "activation function=SELU<br>algorithm=GA<br>optimizer=%{x}<br>average fitness=%{y}<extra></extra>",
         "legendgroup": "SELU",
         "marker": {
          "color": "#FF6692",
          "pattern": {
           "shape": ""
          }
         },
         "name": "SELU",
         "offsetgroup": "SELU",
         "orientation": "v",
         "showlegend": false,
         "textposition": "auto",
         "x": [
          "ASGD",
          "Adagrad",
          "Adam",
          "RAdam",
          "RPROP",
          "SGD"
         ],
         "xaxis": "x3",
         "y": [
          1435.0,
          1381.8,
          1423.5,
          1525.0,
          834.5,
          1405.888888888889
         ],
         "yaxis": "y3",
         "type": "bar"
        },
        {
         "alignmentgroup": "True",
         "hovertemplate": "activation function=SELU<br>algorithm=PSO<br>optimizer=%{x}<br>average fitness=%{y}<extra></extra>",
         "legendgroup": "SELU",
         "marker": {
          "color": "#FF6692",
          "pattern": {
           "shape": ""
          }
         },
         "name": "SELU",
         "offsetgroup": "SELU",
         "orientation": "v",
         "showlegend": false,
         "textposition": "auto",
         "x": [
          "ASGD",
          "Adagrad",
          "Adam",
          "RAdam",
          "RPROP",
          "SGD"
         ],
         "xaxis": "x4",
         "y": [
          1612.75,
          1461.6666666666667,
          1445.0,
          1355.4545454545455,
          935.4444444444445,
          1307.5
         ],
         "yaxis": "y4",
         "type": "bar"
        },
        {
         "alignmentgroup": "True",
         "hovertemplate": "activation function=SELU<br>algorithm=SADE<br>optimizer=%{x}<br>average fitness=%{y}<extra></extra>",
         "legendgroup": "SELU",
         "marker": {
          "color": "#FF6692",
          "pattern": {
           "shape": ""
          }
         },
         "name": "SELU",
         "offsetgroup": "SELU",
         "orientation": "v",
         "showlegend": false,
         "textposition": "auto",
         "x": [
          "ASGD",
          "Adagrad",
          "Adam",
          "RAdam",
          "RPROP",
          "SGD"
         ],
         "xaxis": "x5",
         "y": [
          1487.7272727272727,
          1375.7777777777778,
          1291.8,
          1467.2857142857142,
          888.8571428571429,
          1545.6
         ],
         "yaxis": "y5",
         "type": "bar"
        },
        {
         "alignmentgroup": "True",
         "hovertemplate": "activation function=TANH<br>algorithm=DE<br>optimizer=%{x}<br>average fitness=%{y}<extra></extra>",
         "legendgroup": "TANH",
         "marker": {
          "color": "#B6E880",
          "pattern": {
           "shape": ""
          }
         },
         "name": "TANH",
         "offsetgroup": "TANH",
         "orientation": "v",
         "showlegend": true,
         "textposition": "auto",
         "x": [
          "ASGD",
          "Adagrad",
          "Adam",
          "RAdam",
          "RPROP",
          "SGD"
         ],
         "xaxis": "x",
         "y": [
          1753.5555555555557,
          1899.1666666666667,
          1851.4,
          1787.4285714285713,
          432.5,
          1440.5
         ],
         "yaxis": "y",
         "type": "bar"
        },
        {
         "alignmentgroup": "True",
         "hovertemplate": "activation function=TANH<br>algorithm=FA<br>optimizer=%{x}<br>average fitness=%{y}<extra></extra>",
         "legendgroup": "TANH",
         "marker": {
          "color": "#B6E880",
          "pattern": {
           "shape": ""
          }
         },
         "name": "TANH",
         "offsetgroup": "TANH",
         "orientation": "v",
         "showlegend": false,
         "textposition": "auto",
         "x": [
          "ASGD",
          "Adagrad",
          "Adam",
          "RAdam",
          "RPROP",
          "SGD"
         ],
         "xaxis": "x2",
         "y": [
          1694.5,
          1708.8,
          1786.0,
          1633.2222222222222,
          283.3333333333333,
          1867.7777777777778
         ],
         "yaxis": "y2",
         "type": "bar"
        },
        {
         "alignmentgroup": "True",
         "hovertemplate": "activation function=TANH<br>algorithm=GA<br>optimizer=%{x}<br>average fitness=%{y}<extra></extra>",
         "legendgroup": "TANH",
         "marker": {
          "color": "#B6E880",
          "pattern": {
           "shape": ""
          }
         },
         "name": "TANH",
         "offsetgroup": "TANH",
         "orientation": "v",
         "showlegend": false,
         "textposition": "auto",
         "x": [
          "ASGD",
          "Adagrad",
          "Adam",
          "RAdam",
          "RPROP",
          "SGD"
         ],
         "xaxis": "x3",
         "y": [
          1606.0,
          1691.0,
          1817.3333333333333,
          1844.1666666666667,
          345.6666666666667,
          1871.9166666666667
         ],
         "yaxis": "y3",
         "type": "bar"
        },
        {
         "alignmentgroup": "True",
         "hovertemplate": "activation function=TANH<br>algorithm=PSO<br>optimizer=%{x}<br>average fitness=%{y}<extra></extra>",
         "legendgroup": "TANH",
         "marker": {
          "color": "#B6E880",
          "pattern": {
           "shape": ""
          }
         },
         "name": "TANH",
         "offsetgroup": "TANH",
         "orientation": "v",
         "showlegend": false,
         "textposition": "auto",
         "x": [
          "ASGD",
          "Adagrad",
          "Adam",
          "RAdam",
          "RPROP",
          "SGD"
         ],
         "xaxis": "x4",
         "y": [
          1865.1,
          1600.6666666666667,
          1845.5,
          1977.6,
          428.5,
          1713.5
         ],
         "yaxis": "y4",
         "type": "bar"
        },
        {
         "alignmentgroup": "True",
         "hovertemplate": "activation function=TANH<br>algorithm=SADE<br>optimizer=%{x}<br>average fitness=%{y}<extra></extra>",
         "legendgroup": "TANH",
         "marker": {
          "color": "#B6E880",
          "pattern": {
           "shape": ""
          }
         },
         "name": "TANH",
         "offsetgroup": "TANH",
         "orientation": "v",
         "showlegend": false,
         "textposition": "auto",
         "x": [
          "ASGD",
          "Adagrad",
          "Adam",
          "RAdam",
          "RPROP",
          "SGD"
         ],
         "xaxis": "x5",
         "y": [
          1977.7777777777778,
          1825.1,
          2017.3333333333333,
          1938.0,
          392.4,
          1970.0
         ],
         "yaxis": "y5",
         "type": "bar"
        }
       ],
       "layout": {
        "template": {
         "data": {
          "histogram2dcontour": [
           {
            "type": "histogram2dcontour",
            "colorbar": {
             "outlinewidth": 0,
             "ticks": ""
            },
            "colorscale": [
             [
              0.0,
              "#0d0887"
             ],
             [
              0.1111111111111111,
              "#46039f"
             ],
             [
              0.2222222222222222,
              "#7201a8"
             ],
             [
              0.3333333333333333,
              "#9c179e"
             ],
             [
              0.4444444444444444,
              "#bd3786"
             ],
             [
              0.5555555555555556,
              "#d8576b"
             ],
             [
              0.6666666666666666,
              "#ed7953"
             ],
             [
              0.7777777777777778,
              "#fb9f3a"
             ],
             [
              0.8888888888888888,
              "#fdca26"
             ],
             [
              1.0,
              "#f0f921"
             ]
            ]
           }
          ],
          "choropleth": [
           {
            "type": "choropleth",
            "colorbar": {
             "outlinewidth": 0,
             "ticks": ""
            }
           }
          ],
          "histogram2d": [
           {
            "type": "histogram2d",
            "colorbar": {
             "outlinewidth": 0,
             "ticks": ""
            },
            "colorscale": [
             [
              0.0,
              "#0d0887"
             ],
             [
              0.1111111111111111,
              "#46039f"
             ],
             [
              0.2222222222222222,
              "#7201a8"
             ],
             [
              0.3333333333333333,
              "#9c179e"
             ],
             [
              0.4444444444444444,
              "#bd3786"
             ],
             [
              0.5555555555555556,
              "#d8576b"
             ],
             [
              0.6666666666666666,
              "#ed7953"
             ],
             [
              0.7777777777777778,
              "#fb9f3a"
             ],
             [
              0.8888888888888888,
              "#fdca26"
             ],
             [
              1.0,
              "#f0f921"
             ]
            ]
           }
          ],
          "heatmap": [
           {
            "type": "heatmap",
            "colorbar": {
             "outlinewidth": 0,
             "ticks": ""
            },
            "colorscale": [
             [
              0.0,
              "#0d0887"
             ],
             [
              0.1111111111111111,
              "#46039f"
             ],
             [
              0.2222222222222222,
              "#7201a8"
             ],
             [
              0.3333333333333333,
              "#9c179e"
             ],
             [
              0.4444444444444444,
              "#bd3786"
             ],
             [
              0.5555555555555556,
              "#d8576b"
             ],
             [
              0.6666666666666666,
              "#ed7953"
             ],
             [
              0.7777777777777778,
              "#fb9f3a"
             ],
             [
              0.8888888888888888,
              "#fdca26"
             ],
             [
              1.0,
              "#f0f921"
             ]
            ]
           }
          ],
          "heatmapgl": [
           {
            "type": "heatmapgl",
            "colorbar": {
             "outlinewidth": 0,
             "ticks": ""
            },
            "colorscale": [
             [
              0.0,
              "#0d0887"
             ],
             [
              0.1111111111111111,
              "#46039f"
             ],
             [
              0.2222222222222222,
              "#7201a8"
             ],
             [
              0.3333333333333333,
              "#9c179e"
             ],
             [
              0.4444444444444444,
              "#bd3786"
             ],
             [
              0.5555555555555556,
              "#d8576b"
             ],
             [
              0.6666666666666666,
              "#ed7953"
             ],
             [
              0.7777777777777778,
              "#fb9f3a"
             ],
             [
              0.8888888888888888,
              "#fdca26"
             ],
             [
              1.0,
              "#f0f921"
             ]
            ]
           }
          ],
          "contourcarpet": [
           {
            "type": "contourcarpet",
            "colorbar": {
             "outlinewidth": 0,
             "ticks": ""
            }
           }
          ],
          "contour": [
           {
            "type": "contour",
            "colorbar": {
             "outlinewidth": 0,
             "ticks": ""
            },
            "colorscale": [
             [
              0.0,
              "#0d0887"
             ],
             [
              0.1111111111111111,
              "#46039f"
             ],
             [
              0.2222222222222222,
              "#7201a8"
             ],
             [
              0.3333333333333333,
              "#9c179e"
             ],
             [
              0.4444444444444444,
              "#bd3786"
             ],
             [
              0.5555555555555556,
              "#d8576b"
             ],
             [
              0.6666666666666666,
              "#ed7953"
             ],
             [
              0.7777777777777778,
              "#fb9f3a"
             ],
             [
              0.8888888888888888,
              "#fdca26"
             ],
             [
              1.0,
              "#f0f921"
             ]
            ]
           }
          ],
          "surface": [
           {
            "type": "surface",
            "colorbar": {
             "outlinewidth": 0,
             "ticks": ""
            },
            "colorscale": [
             [
              0.0,
              "#0d0887"
             ],
             [
              0.1111111111111111,
              "#46039f"
             ],
             [
              0.2222222222222222,
              "#7201a8"
             ],
             [
              0.3333333333333333,
              "#9c179e"
             ],
             [
              0.4444444444444444,
              "#bd3786"
             ],
             [
              0.5555555555555556,
              "#d8576b"
             ],
             [
              0.6666666666666666,
              "#ed7953"
             ],
             [
              0.7777777777777778,
              "#fb9f3a"
             ],
             [
              0.8888888888888888,
              "#fdca26"
             ],
             [
              1.0,
              "#f0f921"
             ]
            ]
           }
          ],
          "mesh3d": [
           {
            "type": "mesh3d",
            "colorbar": {
             "outlinewidth": 0,
             "ticks": ""
            }
           }
          ],
          "scatter": [
           {
            "fillpattern": {
             "fillmode": "overlay",
             "size": 10,
             "solidity": 0.2
            },
            "type": "scatter"
           }
          ],
          "parcoords": [
           {
            "type": "parcoords",
            "line": {
             "colorbar": {
              "outlinewidth": 0,
              "ticks": ""
             }
            }
           }
          ],
          "scatterpolargl": [
           {
            "type": "scatterpolargl",
            "marker": {
             "colorbar": {
              "outlinewidth": 0,
              "ticks": ""
             }
            }
           }
          ],
          "bar": [
           {
            "error_x": {
             "color": "#2a3f5f"
            },
            "error_y": {
             "color": "#2a3f5f"
            },
            "marker": {
             "line": {
              "color": "#E5ECF6",
              "width": 0.5
             },
             "pattern": {
              "fillmode": "overlay",
              "size": 10,
              "solidity": 0.2
             }
            },
            "type": "bar"
           }
          ],
          "scattergeo": [
           {
            "type": "scattergeo",
            "marker": {
             "colorbar": {
              "outlinewidth": 0,
              "ticks": ""
             }
            }
           }
          ],
          "scatterpolar": [
           {
            "type": "scatterpolar",
            "marker": {
             "colorbar": {
              "outlinewidth": 0,
              "ticks": ""
             }
            }
           }
          ],
          "histogram": [
           {
            "marker": {
             "pattern": {
              "fillmode": "overlay",
              "size": 10,
              "solidity": 0.2
             }
            },
            "type": "histogram"
           }
          ],
          "scattergl": [
           {
            "type": "scattergl",
            "marker": {
             "colorbar": {
              "outlinewidth": 0,
              "ticks": ""
             }
            }
           }
          ],
          "scatter3d": [
           {
            "type": "scatter3d",
            "line": {
             "colorbar": {
              "outlinewidth": 0,
              "ticks": ""
             }
            },
            "marker": {
             "colorbar": {
              "outlinewidth": 0,
              "ticks": ""
             }
            }
           }
          ],
          "scattermapbox": [
           {
            "type": "scattermapbox",
            "marker": {
             "colorbar": {
              "outlinewidth": 0,
              "ticks": ""
             }
            }
           }
          ],
          "scatterternary": [
           {
            "type": "scatterternary",
            "marker": {
             "colorbar": {
              "outlinewidth": 0,
              "ticks": ""
             }
            }
           }
          ],
          "scattercarpet": [
           {
            "type": "scattercarpet",
            "marker": {
             "colorbar": {
              "outlinewidth": 0,
              "ticks": ""
             }
            }
           }
          ],
          "carpet": [
           {
            "aaxis": {
             "endlinecolor": "#2a3f5f",
             "gridcolor": "white",
             "linecolor": "white",
             "minorgridcolor": "white",
             "startlinecolor": "#2a3f5f"
            },
            "baxis": {
             "endlinecolor": "#2a3f5f",
             "gridcolor": "white",
             "linecolor": "white",
             "minorgridcolor": "white",
             "startlinecolor": "#2a3f5f"
            },
            "type": "carpet"
           }
          ],
          "table": [
           {
            "cells": {
             "fill": {
              "color": "#EBF0F8"
             },
             "line": {
              "color": "white"
             }
            },
            "header": {
             "fill": {
              "color": "#C8D4E3"
             },
             "line": {
              "color": "white"
             }
            },
            "type": "table"
           }
          ],
          "barpolar": [
           {
            "marker": {
             "line": {
              "color": "#E5ECF6",
              "width": 0.5
             },
             "pattern": {
              "fillmode": "overlay",
              "size": 10,
              "solidity": 0.2
             }
            },
            "type": "barpolar"
           }
          ],
          "pie": [
           {
            "automargin": true,
            "type": "pie"
           }
          ]
         },
         "layout": {
          "autotypenumbers": "strict",
          "colorway": [
           "#636efa",
           "#EF553B",
           "#00cc96",
           "#ab63fa",
           "#FFA15A",
           "#19d3f3",
           "#FF6692",
           "#B6E880",
           "#FF97FF",
           "#FECB52"
          ],
          "font": {
           "color": "#2a3f5f"
          },
          "hovermode": "closest",
          "hoverlabel": {
           "align": "left"
          },
          "paper_bgcolor": "white",
          "plot_bgcolor": "#E5ECF6",
          "polar": {
           "bgcolor": "#E5ECF6",
           "angularaxis": {
            "gridcolor": "white",
            "linecolor": "white",
            "ticks": ""
           },
           "radialaxis": {
            "gridcolor": "white",
            "linecolor": "white",
            "ticks": ""
           }
          },
          "ternary": {
           "bgcolor": "#E5ECF6",
           "aaxis": {
            "gridcolor": "white",
            "linecolor": "white",
            "ticks": ""
           },
           "baxis": {
            "gridcolor": "white",
            "linecolor": "white",
            "ticks": ""
           },
           "caxis": {
            "gridcolor": "white",
            "linecolor": "white",
            "ticks": ""
           }
          },
          "coloraxis": {
           "colorbar": {
            "outlinewidth": 0,
            "ticks": ""
           }
          },
          "colorscale": {
           "sequential": [
            [
             0.0,
             "#0d0887"
            ],
            [
             0.1111111111111111,
             "#46039f"
            ],
            [
             0.2222222222222222,
             "#7201a8"
            ],
            [
             0.3333333333333333,
             "#9c179e"
            ],
            [
             0.4444444444444444,
             "#bd3786"
            ],
            [
             0.5555555555555556,
             "#d8576b"
            ],
            [
             0.6666666666666666,
             "#ed7953"
            ],
            [
             0.7777777777777778,
             "#fb9f3a"
            ],
            [
             0.8888888888888888,
             "#fdca26"
            ],
            [
             1.0,
             "#f0f921"
            ]
           ],
           "sequentialminus": [
            [
             0.0,
             "#0d0887"
            ],
            [
             0.1111111111111111,
             "#46039f"
            ],
            [
             0.2222222222222222,
             "#7201a8"
            ],
            [
             0.3333333333333333,
             "#9c179e"
            ],
            [
             0.4444444444444444,
             "#bd3786"
            ],
            [
             0.5555555555555556,
             "#d8576b"
            ],
            [
             0.6666666666666666,
             "#ed7953"
            ],
            [
             0.7777777777777778,
             "#fb9f3a"
            ],
            [
             0.8888888888888888,
             "#fdca26"
            ],
            [
             1.0,
             "#f0f921"
            ]
           ],
           "diverging": [
            [
             0,
             "#8e0152"
            ],
            [
             0.1,
             "#c51b7d"
            ],
            [
             0.2,
             "#de77ae"
            ],
            [
             0.3,
             "#f1b6da"
            ],
            [
             0.4,
             "#fde0ef"
            ],
            [
             0.5,
             "#f7f7f7"
            ],
            [
             0.6,
             "#e6f5d0"
            ],
            [
             0.7,
             "#b8e186"
            ],
            [
             0.8,
             "#7fbc41"
            ],
            [
             0.9,
             "#4d9221"
            ],
            [
             1,
             "#276419"
            ]
           ]
          },
          "xaxis": {
           "gridcolor": "white",
           "linecolor": "white",
           "ticks": "",
           "title": {
            "standoff": 15
           },
           "zerolinecolor": "white",
           "automargin": true,
           "zerolinewidth": 2
          },
          "yaxis": {
           "gridcolor": "white",
           "linecolor": "white",
           "ticks": "",
           "title": {
            "standoff": 15
           },
           "zerolinecolor": "white",
           "automargin": true,
           "zerolinewidth": 2
          },
          "scene": {
           "xaxis": {
            "backgroundcolor": "#E5ECF6",
            "gridcolor": "white",
            "linecolor": "white",
            "showbackground": true,
            "ticks": "",
            "zerolinecolor": "white",
            "gridwidth": 2
           },
           "yaxis": {
            "backgroundcolor": "#E5ECF6",
            "gridcolor": "white",
            "linecolor": "white",
            "showbackground": true,
            "ticks": "",
            "zerolinecolor": "white",
            "gridwidth": 2
           },
           "zaxis": {
            "backgroundcolor": "#E5ECF6",
            "gridcolor": "white",
            "linecolor": "white",
            "showbackground": true,
            "ticks": "",
            "zerolinecolor": "white",
            "gridwidth": 2
           }
          },
          "shapedefaults": {
           "line": {
            "color": "#2a3f5f"
           }
          },
          "annotationdefaults": {
           "arrowcolor": "#2a3f5f",
           "arrowhead": 0,
           "arrowwidth": 1
          },
          "geo": {
           "bgcolor": "white",
           "landcolor": "#E5ECF6",
           "subunitcolor": "white",
           "showland": true,
           "showlakes": true,
           "lakecolor": "white"
          },
          "title": {
           "x": 0.05
          },
          "mapbox": {
           "style": "light"
          }
         }
        },
        "xaxis": {
         "anchor": "y",
         "domain": [
          0.0,
          0.18400000000000002
         ],
         "title": {
          "text": "optimizer"
         }
        },
        "yaxis": {
         "anchor": "x",
         "domain": [
          0.0,
          1.0
         ],
         "title": {
          "text": "average fitness"
         }
        },
        "xaxis2": {
         "anchor": "y2",
         "domain": [
          0.20400000000000001,
          0.388
         ],
         "matches": "x",
         "title": {
          "text": "optimizer"
         }
        },
        "yaxis2": {
         "anchor": "x2",
         "domain": [
          0.0,
          1.0
         ],
         "matches": "y",
         "showticklabels": false
        },
        "xaxis3": {
         "anchor": "y3",
         "domain": [
          0.40800000000000003,
          0.5920000000000001
         ],
         "matches": "x",
         "title": {
          "text": "optimizer"
         }
        },
        "yaxis3": {
         "anchor": "x3",
         "domain": [
          0.0,
          1.0
         ],
         "matches": "y",
         "showticklabels": false
        },
        "xaxis4": {
         "anchor": "y4",
         "domain": [
          0.6120000000000001,
          0.7960000000000002
         ],
         "matches": "x",
         "title": {
          "text": "optimizer"
         }
        },
        "yaxis4": {
         "anchor": "x4",
         "domain": [
          0.0,
          1.0
         ],
         "matches": "y",
         "showticklabels": false
        },
        "xaxis5": {
         "anchor": "y5",
         "domain": [
          0.8160000000000001,
          1.0
         ],
         "matches": "x",
         "title": {
          "text": "optimizer"
         }
        },
        "yaxis5": {
         "anchor": "x5",
         "domain": [
          0.0,
          1.0
         ],
         "matches": "y",
         "showticklabels": false
        },
        "annotations": [
         {
          "font": {},
          "showarrow": false,
          "text": "algorithm=DE",
          "x": 0.09200000000000001,
          "xanchor": "center",
          "xref": "paper",
          "y": 1.0,
          "yanchor": "bottom",
          "yref": "paper"
         },
         {
          "font": {},
          "showarrow": false,
          "text": "algorithm=FA",
          "x": 0.29600000000000004,
          "xanchor": "center",
          "xref": "paper",
          "y": 1.0,
          "yanchor": "bottom",
          "yref": "paper"
         },
         {
          "font": {},
          "showarrow": false,
          "text": "algorithm=GA",
          "x": 0.5,
          "xanchor": "center",
          "xref": "paper",
          "y": 1.0,
          "yanchor": "bottom",
          "yref": "paper"
         },
         {
          "font": {},
          "showarrow": false,
          "text": "algorithm=PSO",
          "x": 0.7040000000000002,
          "xanchor": "center",
          "xref": "paper",
          "y": 1.0,
          "yanchor": "bottom",
          "yref": "paper"
         },
         {
          "font": {},
          "showarrow": false,
          "text": "algorithm=SADE",
          "x": 0.908,
          "xanchor": "center",
          "xref": "paper",
          "y": 1.0,
          "yanchor": "bottom",
          "yref": "paper"
         }
        ],
        "legend": {
         "title": {
          "text": "activation function"
         },
         "tracegroupgap": 0,
         "orientation": "h",
         "yanchor": "bottom",
         "y": 1.15,
         "xanchor": "center",
         "x": 0.5
        },
        "margin": {
         "t": 60
        },
        "barmode": "group",
        "autosize": false,
        "width": 1600,
        "height": 450
       },
       "config": {
        "plotlyServerURL": "https://plot.ly"
       }
      },
      "text/html": "<div>                            <div id=\"486786b6-235a-49c3-99af-b51069592ef7\" class=\"plotly-graph-div\" style=\"height:450px; width:1600px;\"></div>            <script type=\"text/javascript\">                require([\"plotly\"], function(Plotly) {                    window.PLOTLYENV=window.PLOTLYENV || {};                                    if (document.getElementById(\"486786b6-235a-49c3-99af-b51069592ef7\")) {                    Plotly.newPlot(                        \"486786b6-235a-49c3-99af-b51069592ef7\",                        [{\"alignmentgroup\":\"True\",\"hovertemplate\":\"activation function=CELU\\u003cbr\\u003ealgorithm=DE\\u003cbr\\u003eoptimizer=%{x}\\u003cbr\\u003eaverage fitness=%{y}\\u003cextra\\u003e\\u003c\\u002fextra\\u003e\",\"legendgroup\":\"CELU\",\"marker\":{\"color\":\"#636efa\",\"pattern\":{\"shape\":\"\"}},\"name\":\"CELU\",\"offsetgroup\":\"CELU\",\"orientation\":\"v\",\"showlegend\":true,\"textposition\":\"auto\",\"x\":[\"ASGD\",\"Adagrad\",\"Adam\",\"RAdam\",\"RPROP\",\"SGD\"],\"xaxis\":\"x\",\"y\":[1598.0,1631.7272727272727,1864.142857142857,1926.25,930.8888888888889,1691.6666666666667],\"yaxis\":\"y\",\"type\":\"bar\"},{\"alignmentgroup\":\"True\",\"hovertemplate\":\"activation function=CELU\\u003cbr\\u003ealgorithm=FA\\u003cbr\\u003eoptimizer=%{x}\\u003cbr\\u003eaverage fitness=%{y}\\u003cextra\\u003e\\u003c\\u002fextra\\u003e\",\"legendgroup\":\"CELU\",\"marker\":{\"color\":\"#636efa\",\"pattern\":{\"shape\":\"\"}},\"name\":\"CELU\",\"offsetgroup\":\"CELU\",\"orientation\":\"v\",\"showlegend\":false,\"textposition\":\"auto\",\"x\":[\"ASGD\",\"Adagrad\",\"Adam\",\"RAdam\",\"RPROP\",\"SGD\"],\"xaxis\":\"x2\",\"y\":[1660.8333333333333,1672.0,1713.0,1978.5,1000.4285714285714,1846.0],\"yaxis\":\"y2\",\"type\":\"bar\"},{\"alignmentgroup\":\"True\",\"hovertemplate\":\"activation function=CELU\\u003cbr\\u003ealgorithm=GA\\u003cbr\\u003eoptimizer=%{x}\\u003cbr\\u003eaverage fitness=%{y}\\u003cextra\\u003e\\u003c\\u002fextra\\u003e\",\"legendgroup\":\"CELU\",\"marker\":{\"color\":\"#636efa\",\"pattern\":{\"shape\":\"\"}},\"name\":\"CELU\",\"offsetgroup\":\"CELU\",\"orientation\":\"v\",\"showlegend\":false,\"textposition\":\"auto\",\"x\":[\"ASGD\",\"Adagrad\",\"Adam\",\"RAdam\",\"RPROP\",\"SGD\"],\"xaxis\":\"x3\",\"y\":[1783.0,1736.0,2329.3333333333335,1687.3333333333333,1024.0,1683.25],\"yaxis\":\"y3\",\"type\":\"bar\"},{\"alignmentgroup\":\"True\",\"hovertemplate\":\"activation function=CELU\\u003cbr\\u003ealgorithm=PSO\\u003cbr\\u003eoptimizer=%{x}\\u003cbr\\u003eaverage fitness=%{y}\\u003cextra\\u003e\\u003c\\u002fextra\\u003e\",\"legendgroup\":\"CELU\",\"marker\":{\"color\":\"#636efa\",\"pattern\":{\"shape\":\"\"}},\"name\":\"CELU\",\"offsetgroup\":\"CELU\",\"orientation\":\"v\",\"showlegend\":false,\"textposition\":\"auto\",\"x\":[\"ASGD\",\"Adagrad\",\"Adam\",\"RAdam\",\"RPROP\",\"SGD\"],\"xaxis\":\"x4\",\"y\":[2605.4,1821.4,1625.4285714285713,1852.75,1044.0,1677.857142857143],\"yaxis\":\"y4\",\"type\":\"bar\"},{\"alignmentgroup\":\"True\",\"hovertemplate\":\"activation function=CELU\\u003cbr\\u003ealgorithm=SADE\\u003cbr\\u003eoptimizer=%{x}\\u003cbr\\u003eaverage fitness=%{y}\\u003cextra\\u003e\\u003c\\u002fextra\\u003e\",\"legendgroup\":\"CELU\",\"marker\":{\"color\":\"#636efa\",\"pattern\":{\"shape\":\"\"}},\"name\":\"CELU\",\"offsetgroup\":\"CELU\",\"orientation\":\"v\",\"showlegend\":false,\"textposition\":\"auto\",\"x\":[\"ASGD\",\"Adagrad\",\"Adam\",\"RAdam\",\"RPROP\",\"SGD\"],\"xaxis\":\"x5\",\"y\":[1686.2,1577.8,1697.2727272727273,2077.0,880.0,1677.0],\"yaxis\":\"y5\",\"type\":\"bar\"},{\"alignmentgroup\":\"True\",\"hovertemplate\":\"activation function=ELU\\u003cbr\\u003ealgorithm=DE\\u003cbr\\u003eoptimizer=%{x}\\u003cbr\\u003eaverage fitness=%{y}\\u003cextra\\u003e\\u003c\\u002fextra\\u003e\",\"legendgroup\":\"ELU\",\"marker\":{\"color\":\"#EF553B\",\"pattern\":{\"shape\":\"\"}},\"name\":\"ELU\",\"offsetgroup\":\"ELU\",\"orientation\":\"v\",\"showlegend\":true,\"textposition\":\"auto\",\"x\":[\"ASGD\",\"Adagrad\",\"Adam\",\"RAdam\",\"RPROP\",\"SGD\"],\"xaxis\":\"x\",\"y\":[1859.25,1797.909090909091,1969.2222222222222,1927.2857142857142,938.6666666666666,2213.714285714286],\"yaxis\":\"y\",\"type\":\"bar\"},{\"alignmentgroup\":\"True\",\"hovertemplate\":\"activation function=ELU\\u003cbr\\u003ealgorithm=FA\\u003cbr\\u003eoptimizer=%{x}\\u003cbr\\u003eaverage fitness=%{y}\\u003cextra\\u003e\\u003c\\u002fextra\\u003e\",\"legendgroup\":\"ELU\",\"marker\":{\"color\":\"#EF553B\",\"pattern\":{\"shape\":\"\"}},\"name\":\"ELU\",\"offsetgroup\":\"ELU\",\"orientation\":\"v\",\"showlegend\":false,\"textposition\":\"auto\",\"x\":[\"ASGD\",\"Adagrad\",\"Adam\",\"RAdam\",\"RPROP\",\"SGD\"],\"xaxis\":\"x2\",\"y\":[1635.75,2050.25,1525.6666666666667,1535.25,973.6666666666666,2056.0],\"yaxis\":\"y2\",\"type\":\"bar\"},{\"alignmentgroup\":\"True\",\"hovertemplate\":\"activation function=ELU\\u003cbr\\u003ealgorithm=GA\\u003cbr\\u003eoptimizer=%{x}\\u003cbr\\u003eaverage fitness=%{y}\\u003cextra\\u003e\\u003c\\u002fextra\\u003e\",\"legendgroup\":\"ELU\",\"marker\":{\"color\":\"#EF553B\",\"pattern\":{\"shape\":\"\"}},\"name\":\"ELU\",\"offsetgroup\":\"ELU\",\"orientation\":\"v\",\"showlegend\":false,\"textposition\":\"auto\",\"x\":[\"ASGD\",\"Adagrad\",\"Adam\",\"RAdam\",\"RPROP\",\"SGD\"],\"xaxis\":\"x3\",\"y\":[1980.857142857143,1827.3333333333333,1863.0,1784.5,848.0,2242.5],\"yaxis\":\"y3\",\"type\":\"bar\"},{\"alignmentgroup\":\"True\",\"hovertemplate\":\"activation function=ELU\\u003cbr\\u003ealgorithm=PSO\\u003cbr\\u003eoptimizer=%{x}\\u003cbr\\u003eaverage fitness=%{y}\\u003cextra\\u003e\\u003c\\u002fextra\\u003e\",\"legendgroup\":\"ELU\",\"marker\":{\"color\":\"#EF553B\",\"pattern\":{\"shape\":\"\"}},\"name\":\"ELU\",\"offsetgroup\":\"ELU\",\"orientation\":\"v\",\"showlegend\":false,\"textposition\":\"auto\",\"x\":[\"ASGD\",\"Adagrad\",\"Adam\",\"RAdam\",\"RPROP\",\"SGD\"],\"xaxis\":\"x4\",\"y\":[1624.4285714285713,1724.6,1928.5,1786.6666666666667,971.0,1794.111111111111],\"yaxis\":\"y4\",\"type\":\"bar\"},{\"alignmentgroup\":\"True\",\"hovertemplate\":\"activation function=ELU\\u003cbr\\u003ealgorithm=SADE\\u003cbr\\u003eoptimizer=%{x}\\u003cbr\\u003eaverage fitness=%{y}\\u003cextra\\u003e\\u003c\\u002fextra\\u003e\",\"legendgroup\":\"ELU\",\"marker\":{\"color\":\"#EF553B\",\"pattern\":{\"shape\":\"\"}},\"name\":\"ELU\",\"offsetgroup\":\"ELU\",\"orientation\":\"v\",\"showlegend\":false,\"textposition\":\"auto\",\"x\":[\"ASGD\",\"Adagrad\",\"Adam\",\"RAdam\",\"RPROP\",\"SGD\"],\"xaxis\":\"x5\",\"y\":[1737.0,1733.8461538461538,1894.3333333333333,1899.4285714285713,970.125,1688.4285714285713],\"yaxis\":\"y5\",\"type\":\"bar\"},{\"alignmentgroup\":\"True\",\"hovertemplate\":\"activation function=GELU\\u003cbr\\u003ealgorithm=DE\\u003cbr\\u003eoptimizer=%{x}\\u003cbr\\u003eaverage fitness=%{y}\\u003cextra\\u003e\\u003c\\u002fextra\\u003e\",\"legendgroup\":\"GELU\",\"marker\":{\"color\":\"#00cc96\",\"pattern\":{\"shape\":\"\"}},\"name\":\"GELU\",\"offsetgroup\":\"GELU\",\"orientation\":\"v\",\"showlegend\":true,\"textposition\":\"auto\",\"x\":[\"ASGD\",\"Adagrad\",\"Adam\",\"RAdam\",\"RPROP\",\"SGD\"],\"xaxis\":\"x\",\"y\":[2145.6666666666665,2343.8,2053.6666666666665,2031.5,1255.75,2676.2],\"yaxis\":\"y\",\"type\":\"bar\"},{\"alignmentgroup\":\"True\",\"hovertemplate\":\"activation function=GELU\\u003cbr\\u003ealgorithm=FA\\u003cbr\\u003eoptimizer=%{x}\\u003cbr\\u003eaverage fitness=%{y}\\u003cextra\\u003e\\u003c\\u002fextra\\u003e\",\"legendgroup\":\"GELU\",\"marker\":{\"color\":\"#00cc96\",\"pattern\":{\"shape\":\"\"}},\"name\":\"GELU\",\"offsetgroup\":\"GELU\",\"orientation\":\"v\",\"showlegend\":false,\"textposition\":\"auto\",\"x\":[\"ASGD\",\"Adagrad\",\"Adam\",\"RAdam\",\"RPROP\",\"SGD\"],\"xaxis\":\"x2\",\"y\":[2290.2,2386.0,2320.8333333333335,2202.4,966.4,2593.5],\"yaxis\":\"y2\",\"type\":\"bar\"},{\"alignmentgroup\":\"True\",\"hovertemplate\":\"activation function=GELU\\u003cbr\\u003ealgorithm=GA\\u003cbr\\u003eoptimizer=%{x}\\u003cbr\\u003eaverage fitness=%{y}\\u003cextra\\u003e\\u003c\\u002fextra\\u003e\",\"legendgroup\":\"GELU\",\"marker\":{\"color\":\"#00cc96\",\"pattern\":{\"shape\":\"\"}},\"name\":\"GELU\",\"offsetgroup\":\"GELU\",\"orientation\":\"v\",\"showlegend\":false,\"textposition\":\"auto\",\"x\":[\"ASGD\",\"Adagrad\",\"Adam\",\"RAdam\",\"RPROP\",\"SGD\"],\"xaxis\":\"x3\",\"y\":[2027.8,2176.1,2617.1666666666665,1867.0,1894.8333333333333,2096.5],\"yaxis\":\"y3\",\"type\":\"bar\"},{\"alignmentgroup\":\"True\",\"hovertemplate\":\"activation function=GELU\\u003cbr\\u003ealgorithm=PSO\\u003cbr\\u003eoptimizer=%{x}\\u003cbr\\u003eaverage fitness=%{y}\\u003cextra\\u003e\\u003c\\u002fextra\\u003e\",\"legendgroup\":\"GELU\",\"marker\":{\"color\":\"#00cc96\",\"pattern\":{\"shape\":\"\"}},\"name\":\"GELU\",\"offsetgroup\":\"GELU\",\"orientation\":\"v\",\"showlegend\":false,\"textposition\":\"auto\",\"x\":[\"ASGD\",\"Adagrad\",\"Adam\",\"RAdam\",\"RPROP\",\"SGD\"],\"xaxis\":\"x4\",\"y\":[2457.25,2173.0,2146.25,2654.3333333333335,1179.857142857143,2409.5714285714284],\"yaxis\":\"y4\",\"type\":\"bar\"},{\"alignmentgroup\":\"True\",\"hovertemplate\":\"activation function=GELU\\u003cbr\\u003ealgorithm=SADE\\u003cbr\\u003eoptimizer=%{x}\\u003cbr\\u003eaverage fitness=%{y}\\u003cextra\\u003e\\u003c\\u002fextra\\u003e\",\"legendgroup\":\"GELU\",\"marker\":{\"color\":\"#00cc96\",\"pattern\":{\"shape\":\"\"}},\"name\":\"GELU\",\"offsetgroup\":\"GELU\",\"orientation\":\"v\",\"showlegend\":false,\"textposition\":\"auto\",\"x\":[\"ASGD\",\"Adagrad\",\"Adam\",\"RAdam\",\"RPROP\",\"SGD\"],\"xaxis\":\"x5\",\"y\":[2483.625,2149.0,2692.0,2561.4,1354.0,2665.1666666666665],\"yaxis\":\"y5\",\"type\":\"bar\"},{\"alignmentgroup\":\"True\",\"hovertemplate\":\"activation function=Leaky RELU\\u003cbr\\u003ealgorithm=DE\\u003cbr\\u003eoptimizer=%{x}\\u003cbr\\u003eaverage fitness=%{y}\\u003cextra\\u003e\\u003c\\u002fextra\\u003e\",\"legendgroup\":\"Leaky RELU\",\"marker\":{\"color\":\"#ab63fa\",\"pattern\":{\"shape\":\"\"}},\"name\":\"Leaky RELU\",\"offsetgroup\":\"Leaky RELU\",\"orientation\":\"v\",\"showlegend\":true,\"textposition\":\"auto\",\"x\":[\"ASGD\",\"Adagrad\",\"Adam\",\"RAdam\",\"RPROP\",\"SGD\"],\"xaxis\":\"x\",\"y\":[3385.5,2446.5,1920.0,1642.6666666666667,905.6,1590.0],\"yaxis\":\"y\",\"type\":\"bar\"},{\"alignmentgroup\":\"True\",\"hovertemplate\":\"activation function=Leaky RELU\\u003cbr\\u003ealgorithm=FA\\u003cbr\\u003eoptimizer=%{x}\\u003cbr\\u003eaverage fitness=%{y}\\u003cextra\\u003e\\u003c\\u002fextra\\u003e\",\"legendgroup\":\"Leaky RELU\",\"marker\":{\"color\":\"#ab63fa\",\"pattern\":{\"shape\":\"\"}},\"name\":\"Leaky RELU\",\"offsetgroup\":\"Leaky RELU\",\"orientation\":\"v\",\"showlegend\":false,\"textposition\":\"auto\",\"x\":[\"ASGD\",\"Adagrad\",\"Adam\",\"RAdam\",\"RPROP\",\"SGD\"],\"xaxis\":\"x2\",\"y\":[1367.0,2071.0,2522.6666666666665,1914.0,906.5714285714286,1824.2],\"yaxis\":\"y2\",\"type\":\"bar\"},{\"alignmentgroup\":\"True\",\"hovertemplate\":\"activation function=Leaky RELU\\u003cbr\\u003ealgorithm=GA\\u003cbr\\u003eoptimizer=%{x}\\u003cbr\\u003eaverage fitness=%{y}\\u003cextra\\u003e\\u003c\\u002fextra\\u003e\",\"legendgroup\":\"Leaky RELU\",\"marker\":{\"color\":\"#ab63fa\",\"pattern\":{\"shape\":\"\"}},\"name\":\"Leaky RELU\",\"offsetgroup\":\"Leaky RELU\",\"orientation\":\"v\",\"showlegend\":false,\"textposition\":\"auto\",\"x\":[\"ASGD\",\"Adagrad\",\"Adam\",\"RAdam\",\"RPROP\",\"SGD\"],\"xaxis\":\"x3\",\"y\":[2260.6666666666665,3453.0,2157.75,2647.0,989.0,2019.4],\"yaxis\":\"y3\",\"type\":\"bar\"},{\"alignmentgroup\":\"True\",\"hovertemplate\":\"activation function=Leaky RELU\\u003cbr\\u003ealgorithm=PSO\\u003cbr\\u003eoptimizer=%{x}\\u003cbr\\u003eaverage fitness=%{y}\\u003cextra\\u003e\\u003c\\u002fextra\\u003e\",\"legendgroup\":\"Leaky RELU\",\"marker\":{\"color\":\"#ab63fa\",\"pattern\":{\"shape\":\"\"}},\"name\":\"Leaky RELU\",\"offsetgroup\":\"Leaky RELU\",\"orientation\":\"v\",\"showlegend\":false,\"textposition\":\"auto\",\"x\":[\"ASGD\",\"Adam\",\"RAdam\",\"RPROP\",\"SGD\"],\"xaxis\":\"x4\",\"y\":[2486.3333333333335,2045.3333333333333,2352.6666666666665,880.8888888888889,1735.6666666666667],\"yaxis\":\"y4\",\"type\":\"bar\"},{\"alignmentgroup\":\"True\",\"hovertemplate\":\"activation function=Leaky RELU\\u003cbr\\u003ealgorithm=SADE\\u003cbr\\u003eoptimizer=%{x}\\u003cbr\\u003eaverage fitness=%{y}\\u003cextra\\u003e\\u003c\\u002fextra\\u003e\",\"legendgroup\":\"Leaky RELU\",\"marker\":{\"color\":\"#ab63fa\",\"pattern\":{\"shape\":\"\"}},\"name\":\"Leaky RELU\",\"offsetgroup\":\"Leaky RELU\",\"orientation\":\"v\",\"showlegend\":false,\"textposition\":\"auto\",\"x\":[\"Adagrad\",\"Adam\",\"RAdam\",\"RPROP\",\"SGD\"],\"xaxis\":\"x5\",\"y\":[1701.5,1869.5,2085.75,944.2222222222222,2320.6666666666665],\"yaxis\":\"y5\",\"type\":\"bar\"},{\"alignmentgroup\":\"True\",\"hovertemplate\":\"activation function=RELU\\u003cbr\\u003ealgorithm=DE\\u003cbr\\u003eoptimizer=%{x}\\u003cbr\\u003eaverage fitness=%{y}\\u003cextra\\u003e\\u003c\\u002fextra\\u003e\",\"legendgroup\":\"RELU\",\"marker\":{\"color\":\"#FFA15A\",\"pattern\":{\"shape\":\"\"}},\"name\":\"RELU\",\"offsetgroup\":\"RELU\",\"orientation\":\"v\",\"showlegend\":true,\"textposition\":\"auto\",\"x\":[\"ASGD\",\"Adam\",\"RAdam\",\"RPROP\",\"SGD\"],\"xaxis\":\"x\",\"y\":[2150.75,3035.0,3419.0,1092.0,1596.5],\"yaxis\":\"y\",\"type\":\"bar\"},{\"alignmentgroup\":\"True\",\"hovertemplate\":\"activation function=RELU\\u003cbr\\u003ealgorithm=FA\\u003cbr\\u003eoptimizer=%{x}\\u003cbr\\u003eaverage fitness=%{y}\\u003cextra\\u003e\\u003c\\u002fextra\\u003e\",\"legendgroup\":\"RELU\",\"marker\":{\"color\":\"#FFA15A\",\"pattern\":{\"shape\":\"\"}},\"name\":\"RELU\",\"offsetgroup\":\"RELU\",\"orientation\":\"v\",\"showlegend\":false,\"textposition\":\"auto\",\"x\":[\"Adagrad\",\"Adam\",\"RAdam\",\"RPROP\"],\"xaxis\":\"x2\",\"y\":[1717.5,1391.5,1884.0,899.5],\"yaxis\":\"y2\",\"type\":\"bar\"},{\"alignmentgroup\":\"True\",\"hovertemplate\":\"activation function=RELU\\u003cbr\\u003ealgorithm=GA\\u003cbr\\u003eoptimizer=%{x}\\u003cbr\\u003eaverage fitness=%{y}\\u003cextra\\u003e\\u003c\\u002fextra\\u003e\",\"legendgroup\":\"RELU\",\"marker\":{\"color\":\"#FFA15A\",\"pattern\":{\"shape\":\"\"}},\"name\":\"RELU\",\"offsetgroup\":\"RELU\",\"orientation\":\"v\",\"showlegend\":false,\"textposition\":\"auto\",\"x\":[\"ASGD\",\"Adagrad\",\"Adam\",\"RPROP\",\"SGD\"],\"xaxis\":\"x3\",\"y\":[1509.5,1975.75,1362.0,1350.6666666666667,2153.5],\"yaxis\":\"y3\",\"type\":\"bar\"},{\"alignmentgroup\":\"True\",\"hovertemplate\":\"activation function=RELU\\u003cbr\\u003ealgorithm=PSO\\u003cbr\\u003eoptimizer=%{x}\\u003cbr\\u003eaverage fitness=%{y}\\u003cextra\\u003e\\u003c\\u002fextra\\u003e\",\"legendgroup\":\"RELU\",\"marker\":{\"color\":\"#FFA15A\",\"pattern\":{\"shape\":\"\"}},\"name\":\"RELU\",\"offsetgroup\":\"RELU\",\"orientation\":\"v\",\"showlegend\":false,\"textposition\":\"auto\",\"x\":[\"Adagrad\",\"Adam\",\"RAdam\",\"RPROP\",\"SGD\"],\"xaxis\":\"x4\",\"y\":[2133.5,2350.0,1768.5,1591.111111111111,1880.6666666666667],\"yaxis\":\"y4\",\"type\":\"bar\"},{\"alignmentgroup\":\"True\",\"hovertemplate\":\"activation function=RELU\\u003cbr\\u003ealgorithm=SADE\\u003cbr\\u003eoptimizer=%{x}\\u003cbr\\u003eaverage fitness=%{y}\\u003cextra\\u003e\\u003c\\u002fextra\\u003e\",\"legendgroup\":\"RELU\",\"marker\":{\"color\":\"#FFA15A\",\"pattern\":{\"shape\":\"\"}},\"name\":\"RELU\",\"offsetgroup\":\"RELU\",\"orientation\":\"v\",\"showlegend\":false,\"textposition\":\"auto\",\"x\":[\"ASGD\",\"Adagrad\",\"Adam\",\"RAdam\",\"RPROP\",\"SGD\"],\"xaxis\":\"x5\",\"y\":[1825.625,2371.5,2880.0,1358.0,1032.0,1897.25],\"yaxis\":\"y5\",\"type\":\"bar\"},{\"alignmentgroup\":\"True\",\"hovertemplate\":\"activation function=RRELU\\u003cbr\\u003ealgorithm=DE\\u003cbr\\u003eoptimizer=%{x}\\u003cbr\\u003eaverage fitness=%{y}\\u003cextra\\u003e\\u003c\\u002fextra\\u003e\",\"legendgroup\":\"RRELU\",\"marker\":{\"color\":\"#19d3f3\",\"pattern\":{\"shape\":\"\"}},\"name\":\"RRELU\",\"offsetgroup\":\"RRELU\",\"orientation\":\"v\",\"showlegend\":true,\"textposition\":\"auto\",\"x\":[\"ASGD\",\"Adagrad\",\"Adam\",\"RAdam\",\"RPROP\",\"SGD\"],\"xaxis\":\"x\",\"y\":[1989.0,2176.6363636363635,2404.6,2187.6666666666665,972.0,2306.5],\"yaxis\":\"y\",\"type\":\"bar\"},{\"alignmentgroup\":\"True\",\"hovertemplate\":\"activation function=RRELU\\u003cbr\\u003ealgorithm=FA\\u003cbr\\u003eoptimizer=%{x}\\u003cbr\\u003eaverage fitness=%{y}\\u003cextra\\u003e\\u003c\\u002fextra\\u003e\",\"legendgroup\":\"RRELU\",\"marker\":{\"color\":\"#19d3f3\",\"pattern\":{\"shape\":\"\"}},\"name\":\"RRELU\",\"offsetgroup\":\"RRELU\",\"orientation\":\"v\",\"showlegend\":false,\"textposition\":\"auto\",\"x\":[\"ASGD\",\"Adagrad\",\"Adam\",\"RAdam\",\"RPROP\",\"SGD\"],\"xaxis\":\"x2\",\"y\":[2072.625,2387.0,2518.5454545454545,2329.8333333333335,1041.25,2233.0],\"yaxis\":\"y2\",\"type\":\"bar\"},{\"alignmentgroup\":\"True\",\"hovertemplate\":\"activation function=RRELU\\u003cbr\\u003ealgorithm=GA\\u003cbr\\u003eoptimizer=%{x}\\u003cbr\\u003eaverage fitness=%{y}\\u003cextra\\u003e\\u003c\\u002fextra\\u003e\",\"legendgroup\":\"RRELU\",\"marker\":{\"color\":\"#19d3f3\",\"pattern\":{\"shape\":\"\"}},\"name\":\"RRELU\",\"offsetgroup\":\"RRELU\",\"orientation\":\"v\",\"showlegend\":false,\"textposition\":\"auto\",\"x\":[\"ASGD\",\"Adagrad\",\"Adam\",\"RAdam\",\"RPROP\",\"SGD\"],\"xaxis\":\"x3\",\"y\":[2235.4,2308.3333333333335,2569.5,2392.0,1007.0,2689.6666666666665],\"yaxis\":\"y3\",\"type\":\"bar\"},{\"alignmentgroup\":\"True\",\"hovertemplate\":\"activation function=RRELU\\u003cbr\\u003ealgorithm=PSO\\u003cbr\\u003eoptimizer=%{x}\\u003cbr\\u003eaverage fitness=%{y}\\u003cextra\\u003e\\u003c\\u002fextra\\u003e\",\"legendgroup\":\"RRELU\",\"marker\":{\"color\":\"#19d3f3\",\"pattern\":{\"shape\":\"\"}},\"name\":\"RRELU\",\"offsetgroup\":\"RRELU\",\"orientation\":\"v\",\"showlegend\":false,\"textposition\":\"auto\",\"x\":[\"ASGD\",\"Adagrad\",\"Adam\",\"RAdam\",\"RPROP\",\"SGD\"],\"xaxis\":\"x4\",\"y\":[2212.2,2030.0,2809.6,3165.0,992.0,2095.285714285714],\"yaxis\":\"y4\",\"type\":\"bar\"},{\"alignmentgroup\":\"True\",\"hovertemplate\":\"activation function=RRELU\\u003cbr\\u003ealgorithm=SADE\\u003cbr\\u003eoptimizer=%{x}\\u003cbr\\u003eaverage fitness=%{y}\\u003cextra\\u003e\\u003c\\u002fextra\\u003e\",\"legendgroup\":\"RRELU\",\"marker\":{\"color\":\"#19d3f3\",\"pattern\":{\"shape\":\"\"}},\"name\":\"RRELU\",\"offsetgroup\":\"RRELU\",\"orientation\":\"v\",\"showlegend\":false,\"textposition\":\"auto\",\"x\":[\"ASGD\",\"Adagrad\",\"Adam\",\"RAdam\",\"RPROP\",\"SGD\"],\"xaxis\":\"x5\",\"y\":[2053.0,2151.5555555555557,1914.3333333333333,2134.9,973.8,2372.8],\"yaxis\":\"y5\",\"type\":\"bar\"},{\"alignmentgroup\":\"True\",\"hovertemplate\":\"activation function=SELU\\u003cbr\\u003ealgorithm=DE\\u003cbr\\u003eoptimizer=%{x}\\u003cbr\\u003eaverage fitness=%{y}\\u003cextra\\u003e\\u003c\\u002fextra\\u003e\",\"legendgroup\":\"SELU\",\"marker\":{\"color\":\"#FF6692\",\"pattern\":{\"shape\":\"\"}},\"name\":\"SELU\",\"offsetgroup\":\"SELU\",\"orientation\":\"v\",\"showlegend\":true,\"textposition\":\"auto\",\"x\":[\"ASGD\",\"Adagrad\",\"Adam\",\"RAdam\",\"RPROP\",\"SGD\"],\"xaxis\":\"x\",\"y\":[1381.5555555555557,1546.3333333333333,1449.75,1445.0,969.6,1374.6666666666667],\"yaxis\":\"y\",\"type\":\"bar\"},{\"alignmentgroup\":\"True\",\"hovertemplate\":\"activation function=SELU\\u003cbr\\u003ealgorithm=FA\\u003cbr\\u003eoptimizer=%{x}\\u003cbr\\u003eaverage fitness=%{y}\\u003cextra\\u003e\\u003c\\u002fextra\\u003e\",\"legendgroup\":\"SELU\",\"marker\":{\"color\":\"#FF6692\",\"pattern\":{\"shape\":\"\"}},\"name\":\"SELU\",\"offsetgroup\":\"SELU\",\"orientation\":\"v\",\"showlegend\":false,\"textposition\":\"auto\",\"x\":[\"ASGD\",\"Adagrad\",\"Adam\",\"RAdam\",\"RPROP\",\"SGD\"],\"xaxis\":\"x2\",\"y\":[1390.125,1381.0,1360.0,1531.142857142857,921.0,1377.125],\"yaxis\":\"y2\",\"type\":\"bar\"},{\"alignmentgroup\":\"True\",\"hovertemplate\":\"activation function=SELU\\u003cbr\\u003ealgorithm=GA\\u003cbr\\u003eoptimizer=%{x}\\u003cbr\\u003eaverage fitness=%{y}\\u003cextra\\u003e\\u003c\\u002fextra\\u003e\",\"legendgroup\":\"SELU\",\"marker\":{\"color\":\"#FF6692\",\"pattern\":{\"shape\":\"\"}},\"name\":\"SELU\",\"offsetgroup\":\"SELU\",\"orientation\":\"v\",\"showlegend\":false,\"textposition\":\"auto\",\"x\":[\"ASGD\",\"Adagrad\",\"Adam\",\"RAdam\",\"RPROP\",\"SGD\"],\"xaxis\":\"x3\",\"y\":[1435.0,1381.8,1423.5,1525.0,834.5,1405.888888888889],\"yaxis\":\"y3\",\"type\":\"bar\"},{\"alignmentgroup\":\"True\",\"hovertemplate\":\"activation function=SELU\\u003cbr\\u003ealgorithm=PSO\\u003cbr\\u003eoptimizer=%{x}\\u003cbr\\u003eaverage fitness=%{y}\\u003cextra\\u003e\\u003c\\u002fextra\\u003e\",\"legendgroup\":\"SELU\",\"marker\":{\"color\":\"#FF6692\",\"pattern\":{\"shape\":\"\"}},\"name\":\"SELU\",\"offsetgroup\":\"SELU\",\"orientation\":\"v\",\"showlegend\":false,\"textposition\":\"auto\",\"x\":[\"ASGD\",\"Adagrad\",\"Adam\",\"RAdam\",\"RPROP\",\"SGD\"],\"xaxis\":\"x4\",\"y\":[1612.75,1461.6666666666667,1445.0,1355.4545454545455,935.4444444444445,1307.5],\"yaxis\":\"y4\",\"type\":\"bar\"},{\"alignmentgroup\":\"True\",\"hovertemplate\":\"activation function=SELU\\u003cbr\\u003ealgorithm=SADE\\u003cbr\\u003eoptimizer=%{x}\\u003cbr\\u003eaverage fitness=%{y}\\u003cextra\\u003e\\u003c\\u002fextra\\u003e\",\"legendgroup\":\"SELU\",\"marker\":{\"color\":\"#FF6692\",\"pattern\":{\"shape\":\"\"}},\"name\":\"SELU\",\"offsetgroup\":\"SELU\",\"orientation\":\"v\",\"showlegend\":false,\"textposition\":\"auto\",\"x\":[\"ASGD\",\"Adagrad\",\"Adam\",\"RAdam\",\"RPROP\",\"SGD\"],\"xaxis\":\"x5\",\"y\":[1487.7272727272727,1375.7777777777778,1291.8,1467.2857142857142,888.8571428571429,1545.6],\"yaxis\":\"y5\",\"type\":\"bar\"},{\"alignmentgroup\":\"True\",\"hovertemplate\":\"activation function=TANH\\u003cbr\\u003ealgorithm=DE\\u003cbr\\u003eoptimizer=%{x}\\u003cbr\\u003eaverage fitness=%{y}\\u003cextra\\u003e\\u003c\\u002fextra\\u003e\",\"legendgroup\":\"TANH\",\"marker\":{\"color\":\"#B6E880\",\"pattern\":{\"shape\":\"\"}},\"name\":\"TANH\",\"offsetgroup\":\"TANH\",\"orientation\":\"v\",\"showlegend\":true,\"textposition\":\"auto\",\"x\":[\"ASGD\",\"Adagrad\",\"Adam\",\"RAdam\",\"RPROP\",\"SGD\"],\"xaxis\":\"x\",\"y\":[1753.5555555555557,1899.1666666666667,1851.4,1787.4285714285713,432.5,1440.5],\"yaxis\":\"y\",\"type\":\"bar\"},{\"alignmentgroup\":\"True\",\"hovertemplate\":\"activation function=TANH\\u003cbr\\u003ealgorithm=FA\\u003cbr\\u003eoptimizer=%{x}\\u003cbr\\u003eaverage fitness=%{y}\\u003cextra\\u003e\\u003c\\u002fextra\\u003e\",\"legendgroup\":\"TANH\",\"marker\":{\"color\":\"#B6E880\",\"pattern\":{\"shape\":\"\"}},\"name\":\"TANH\",\"offsetgroup\":\"TANH\",\"orientation\":\"v\",\"showlegend\":false,\"textposition\":\"auto\",\"x\":[\"ASGD\",\"Adagrad\",\"Adam\",\"RAdam\",\"RPROP\",\"SGD\"],\"xaxis\":\"x2\",\"y\":[1694.5,1708.8,1786.0,1633.2222222222222,283.3333333333333,1867.7777777777778],\"yaxis\":\"y2\",\"type\":\"bar\"},{\"alignmentgroup\":\"True\",\"hovertemplate\":\"activation function=TANH\\u003cbr\\u003ealgorithm=GA\\u003cbr\\u003eoptimizer=%{x}\\u003cbr\\u003eaverage fitness=%{y}\\u003cextra\\u003e\\u003c\\u002fextra\\u003e\",\"legendgroup\":\"TANH\",\"marker\":{\"color\":\"#B6E880\",\"pattern\":{\"shape\":\"\"}},\"name\":\"TANH\",\"offsetgroup\":\"TANH\",\"orientation\":\"v\",\"showlegend\":false,\"textposition\":\"auto\",\"x\":[\"ASGD\",\"Adagrad\",\"Adam\",\"RAdam\",\"RPROP\",\"SGD\"],\"xaxis\":\"x3\",\"y\":[1606.0,1691.0,1817.3333333333333,1844.1666666666667,345.6666666666667,1871.9166666666667],\"yaxis\":\"y3\",\"type\":\"bar\"},{\"alignmentgroup\":\"True\",\"hovertemplate\":\"activation function=TANH\\u003cbr\\u003ealgorithm=PSO\\u003cbr\\u003eoptimizer=%{x}\\u003cbr\\u003eaverage fitness=%{y}\\u003cextra\\u003e\\u003c\\u002fextra\\u003e\",\"legendgroup\":\"TANH\",\"marker\":{\"color\":\"#B6E880\",\"pattern\":{\"shape\":\"\"}},\"name\":\"TANH\",\"offsetgroup\":\"TANH\",\"orientation\":\"v\",\"showlegend\":false,\"textposition\":\"auto\",\"x\":[\"ASGD\",\"Adagrad\",\"Adam\",\"RAdam\",\"RPROP\",\"SGD\"],\"xaxis\":\"x4\",\"y\":[1865.1,1600.6666666666667,1845.5,1977.6,428.5,1713.5],\"yaxis\":\"y4\",\"type\":\"bar\"},{\"alignmentgroup\":\"True\",\"hovertemplate\":\"activation function=TANH\\u003cbr\\u003ealgorithm=SADE\\u003cbr\\u003eoptimizer=%{x}\\u003cbr\\u003eaverage fitness=%{y}\\u003cextra\\u003e\\u003c\\u002fextra\\u003e\",\"legendgroup\":\"TANH\",\"marker\":{\"color\":\"#B6E880\",\"pattern\":{\"shape\":\"\"}},\"name\":\"TANH\",\"offsetgroup\":\"TANH\",\"orientation\":\"v\",\"showlegend\":false,\"textposition\":\"auto\",\"x\":[\"ASGD\",\"Adagrad\",\"Adam\",\"RAdam\",\"RPROP\",\"SGD\"],\"xaxis\":\"x5\",\"y\":[1977.7777777777778,1825.1,2017.3333333333333,1938.0,392.4,1970.0],\"yaxis\":\"y5\",\"type\":\"bar\"}],                        {\"template\":{\"data\":{\"histogram2dcontour\":[{\"type\":\"histogram2dcontour\",\"colorbar\":{\"outlinewidth\":0,\"ticks\":\"\"},\"colorscale\":[[0.0,\"#0d0887\"],[0.1111111111111111,\"#46039f\"],[0.2222222222222222,\"#7201a8\"],[0.3333333333333333,\"#9c179e\"],[0.4444444444444444,\"#bd3786\"],[0.5555555555555556,\"#d8576b\"],[0.6666666666666666,\"#ed7953\"],[0.7777777777777778,\"#fb9f3a\"],[0.8888888888888888,\"#fdca26\"],[1.0,\"#f0f921\"]]}],\"choropleth\":[{\"type\":\"choropleth\",\"colorbar\":{\"outlinewidth\":0,\"ticks\":\"\"}}],\"histogram2d\":[{\"type\":\"histogram2d\",\"colorbar\":{\"outlinewidth\":0,\"ticks\":\"\"},\"colorscale\":[[0.0,\"#0d0887\"],[0.1111111111111111,\"#46039f\"],[0.2222222222222222,\"#7201a8\"],[0.3333333333333333,\"#9c179e\"],[0.4444444444444444,\"#bd3786\"],[0.5555555555555556,\"#d8576b\"],[0.6666666666666666,\"#ed7953\"],[0.7777777777777778,\"#fb9f3a\"],[0.8888888888888888,\"#fdca26\"],[1.0,\"#f0f921\"]]}],\"heatmap\":[{\"type\":\"heatmap\",\"colorbar\":{\"outlinewidth\":0,\"ticks\":\"\"},\"colorscale\":[[0.0,\"#0d0887\"],[0.1111111111111111,\"#46039f\"],[0.2222222222222222,\"#7201a8\"],[0.3333333333333333,\"#9c179e\"],[0.4444444444444444,\"#bd3786\"],[0.5555555555555556,\"#d8576b\"],[0.6666666666666666,\"#ed7953\"],[0.7777777777777778,\"#fb9f3a\"],[0.8888888888888888,\"#fdca26\"],[1.0,\"#f0f921\"]]}],\"heatmapgl\":[{\"type\":\"heatmapgl\",\"colorbar\":{\"outlinewidth\":0,\"ticks\":\"\"},\"colorscale\":[[0.0,\"#0d0887\"],[0.1111111111111111,\"#46039f\"],[0.2222222222222222,\"#7201a8\"],[0.3333333333333333,\"#9c179e\"],[0.4444444444444444,\"#bd3786\"],[0.5555555555555556,\"#d8576b\"],[0.6666666666666666,\"#ed7953\"],[0.7777777777777778,\"#fb9f3a\"],[0.8888888888888888,\"#fdca26\"],[1.0,\"#f0f921\"]]}],\"contourcarpet\":[{\"type\":\"contourcarpet\",\"colorbar\":{\"outlinewidth\":0,\"ticks\":\"\"}}],\"contour\":[{\"type\":\"contour\",\"colorbar\":{\"outlinewidth\":0,\"ticks\":\"\"},\"colorscale\":[[0.0,\"#0d0887\"],[0.1111111111111111,\"#46039f\"],[0.2222222222222222,\"#7201a8\"],[0.3333333333333333,\"#9c179e\"],[0.4444444444444444,\"#bd3786\"],[0.5555555555555556,\"#d8576b\"],[0.6666666666666666,\"#ed7953\"],[0.7777777777777778,\"#fb9f3a\"],[0.8888888888888888,\"#fdca26\"],[1.0,\"#f0f921\"]]}],\"surface\":[{\"type\":\"surface\",\"colorbar\":{\"outlinewidth\":0,\"ticks\":\"\"},\"colorscale\":[[0.0,\"#0d0887\"],[0.1111111111111111,\"#46039f\"],[0.2222222222222222,\"#7201a8\"],[0.3333333333333333,\"#9c179e\"],[0.4444444444444444,\"#bd3786\"],[0.5555555555555556,\"#d8576b\"],[0.6666666666666666,\"#ed7953\"],[0.7777777777777778,\"#fb9f3a\"],[0.8888888888888888,\"#fdca26\"],[1.0,\"#f0f921\"]]}],\"mesh3d\":[{\"type\":\"mesh3d\",\"colorbar\":{\"outlinewidth\":0,\"ticks\":\"\"}}],\"scatter\":[{\"fillpattern\":{\"fillmode\":\"overlay\",\"size\":10,\"solidity\":0.2},\"type\":\"scatter\"}],\"parcoords\":[{\"type\":\"parcoords\",\"line\":{\"colorbar\":{\"outlinewidth\":0,\"ticks\":\"\"}}}],\"scatterpolargl\":[{\"type\":\"scatterpolargl\",\"marker\":{\"colorbar\":{\"outlinewidth\":0,\"ticks\":\"\"}}}],\"bar\":[{\"error_x\":{\"color\":\"#2a3f5f\"},\"error_y\":{\"color\":\"#2a3f5f\"},\"marker\":{\"line\":{\"color\":\"#E5ECF6\",\"width\":0.5},\"pattern\":{\"fillmode\":\"overlay\",\"size\":10,\"solidity\":0.2}},\"type\":\"bar\"}],\"scattergeo\":[{\"type\":\"scattergeo\",\"marker\":{\"colorbar\":{\"outlinewidth\":0,\"ticks\":\"\"}}}],\"scatterpolar\":[{\"type\":\"scatterpolar\",\"marker\":{\"colorbar\":{\"outlinewidth\":0,\"ticks\":\"\"}}}],\"histogram\":[{\"marker\":{\"pattern\":{\"fillmode\":\"overlay\",\"size\":10,\"solidity\":0.2}},\"type\":\"histogram\"}],\"scattergl\":[{\"type\":\"scattergl\",\"marker\":{\"colorbar\":{\"outlinewidth\":0,\"ticks\":\"\"}}}],\"scatter3d\":[{\"type\":\"scatter3d\",\"line\":{\"colorbar\":{\"outlinewidth\":0,\"ticks\":\"\"}},\"marker\":{\"colorbar\":{\"outlinewidth\":0,\"ticks\":\"\"}}}],\"scattermapbox\":[{\"type\":\"scattermapbox\",\"marker\":{\"colorbar\":{\"outlinewidth\":0,\"ticks\":\"\"}}}],\"scatterternary\":[{\"type\":\"scatterternary\",\"marker\":{\"colorbar\":{\"outlinewidth\":0,\"ticks\":\"\"}}}],\"scattercarpet\":[{\"type\":\"scattercarpet\",\"marker\":{\"colorbar\":{\"outlinewidth\":0,\"ticks\":\"\"}}}],\"carpet\":[{\"aaxis\":{\"endlinecolor\":\"#2a3f5f\",\"gridcolor\":\"white\",\"linecolor\":\"white\",\"minorgridcolor\":\"white\",\"startlinecolor\":\"#2a3f5f\"},\"baxis\":{\"endlinecolor\":\"#2a3f5f\",\"gridcolor\":\"white\",\"linecolor\":\"white\",\"minorgridcolor\":\"white\",\"startlinecolor\":\"#2a3f5f\"},\"type\":\"carpet\"}],\"table\":[{\"cells\":{\"fill\":{\"color\":\"#EBF0F8\"},\"line\":{\"color\":\"white\"}},\"header\":{\"fill\":{\"color\":\"#C8D4E3\"},\"line\":{\"color\":\"white\"}},\"type\":\"table\"}],\"barpolar\":[{\"marker\":{\"line\":{\"color\":\"#E5ECF6\",\"width\":0.5},\"pattern\":{\"fillmode\":\"overlay\",\"size\":10,\"solidity\":0.2}},\"type\":\"barpolar\"}],\"pie\":[{\"automargin\":true,\"type\":\"pie\"}]},\"layout\":{\"autotypenumbers\":\"strict\",\"colorway\":[\"#636efa\",\"#EF553B\",\"#00cc96\",\"#ab63fa\",\"#FFA15A\",\"#19d3f3\",\"#FF6692\",\"#B6E880\",\"#FF97FF\",\"#FECB52\"],\"font\":{\"color\":\"#2a3f5f\"},\"hovermode\":\"closest\",\"hoverlabel\":{\"align\":\"left\"},\"paper_bgcolor\":\"white\",\"plot_bgcolor\":\"#E5ECF6\",\"polar\":{\"bgcolor\":\"#E5ECF6\",\"angularaxis\":{\"gridcolor\":\"white\",\"linecolor\":\"white\",\"ticks\":\"\"},\"radialaxis\":{\"gridcolor\":\"white\",\"linecolor\":\"white\",\"ticks\":\"\"}},\"ternary\":{\"bgcolor\":\"#E5ECF6\",\"aaxis\":{\"gridcolor\":\"white\",\"linecolor\":\"white\",\"ticks\":\"\"},\"baxis\":{\"gridcolor\":\"white\",\"linecolor\":\"white\",\"ticks\":\"\"},\"caxis\":{\"gridcolor\":\"white\",\"linecolor\":\"white\",\"ticks\":\"\"}},\"coloraxis\":{\"colorbar\":{\"outlinewidth\":0,\"ticks\":\"\"}},\"colorscale\":{\"sequential\":[[0.0,\"#0d0887\"],[0.1111111111111111,\"#46039f\"],[0.2222222222222222,\"#7201a8\"],[0.3333333333333333,\"#9c179e\"],[0.4444444444444444,\"#bd3786\"],[0.5555555555555556,\"#d8576b\"],[0.6666666666666666,\"#ed7953\"],[0.7777777777777778,\"#fb9f3a\"],[0.8888888888888888,\"#fdca26\"],[1.0,\"#f0f921\"]],\"sequentialminus\":[[0.0,\"#0d0887\"],[0.1111111111111111,\"#46039f\"],[0.2222222222222222,\"#7201a8\"],[0.3333333333333333,\"#9c179e\"],[0.4444444444444444,\"#bd3786\"],[0.5555555555555556,\"#d8576b\"],[0.6666666666666666,\"#ed7953\"],[0.7777777777777778,\"#fb9f3a\"],[0.8888888888888888,\"#fdca26\"],[1.0,\"#f0f921\"]],\"diverging\":[[0,\"#8e0152\"],[0.1,\"#c51b7d\"],[0.2,\"#de77ae\"],[0.3,\"#f1b6da\"],[0.4,\"#fde0ef\"],[0.5,\"#f7f7f7\"],[0.6,\"#e6f5d0\"],[0.7,\"#b8e186\"],[0.8,\"#7fbc41\"],[0.9,\"#4d9221\"],[1,\"#276419\"]]},\"xaxis\":{\"gridcolor\":\"white\",\"linecolor\":\"white\",\"ticks\":\"\",\"title\":{\"standoff\":15},\"zerolinecolor\":\"white\",\"automargin\":true,\"zerolinewidth\":2},\"yaxis\":{\"gridcolor\":\"white\",\"linecolor\":\"white\",\"ticks\":\"\",\"title\":{\"standoff\":15},\"zerolinecolor\":\"white\",\"automargin\":true,\"zerolinewidth\":2},\"scene\":{\"xaxis\":{\"backgroundcolor\":\"#E5ECF6\",\"gridcolor\":\"white\",\"linecolor\":\"white\",\"showbackground\":true,\"ticks\":\"\",\"zerolinecolor\":\"white\",\"gridwidth\":2},\"yaxis\":{\"backgroundcolor\":\"#E5ECF6\",\"gridcolor\":\"white\",\"linecolor\":\"white\",\"showbackground\":true,\"ticks\":\"\",\"zerolinecolor\":\"white\",\"gridwidth\":2},\"zaxis\":{\"backgroundcolor\":\"#E5ECF6\",\"gridcolor\":\"white\",\"linecolor\":\"white\",\"showbackground\":true,\"ticks\":\"\",\"zerolinecolor\":\"white\",\"gridwidth\":2}},\"shapedefaults\":{\"line\":{\"color\":\"#2a3f5f\"}},\"annotationdefaults\":{\"arrowcolor\":\"#2a3f5f\",\"arrowhead\":0,\"arrowwidth\":1},\"geo\":{\"bgcolor\":\"white\",\"landcolor\":\"#E5ECF6\",\"subunitcolor\":\"white\",\"showland\":true,\"showlakes\":true,\"lakecolor\":\"white\"},\"title\":{\"x\":0.05},\"mapbox\":{\"style\":\"light\"}}},\"xaxis\":{\"anchor\":\"y\",\"domain\":[0.0,0.18400000000000002],\"title\":{\"text\":\"optimizer\"}},\"yaxis\":{\"anchor\":\"x\",\"domain\":[0.0,1.0],\"title\":{\"text\":\"average fitness\"}},\"xaxis2\":{\"anchor\":\"y2\",\"domain\":[0.20400000000000001,0.388],\"matches\":\"x\",\"title\":{\"text\":\"optimizer\"}},\"yaxis2\":{\"anchor\":\"x2\",\"domain\":[0.0,1.0],\"matches\":\"y\",\"showticklabels\":false},\"xaxis3\":{\"anchor\":\"y3\",\"domain\":[0.40800000000000003,0.5920000000000001],\"matches\":\"x\",\"title\":{\"text\":\"optimizer\"}},\"yaxis3\":{\"anchor\":\"x3\",\"domain\":[0.0,1.0],\"matches\":\"y\",\"showticklabels\":false},\"xaxis4\":{\"anchor\":\"y4\",\"domain\":[0.6120000000000001,0.7960000000000002],\"matches\":\"x\",\"title\":{\"text\":\"optimizer\"}},\"yaxis4\":{\"anchor\":\"x4\",\"domain\":[0.0,1.0],\"matches\":\"y\",\"showticklabels\":false},\"xaxis5\":{\"anchor\":\"y5\",\"domain\":[0.8160000000000001,1.0],\"matches\":\"x\",\"title\":{\"text\":\"optimizer\"}},\"yaxis5\":{\"anchor\":\"x5\",\"domain\":[0.0,1.0],\"matches\":\"y\",\"showticklabels\":false},\"annotations\":[{\"font\":{},\"showarrow\":false,\"text\":\"algorithm=DE\",\"x\":0.09200000000000001,\"xanchor\":\"center\",\"xref\":\"paper\",\"y\":1.0,\"yanchor\":\"bottom\",\"yref\":\"paper\"},{\"font\":{},\"showarrow\":false,\"text\":\"algorithm=FA\",\"x\":0.29600000000000004,\"xanchor\":\"center\",\"xref\":\"paper\",\"y\":1.0,\"yanchor\":\"bottom\",\"yref\":\"paper\"},{\"font\":{},\"showarrow\":false,\"text\":\"algorithm=GA\",\"x\":0.5,\"xanchor\":\"center\",\"xref\":\"paper\",\"y\":1.0,\"yanchor\":\"bottom\",\"yref\":\"paper\"},{\"font\":{},\"showarrow\":false,\"text\":\"algorithm=PSO\",\"x\":0.7040000000000002,\"xanchor\":\"center\",\"xref\":\"paper\",\"y\":1.0,\"yanchor\":\"bottom\",\"yref\":\"paper\"},{\"font\":{},\"showarrow\":false,\"text\":\"algorithm=SADE\",\"x\":0.908,\"xanchor\":\"center\",\"xref\":\"paper\",\"y\":1.0,\"yanchor\":\"bottom\",\"yref\":\"paper\"}],\"legend\":{\"title\":{\"text\":\"activation function\"},\"tracegroupgap\":0,\"orientation\":\"h\",\"yanchor\":\"bottom\",\"y\":1.15,\"xanchor\":\"center\",\"x\":0.5},\"margin\":{\"t\":60},\"barmode\":\"group\",\"autosize\":false,\"width\":1600,\"height\":450},                        {\"responsive\": true}                    ).then(function(){\n                            \nvar gd = document.getElementById('486786b6-235a-49c3-99af-b51069592ef7');\nvar x = new MutationObserver(function (mutations, observer) {{\n        var display = window.getComputedStyle(gd).display;\n        if (!display || display === 'none') {{\n            console.log([gd, 'removed!']);\n            Plotly.purge(gd);\n            observer.disconnect();\n        }}\n}});\n\n// Listen for the removal of the full notebook cells\nvar notebookContainer = gd.closest('#notebook-container');\nif (notebookContainer) {{\n    x.observe(notebookContainer, {childList: true});\n}}\n\n// Listen for the clearing of the current output cell\nvar outputEl = gd.closest('.output');\nif (outputEl) {{\n    x.observe(outputEl, {childList: true});\n}}\n\n                        })                };                });            </script>        </div>"
     },
     "metadata": {},
     "output_type": "display_data"
    }
   ],
   "source": [
    "import pandas as pd\n",
    "import plotly.express as px\n",
    "\n",
    "# Assuming df_solutions is already loaded with your DataFrame\n",
    "\n",
    "# Calculate the average fitness for each activation function and optimizer, grouped by algorithm name\n",
    "grouped_optimizer_df = df_solutions.groupby(['activation', 'optimizer', 'algorithm_name'])['fitness'].mean().reset_index()\n",
    "# Rename algorithm_name to algorithm for better visualization\n",
    "grouped_optimizer_df.rename(columns={'algorithm_name': 'algorithm'}, inplace=True)\n",
    "\n",
    "# Create a bar plot with Plotly Express showing the average fitness by activation function and optimizer, faceted by algorithm_name\n",
    "fig = px.bar(grouped_optimizer_df, x='activation', y='fitness', color='optimizer', facet_col='algorithm', barmode='group',\n",
    "             labels={'fitness': 'average fitness', 'activation': 'activation function', 'optimizer': 'optimizer'})\n",
    "fig.update_layout(\n",
    "    autosize=False,\n",
    "    width=1600,\n",
    "    height=450,\n",
    "     legend=dict(\n",
    "        orientation=\"h\",\n",
    "        yanchor=\"bottom\",\n",
    "        y=1.15,\n",
    "        xanchor=\"center\",\n",
    "        x=0.5\n",
    "    ))\n",
    "fig.show()\n",
    "fig.write_image(\"plot_optimizer_activation_by_algorithm.svg\")\n",
    "\n",
    "# Calculate the average fitness for each optimizer and activation function combination, grouped by algorithm name\n",
    "grouped_activation_df = df_solutions.groupby(['optimizer', 'activation', 'algorithm_name'])['fitness'].mean().reset_index()\n",
    "# Rename algorithm_name to algorithm for better visualization\n",
    "grouped_activation_df.rename(columns={'algorithm_name': 'algorithm'}, inplace=True)\n",
    "# Create the bar chart with Plotly Express showing the average impact of optimizers on fitness, faceted by algorithm_name\n",
    "fig = px.bar(grouped_activation_df, x='optimizer', y='fitness', color='activation', facet_col='algorithm', barmode='group',\n",
    "             labels={'fitness': 'average fitness', 'optimizer': 'optimizer', 'activation': 'activation function'})\n",
    "fig.update_layout(\n",
    "    autosize=False,\n",
    "    width=1600,\n",
    "    height=450,\n",
    "     legend=dict(\n",
    "        orientation=\"h\",\n",
    "        yanchor=\"bottom\",\n",
    "        y=1.15,\n",
    "        xanchor=\"center\",\n",
    "        x=0.5\n",
    "    ))\n",
    "fig.show()\n",
    "fig.write_image(\"plot_activation_optimizer_by_algorithm.svg\")\n"
   ],
   "metadata": {
    "collapsed": false,
    "ExecuteTime": {
     "end_time": "2024-05-02T15:35:11.287181100Z",
     "start_time": "2024-05-02T15:35:10.236906100Z"
    }
   },
   "id": "bb5377aad9b4ef1a"
  },
  {
   "cell_type": "code",
   "execution_count": 25,
   "outputs": [
    {
     "data": {
      "text/plain": "                                    hash_id         timestamp algorithm_name  \\\n0  dc272d6cf58c25a4241afe947bc5c4f7cf2f0b9e  03:21 18-08-2023            PSO   \n2  87221babc25a2ce91082bc280f9a05d7abd02d3e  05:45 18-08-2023            PSO   \n3  13373e3867c711dc71520c5dcf8d1efb6cb77439  07:36 18-08-2023            PSO   \n4  de96809bb25ac7dee7dba4fd256c484fa9b2f19c  08:44 18-08-2023            PSO   \n5  8daa454f8b72893ab5aec5271ed4e93fdae8b507  11:15 18-08-2023            PSO   \n\n   iteration  activation optimizer  \\\n0          1        CELU   Adagrad   \n2          1        TANH   Adagrad   \n3          1        GELU      ASGD   \n4          2  Leaky RELU     RAdam   \n5          2  Leaky RELU       SGD   \n\n                                     encoding_layers  \\\n0  ModuleList(\\n  (0): Conv2d(3, 295, kernel_size...   \n2  ModuleList(\\n  (0): Conv2d(3, 3, kernel_size=(...   \n3  ModuleList(\\n  (0): Conv2d(3, 279, kernel_size...   \n4  ModuleList(\\n  (0): Conv2d(3, 245, kernel_size...   \n5  ModuleList(\\n  (0): Conv2d(3, 168, kernel_size...   \n\n                                     decoding_layers  num_layers  \\\n0  ModuleList(\\n  (0): ConvTranspose2d(295, 1, ke...           1   \n2  ModuleList(\\n  (0): ConvTranspose2d(27, 24, ke...          47   \n3  ModuleList(\\n  (0): ConvTranspose2d(279, 1, ke...           1   \n4  ModuleList(\\n  (0): ConvTranspose2d(245, 1, ke...           1   \n5  ModuleList(\\n  (0): ConvTranspose2d(336, 168, ...           2   \n\n   bottleneck_size  ...      RMSE       MAE    ABS_REL        LOG10    DELTA1  \\\n0              152  ...  2.958398  2.451226   5.852947   971.534058  0.256184   \n2                1  ...  2.535714  2.031709   8.362244  1042.885986  0.322310   \n3              152  ...  2.622855  2.086601   6.881074  1658.415649  0.310494   \n4              152  ...  2.629633  2.084672  11.390865  3271.623779  0.303147   \n5               76  ...  2.501592  2.006072   6.982789   901.591553  0.332549   \n\n     DELTA2    DELTA3        CADL  \\\n0  0.300030  0.381448  142.962845   \n2  0.403383  0.523606  119.542633   \n3  0.384610  0.494374  123.457573   \n4  0.376913  0.487006  123.012238   \n5  0.416203  0.537139  117.946358   \n\n                                      solution_array  output_channel  \n0  [0.9710766121566622, 0.49098581411848896, 0.74...             295  \n2  [0.012717799425234544, 0.4711765125844729, 0.8...               3  \n3  [0.9197334634424169, 0.3103127151459234, 0.816...             279  \n4  [0.8070219311175996, 0.859765147120731, 0.2608...             245  \n5  [0.5538300972133227, 0.4528997002797993, 0.348...             168  \n\n[5 rows x 24 columns]",
      "text/html": "<div>\n<style scoped>\n    .dataframe tbody tr th:only-of-type {\n        vertical-align: middle;\n    }\n\n    .dataframe tbody tr th {\n        vertical-align: top;\n    }\n\n    .dataframe thead th {\n        text-align: right;\n    }\n</style>\n<table border=\"1\" class=\"dataframe\">\n  <thead>\n    <tr style=\"text-align: right;\">\n      <th></th>\n      <th>hash_id</th>\n      <th>timestamp</th>\n      <th>algorithm_name</th>\n      <th>iteration</th>\n      <th>activation</th>\n      <th>optimizer</th>\n      <th>encoding_layers</th>\n      <th>decoding_layers</th>\n      <th>num_layers</th>\n      <th>bottleneck_size</th>\n      <th>...</th>\n      <th>RMSE</th>\n      <th>MAE</th>\n      <th>ABS_REL</th>\n      <th>LOG10</th>\n      <th>DELTA1</th>\n      <th>DELTA2</th>\n      <th>DELTA3</th>\n      <th>CADL</th>\n      <th>solution_array</th>\n      <th>output_channel</th>\n    </tr>\n  </thead>\n  <tbody>\n    <tr>\n      <th>0</th>\n      <td>dc272d6cf58c25a4241afe947bc5c4f7cf2f0b9e</td>\n      <td>03:21 18-08-2023</td>\n      <td>PSO</td>\n      <td>1</td>\n      <td>CELU</td>\n      <td>Adagrad</td>\n      <td>ModuleList(\\n  (0): Conv2d(3, 295, kernel_size...</td>\n      <td>ModuleList(\\n  (0): ConvTranspose2d(295, 1, ke...</td>\n      <td>1</td>\n      <td>152</td>\n      <td>...</td>\n      <td>2.958398</td>\n      <td>2.451226</td>\n      <td>5.852947</td>\n      <td>971.534058</td>\n      <td>0.256184</td>\n      <td>0.300030</td>\n      <td>0.381448</td>\n      <td>142.962845</td>\n      <td>[0.9710766121566622, 0.49098581411848896, 0.74...</td>\n      <td>295</td>\n    </tr>\n    <tr>\n      <th>2</th>\n      <td>87221babc25a2ce91082bc280f9a05d7abd02d3e</td>\n      <td>05:45 18-08-2023</td>\n      <td>PSO</td>\n      <td>1</td>\n      <td>TANH</td>\n      <td>Adagrad</td>\n      <td>ModuleList(\\n  (0): Conv2d(3, 3, kernel_size=(...</td>\n      <td>ModuleList(\\n  (0): ConvTranspose2d(27, 24, ke...</td>\n      <td>47</td>\n      <td>1</td>\n      <td>...</td>\n      <td>2.535714</td>\n      <td>2.031709</td>\n      <td>8.362244</td>\n      <td>1042.885986</td>\n      <td>0.322310</td>\n      <td>0.403383</td>\n      <td>0.523606</td>\n      <td>119.542633</td>\n      <td>[0.012717799425234544, 0.4711765125844729, 0.8...</td>\n      <td>3</td>\n    </tr>\n    <tr>\n      <th>3</th>\n      <td>13373e3867c711dc71520c5dcf8d1efb6cb77439</td>\n      <td>07:36 18-08-2023</td>\n      <td>PSO</td>\n      <td>1</td>\n      <td>GELU</td>\n      <td>ASGD</td>\n      <td>ModuleList(\\n  (0): Conv2d(3, 279, kernel_size...</td>\n      <td>ModuleList(\\n  (0): ConvTranspose2d(279, 1, ke...</td>\n      <td>1</td>\n      <td>152</td>\n      <td>...</td>\n      <td>2.622855</td>\n      <td>2.086601</td>\n      <td>6.881074</td>\n      <td>1658.415649</td>\n      <td>0.310494</td>\n      <td>0.384610</td>\n      <td>0.494374</td>\n      <td>123.457573</td>\n      <td>[0.9197334634424169, 0.3103127151459234, 0.816...</td>\n      <td>279</td>\n    </tr>\n    <tr>\n      <th>4</th>\n      <td>de96809bb25ac7dee7dba4fd256c484fa9b2f19c</td>\n      <td>08:44 18-08-2023</td>\n      <td>PSO</td>\n      <td>2</td>\n      <td>Leaky RELU</td>\n      <td>RAdam</td>\n      <td>ModuleList(\\n  (0): Conv2d(3, 245, kernel_size...</td>\n      <td>ModuleList(\\n  (0): ConvTranspose2d(245, 1, ke...</td>\n      <td>1</td>\n      <td>152</td>\n      <td>...</td>\n      <td>2.629633</td>\n      <td>2.084672</td>\n      <td>11.390865</td>\n      <td>3271.623779</td>\n      <td>0.303147</td>\n      <td>0.376913</td>\n      <td>0.487006</td>\n      <td>123.012238</td>\n      <td>[0.8070219311175996, 0.859765147120731, 0.2608...</td>\n      <td>245</td>\n    </tr>\n    <tr>\n      <th>5</th>\n      <td>8daa454f8b72893ab5aec5271ed4e93fdae8b507</td>\n      <td>11:15 18-08-2023</td>\n      <td>PSO</td>\n      <td>2</td>\n      <td>Leaky RELU</td>\n      <td>SGD</td>\n      <td>ModuleList(\\n  (0): Conv2d(3, 168, kernel_size...</td>\n      <td>ModuleList(\\n  (0): ConvTranspose2d(336, 168, ...</td>\n      <td>2</td>\n      <td>76</td>\n      <td>...</td>\n      <td>2.501592</td>\n      <td>2.006072</td>\n      <td>6.982789</td>\n      <td>901.591553</td>\n      <td>0.332549</td>\n      <td>0.416203</td>\n      <td>0.537139</td>\n      <td>117.946358</td>\n      <td>[0.5538300972133227, 0.4528997002797993, 0.348...</td>\n      <td>168</td>\n    </tr>\n  </tbody>\n</table>\n<p>5 rows × 24 columns</p>\n</div>"
     },
     "execution_count": 25,
     "metadata": {},
     "output_type": "execute_result"
    }
   ],
   "source": [
    "import pandas as pd\n",
    "import re\n",
    "\n",
    "# Function to extract the first output channel from the encoding layers string\n",
    "def extract_first_output_channel(layer_str):\n",
    "    match = re.search(r'Conv2d\\(\\d+, (\\d+),', layer_str)\n",
    "    if match:\n",
    "        return int(match.group(1))\n",
    "    else:\n",
    "        return None  # or some default value or raise an error\n",
    "\n",
    "# Assuming df_solutions has a column 'encoding_layers' with the ModuleList structures\n",
    "df_solutions['output_channel'] = df_solutions['encoding_layers'].apply(extract_first_output_channel)\n",
    "\n",
    "# Now df_solutions will have a new column 'output_channel' with the first output channel value\n",
    "df_solutions.head()"
   ],
   "metadata": {
    "collapsed": false,
    "ExecuteTime": {
     "end_time": "2024-05-02T15:35:11.353239Z",
     "start_time": "2024-05-02T15:35:11.288181Z"
    }
   },
   "id": "fd0879d4087b43a7"
  },
  {
   "cell_type": "markdown",
   "id": "eeaa9fad4977f631",
   "metadata": {
    "collapsed": false
   },
   "source": [
    "### Best 5 architectures for each algorithm"
   ]
  },
  {
   "cell_type": "code",
   "execution_count": 26,
   "outputs": [
    {
     "data": {
      "text/plain": "array([152,   1,  76,  19,   5,  10,   2,  38,   3], dtype=int64)"
     },
     "execution_count": 26,
     "metadata": {},
     "output_type": "execute_result"
    }
   ],
   "source": [
    "df_solutions['bottleneck_size'].unique()"
   ],
   "metadata": {
    "collapsed": false,
    "ExecuteTime": {
     "end_time": "2024-05-02T15:35:11.355239500Z",
     "start_time": "2024-05-02T15:35:11.322227600Z"
    }
   },
   "id": "76506a642a0afbc0"
  },
  {
   "cell_type": "code",
   "execution_count": 27,
   "id": "4d883068d85ff120",
   "metadata": {
    "collapsed": false,
    "ExecuteTime": {
     "end_time": "2024-05-02T15:35:11.447430500Z",
     "start_time": "2024-05-02T15:35:11.335758900Z"
    }
   },
   "outputs": [
    {
     "data": {
      "text/plain": "                                    hash_id         timestamp algorithm_name  \\\n0  acd1ee165740752dd49da02389380f546d03fa74  16:17 08-10-2023            PSO   \n1  8551d59a2c378c84cc9a3758123e3e1b06b4156d  19:35 29-12-2023             GA   \n2  51f4fe1f5cad0304e32b19fcb24f3f82e3e8daa1  17:48 13-01-2024             FA   \n3  195ba2282e965967447a7aefc80e59568184bca6  23:47 16-11-2023             DE   \n4  1c34b5ae69fee077fcebe2a84e9466b002399be0  04:18 22-11-2023           SADE   \n\n  iteration activation optimizer  \\\n0         4       TANH     RPROP   \n1         9       TANH     RPROP   \n2         9       TANH     RPROP   \n3         7       TANH     RPROP   \n4         5       TANH     RPROP   \n\n                                     encoding_layers  \\\n0  ModuleList(\\n  (0): Conv2d(3, 32, kernel_size=...   \n1  ModuleList(\\n  (0): Conv2d(3, 28, kernel_size=...   \n2  ModuleList(\\n  (0): Conv2d(3, 45, kernel_size=...   \n3  ModuleList(\\n  (0): Conv2d(3, 196, kernel_size...   \n4  ModuleList(\\n  (0): Conv2d(3, 66, kernel_size=...   \n\n                                     decoding_layers num_layers  \\\n0  ModuleList(\\n  (0): ConvTranspose2d(128, 96, k...          4   \n1  ModuleList(\\n  (0): ConvTranspose2d(140, 112, ...          5   \n2  ModuleList(\\n  (0): ConvTranspose2d(180, 135, ...          4   \n3  ModuleList(\\n  (0): ConvTranspose2d(392, 196, ...          2   \n4  ModuleList(\\n  (0): ConvTranspose2d(198, 132, ...          3   \n\n  bottleneck_size  ...      RMSE       MAE   ABS_REL     LOG10    DELTA1  \\\n0              19  ...  2.019293  1.600177  1.600177  0.999899  0.540275   \n1              10  ...  2.019293  1.600177  1.600177  0.999899  0.540275   \n2              19  ...  2.019293  1.600177  1.600177  0.999899  0.540275   \n3              76  ...  2.019293  1.600177  1.600177  0.999899  0.540275   \n4              38  ...  2.019293  1.600177  1.600177  0.999899  0.540275   \n\n     DELTA2    DELTA3       CADL  \\\n0  0.626647  0.723448  92.999374   \n1  0.626647  0.723448  92.999374   \n2  0.626647  0.723448  92.999374   \n3  0.626647  0.723448  92.999374   \n4  0.626647  0.723448  92.999374   \n\n                                      solution_array output_channel  \n0  [0.10632191567422211, 0.44249163912988965, 0.9...             32  \n1  [0.09225731690792849, 0.48967365383065475, 0.8...             28  \n2  [0.1502352960423209, 0.6760924148227853, 0.883...             45  \n3  [0.6464918459910586, 0.9926478735943804, 0.967...            196  \n4  [0.22012088726899182, 0.7923897812841721, 0.88...             66  \n\n[5 rows x 24 columns]",
      "text/html": "<div>\n<style scoped>\n    .dataframe tbody tr th:only-of-type {\n        vertical-align: middle;\n    }\n\n    .dataframe tbody tr th {\n        vertical-align: top;\n    }\n\n    .dataframe thead th {\n        text-align: right;\n    }\n</style>\n<table border=\"1\" class=\"dataframe\">\n  <thead>\n    <tr style=\"text-align: right;\">\n      <th></th>\n      <th>hash_id</th>\n      <th>timestamp</th>\n      <th>algorithm_name</th>\n      <th>iteration</th>\n      <th>activation</th>\n      <th>optimizer</th>\n      <th>encoding_layers</th>\n      <th>decoding_layers</th>\n      <th>num_layers</th>\n      <th>bottleneck_size</th>\n      <th>...</th>\n      <th>RMSE</th>\n      <th>MAE</th>\n      <th>ABS_REL</th>\n      <th>LOG10</th>\n      <th>DELTA1</th>\n      <th>DELTA2</th>\n      <th>DELTA3</th>\n      <th>CADL</th>\n      <th>solution_array</th>\n      <th>output_channel</th>\n    </tr>\n  </thead>\n  <tbody>\n    <tr>\n      <th>0</th>\n      <td>acd1ee165740752dd49da02389380f546d03fa74</td>\n      <td>16:17 08-10-2023</td>\n      <td>PSO</td>\n      <td>4</td>\n      <td>TANH</td>\n      <td>RPROP</td>\n      <td>ModuleList(\\n  (0): Conv2d(3, 32, kernel_size=...</td>\n      <td>ModuleList(\\n  (0): ConvTranspose2d(128, 96, k...</td>\n      <td>4</td>\n      <td>19</td>\n      <td>...</td>\n      <td>2.019293</td>\n      <td>1.600177</td>\n      <td>1.600177</td>\n      <td>0.999899</td>\n      <td>0.540275</td>\n      <td>0.626647</td>\n      <td>0.723448</td>\n      <td>92.999374</td>\n      <td>[0.10632191567422211, 0.44249163912988965, 0.9...</td>\n      <td>32</td>\n    </tr>\n    <tr>\n      <th>1</th>\n      <td>8551d59a2c378c84cc9a3758123e3e1b06b4156d</td>\n      <td>19:35 29-12-2023</td>\n      <td>GA</td>\n      <td>9</td>\n      <td>TANH</td>\n      <td>RPROP</td>\n      <td>ModuleList(\\n  (0): Conv2d(3, 28, kernel_size=...</td>\n      <td>ModuleList(\\n  (0): ConvTranspose2d(140, 112, ...</td>\n      <td>5</td>\n      <td>10</td>\n      <td>...</td>\n      <td>2.019293</td>\n      <td>1.600177</td>\n      <td>1.600177</td>\n      <td>0.999899</td>\n      <td>0.540275</td>\n      <td>0.626647</td>\n      <td>0.723448</td>\n      <td>92.999374</td>\n      <td>[0.09225731690792849, 0.48967365383065475, 0.8...</td>\n      <td>28</td>\n    </tr>\n    <tr>\n      <th>2</th>\n      <td>51f4fe1f5cad0304e32b19fcb24f3f82e3e8daa1</td>\n      <td>17:48 13-01-2024</td>\n      <td>FA</td>\n      <td>9</td>\n      <td>TANH</td>\n      <td>RPROP</td>\n      <td>ModuleList(\\n  (0): Conv2d(3, 45, kernel_size=...</td>\n      <td>ModuleList(\\n  (0): ConvTranspose2d(180, 135, ...</td>\n      <td>4</td>\n      <td>19</td>\n      <td>...</td>\n      <td>2.019293</td>\n      <td>1.600177</td>\n      <td>1.600177</td>\n      <td>0.999899</td>\n      <td>0.540275</td>\n      <td>0.626647</td>\n      <td>0.723448</td>\n      <td>92.999374</td>\n      <td>[0.1502352960423209, 0.6760924148227853, 0.883...</td>\n      <td>45</td>\n    </tr>\n    <tr>\n      <th>3</th>\n      <td>195ba2282e965967447a7aefc80e59568184bca6</td>\n      <td>23:47 16-11-2023</td>\n      <td>DE</td>\n      <td>7</td>\n      <td>TANH</td>\n      <td>RPROP</td>\n      <td>ModuleList(\\n  (0): Conv2d(3, 196, kernel_size...</td>\n      <td>ModuleList(\\n  (0): ConvTranspose2d(392, 196, ...</td>\n      <td>2</td>\n      <td>76</td>\n      <td>...</td>\n      <td>2.019293</td>\n      <td>1.600177</td>\n      <td>1.600177</td>\n      <td>0.999899</td>\n      <td>0.540275</td>\n      <td>0.626647</td>\n      <td>0.723448</td>\n      <td>92.999374</td>\n      <td>[0.6464918459910586, 0.9926478735943804, 0.967...</td>\n      <td>196</td>\n    </tr>\n    <tr>\n      <th>4</th>\n      <td>1c34b5ae69fee077fcebe2a84e9466b002399be0</td>\n      <td>04:18 22-11-2023</td>\n      <td>SADE</td>\n      <td>5</td>\n      <td>TANH</td>\n      <td>RPROP</td>\n      <td>ModuleList(\\n  (0): Conv2d(3, 66, kernel_size=...</td>\n      <td>ModuleList(\\n  (0): ConvTranspose2d(198, 132, ...</td>\n      <td>3</td>\n      <td>38</td>\n      <td>...</td>\n      <td>2.019293</td>\n      <td>1.600177</td>\n      <td>1.600177</td>\n      <td>0.999899</td>\n      <td>0.540275</td>\n      <td>0.626647</td>\n      <td>0.723448</td>\n      <td>92.999374</td>\n      <td>[0.22012088726899182, 0.7923897812841721, 0.88...</td>\n      <td>66</td>\n    </tr>\n  </tbody>\n</table>\n<p>5 rows × 24 columns</p>\n</div>"
     },
     "execution_count": 27,
     "metadata": {},
     "output_type": "execute_result"
    }
   ],
   "source": [
    "\n",
    "best_rows = []\n",
    "\n",
    "# Iterate over each unique algorithm name\n",
    "for algorithm in df_solutions['algorithm_name'].unique():\n",
    "    # Find the index of the row with the minimum fitness value for this algorithm\n",
    "    min_idx = df_solutions[df_solutions['algorithm_name'] == algorithm]['fitness'].idxmin()\n",
    "    # Append this row to the best_rows list\n",
    "    best_rows.append(df_solutions.loc[min_idx])\n",
    "\n",
    "# Concatenate all the best rows into a single DataFrame\n",
    "best_architectures = pd.concat(best_rows, axis=1).transpose().reset_index(drop=True)\n",
    "\n",
    "best_architectures"
   ]
  },
  {
   "cell_type": "code",
   "execution_count": 28,
   "id": "d78fc716d6f2fc63",
   "metadata": {
    "collapsed": false,
    "ExecuteTime": {
     "end_time": "2024-05-02T15:35:11.507947500Z",
     "start_time": "2024-05-02T15:35:11.369016Z"
    }
   },
   "outputs": [
    {
     "name": "stdout",
     "output_type": "stream",
     "text": [
      "F-Value: 1.171908475846761, p-Value: 0.32139304993900913\n"
     ]
    }
   ],
   "source": [
    "from scipy import stats\n",
    "\n",
    "# Assume df is your DataFrame with 'algorithm_name' and 'fitness' values\n",
    "# Each row in the DataFrame corresponds to one run of an algorithm\n",
    "\n",
    "# One-way ANOVA\n",
    "f_value, p_value = stats.f_oneway(df_solutions['fitness'][df_solutions['algorithm_name'] == 'PSO'],\n",
    "                                  df_solutions['fitness'][df_solutions['algorithm_name'] == 'GA'],\n",
    "                                  df_solutions['fitness'][df_solutions['algorithm_name'] == 'FA'],\n",
    "                                  df_solutions['fitness'][df_solutions['algorithm_name'] == 'DE'],\n",
    "                                  df_solutions['fitness'][df_solutions['algorithm_name'] == 'SADE'])\n",
    "# ... add additional groups as needed\n",
    "\n",
    "print(f\"F-Value: {f_value}, p-Value: {p_value}\")\n",
    "\n",
    "# If the p-value is less than your threshold (commonly 0.05), this suggests that\n",
    "# there are significant differences between the means of the different algorithms.\n"
   ]
  },
  {
   "cell_type": "markdown",
   "id": "4ec815d4e4320d4c",
   "metadata": {
    "collapsed": false
   },
   "source": [
    "The F-Value which is relatively low. This suggests that the variance explained by the group differences (between different algorithms) is not much larger than the variance within the groups (the variability of fitness values within each algorithm).\n",
    "\n",
    "The p-Value which is greater than the common significance level of 0.05. Therefore, you would not reject the null hypothesis. This means that any differences you see in the mean fitness values across the different algorithms could very well be due to random chance rather than a real effect."
   ]
  },
  {
   "cell_type": "code",
   "execution_count": 29,
   "id": "c4014fe8c4a98cd1",
   "metadata": {
    "collapsed": false,
    "ExecuteTime": {
     "end_time": "2024-05-02T15:35:15.066226600Z",
     "start_time": "2024-05-02T15:35:11.387076400Z"
    }
   },
   "outputs": [
    {
     "ename": "ValueError",
     "evalue": "Axis limits cannot be NaN or Inf",
     "output_type": "error",
     "traceback": [
      "\u001B[1;31m---------------------------------------------------------------------------\u001B[0m",
      "\u001B[1;31mValueError\u001B[0m                                Traceback (most recent call last)",
      "Cell \u001B[1;32mIn[29], line 39\u001B[0m\n\u001B[0;32m     35\u001B[0m             dot\u001B[38;5;241m.\u001B[39mset_data(x_values[j][i \u001B[38;5;241m-\u001B[39m \u001B[38;5;241m1\u001B[39m], means[j][i \u001B[38;5;241m-\u001B[39m \u001B[38;5;241m1\u001B[39m])  \u001B[38;5;66;03m# Set the dot at the end of the line\u001B[39;00m\n\u001B[0;32m     36\u001B[0m     \u001B[38;5;28;01mreturn\u001B[39;00m lines \u001B[38;5;241m+\u001B[39m dots\n\u001B[1;32m---> 39\u001B[0m ani \u001B[38;5;241m=\u001B[39m \u001B[43manimation\u001B[49m\u001B[38;5;241;43m.\u001B[39;49m\u001B[43mFuncAnimation\u001B[49m\u001B[43m(\u001B[49m\u001B[43mfig\u001B[49m\u001B[43m,\u001B[49m\u001B[43m \u001B[49m\u001B[43minit_func\u001B[49m\u001B[38;5;241;43m=\u001B[39;49m\u001B[43minit\u001B[49m\u001B[43m,\u001B[49m\u001B[43m \u001B[49m\u001B[43mfunc\u001B[49m\u001B[38;5;241;43m=\u001B[39;49m\u001B[43manimate\u001B[49m\u001B[43m,\u001B[49m\u001B[43m \u001B[49m\u001B[43mframes\u001B[49m\u001B[38;5;241;43m=\u001B[39;49m\u001B[38;5;28;43mlen\u001B[39;49m\u001B[43m(\u001B[49m\u001B[43mx_values\u001B[49m\u001B[43m[\u001B[49m\u001B[38;5;241;43m0\u001B[39;49m\u001B[43m]\u001B[49m\u001B[43m)\u001B[49m\u001B[43m,\u001B[49m\u001B[43m \u001B[49m\u001B[43minterval\u001B[49m\u001B[38;5;241;43m=\u001B[39;49m\u001B[38;5;241;43m100\u001B[39;49m\u001B[43m,\u001B[49m\u001B[43m \u001B[49m\u001B[43mblit\u001B[49m\u001B[38;5;241;43m=\u001B[39;49m\u001B[38;5;28;43;01mTrue\u001B[39;49;00m\u001B[43m)\u001B[49m\n\u001B[0;32m     41\u001B[0m \u001B[38;5;66;03m# Save the animation as a GIF\u001B[39;00m\n\u001B[0;32m     42\u001B[0m gif_path \u001B[38;5;241m=\u001B[39m \u001B[38;5;124m'\u001B[39m\u001B[38;5;124mplot_animation.gif\u001B[39m\u001B[38;5;124m'\u001B[39m\n",
      "File \u001B[1;32m~\\AppData\\Local\\pypoetry\\Cache\\virtualenvs\\nianetcae-REf4S5kG-py3.10\\lib\\site-packages\\matplotlib\\animation.py:1695\u001B[0m, in \u001B[0;36mFuncAnimation.__init__\u001B[1;34m(self, fig, func, frames, init_func, fargs, save_count, cache_frame_data, **kwargs)\u001B[0m\n\u001B[0;32m   1692\u001B[0m \u001B[38;5;66;03m# Needs to be initialized so the draw functions work without checking\u001B[39;00m\n\u001B[0;32m   1693\u001B[0m \u001B[38;5;28mself\u001B[39m\u001B[38;5;241m.\u001B[39m_save_seq \u001B[38;5;241m=\u001B[39m []\n\u001B[1;32m-> 1695\u001B[0m \u001B[38;5;28msuper\u001B[39m()\u001B[38;5;241m.\u001B[39m\u001B[38;5;21m__init__\u001B[39m(fig, \u001B[38;5;241m*\u001B[39m\u001B[38;5;241m*\u001B[39mkwargs)\n\u001B[0;32m   1697\u001B[0m \u001B[38;5;66;03m# Need to reset the saved seq, since right now it will contain data\u001B[39;00m\n\u001B[0;32m   1698\u001B[0m \u001B[38;5;66;03m# for a single frame from init, which is not what we want.\u001B[39;00m\n\u001B[0;32m   1699\u001B[0m \u001B[38;5;28mself\u001B[39m\u001B[38;5;241m.\u001B[39m_save_seq \u001B[38;5;241m=\u001B[39m []\n",
      "File \u001B[1;32m~\\AppData\\Local\\pypoetry\\Cache\\virtualenvs\\nianetcae-REf4S5kG-py3.10\\lib\\site-packages\\matplotlib\\animation.py:1417\u001B[0m, in \u001B[0;36mTimedAnimation.__init__\u001B[1;34m(self, fig, interval, repeat_delay, repeat, event_source, *args, **kwargs)\u001B[0m\n\u001B[0;32m   1415\u001B[0m \u001B[38;5;28;01mif\u001B[39;00m event_source \u001B[38;5;129;01mis\u001B[39;00m \u001B[38;5;28;01mNone\u001B[39;00m:\n\u001B[0;32m   1416\u001B[0m     event_source \u001B[38;5;241m=\u001B[39m fig\u001B[38;5;241m.\u001B[39mcanvas\u001B[38;5;241m.\u001B[39mnew_timer(interval\u001B[38;5;241m=\u001B[39m\u001B[38;5;28mself\u001B[39m\u001B[38;5;241m.\u001B[39m_interval)\n\u001B[1;32m-> 1417\u001B[0m \u001B[38;5;28msuper\u001B[39m()\u001B[38;5;241m.\u001B[39m\u001B[38;5;21m__init__\u001B[39m(fig, event_source\u001B[38;5;241m=\u001B[39mevent_source, \u001B[38;5;241m*\u001B[39margs, \u001B[38;5;241m*\u001B[39m\u001B[38;5;241m*\u001B[39mkwargs)\n",
      "File \u001B[1;32m~\\AppData\\Local\\pypoetry\\Cache\\virtualenvs\\nianetcae-REf4S5kG-py3.10\\lib\\site-packages\\matplotlib\\animation.py:888\u001B[0m, in \u001B[0;36mAnimation.__init__\u001B[1;34m(self, fig, event_source, blit)\u001B[0m\n\u001B[0;32m    885\u001B[0m \u001B[38;5;28mself\u001B[39m\u001B[38;5;241m.\u001B[39m_close_id \u001B[38;5;241m=\u001B[39m \u001B[38;5;28mself\u001B[39m\u001B[38;5;241m.\u001B[39m_fig\u001B[38;5;241m.\u001B[39mcanvas\u001B[38;5;241m.\u001B[39mmpl_connect(\u001B[38;5;124m'\u001B[39m\u001B[38;5;124mclose_event\u001B[39m\u001B[38;5;124m'\u001B[39m,\n\u001B[0;32m    886\u001B[0m                                               \u001B[38;5;28mself\u001B[39m\u001B[38;5;241m.\u001B[39m_stop)\n\u001B[0;32m    887\u001B[0m \u001B[38;5;28;01mif\u001B[39;00m \u001B[38;5;28mself\u001B[39m\u001B[38;5;241m.\u001B[39m_blit:\n\u001B[1;32m--> 888\u001B[0m     \u001B[38;5;28;43mself\u001B[39;49m\u001B[38;5;241;43m.\u001B[39;49m\u001B[43m_setup_blit\u001B[49m\u001B[43m(\u001B[49m\u001B[43m)\u001B[49m\n",
      "File \u001B[1;32m~\\AppData\\Local\\pypoetry\\Cache\\virtualenvs\\nianetcae-REf4S5kG-py3.10\\lib\\site-packages\\matplotlib\\animation.py:1211\u001B[0m, in \u001B[0;36mAnimation._setup_blit\u001B[1;34m(self)\u001B[0m\n\u001B[0;32m   1209\u001B[0m \u001B[38;5;28mself\u001B[39m\u001B[38;5;241m.\u001B[39m_drawn_artists \u001B[38;5;241m=\u001B[39m []\n\u001B[0;32m   1210\u001B[0m \u001B[38;5;66;03m# _post_draw needs to be called first to initialize the renderer\u001B[39;00m\n\u001B[1;32m-> 1211\u001B[0m \u001B[38;5;28;43mself\u001B[39;49m\u001B[38;5;241;43m.\u001B[39;49m\u001B[43m_post_draw\u001B[49m\u001B[43m(\u001B[49m\u001B[38;5;28;43;01mNone\u001B[39;49;00m\u001B[43m,\u001B[49m\u001B[43m \u001B[49m\u001B[38;5;28;43mself\u001B[39;49m\u001B[38;5;241;43m.\u001B[39;49m\u001B[43m_blit\u001B[49m\u001B[43m)\u001B[49m\n\u001B[0;32m   1212\u001B[0m \u001B[38;5;66;03m# Then we need to clear the Frame for the initial draw\u001B[39;00m\n\u001B[0;32m   1213\u001B[0m \u001B[38;5;66;03m# This is typically handled in _on_resize because QT and Tk\u001B[39;00m\n\u001B[0;32m   1214\u001B[0m \u001B[38;5;66;03m# emit a resize event on launch, but the macosx backend does not,\u001B[39;00m\n\u001B[0;32m   1215\u001B[0m \u001B[38;5;66;03m# thus we force it here for everyone for consistency\u001B[39;00m\n\u001B[0;32m   1216\u001B[0m \u001B[38;5;28mself\u001B[39m\u001B[38;5;241m.\u001B[39m_init_draw()\n",
      "File \u001B[1;32m~\\AppData\\Local\\pypoetry\\Cache\\virtualenvs\\nianetcae-REf4S5kG-py3.10\\lib\\site-packages\\matplotlib\\animation.py:1166\u001B[0m, in \u001B[0;36mAnimation._post_draw\u001B[1;34m(self, framedata, blit)\u001B[0m\n\u001B[0;32m   1164\u001B[0m     \u001B[38;5;28mself\u001B[39m\u001B[38;5;241m.\u001B[39m_blit_draw(\u001B[38;5;28mself\u001B[39m\u001B[38;5;241m.\u001B[39m_drawn_artists)\n\u001B[0;32m   1165\u001B[0m \u001B[38;5;28;01melse\u001B[39;00m:\n\u001B[1;32m-> 1166\u001B[0m     \u001B[38;5;28;43mself\u001B[39;49m\u001B[38;5;241;43m.\u001B[39;49m\u001B[43m_fig\u001B[49m\u001B[38;5;241;43m.\u001B[39;49m\u001B[43mcanvas\u001B[49m\u001B[38;5;241;43m.\u001B[39;49m\u001B[43mdraw_idle\u001B[49m\u001B[43m(\u001B[49m\u001B[43m)\u001B[49m\n",
      "File \u001B[1;32m~\\AppData\\Local\\pypoetry\\Cache\\virtualenvs\\nianetcae-REf4S5kG-py3.10\\lib\\site-packages\\matplotlib\\backend_bases.py:1893\u001B[0m, in \u001B[0;36mFigureCanvasBase.draw_idle\u001B[1;34m(self, *args, **kwargs)\u001B[0m\n\u001B[0;32m   1891\u001B[0m \u001B[38;5;28;01mif\u001B[39;00m \u001B[38;5;129;01mnot\u001B[39;00m \u001B[38;5;28mself\u001B[39m\u001B[38;5;241m.\u001B[39m_is_idle_drawing:\n\u001B[0;32m   1892\u001B[0m     \u001B[38;5;28;01mwith\u001B[39;00m \u001B[38;5;28mself\u001B[39m\u001B[38;5;241m.\u001B[39m_idle_draw_cntx():\n\u001B[1;32m-> 1893\u001B[0m         \u001B[38;5;28mself\u001B[39m\u001B[38;5;241m.\u001B[39mdraw(\u001B[38;5;241m*\u001B[39margs, \u001B[38;5;241m*\u001B[39m\u001B[38;5;241m*\u001B[39mkwargs)\n",
      "File \u001B[1;32m~\\AppData\\Local\\pypoetry\\Cache\\virtualenvs\\nianetcae-REf4S5kG-py3.10\\lib\\site-packages\\matplotlib\\backends\\backend_agg.py:388\u001B[0m, in \u001B[0;36mFigureCanvasAgg.draw\u001B[1;34m(self)\u001B[0m\n\u001B[0;32m    385\u001B[0m \u001B[38;5;66;03m# Acquire a lock on the shared font cache.\u001B[39;00m\n\u001B[0;32m    386\u001B[0m \u001B[38;5;28;01mwith\u001B[39;00m (\u001B[38;5;28mself\u001B[39m\u001B[38;5;241m.\u001B[39mtoolbar\u001B[38;5;241m.\u001B[39m_wait_cursor_for_draw_cm() \u001B[38;5;28;01mif\u001B[39;00m \u001B[38;5;28mself\u001B[39m\u001B[38;5;241m.\u001B[39mtoolbar\n\u001B[0;32m    387\u001B[0m       \u001B[38;5;28;01melse\u001B[39;00m nullcontext()):\n\u001B[1;32m--> 388\u001B[0m     \u001B[38;5;28;43mself\u001B[39;49m\u001B[38;5;241;43m.\u001B[39;49m\u001B[43mfigure\u001B[49m\u001B[38;5;241;43m.\u001B[39;49m\u001B[43mdraw\u001B[49m\u001B[43m(\u001B[49m\u001B[38;5;28;43mself\u001B[39;49m\u001B[38;5;241;43m.\u001B[39;49m\u001B[43mrenderer\u001B[49m\u001B[43m)\u001B[49m\n\u001B[0;32m    389\u001B[0m     \u001B[38;5;66;03m# A GUI class may be need to update a window using this draw, so\u001B[39;00m\n\u001B[0;32m    390\u001B[0m     \u001B[38;5;66;03m# don't forget to call the superclass.\u001B[39;00m\n\u001B[0;32m    391\u001B[0m     \u001B[38;5;28msuper\u001B[39m()\u001B[38;5;241m.\u001B[39mdraw()\n",
      "File \u001B[1;32m~\\AppData\\Local\\pypoetry\\Cache\\virtualenvs\\nianetcae-REf4S5kG-py3.10\\lib\\site-packages\\matplotlib\\artist.py:95\u001B[0m, in \u001B[0;36m_finalize_rasterization.<locals>.draw_wrapper\u001B[1;34m(artist, renderer, *args, **kwargs)\u001B[0m\n\u001B[0;32m     93\u001B[0m \u001B[38;5;129m@wraps\u001B[39m(draw)\n\u001B[0;32m     94\u001B[0m \u001B[38;5;28;01mdef\u001B[39;00m \u001B[38;5;21mdraw_wrapper\u001B[39m(artist, renderer, \u001B[38;5;241m*\u001B[39margs, \u001B[38;5;241m*\u001B[39m\u001B[38;5;241m*\u001B[39mkwargs):\n\u001B[1;32m---> 95\u001B[0m     result \u001B[38;5;241m=\u001B[39m draw(artist, renderer, \u001B[38;5;241m*\u001B[39margs, \u001B[38;5;241m*\u001B[39m\u001B[38;5;241m*\u001B[39mkwargs)\n\u001B[0;32m     96\u001B[0m     \u001B[38;5;28;01mif\u001B[39;00m renderer\u001B[38;5;241m.\u001B[39m_rasterizing:\n\u001B[0;32m     97\u001B[0m         renderer\u001B[38;5;241m.\u001B[39mstop_rasterizing()\n",
      "File \u001B[1;32m~\\AppData\\Local\\pypoetry\\Cache\\virtualenvs\\nianetcae-REf4S5kG-py3.10\\lib\\site-packages\\matplotlib\\artist.py:72\u001B[0m, in \u001B[0;36mallow_rasterization.<locals>.draw_wrapper\u001B[1;34m(artist, renderer)\u001B[0m\n\u001B[0;32m     69\u001B[0m     \u001B[38;5;28;01mif\u001B[39;00m artist\u001B[38;5;241m.\u001B[39mget_agg_filter() \u001B[38;5;129;01mis\u001B[39;00m \u001B[38;5;129;01mnot\u001B[39;00m \u001B[38;5;28;01mNone\u001B[39;00m:\n\u001B[0;32m     70\u001B[0m         renderer\u001B[38;5;241m.\u001B[39mstart_filter()\n\u001B[1;32m---> 72\u001B[0m     \u001B[38;5;28;01mreturn\u001B[39;00m \u001B[43mdraw\u001B[49m\u001B[43m(\u001B[49m\u001B[43martist\u001B[49m\u001B[43m,\u001B[49m\u001B[43m \u001B[49m\u001B[43mrenderer\u001B[49m\u001B[43m)\u001B[49m\n\u001B[0;32m     73\u001B[0m \u001B[38;5;28;01mfinally\u001B[39;00m:\n\u001B[0;32m     74\u001B[0m     \u001B[38;5;28;01mif\u001B[39;00m artist\u001B[38;5;241m.\u001B[39mget_agg_filter() \u001B[38;5;129;01mis\u001B[39;00m \u001B[38;5;129;01mnot\u001B[39;00m \u001B[38;5;28;01mNone\u001B[39;00m:\n",
      "File \u001B[1;32m~\\AppData\\Local\\pypoetry\\Cache\\virtualenvs\\nianetcae-REf4S5kG-py3.10\\lib\\site-packages\\matplotlib\\figure.py:3164\u001B[0m, in \u001B[0;36mFigure.draw\u001B[1;34m(self, renderer)\u001B[0m\n\u001B[0;32m   3161\u001B[0m \u001B[38;5;28;01mfinally\u001B[39;00m:\n\u001B[0;32m   3162\u001B[0m     \u001B[38;5;28mself\u001B[39m\u001B[38;5;241m.\u001B[39mstale \u001B[38;5;241m=\u001B[39m \u001B[38;5;28;01mFalse\u001B[39;00m\n\u001B[1;32m-> 3164\u001B[0m \u001B[43mDrawEvent\u001B[49m\u001B[43m(\u001B[49m\u001B[38;5;124;43m\"\u001B[39;49m\u001B[38;5;124;43mdraw_event\u001B[39;49m\u001B[38;5;124;43m\"\u001B[39;49m\u001B[43m,\u001B[49m\u001B[43m \u001B[49m\u001B[38;5;28;43mself\u001B[39;49m\u001B[38;5;241;43m.\u001B[39;49m\u001B[43mcanvas\u001B[49m\u001B[43m,\u001B[49m\u001B[43m \u001B[49m\u001B[43mrenderer\u001B[49m\u001B[43m)\u001B[49m\u001B[38;5;241;43m.\u001B[39;49m\u001B[43m_process\u001B[49m\u001B[43m(\u001B[49m\u001B[43m)\u001B[49m\n",
      "File \u001B[1;32m~\\AppData\\Local\\pypoetry\\Cache\\virtualenvs\\nianetcae-REf4S5kG-py3.10\\lib\\site-packages\\matplotlib\\backend_bases.py:1271\u001B[0m, in \u001B[0;36mEvent._process\u001B[1;34m(self)\u001B[0m\n\u001B[0;32m   1269\u001B[0m \u001B[38;5;28;01mdef\u001B[39;00m \u001B[38;5;21m_process\u001B[39m(\u001B[38;5;28mself\u001B[39m):\n\u001B[0;32m   1270\u001B[0m \u001B[38;5;250m    \u001B[39m\u001B[38;5;124;03m\"\"\"Process this event on ``self.canvas``, then unset ``guiEvent``.\"\"\"\u001B[39;00m\n\u001B[1;32m-> 1271\u001B[0m     \u001B[38;5;28;43mself\u001B[39;49m\u001B[38;5;241;43m.\u001B[39;49m\u001B[43mcanvas\u001B[49m\u001B[38;5;241;43m.\u001B[39;49m\u001B[43mcallbacks\u001B[49m\u001B[38;5;241;43m.\u001B[39;49m\u001B[43mprocess\u001B[49m\u001B[43m(\u001B[49m\u001B[38;5;28;43mself\u001B[39;49m\u001B[38;5;241;43m.\u001B[39;49m\u001B[43mname\u001B[49m\u001B[43m,\u001B[49m\u001B[43m \u001B[49m\u001B[38;5;28;43mself\u001B[39;49m\u001B[43m)\u001B[49m\n\u001B[0;32m   1272\u001B[0m     \u001B[38;5;28mself\u001B[39m\u001B[38;5;241m.\u001B[39m_guiEvent_deleted \u001B[38;5;241m=\u001B[39m \u001B[38;5;28;01mTrue\u001B[39;00m\n",
      "File \u001B[1;32m~\\AppData\\Local\\pypoetry\\Cache\\virtualenvs\\nianetcae-REf4S5kG-py3.10\\lib\\site-packages\\matplotlib\\cbook\\__init__.py:309\u001B[0m, in \u001B[0;36mCallbackRegistry.process\u001B[1;34m(self, s, *args, **kwargs)\u001B[0m\n\u001B[0;32m    307\u001B[0m \u001B[38;5;28;01mexcept\u001B[39;00m \u001B[38;5;167;01mException\u001B[39;00m \u001B[38;5;28;01mas\u001B[39;00m exc:\n\u001B[0;32m    308\u001B[0m     \u001B[38;5;28;01mif\u001B[39;00m \u001B[38;5;28mself\u001B[39m\u001B[38;5;241m.\u001B[39mexception_handler \u001B[38;5;129;01mis\u001B[39;00m \u001B[38;5;129;01mnot\u001B[39;00m \u001B[38;5;28;01mNone\u001B[39;00m:\n\u001B[1;32m--> 309\u001B[0m         \u001B[38;5;28;43mself\u001B[39;49m\u001B[38;5;241;43m.\u001B[39;49m\u001B[43mexception_handler\u001B[49m\u001B[43m(\u001B[49m\u001B[43mexc\u001B[49m\u001B[43m)\u001B[49m\n\u001B[0;32m    310\u001B[0m     \u001B[38;5;28;01melse\u001B[39;00m:\n\u001B[0;32m    311\u001B[0m         \u001B[38;5;28;01mraise\u001B[39;00m\n",
      "File \u001B[1;32m~\\AppData\\Local\\pypoetry\\Cache\\virtualenvs\\nianetcae-REf4S5kG-py3.10\\lib\\site-packages\\matplotlib\\cbook\\__init__.py:96\u001B[0m, in \u001B[0;36m_exception_printer\u001B[1;34m(exc)\u001B[0m\n\u001B[0;32m     94\u001B[0m \u001B[38;5;28;01mdef\u001B[39;00m \u001B[38;5;21m_exception_printer\u001B[39m(exc):\n\u001B[0;32m     95\u001B[0m     \u001B[38;5;28;01mif\u001B[39;00m _get_running_interactive_framework() \u001B[38;5;129;01min\u001B[39;00m [\u001B[38;5;124m\"\u001B[39m\u001B[38;5;124mheadless\u001B[39m\u001B[38;5;124m\"\u001B[39m, \u001B[38;5;28;01mNone\u001B[39;00m]:\n\u001B[1;32m---> 96\u001B[0m         \u001B[38;5;28;01mraise\u001B[39;00m exc\n\u001B[0;32m     97\u001B[0m     \u001B[38;5;28;01melse\u001B[39;00m:\n\u001B[0;32m     98\u001B[0m         traceback\u001B[38;5;241m.\u001B[39mprint_exc()\n",
      "File \u001B[1;32m~\\AppData\\Local\\pypoetry\\Cache\\virtualenvs\\nianetcae-REf4S5kG-py3.10\\lib\\site-packages\\matplotlib\\cbook\\__init__.py:304\u001B[0m, in \u001B[0;36mCallbackRegistry.process\u001B[1;34m(self, s, *args, **kwargs)\u001B[0m\n\u001B[0;32m    302\u001B[0m \u001B[38;5;28;01mif\u001B[39;00m func \u001B[38;5;129;01mis\u001B[39;00m \u001B[38;5;129;01mnot\u001B[39;00m \u001B[38;5;28;01mNone\u001B[39;00m:\n\u001B[0;32m    303\u001B[0m     \u001B[38;5;28;01mtry\u001B[39;00m:\n\u001B[1;32m--> 304\u001B[0m         func(\u001B[38;5;241m*\u001B[39margs, \u001B[38;5;241m*\u001B[39m\u001B[38;5;241m*\u001B[39mkwargs)\n\u001B[0;32m    305\u001B[0m     \u001B[38;5;66;03m# this does not capture KeyboardInterrupt, SystemExit,\u001B[39;00m\n\u001B[0;32m    306\u001B[0m     \u001B[38;5;66;03m# and GeneratorExit\u001B[39;00m\n\u001B[0;32m    307\u001B[0m     \u001B[38;5;28;01mexcept\u001B[39;00m \u001B[38;5;167;01mException\u001B[39;00m \u001B[38;5;28;01mas\u001B[39;00m exc:\n",
      "File \u001B[1;32m~\\AppData\\Local\\pypoetry\\Cache\\virtualenvs\\nianetcae-REf4S5kG-py3.10\\lib\\site-packages\\matplotlib\\animation.py:912\u001B[0m, in \u001B[0;36mAnimation._start\u001B[1;34m(self, *args)\u001B[0m\n\u001B[0;32m    909\u001B[0m \u001B[38;5;28mself\u001B[39m\u001B[38;5;241m.\u001B[39m_fig\u001B[38;5;241m.\u001B[39mcanvas\u001B[38;5;241m.\u001B[39mmpl_disconnect(\u001B[38;5;28mself\u001B[39m\u001B[38;5;241m.\u001B[39m_first_draw_id)\n\u001B[0;32m    911\u001B[0m \u001B[38;5;66;03m# Now do any initial draw\u001B[39;00m\n\u001B[1;32m--> 912\u001B[0m \u001B[38;5;28;43mself\u001B[39;49m\u001B[38;5;241;43m.\u001B[39;49m\u001B[43m_init_draw\u001B[49m\u001B[43m(\u001B[49m\u001B[43m)\u001B[49m\n\u001B[0;32m    914\u001B[0m \u001B[38;5;66;03m# Add our callback for stepping the animation and\u001B[39;00m\n\u001B[0;32m    915\u001B[0m \u001B[38;5;66;03m# actually start the event_source.\u001B[39;00m\n\u001B[0;32m    916\u001B[0m \u001B[38;5;28mself\u001B[39m\u001B[38;5;241m.\u001B[39mevent_source\u001B[38;5;241m.\u001B[39madd_callback(\u001B[38;5;28mself\u001B[39m\u001B[38;5;241m.\u001B[39m_step)\n",
      "File \u001B[1;32m~\\AppData\\Local\\pypoetry\\Cache\\virtualenvs\\nianetcae-REf4S5kG-py3.10\\lib\\site-packages\\matplotlib\\animation.py:1751\u001B[0m, in \u001B[0;36mFuncAnimation._init_draw\u001B[1;34m(self)\u001B[0m\n\u001B[0;32m   1749\u001B[0m     \u001B[38;5;28mself\u001B[39m\u001B[38;5;241m.\u001B[39m_draw_frame(frame_data)\n\u001B[0;32m   1750\u001B[0m \u001B[38;5;28;01melse\u001B[39;00m:\n\u001B[1;32m-> 1751\u001B[0m     \u001B[38;5;28mself\u001B[39m\u001B[38;5;241m.\u001B[39m_drawn_artists \u001B[38;5;241m=\u001B[39m \u001B[38;5;28;43mself\u001B[39;49m\u001B[38;5;241;43m.\u001B[39;49m\u001B[43m_init_func\u001B[49m\u001B[43m(\u001B[49m\u001B[43m)\u001B[49m\n\u001B[0;32m   1752\u001B[0m     \u001B[38;5;28;01mif\u001B[39;00m \u001B[38;5;28mself\u001B[39m\u001B[38;5;241m.\u001B[39m_blit:\n\u001B[0;32m   1753\u001B[0m         \u001B[38;5;28;01mif\u001B[39;00m \u001B[38;5;28mself\u001B[39m\u001B[38;5;241m.\u001B[39m_drawn_artists \u001B[38;5;129;01mis\u001B[39;00m \u001B[38;5;28;01mNone\u001B[39;00m:\n",
      "Cell \u001B[1;32mIn[29], line 26\u001B[0m, in \u001B[0;36minit\u001B[1;34m()\u001B[0m\n\u001B[0;32m     23\u001B[0m \u001B[38;5;28;01mdef\u001B[39;00m \u001B[38;5;21minit\u001B[39m():\n\u001B[0;32m     24\u001B[0m     \u001B[38;5;66;03m# Set max values for x and y axes\u001B[39;00m\n\u001B[0;32m     25\u001B[0m     ax\u001B[38;5;241m.\u001B[39mset_xlim(\u001B[38;5;241m0\u001B[39m, \u001B[38;5;28mmax\u001B[39m(\u001B[38;5;28mmax\u001B[39m(sublist) \u001B[38;5;28;01mfor\u001B[39;00m sublist \u001B[38;5;129;01min\u001B[39;00m x_values))\n\u001B[1;32m---> 26\u001B[0m     \u001B[43max\u001B[49m\u001B[38;5;241;43m.\u001B[39;49m\u001B[43mset_ylim\u001B[49m\u001B[43m(\u001B[49m\u001B[38;5;241;43m0\u001B[39;49m\u001B[43m,\u001B[49m\u001B[43m \u001B[49m\u001B[38;5;28;43mmax\u001B[39;49m\u001B[43m(\u001B[49m\u001B[38;5;28;43mmax\u001B[39;49m\u001B[43m(\u001B[49m\u001B[43msublist\u001B[49m\u001B[43m)\u001B[49m\u001B[43m \u001B[49m\u001B[38;5;28;43;01mfor\u001B[39;49;00m\u001B[43m \u001B[49m\u001B[43msublist\u001B[49m\u001B[43m \u001B[49m\u001B[38;5;129;43;01min\u001B[39;49;00m\u001B[43m \u001B[49m\u001B[43mmeans\u001B[49m\u001B[43m)\u001B[49m\u001B[43m)\u001B[49m\n\u001B[0;32m     27\u001B[0m     ax\u001B[38;5;241m.\u001B[39mlegend()  \u001B[38;5;66;03m# Display the legend\u001B[39;00m\n\u001B[0;32m     28\u001B[0m     \u001B[38;5;28;01mreturn\u001B[39;00m lines \u001B[38;5;241m+\u001B[39m dots\n",
      "File \u001B[1;32m~\\AppData\\Local\\pypoetry\\Cache\\virtualenvs\\nianetcae-REf4S5kG-py3.10\\lib\\site-packages\\matplotlib\\axes\\_base.py:3898\u001B[0m, in \u001B[0;36m_AxesBase.set_ylim\u001B[1;34m(self, bottom, top, emit, auto, ymin, ymax)\u001B[0m\n\u001B[0;32m   3896\u001B[0m         \u001B[38;5;28;01mraise\u001B[39;00m \u001B[38;5;167;01mTypeError\u001B[39;00m(\u001B[38;5;124m\"\u001B[39m\u001B[38;5;124mCannot pass both \u001B[39m\u001B[38;5;124m'\u001B[39m\u001B[38;5;124mtop\u001B[39m\u001B[38;5;124m'\u001B[39m\u001B[38;5;124m and \u001B[39m\u001B[38;5;124m'\u001B[39m\u001B[38;5;124mymax\u001B[39m\u001B[38;5;124m'\u001B[39m\u001B[38;5;124m\"\u001B[39m)\n\u001B[0;32m   3897\u001B[0m     top \u001B[38;5;241m=\u001B[39m ymax\n\u001B[1;32m-> 3898\u001B[0m \u001B[38;5;28;01mreturn\u001B[39;00m \u001B[38;5;28;43mself\u001B[39;49m\u001B[38;5;241;43m.\u001B[39;49m\u001B[43myaxis\u001B[49m\u001B[38;5;241;43m.\u001B[39;49m\u001B[43m_set_lim\u001B[49m\u001B[43m(\u001B[49m\u001B[43mbottom\u001B[49m\u001B[43m,\u001B[49m\u001B[43m \u001B[49m\u001B[43mtop\u001B[49m\u001B[43m,\u001B[49m\u001B[43m \u001B[49m\u001B[43memit\u001B[49m\u001B[38;5;241;43m=\u001B[39;49m\u001B[43memit\u001B[49m\u001B[43m,\u001B[49m\u001B[43m \u001B[49m\u001B[43mauto\u001B[49m\u001B[38;5;241;43m=\u001B[39;49m\u001B[43mauto\u001B[49m\u001B[43m)\u001B[49m\n",
      "File \u001B[1;32m~\\AppData\\Local\\pypoetry\\Cache\\virtualenvs\\nianetcae-REf4S5kG-py3.10\\lib\\site-packages\\matplotlib\\axis.py:1211\u001B[0m, in \u001B[0;36mAxis._set_lim\u001B[1;34m(self, v0, v1, emit, auto)\u001B[0m\n\u001B[0;32m   1209\u001B[0m \u001B[38;5;28mself\u001B[39m\u001B[38;5;241m.\u001B[39maxes\u001B[38;5;241m.\u001B[39m_process_unit_info([(name, (v0, v1))], convert\u001B[38;5;241m=\u001B[39m\u001B[38;5;28;01mFalse\u001B[39;00m)\n\u001B[0;32m   1210\u001B[0m v0 \u001B[38;5;241m=\u001B[39m \u001B[38;5;28mself\u001B[39m\u001B[38;5;241m.\u001B[39maxes\u001B[38;5;241m.\u001B[39m_validate_converted_limits(v0, \u001B[38;5;28mself\u001B[39m\u001B[38;5;241m.\u001B[39mconvert_units)\n\u001B[1;32m-> 1211\u001B[0m v1 \u001B[38;5;241m=\u001B[39m \u001B[38;5;28;43mself\u001B[39;49m\u001B[38;5;241;43m.\u001B[39;49m\u001B[43maxes\u001B[49m\u001B[38;5;241;43m.\u001B[39;49m\u001B[43m_validate_converted_limits\u001B[49m\u001B[43m(\u001B[49m\u001B[43mv1\u001B[49m\u001B[43m,\u001B[49m\u001B[43m \u001B[49m\u001B[38;5;28;43mself\u001B[39;49m\u001B[38;5;241;43m.\u001B[39;49m\u001B[43mconvert_units\u001B[49m\u001B[43m)\u001B[49m\n\u001B[0;32m   1213\u001B[0m \u001B[38;5;28;01mif\u001B[39;00m v0 \u001B[38;5;129;01mis\u001B[39;00m \u001B[38;5;28;01mNone\u001B[39;00m \u001B[38;5;129;01mor\u001B[39;00m v1 \u001B[38;5;129;01mis\u001B[39;00m \u001B[38;5;28;01mNone\u001B[39;00m:\n\u001B[0;32m   1214\u001B[0m     \u001B[38;5;66;03m# Axes init calls set_xlim(0, 1) before get_xlim() can be called,\u001B[39;00m\n\u001B[0;32m   1215\u001B[0m     \u001B[38;5;66;03m# so only grab the limits if we really need them.\u001B[39;00m\n\u001B[0;32m   1216\u001B[0m     old0, old1 \u001B[38;5;241m=\u001B[39m \u001B[38;5;28mself\u001B[39m\u001B[38;5;241m.\u001B[39mget_view_interval()\n",
      "File \u001B[1;32m~\\AppData\\Local\\pypoetry\\Cache\\virtualenvs\\nianetcae-REf4S5kG-py3.10\\lib\\site-packages\\matplotlib\\axes\\_base.py:3585\u001B[0m, in \u001B[0;36m_AxesBase._validate_converted_limits\u001B[1;34m(self, limit, convert)\u001B[0m\n\u001B[0;32m   3582\u001B[0m     converted_limit \u001B[38;5;241m=\u001B[39m converted_limit\u001B[38;5;241m.\u001B[39msqueeze()\n\u001B[0;32m   3583\u001B[0m \u001B[38;5;28;01mif\u001B[39;00m (\u001B[38;5;28misinstance\u001B[39m(converted_limit, Real)\n\u001B[0;32m   3584\u001B[0m         \u001B[38;5;129;01mand\u001B[39;00m \u001B[38;5;129;01mnot\u001B[39;00m np\u001B[38;5;241m.\u001B[39misfinite(converted_limit)):\n\u001B[1;32m-> 3585\u001B[0m     \u001B[38;5;28;01mraise\u001B[39;00m \u001B[38;5;167;01mValueError\u001B[39;00m(\u001B[38;5;124m\"\u001B[39m\u001B[38;5;124mAxis limits cannot be NaN or Inf\u001B[39m\u001B[38;5;124m\"\u001B[39m)\n\u001B[0;32m   3586\u001B[0m \u001B[38;5;28;01mreturn\u001B[39;00m converted_limit\n",
      "\u001B[1;31mValueError\u001B[0m: Axis limits cannot be NaN or Inf"
     ]
    },
    {
     "data": {
      "text/plain": "<Figure size 5000x1000 with 1 Axes>",
      "image/png": "[encoded data removed]"
     },
     "metadata": {},
     "output_type": "display_data"
    }
   ],
   "source": [
    "import numpy as np\n",
    "import matplotlib.pyplot as plt\n",
    "import matplotlib.animation as animation\n",
    "import pymannkendall as mk\n",
    "\n",
    "# Assuming algorithms is defined and you have x_values and y_values\n",
    "# Here we use a simplified example for demonstration purposes\n",
    "\n",
    "means = [pd.Series(values).rolling(24, min_periods=12).mean().values for values in y_values]\n",
    "\n",
    "fig, ax = plt.subplots(figsize=(50, 10))\n",
    "plt.xlabel('Iterations', fontsize=12)\n",
    "plt.ylabel(f'Median {CONSTANT} value', fontsize=12)\n",
    "\n",
    "lines = []\n",
    "for i, algorithm in enumerate(algorithms):\n",
    "    line, = ax.plot([], [], label=algorithm + \"---\" + mk.original_test(means[i]).trend)\n",
    "    lines.append(line)\n",
    "\n",
    "dots = [ax.plot([], [], 'ro')[0] for _ in algorithms]  # Dots for the end of each line\n",
    "\n",
    "\n",
    "def init():\n",
    "    # Set max values for x and y axes\n",
    "    ax.set_xlim(0, max(max(sublist) for sublist in x_values))\n",
    "    ax.set_ylim(0, max(max(sublist) for sublist in means))\n",
    "    ax.legend()  # Display the legend\n",
    "    return lines + dots\n",
    "\n",
    "\n",
    "def animate(i):\n",
    "    for j, (line, dot) in enumerate(zip(lines, dots)):\n",
    "        if i < len(x_values[j]) and i < len(means[j]):\n",
    "            line.set_data(x_values[j][:i], means[j][:i])\n",
    "            dot.set_data(x_values[j][i - 1], means[j][i - 1])  # Set the dot at the end of the line\n",
    "    return lines + dots\n",
    "\n",
    "\n",
    "ani = animation.FuncAnimation(fig, init_func=init, func=animate, frames=len(x_values[0]), interval=100, blit=True)\n",
    "\n",
    "# Save the animation as a GIF\n",
    "gif_path = 'plot_animation.gif'\n",
    "ani.save(gif_path, writer='imagemagick')\n",
    "\n",
    "plt.close(fig)\n",
    "\n",
    "gif_path\n"
   ]
  }
 ],
 "metadata": {
  "kernelspec": {
   "display_name": "Python 3 (ipykernel)",
   "language": "python",
   "name": "python3"
  },
  "language_info": {
   "codemirror_mode": {
    "name": "ipython",
    "version": 3
   },
   "file_extension": ".py",
   "mimetype": "text/x-python",
   "name": "python",
   "nbconvert_exporter": "python",
   "pygments_lexer": "ipython3",
   "version": "3.10.4"
  }
 },
 "nbformat": 4,
 "nbformat_minor": 5
}
